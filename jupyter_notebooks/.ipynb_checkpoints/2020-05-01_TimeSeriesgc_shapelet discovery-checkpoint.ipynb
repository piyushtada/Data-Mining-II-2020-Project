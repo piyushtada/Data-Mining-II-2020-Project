{
 "cells": [
  {
   "cell_type": "code",
   "execution_count": 1,
   "metadata": {},
   "outputs": [],
   "source": [
    "%matplotlib inline\n",
    "\n",
    "import numpy as np\n",
    "import pandas as pd\n",
    "import matplotlib.pyplot as plt\n",
    "\n",
    "from collections import defaultdict"
   ]
  },
  {
   "cell_type": "code",
   "execution_count": 2,
   "metadata": {},
   "outputs": [
    {
     "data": {
      "text/html": [
       "<div>\n",
       "<style scoped>\n",
       "    .dataframe tbody tr th:only-of-type {\n",
       "        vertical-align: middle;\n",
       "    }\n",
       "\n",
       "    .dataframe tbody tr th {\n",
       "        vertical-align: top;\n",
       "    }\n",
       "\n",
       "    .dataframe thead th {\n",
       "        text-align: right;\n",
       "    }\n",
       "</style>\n",
       "<table border=\"1\" class=\"dataframe\">\n",
       "  <thead>\n",
       "    <tr style=\"text-align: right;\">\n",
       "      <th></th>\n",
       "      <th>\"Number\"</th>\n",
       "      <th>\"date\"</th>\n",
       "      <th>\"Temperature\"</th>\n",
       "      <th>\"Humidity\"</th>\n",
       "      <th>\"Light\"</th>\n",
       "      <th>\"CO2\"</th>\n",
       "      <th>\"HumidityRatio\"</th>\n",
       "      <th>\"Occupancy\"</th>\n",
       "    </tr>\n",
       "  </thead>\n",
       "  <tbody>\n",
       "    <tr>\n",
       "      <th>0</th>\n",
       "      <td>\"1\"</td>\n",
       "      <td>\"2015-02-04 17:51:00\"</td>\n",
       "      <td>23.18</td>\n",
       "      <td>27.2720</td>\n",
       "      <td>426.0</td>\n",
       "      <td>721.25</td>\n",
       "      <td>0.004793</td>\n",
       "      <td>1</td>\n",
       "    </tr>\n",
       "    <tr>\n",
       "      <th>1</th>\n",
       "      <td>\"2\"</td>\n",
       "      <td>\"2015-02-04 17:51:59\"</td>\n",
       "      <td>23.15</td>\n",
       "      <td>27.2675</td>\n",
       "      <td>429.5</td>\n",
       "      <td>714.00</td>\n",
       "      <td>0.004783</td>\n",
       "      <td>1</td>\n",
       "    </tr>\n",
       "    <tr>\n",
       "      <th>2</th>\n",
       "      <td>\"3\"</td>\n",
       "      <td>\"2015-02-04 17:53:00\"</td>\n",
       "      <td>23.15</td>\n",
       "      <td>27.2450</td>\n",
       "      <td>426.0</td>\n",
       "      <td>713.50</td>\n",
       "      <td>0.004779</td>\n",
       "      <td>1</td>\n",
       "    </tr>\n",
       "    <tr>\n",
       "      <th>3</th>\n",
       "      <td>\"4\"</td>\n",
       "      <td>\"2015-02-04 17:54:00\"</td>\n",
       "      <td>23.15</td>\n",
       "      <td>27.2000</td>\n",
       "      <td>426.0</td>\n",
       "      <td>708.25</td>\n",
       "      <td>0.004772</td>\n",
       "      <td>1</td>\n",
       "    </tr>\n",
       "    <tr>\n",
       "      <th>4</th>\n",
       "      <td>\"5\"</td>\n",
       "      <td>\"2015-02-04 17:55:00\"</td>\n",
       "      <td>23.10</td>\n",
       "      <td>27.2000</td>\n",
       "      <td>426.0</td>\n",
       "      <td>704.50</td>\n",
       "      <td>0.004757</td>\n",
       "      <td>1</td>\n",
       "    </tr>\n",
       "  </tbody>\n",
       "</table>\n",
       "</div>"
      ],
      "text/plain": [
       "  \"Number\"                 \"date\"  \"Temperature\"  \"Humidity\"  \"Light\"   \"CO2\"  \\\n",
       "0      \"1\"  \"2015-02-04 17:51:00\"          23.18     27.2720    426.0  721.25   \n",
       "1      \"2\"  \"2015-02-04 17:51:59\"          23.15     27.2675    429.5  714.00   \n",
       "2      \"3\"  \"2015-02-04 17:53:00\"          23.15     27.2450    426.0  713.50   \n",
       "3      \"4\"  \"2015-02-04 17:54:00\"          23.15     27.2000    426.0  708.25   \n",
       "4      \"5\"  \"2015-02-04 17:55:00\"          23.10     27.2000    426.0  704.50   \n",
       "\n",
       "   \"HumidityRatio\"  \"Occupancy\"  \n",
       "0         0.004793            1  \n",
       "1         0.004783            1  \n",
       "2         0.004779            1  \n",
       "3         0.004772            1  \n",
       "4         0.004757            1  "
      ]
     },
     "execution_count": 2,
     "metadata": {},
     "output_type": "execute_result"
    }
   ],
   "source": [
    "df = pd.read_csv('datatraining1.csv')\n",
    "df.head()"
   ]
  },
  {
   "cell_type": "code",
   "execution_count": 3,
   "metadata": {},
   "outputs": [
    {
     "data": {
      "text/plain": [
       "pandas.core.series.Series"
      ]
     },
     "execution_count": 3,
     "metadata": {},
     "output_type": "execute_result"
    }
   ],
   "source": [
    "type(df[\"date\"])"
   ]
  },
  {
   "cell_type": "code",
   "execution_count": 3,
   "metadata": {},
   "outputs": [
    {
     "data": {
      "text/html": [
       "<div>\n",
       "<style scoped>\n",
       "    .dataframe tbody tr th:only-of-type {\n",
       "        vertical-align: middle;\n",
       "    }\n",
       "\n",
       "    .dataframe tbody tr th {\n",
       "        vertical-align: top;\n",
       "    }\n",
       "\n",
       "    .dataframe thead th {\n",
       "        text-align: right;\n",
       "    }\n",
       "</style>\n",
       "<table border=\"1\" class=\"dataframe\">\n",
       "  <thead>\n",
       "    <tr style=\"text-align: right;\">\n",
       "      <th></th>\n",
       "      <th>\"date\"</th>\n",
       "      <th>\"Temperature\"</th>\n",
       "      <th>\"Humidity\"</th>\n",
       "      <th>\"Light\"</th>\n",
       "      <th>\"CO2\"</th>\n",
       "      <th>\"HumidityRatio\"</th>\n",
       "      <th>\"Occupancy\"</th>\n",
       "    </tr>\n",
       "  </thead>\n",
       "  <tbody>\n",
       "    <tr>\n",
       "      <th>0</th>\n",
       "      <td>\"2015-02-04 17:51:00\"</td>\n",
       "      <td>23.18</td>\n",
       "      <td>27.2720</td>\n",
       "      <td>426.0</td>\n",
       "      <td>721.250000</td>\n",
       "      <td>0.004793</td>\n",
       "      <td>1</td>\n",
       "    </tr>\n",
       "    <tr>\n",
       "      <th>1</th>\n",
       "      <td>\"2015-02-04 17:51:59\"</td>\n",
       "      <td>23.15</td>\n",
       "      <td>27.2675</td>\n",
       "      <td>429.5</td>\n",
       "      <td>714.000000</td>\n",
       "      <td>0.004783</td>\n",
       "      <td>1</td>\n",
       "    </tr>\n",
       "    <tr>\n",
       "      <th>2</th>\n",
       "      <td>\"2015-02-04 17:53:00\"</td>\n",
       "      <td>23.15</td>\n",
       "      <td>27.2450</td>\n",
       "      <td>426.0</td>\n",
       "      <td>713.500000</td>\n",
       "      <td>0.004779</td>\n",
       "      <td>1</td>\n",
       "    </tr>\n",
       "    <tr>\n",
       "      <th>3</th>\n",
       "      <td>\"2015-02-04 17:54:00\"</td>\n",
       "      <td>23.15</td>\n",
       "      <td>27.2000</td>\n",
       "      <td>426.0</td>\n",
       "      <td>708.250000</td>\n",
       "      <td>0.004772</td>\n",
       "      <td>1</td>\n",
       "    </tr>\n",
       "    <tr>\n",
       "      <th>4</th>\n",
       "      <td>\"2015-02-04 17:55:00\"</td>\n",
       "      <td>23.10</td>\n",
       "      <td>27.2000</td>\n",
       "      <td>426.0</td>\n",
       "      <td>704.500000</td>\n",
       "      <td>0.004757</td>\n",
       "      <td>1</td>\n",
       "    </tr>\n",
       "    <tr>\n",
       "      <th>...</th>\n",
       "      <td>...</td>\n",
       "      <td>...</td>\n",
       "      <td>...</td>\n",
       "      <td>...</td>\n",
       "      <td>...</td>\n",
       "      <td>...</td>\n",
       "      <td>...</td>\n",
       "    </tr>\n",
       "    <tr>\n",
       "      <th>8138</th>\n",
       "      <td>\"2015-02-10 09:29:00\"</td>\n",
       "      <td>21.05</td>\n",
       "      <td>36.0975</td>\n",
       "      <td>433.0</td>\n",
       "      <td>787.250000</td>\n",
       "      <td>0.005579</td>\n",
       "      <td>1</td>\n",
       "    </tr>\n",
       "    <tr>\n",
       "      <th>8139</th>\n",
       "      <td>\"2015-02-10 09:29:59\"</td>\n",
       "      <td>21.05</td>\n",
       "      <td>35.9950</td>\n",
       "      <td>433.0</td>\n",
       "      <td>789.500000</td>\n",
       "      <td>0.005563</td>\n",
       "      <td>1</td>\n",
       "    </tr>\n",
       "    <tr>\n",
       "      <th>8140</th>\n",
       "      <td>\"2015-02-10 09:30:59\"</td>\n",
       "      <td>21.10</td>\n",
       "      <td>36.0950</td>\n",
       "      <td>433.0</td>\n",
       "      <td>798.500000</td>\n",
       "      <td>0.005596</td>\n",
       "      <td>1</td>\n",
       "    </tr>\n",
       "    <tr>\n",
       "      <th>8141</th>\n",
       "      <td>\"2015-02-10 09:32:00\"</td>\n",
       "      <td>21.10</td>\n",
       "      <td>36.2600</td>\n",
       "      <td>433.0</td>\n",
       "      <td>820.333333</td>\n",
       "      <td>0.005621</td>\n",
       "      <td>1</td>\n",
       "    </tr>\n",
       "    <tr>\n",
       "      <th>8142</th>\n",
       "      <td>\"2015-02-10 09:33:00\"</td>\n",
       "      <td>21.10</td>\n",
       "      <td>36.2000</td>\n",
       "      <td>447.0</td>\n",
       "      <td>821.000000</td>\n",
       "      <td>0.005612</td>\n",
       "      <td>1</td>\n",
       "    </tr>\n",
       "  </tbody>\n",
       "</table>\n",
       "<p>8143 rows × 7 columns</p>\n",
       "</div>"
      ],
      "text/plain": [
       "                     \"date\"  \"Temperature\"  \"Humidity\"  \"Light\"       \"CO2\"  \\\n",
       "0     \"2015-02-04 17:51:00\"          23.18     27.2720    426.0  721.250000   \n",
       "1     \"2015-02-04 17:51:59\"          23.15     27.2675    429.5  714.000000   \n",
       "2     \"2015-02-04 17:53:00\"          23.15     27.2450    426.0  713.500000   \n",
       "3     \"2015-02-04 17:54:00\"          23.15     27.2000    426.0  708.250000   \n",
       "4     \"2015-02-04 17:55:00\"          23.10     27.2000    426.0  704.500000   \n",
       "...                     ...            ...         ...      ...         ...   \n",
       "8138  \"2015-02-10 09:29:00\"          21.05     36.0975    433.0  787.250000   \n",
       "8139  \"2015-02-10 09:29:59\"          21.05     35.9950    433.0  789.500000   \n",
       "8140  \"2015-02-10 09:30:59\"          21.10     36.0950    433.0  798.500000   \n",
       "8141  \"2015-02-10 09:32:00\"          21.10     36.2600    433.0  820.333333   \n",
       "8142  \"2015-02-10 09:33:00\"          21.10     36.2000    447.0  821.000000   \n",
       "\n",
       "      \"HumidityRatio\"  \"Occupancy\"  \n",
       "0            0.004793            1  \n",
       "1            0.004783            1  \n",
       "2            0.004779            1  \n",
       "3            0.004772            1  \n",
       "4            0.004757            1  \n",
       "...               ...          ...  \n",
       "8138         0.005579            1  \n",
       "8139         0.005563            1  \n",
       "8140         0.005596            1  \n",
       "8141         0.005621            1  \n",
       "8142         0.005612            1  \n",
       "\n",
       "[8143 rows x 7 columns]"
      ]
     },
     "execution_count": 3,
     "metadata": {},
     "output_type": "execute_result"
    }
   ],
   "source": [
    "df1=df.drop(columns=['\"Number\"'])\n",
    "df1"
   ]
  },
  {
   "cell_type": "code",
   "execution_count": 11,
   "metadata": {},
   "outputs": [
    {
     "ename": "KeyError",
     "evalue": "'date'",
     "output_type": "error",
     "traceback": [
      "\u001b[0;31m---------------------------------------------------------------------------\u001b[0m",
      "\u001b[0;31mKeyError\u001b[0m                                  Traceback (most recent call last)",
      "\u001b[0;32m//anaconda3/lib/python3.7/site-packages/pandas/core/indexes/base.py\u001b[0m in \u001b[0;36mget_loc\u001b[0;34m(self, key, method, tolerance)\u001b[0m\n\u001b[1;32m   2645\u001b[0m             \u001b[0;32mtry\u001b[0m\u001b[0;34m:\u001b[0m\u001b[0;34m\u001b[0m\u001b[0;34m\u001b[0m\u001b[0m\n\u001b[0;32m-> 2646\u001b[0;31m                 \u001b[0;32mreturn\u001b[0m \u001b[0mself\u001b[0m\u001b[0;34m.\u001b[0m\u001b[0m_engine\u001b[0m\u001b[0;34m.\u001b[0m\u001b[0mget_loc\u001b[0m\u001b[0;34m(\u001b[0m\u001b[0mkey\u001b[0m\u001b[0;34m)\u001b[0m\u001b[0;34m\u001b[0m\u001b[0;34m\u001b[0m\u001b[0m\n\u001b[0m\u001b[1;32m   2647\u001b[0m             \u001b[0;32mexcept\u001b[0m \u001b[0mKeyError\u001b[0m\u001b[0;34m:\u001b[0m\u001b[0;34m\u001b[0m\u001b[0;34m\u001b[0m\u001b[0m\n",
      "\u001b[0;32mpandas/_libs/index.pyx\u001b[0m in \u001b[0;36mpandas._libs.index.IndexEngine.get_loc\u001b[0;34m()\u001b[0m\n",
      "\u001b[0;32mpandas/_libs/index.pyx\u001b[0m in \u001b[0;36mpandas._libs.index.IndexEngine.get_loc\u001b[0;34m()\u001b[0m\n",
      "\u001b[0;32mpandas/_libs/hashtable_class_helper.pxi\u001b[0m in \u001b[0;36mpandas._libs.hashtable.PyObjectHashTable.get_item\u001b[0;34m()\u001b[0m\n",
      "\u001b[0;32mpandas/_libs/hashtable_class_helper.pxi\u001b[0m in \u001b[0;36mpandas._libs.hashtable.PyObjectHashTable.get_item\u001b[0;34m()\u001b[0m\n",
      "\u001b[0;31mKeyError\u001b[0m: 'date'",
      "\nDuring handling of the above exception, another exception occurred:\n",
      "\u001b[0;31mKeyError\u001b[0m                                  Traceback (most recent call last)",
      "\u001b[0;32m<ipython-input-11-af0d76da79b9>\u001b[0m in \u001b[0;36m<module>\u001b[0;34m\u001b[0m\n\u001b[1;32m      1\u001b[0m \u001b[0;32mfrom\u001b[0m \u001b[0mdatetime\u001b[0m \u001b[0;32mimport\u001b[0m \u001b[0mdatetime\u001b[0m\u001b[0;34m\u001b[0m\u001b[0;34m\u001b[0m\u001b[0m\n\u001b[1;32m      2\u001b[0m \u001b[0;32mfor\u001b[0m \u001b[0mi\u001b[0m \u001b[0;32min\u001b[0m \u001b[0mrange\u001b[0m\u001b[0;34m(\u001b[0m\u001b[0;36m0\u001b[0m\u001b[0;34m,\u001b[0m\u001b[0mlen\u001b[0m\u001b[0;34m(\u001b[0m\u001b[0mdf1\u001b[0m\u001b[0;34m[\u001b[0m\u001b[0;34m'\"date\"'\u001b[0m\u001b[0;34m]\u001b[0m\u001b[0;34m)\u001b[0m\u001b[0;34m)\u001b[0m\u001b[0;34m:\u001b[0m\u001b[0;34m\u001b[0m\u001b[0;34m\u001b[0m\u001b[0m\n\u001b[0;32m----> 3\u001b[0;31m     \u001b[0mdf1\u001b[0m\u001b[0;34m[\u001b[0m\u001b[0;34m'date'\u001b[0m\u001b[0;34m]\u001b[0m\u001b[0;34m[\u001b[0m\u001b[0mi\u001b[0m\u001b[0;34m]\u001b[0m\u001b[0;34m=\u001b[0m\u001b[0mdatetime\u001b[0m\u001b[0;34m.\u001b[0m\u001b[0mstrptime\u001b[0m\u001b[0;34m(\u001b[0m\u001b[0mdf1\u001b[0m\u001b[0;34m[\u001b[0m\u001b[0;34m'date'\u001b[0m\u001b[0;34m]\u001b[0m\u001b[0;34m[\u001b[0m\u001b[0mi\u001b[0m\u001b[0;34m]\u001b[0m\u001b[0;34m,\u001b[0m \u001b[0;34m\"%d/%m/%Y %H:%M%S\"\u001b[0m\u001b[0;34m)\u001b[0m\u001b[0;34m\u001b[0m\u001b[0;34m\u001b[0m\u001b[0m\n\u001b[0m\u001b[1;32m      4\u001b[0m \u001b[0mdf1\u001b[0m\u001b[0;34m.\u001b[0m\u001b[0mhead\u001b[0m\u001b[0;34m(\u001b[0m\u001b[0;34m)\u001b[0m\u001b[0;34m\u001b[0m\u001b[0;34m\u001b[0m\u001b[0m\n",
      "\u001b[0;32m//anaconda3/lib/python3.7/site-packages/pandas/core/frame.py\u001b[0m in \u001b[0;36m__getitem__\u001b[0;34m(self, key)\u001b[0m\n\u001b[1;32m   2798\u001b[0m             \u001b[0;32mif\u001b[0m \u001b[0mself\u001b[0m\u001b[0;34m.\u001b[0m\u001b[0mcolumns\u001b[0m\u001b[0;34m.\u001b[0m\u001b[0mnlevels\u001b[0m \u001b[0;34m>\u001b[0m \u001b[0;36m1\u001b[0m\u001b[0;34m:\u001b[0m\u001b[0;34m\u001b[0m\u001b[0;34m\u001b[0m\u001b[0m\n\u001b[1;32m   2799\u001b[0m                 \u001b[0;32mreturn\u001b[0m \u001b[0mself\u001b[0m\u001b[0;34m.\u001b[0m\u001b[0m_getitem_multilevel\u001b[0m\u001b[0;34m(\u001b[0m\u001b[0mkey\u001b[0m\u001b[0;34m)\u001b[0m\u001b[0;34m\u001b[0m\u001b[0;34m\u001b[0m\u001b[0m\n\u001b[0;32m-> 2800\u001b[0;31m             \u001b[0mindexer\u001b[0m \u001b[0;34m=\u001b[0m \u001b[0mself\u001b[0m\u001b[0;34m.\u001b[0m\u001b[0mcolumns\u001b[0m\u001b[0;34m.\u001b[0m\u001b[0mget_loc\u001b[0m\u001b[0;34m(\u001b[0m\u001b[0mkey\u001b[0m\u001b[0;34m)\u001b[0m\u001b[0;34m\u001b[0m\u001b[0;34m\u001b[0m\u001b[0m\n\u001b[0m\u001b[1;32m   2801\u001b[0m             \u001b[0;32mif\u001b[0m \u001b[0mis_integer\u001b[0m\u001b[0;34m(\u001b[0m\u001b[0mindexer\u001b[0m\u001b[0;34m)\u001b[0m\u001b[0;34m:\u001b[0m\u001b[0;34m\u001b[0m\u001b[0;34m\u001b[0m\u001b[0m\n\u001b[1;32m   2802\u001b[0m                 \u001b[0mindexer\u001b[0m \u001b[0;34m=\u001b[0m \u001b[0;34m[\u001b[0m\u001b[0mindexer\u001b[0m\u001b[0;34m]\u001b[0m\u001b[0;34m\u001b[0m\u001b[0;34m\u001b[0m\u001b[0m\n",
      "\u001b[0;32m//anaconda3/lib/python3.7/site-packages/pandas/core/indexes/base.py\u001b[0m in \u001b[0;36mget_loc\u001b[0;34m(self, key, method, tolerance)\u001b[0m\n\u001b[1;32m   2646\u001b[0m                 \u001b[0;32mreturn\u001b[0m \u001b[0mself\u001b[0m\u001b[0;34m.\u001b[0m\u001b[0m_engine\u001b[0m\u001b[0;34m.\u001b[0m\u001b[0mget_loc\u001b[0m\u001b[0;34m(\u001b[0m\u001b[0mkey\u001b[0m\u001b[0;34m)\u001b[0m\u001b[0;34m\u001b[0m\u001b[0;34m\u001b[0m\u001b[0m\n\u001b[1;32m   2647\u001b[0m             \u001b[0;32mexcept\u001b[0m \u001b[0mKeyError\u001b[0m\u001b[0;34m:\u001b[0m\u001b[0;34m\u001b[0m\u001b[0;34m\u001b[0m\u001b[0m\n\u001b[0;32m-> 2648\u001b[0;31m                 \u001b[0;32mreturn\u001b[0m \u001b[0mself\u001b[0m\u001b[0;34m.\u001b[0m\u001b[0m_engine\u001b[0m\u001b[0;34m.\u001b[0m\u001b[0mget_loc\u001b[0m\u001b[0;34m(\u001b[0m\u001b[0mself\u001b[0m\u001b[0;34m.\u001b[0m\u001b[0m_maybe_cast_indexer\u001b[0m\u001b[0;34m(\u001b[0m\u001b[0mkey\u001b[0m\u001b[0;34m)\u001b[0m\u001b[0;34m)\u001b[0m\u001b[0;34m\u001b[0m\u001b[0;34m\u001b[0m\u001b[0m\n\u001b[0m\u001b[1;32m   2649\u001b[0m         \u001b[0mindexer\u001b[0m \u001b[0;34m=\u001b[0m \u001b[0mself\u001b[0m\u001b[0;34m.\u001b[0m\u001b[0mget_indexer\u001b[0m\u001b[0;34m(\u001b[0m\u001b[0;34m[\u001b[0m\u001b[0mkey\u001b[0m\u001b[0;34m]\u001b[0m\u001b[0;34m,\u001b[0m \u001b[0mmethod\u001b[0m\u001b[0;34m=\u001b[0m\u001b[0mmethod\u001b[0m\u001b[0;34m,\u001b[0m \u001b[0mtolerance\u001b[0m\u001b[0;34m=\u001b[0m\u001b[0mtolerance\u001b[0m\u001b[0;34m)\u001b[0m\u001b[0;34m\u001b[0m\u001b[0;34m\u001b[0m\u001b[0m\n\u001b[1;32m   2650\u001b[0m         \u001b[0;32mif\u001b[0m \u001b[0mindexer\u001b[0m\u001b[0;34m.\u001b[0m\u001b[0mndim\u001b[0m \u001b[0;34m>\u001b[0m \u001b[0;36m1\u001b[0m \u001b[0;32mor\u001b[0m \u001b[0mindexer\u001b[0m\u001b[0;34m.\u001b[0m\u001b[0msize\u001b[0m \u001b[0;34m>\u001b[0m \u001b[0;36m1\u001b[0m\u001b[0;34m:\u001b[0m\u001b[0;34m\u001b[0m\u001b[0;34m\u001b[0m\u001b[0m\n",
      "\u001b[0;32mpandas/_libs/index.pyx\u001b[0m in \u001b[0;36mpandas._libs.index.IndexEngine.get_loc\u001b[0;34m()\u001b[0m\n",
      "\u001b[0;32mpandas/_libs/index.pyx\u001b[0m in \u001b[0;36mpandas._libs.index.IndexEngine.get_loc\u001b[0;34m()\u001b[0m\n",
      "\u001b[0;32mpandas/_libs/hashtable_class_helper.pxi\u001b[0m in \u001b[0;36mpandas._libs.hashtable.PyObjectHashTable.get_item\u001b[0;34m()\u001b[0m\n",
      "\u001b[0;32mpandas/_libs/hashtable_class_helper.pxi\u001b[0m in \u001b[0;36mpandas._libs.hashtable.PyObjectHashTable.get_item\u001b[0;34m()\u001b[0m\n",
      "\u001b[0;31mKeyError\u001b[0m: 'date'"
     ]
    }
   ],
   "source": [
    "from datetime import datetime\n",
    "for i in range(0,len(df1['\"date\"'])):\n",
    "    df1['\"date\"'][i]=datetime.strptime(df1['\"date\"'][i], \"%d/%m/%Y %H:%M%S\")\n",
    "df1.head()"
   ]
  },
  {
   "cell_type": "code",
   "execution_count": 6,
   "metadata": {},
   "outputs": [
    {
     "data": {
      "text/plain": [
       "datetime.datetime"
      ]
     },
     "execution_count": 6,
     "metadata": {},
     "output_type": "execute_result"
    }
   ],
   "source": [
    "type(df1['date'][100])"
   ]
  },
  {
   "cell_type": "code",
   "execution_count": 107,
   "metadata": {},
   "outputs": [],
   "source": [
    "#NO\n",
    "df1=df.drop(columns=['\"Number\"'])\n",
    "df1=df.drop(columns=['\"HumidityRatio\"'])\n",
    "df1=df.drop(columns=['\"Humidity\"'])\n",
    "df1=df.drop(columns=['\"Temperature\"'])\n",
    "df1=df.drop(columns=['\"CO2\"'])\n",
    "df.set_index('\"date\"', inplace=True)\n",
    "df1"
   ]
  },
  {
   "cell_type": "code",
   "execution_count": 4,
   "metadata": {},
   "outputs": [
    {
     "name": "stderr",
     "output_type": "stream",
     "text": [
      "//anaconda3/lib/python3.7/site-packages/ipykernel_launcher.py:3: SettingWithCopyWarning: \n",
      "A value is trying to be set on a copy of a slice from a DataFrame\n",
      "\n",
      "See the caveats in the documentation: https://pandas.pydata.org/pandas-docs/stable/user_guide/indexing.html#returning-a-view-versus-a-copy\n",
      "  This is separate from the ipykernel package so we can avoid doing imports until\n"
     ]
    },
    {
     "data": {
      "text/html": [
       "<div>\n",
       "<style scoped>\n",
       "    .dataframe tbody tr th:only-of-type {\n",
       "        vertical-align: middle;\n",
       "    }\n",
       "\n",
       "    .dataframe tbody tr th {\n",
       "        vertical-align: top;\n",
       "    }\n",
       "\n",
       "    .dataframe thead th {\n",
       "        text-align: right;\n",
       "    }\n",
       "</style>\n",
       "<table border=\"1\" class=\"dataframe\">\n",
       "  <thead>\n",
       "    <tr style=\"text-align: right;\">\n",
       "      <th></th>\n",
       "      <th>\"date\"</th>\n",
       "      <th>\"Temperature\"</th>\n",
       "      <th>\"Humidity\"</th>\n",
       "      <th>\"Light\"</th>\n",
       "      <th>\"CO2\"</th>\n",
       "      <th>\"HumidityRatio\"</th>\n",
       "      <th>\"Occupancy\"</th>\n",
       "    </tr>\n",
       "  </thead>\n",
       "  <tbody>\n",
       "    <tr>\n",
       "      <th>0</th>\n",
       "      <td>2015-02-04 17:51:00</td>\n",
       "      <td>23.18</td>\n",
       "      <td>27.2720</td>\n",
       "      <td>426.0</td>\n",
       "      <td>721.25</td>\n",
       "      <td>0.004793</td>\n",
       "      <td>1</td>\n",
       "    </tr>\n",
       "    <tr>\n",
       "      <th>1</th>\n",
       "      <td>2015-02-04 17:51:59</td>\n",
       "      <td>23.15</td>\n",
       "      <td>27.2675</td>\n",
       "      <td>429.5</td>\n",
       "      <td>714.00</td>\n",
       "      <td>0.004783</td>\n",
       "      <td>1</td>\n",
       "    </tr>\n",
       "    <tr>\n",
       "      <th>2</th>\n",
       "      <td>2015-02-04 17:53:00</td>\n",
       "      <td>23.15</td>\n",
       "      <td>27.2450</td>\n",
       "      <td>426.0</td>\n",
       "      <td>713.50</td>\n",
       "      <td>0.004779</td>\n",
       "      <td>1</td>\n",
       "    </tr>\n",
       "    <tr>\n",
       "      <th>3</th>\n",
       "      <td>2015-02-04 17:54:00</td>\n",
       "      <td>23.15</td>\n",
       "      <td>27.2000</td>\n",
       "      <td>426.0</td>\n",
       "      <td>708.25</td>\n",
       "      <td>0.004772</td>\n",
       "      <td>1</td>\n",
       "    </tr>\n",
       "    <tr>\n",
       "      <th>4</th>\n",
       "      <td>2015-02-04 17:55:00</td>\n",
       "      <td>23.10</td>\n",
       "      <td>27.2000</td>\n",
       "      <td>426.0</td>\n",
       "      <td>704.50</td>\n",
       "      <td>0.004757</td>\n",
       "      <td>1</td>\n",
       "    </tr>\n",
       "  </tbody>\n",
       "</table>\n",
       "</div>"
      ],
      "text/plain": [
       "                \"date\"  \"Temperature\"  \"Humidity\"  \"Light\"   \"CO2\"  \\\n",
       "0  2015-02-04 17:51:00          23.18     27.2720    426.0  721.25   \n",
       "1  2015-02-04 17:51:59          23.15     27.2675    429.5  714.00   \n",
       "2  2015-02-04 17:53:00          23.15     27.2450    426.0  713.50   \n",
       "3  2015-02-04 17:54:00          23.15     27.2000    426.0  708.25   \n",
       "4  2015-02-04 17:55:00          23.10     27.2000    426.0  704.50   \n",
       "\n",
       "   \"HumidityRatio\"  \"Occupancy\"  \n",
       "0         0.004793            1  \n",
       "1         0.004783            1  \n",
       "2         0.004779            1  \n",
       "3         0.004772            1  \n",
       "4         0.004757            1  "
      ]
     },
     "execution_count": 4,
     "metadata": {},
     "output_type": "execute_result"
    }
   ],
   "source": [
    "from datetime import datetime\n",
    "for i in range(0,len(df1['\"date\"'])):\n",
    "    df1['\"date\"'][i]=datetime.strptime(df1['\"date\"'][i], '\"%Y-%m-%d %H:%M:%S\"')\n",
    "df1.head()"
   ]
  },
  {
   "cell_type": "code",
   "execution_count": 11,
   "metadata": {},
   "outputs": [
    {
     "data": {
      "text/plain": [
       "datetime.datetime(2015, 2, 4, 19, 31)"
      ]
     },
     "execution_count": 11,
     "metadata": {},
     "output_type": "execute_result"
    }
   ],
   "source": [
    "df1['\"date\"'][100]"
   ]
  },
  {
   "cell_type": "code",
   "execution_count": 5,
   "metadata": {},
   "outputs": [
    {
     "data": {
      "image/png": "[encoded data removed]",
      "text/plain": [
       "<Figure size 432x288 with 1 Axes>"
      ]
     },
     "metadata": {
      "needs_background": "light"
     },
     "output_type": "display_data"
    },
    {
     "data": {
      "image/png": "[encoded data removed]",
      "text/plain": [
       "<Figure size 432x288 with 1 Axes>"
      ]
     },
     "metadata": {
      "needs_background": "light"
     },
     "output_type": "display_data"
    },
    {
     "data": {
      "image/png": "[encoded data removed]",
      "text/plain": [
       "<Figure size 432x288 with 1 Axes>"
      ]
     },
     "metadata": {
      "needs_background": "light"
     },
     "output_type": "display_data"
    },
    {
     "data": {
      "image/png": "[encoded data removed]",
      "text/plain": [
       "<Figure size 432x288 with 1 Axes>"
      ]
     },
     "metadata": {
      "needs_background": "light"
     },
     "output_type": "display_data"
    },
    {
     "data": {
      "image/png": "[encoded data removed]",
      "text/plain": [
       "<Figure size 432x288 with 1 Axes>"
      ]
     },
     "metadata": {
      "needs_background": "light"
     },
     "output_type": "display_data"
    },
    {
     "data": {
      "image/png": "[encoded data removed]",
      "text/plain": [
       "<Figure size 432x288 with 1 Axes>"
      ]
     },
     "metadata": {
      "needs_background": "light"
     },
     "output_type": "display_data"
    }
   ],
   "source": [
    "cs = df1['\"Temperature\"']\n",
    "plt.plot(cs)\n",
    "plt.show()\n",
    "cs1 = df1['\"Humidity\"']\n",
    "plt.plot(cs1)\n",
    "plt.show()\n",
    "cs2 = df1['\"Light\"']\n",
    "plt.plot(cs2)\n",
    "plt.show()\n",
    "cs3 = df1['\"CO2\"']\n",
    "plt.plot(cs3)\n",
    "plt.show()\n",
    "cs4 = df1['\"HumidityRatio\"']\n",
    "plt.plot(cs4)\n",
    "plt.show()\n",
    "cs5 = df1['\"Occupancy\"']\n",
    "plt.plot(cs5)\n",
    "plt.show()"
   ]
  },
  {
   "cell_type": "code",
   "execution_count": 15,
   "metadata": {},
   "outputs": [
    {
     "data": {
      "image/png": "[encoded data removed]",
      "text/plain": [
       "<Figure size 432x288 with 1 Axes>"
      ]
     },
     "metadata": {
      "needs_background": "light"
     },
     "output_type": "display_data"
    }
   ],
   "source": [
    "plt.plot((cs2 - cs2.mean())/cs2.std())\n",
    "plt.plot((cs5 - cs5.mean())/cs5.std())\n",
    "plt.show()"
   ]
  },
  {
   "cell_type": "code",
   "execution_count": 16,
   "metadata": {},
   "outputs": [
    {
     "data": {
      "image/png": "[encoded data removed]",
      "text/plain": [
       "<Figure size 432x288 with 1 Axes>"
      ]
     },
     "metadata": {
      "needs_background": "light"
     },
     "output_type": "display_data"
    }
   ],
   "source": [
    "w = 10\n",
    "plt.plot(((cs2 - cs2.mean())/cs2.std()).rolling(window=w).mean())\n",
    "plt.plot(((cs3 - cs3.mean())/cs3.std()).rolling(window=w).mean())\n",
    "plt.show()"
   ]
  },
  {
   "cell_type": "code",
   "execution_count": 101,
   "metadata": {},
   "outputs": [
    {
     "data": {
      "text/html": [
       "<div>\n",
       "<style scoped>\n",
       "    .dataframe tbody tr th:only-of-type {\n",
       "        vertical-align: middle;\n",
       "    }\n",
       "\n",
       "    .dataframe tbody tr th {\n",
       "        vertical-align: top;\n",
       "    }\n",
       "\n",
       "    .dataframe thead th {\n",
       "        text-align: right;\n",
       "    }\n",
       "</style>\n",
       "<table border=\"1\" class=\"dataframe\">\n",
       "  <thead>\n",
       "    <tr style=\"text-align: right;\">\n",
       "      <th></th>\n",
       "      <th>\"Temperature\"</th>\n",
       "      <th>\"Humidity\"</th>\n",
       "      <th>\"Light\"</th>\n",
       "      <th>\"CO2\"</th>\n",
       "      <th>\"HumidityRatio\"</th>\n",
       "      <th>\"Occupancy\"</th>\n",
       "      <th>id</th>\n",
       "    </tr>\n",
       "    <tr>\n",
       "      <th>\"date\"</th>\n",
       "      <th></th>\n",
       "      <th></th>\n",
       "      <th></th>\n",
       "      <th></th>\n",
       "      <th></th>\n",
       "      <th></th>\n",
       "      <th></th>\n",
       "    </tr>\n",
       "  </thead>\n",
       "  <tbody>\n",
       "    <tr>\n",
       "      <th>2015-02-04 17:51:00</th>\n",
       "      <td>23.18</td>\n",
       "      <td>27.2720</td>\n",
       "      <td>426.0</td>\n",
       "      <td>721.25</td>\n",
       "      <td>0.004793</td>\n",
       "      <td>1</td>\n",
       "      <td>0</td>\n",
       "    </tr>\n",
       "    <tr>\n",
       "      <th>2015-02-04 17:51:59</th>\n",
       "      <td>23.15</td>\n",
       "      <td>27.2675</td>\n",
       "      <td>429.5</td>\n",
       "      <td>714.00</td>\n",
       "      <td>0.004783</td>\n",
       "      <td>1</td>\n",
       "      <td>0</td>\n",
       "    </tr>\n",
       "    <tr>\n",
       "      <th>2015-02-04 17:53:00</th>\n",
       "      <td>23.15</td>\n",
       "      <td>27.2450</td>\n",
       "      <td>426.0</td>\n",
       "      <td>713.50</td>\n",
       "      <td>0.004779</td>\n",
       "      <td>1</td>\n",
       "      <td>0</td>\n",
       "    </tr>\n",
       "    <tr>\n",
       "      <th>2015-02-04 17:54:00</th>\n",
       "      <td>23.15</td>\n",
       "      <td>27.2000</td>\n",
       "      <td>426.0</td>\n",
       "      <td>708.25</td>\n",
       "      <td>0.004772</td>\n",
       "      <td>1</td>\n",
       "      <td>0</td>\n",
       "    </tr>\n",
       "    <tr>\n",
       "      <th>2015-02-04 17:55:00</th>\n",
       "      <td>23.10</td>\n",
       "      <td>27.2000</td>\n",
       "      <td>426.0</td>\n",
       "      <td>704.50</td>\n",
       "      <td>0.004757</td>\n",
       "      <td>1</td>\n",
       "      <td>0</td>\n",
       "    </tr>\n",
       "  </tbody>\n",
       "</table>\n",
       "</div>"
      ],
      "text/plain": [
       "                     \"Temperature\"  \"Humidity\"  \"Light\"   \"CO2\"  \\\n",
       "\"date\"                                                            \n",
       "2015-02-04 17:51:00          23.18     27.2720    426.0  721.25   \n",
       "2015-02-04 17:51:59          23.15     27.2675    429.5  714.00   \n",
       "2015-02-04 17:53:00          23.15     27.2450    426.0  713.50   \n",
       "2015-02-04 17:54:00          23.15     27.2000    426.0  708.25   \n",
       "2015-02-04 17:55:00          23.10     27.2000    426.0  704.50   \n",
       "\n",
       "                     \"HumidityRatio\"  \"Occupancy\"  id  \n",
       "\"date\"                                                 \n",
       "2015-02-04 17:51:00         0.004793            1   0  \n",
       "2015-02-04 17:51:59         0.004783            1   0  \n",
       "2015-02-04 17:53:00         0.004779            1   0  \n",
       "2015-02-04 17:54:00         0.004772            1   0  \n",
       "2015-02-04 17:55:00         0.004757            1   0  "
      ]
     },
     "execution_count": 101,
     "metadata": {},
     "output_type": "execute_result"
    }
   ],
   "source": [
    "#df1.set_index('\"date\"', inplace=True)\n",
    "#df1.head()\n",
    "#t set as index column date"
   ]
  },
  {
   "cell_type": "code",
   "execution_count": 28,
   "metadata": {},
   "outputs": [
    {
     "data": {
      "image/png": "[encoded data removed]",
      "text/plain": [
       "<Figure size 432x288 with 1 Axes>"
      ]
     },
     "metadata": {
      "needs_background": "light"
     },
     "output_type": "display_data"
    }
   ],
   "source": [
    "t=[]\n",
    "for i in range(0,len(df1['\"date\"'])):\n",
    "    h=str(df1['\"date\"'][i].day)\n",
    "    t.append(h)\n",
    "ts = df1['\"CO2\"']\n",
    "plt.plot(t,ts)\n",
    "\n",
    "plt.ylabel('\"Co2\"')\n",
    "plt.xlabel('\"Hour\"')\n",
    "plt.show()\n",
    "#369-1808369"
   ]
  },
  {
   "cell_type": "code",
   "execution_count": 8,
   "metadata": {},
   "outputs": [
    {
     "data": {
      "image/png": "[encoded data removed]",
      "text/plain": [
       "<Figure size 432x288 with 1 Axes>"
      ]
     },
     "metadata": {
      "needs_background": "light"
     },
     "output_type": "display_data"
    }
   ],
   "source": [
    "#2015-02-05\n",
    "t=[]\n",
    "for i in range(0,len(df1['\"date\"'])):\n",
    "    h=str(df1['\"date\"'][i].day)\n",
    "    t.append(h)\n",
    "ts = df1['\"Light\"']\n",
    "plt.plot(t,ts)\n",
    "plt.ylabel('Light')\n",
    "plt.xlabel('Day')\n",
    "plt.show()"
   ]
  },
  {
   "cell_type": "code",
   "execution_count": 9,
   "metadata": {},
   "outputs": [
    {
     "data": {
      "image/png": "[encoded data removed]",
      "text/plain": [
       "<Figure size 432x288 with 1 Axes>"
      ]
     },
     "metadata": {
      "needs_background": "light"
     },
     "output_type": "display_data"
    }
   ],
   "source": [
    "t=[]\n",
    "for i in range(0,len(df1['\"date\"'])):\n",
    "    h=str(df1['\"date\"'][i].day)\n",
    "    t.append(h)\n",
    "ts1 = df1['\"Occupancy\"']\n",
    "plt.plot(t,ts1)\n",
    "plt.ylabel('Occupancy')\n",
    "plt.xlabel('Day')\n",
    "plt.show()"
   ]
  },
  {
   "cell_type": "code",
   "execution_count": 75,
   "metadata": {},
   "outputs": [
    {
     "data": {
      "image/png": "[encoded data removed]",
      "text/plain": [
       "<Figure size 432x288 with 1 Axes>"
      ]
     },
     "metadata": {
      "needs_background": "light"
     },
     "output_type": "display_data"
    }
   ],
   "source": [
    "plt.plot(t,(ts - ts.mean())/ts.std())\n",
    "plt.plot(t,(ts1 - ts1.mean())/ts1.std())\n",
    "plt.show()"
   ]
  },
  {
   "cell_type": "code",
   "execution_count": 76,
   "metadata": {},
   "outputs": [
    {
     "data": {
      "image/png": "[encoded data removed]",
      "text/plain": [
       "<Figure size 1440x720 with 1 Axes>"
      ]
     },
     "metadata": {
      "needs_background": "light"
     },
     "output_type": "display_data"
    }
   ],
   "source": [
    "w = 10\n",
    "plt.figure(figsize=(20,10))\n",
    "plt.plot(((ts - ts.mean())/ts.std()).rolling(window=w).mean())\n",
    "plt.plot(((ts1 - ts1.mean())/ts1.std()).rolling(window=w).mean())\n",
    "plt.show()"
   ]
  },
  {
   "cell_type": "code",
   "execution_count": 34,
   "metadata": {},
   "outputs": [],
   "source": [
    "from tslearn.preprocessing import TimeSeriesScalerMeanVariance"
   ]
  },
  {
   "cell_type": "code",
   "execution_count": 35,
   "metadata": {},
   "outputs": [
    {
     "data": {
      "image/png": "[encoded data removed]",
      "text/plain": [
       "<Figure size 432x288 with 1 Axes>"
      ]
     },
     "metadata": {
      "needs_background": "light"
     },
     "output_type": "display_data"
    }
   ],
   "source": [
    "scaler = TimeSeriesScalerMeanVariance(mu=0., std=1.)  # Rescale time series\n",
    "cs3_scaled = scaler.fit_transform(ts).flatten()\n",
    "cs5_scaled = scaler.fit_transform(ts1).flatten()\n",
    "\n",
    "plt.plot(cs3_scaled)\n",
    "plt.plot(cs5_scaled)\n",
    "plt.show()"
   ]
  },
  {
   "cell_type": "code",
   "execution_count": null,
   "metadata": {},
   "outputs": [],
   "source": []
  },
  {
   "cell_type": "markdown",
   "metadata": {},
   "source": [
    "# Euclidean"
   ]
  },
  {
   "cell_type": "code",
   "execution_count": 29,
   "metadata": {},
   "outputs": [],
   "source": [
    "from scipy.spatial.distance import euclidean"
   ]
  },
  {
   "cell_type": "code",
   "execution_count": 30,
   "metadata": {},
   "outputs": [],
   "source": [
    "#light-occupancy\n",
    "ts3=(ts - ts.mean())/ts.std()\n",
    "ts4=(ts1 - ts1.mean())/ts1.std()\n",
    "\n"
   ]
  },
  {
   "cell_type": "code",
   "execution_count": 31,
   "metadata": {},
   "outputs": [
    {
     "data": {
      "text/plain": [
       "68.45408257786096"
      ]
     },
     "execution_count": 31,
     "metadata": {},
     "output_type": "execute_result"
    }
   ],
   "source": [
    "dist = euclidean(ts3, ts4)\n",
    "dist"
   ]
  },
  {
   "cell_type": "code",
   "execution_count": 32,
   "metadata": {},
   "outputs": [],
   "source": [
    "#co2-occupancy\n",
    "cs21=(cs3 - cs3.mean())/cs3.std()\n",
    "cs51=(cs5 - cs5.mean())/cs5.std()"
   ]
  },
  {
   "cell_type": "code",
   "execution_count": 36,
   "metadata": {},
   "outputs": [
    {
     "data": {
      "text/plain": [
       "68.45828621215318"
      ]
     },
     "execution_count": 36,
     "metadata": {},
     "output_type": "execute_result"
    }
   ],
   "source": [
    "#light-occupancy\n",
    "dist = euclidean(cs3_scaled, cs5_scaled)\n",
    "dist"
   ]
  },
  {
   "cell_type": "code",
   "execution_count": 37,
   "metadata": {},
   "outputs": [
    {
     "data": {
      "text/plain": [
       "38.84170644300675"
      ]
     },
     "execution_count": 37,
     "metadata": {},
     "output_type": "execute_result"
    }
   ],
   "source": [
    "#light-occupancy\n",
    "cs41=(cs2 - cs2.mean())/cs2.std()\n",
    "dist = euclidean(cs41, cs51)\n",
    "dist"
   ]
  },
  {
   "cell_type": "code",
   "execution_count": null,
   "metadata": {},
   "outputs": [],
   "source": []
  },
  {
   "cell_type": "code",
   "execution_count": 38,
   "metadata": {},
   "outputs": [
    {
     "data": {
      "text/plain": [
       "68.45828621215318"
      ]
     },
     "execution_count": 38,
     "metadata": {},
     "output_type": "execute_result"
    }
   ],
   "source": [
    "dist = euclidean(cs3_scaled ,cs5_scaled)\n",
    "dist"
   ]
  },
  {
   "cell_type": "markdown",
   "metadata": {},
   "source": [
    "# Manhattan"
   ]
  },
  {
   "cell_type": "code",
   "execution_count": 86,
   "metadata": {},
   "outputs": [],
   "source": [
    "from scipy.spatial.distance import cityblock"
   ]
  },
  {
   "cell_type": "code",
   "execution_count": 87,
   "metadata": {},
   "outputs": [
    {
     "data": {
      "text/plain": [
       "313.29721281171015"
      ]
     },
     "execution_count": 87,
     "metadata": {},
     "output_type": "execute_result"
    }
   ],
   "source": [
    "dist = cityblock(cs3_scaled, cs5_scaled)\n",
    "dist\n"
   ]
  },
  {
   "cell_type": "code",
   "execution_count": 31,
   "metadata": {},
   "outputs": [
    {
     "data": {
      "text/plain": [
       "1706.7145593480584"
      ]
     },
     "execution_count": 31,
     "metadata": {},
     "output_type": "execute_result"
    }
   ],
   "source": [
    "dist1=cityblock(cs41,cs51)\n",
    "dist1"
   ]
  },
  {
   "cell_type": "code",
   "execution_count": null,
   "metadata": {},
   "outputs": [],
   "source": []
  },
  {
   "cell_type": "markdown",
   "metadata": {},
   "source": [
    "# Dinamic Time Warping"
   ]
  },
  {
   "cell_type": "code",
   "execution_count": 33,
   "metadata": {},
   "outputs": [],
   "source": [
    "from tslearn.metrics import dtw, dtw_path, cdist_dtw, subsequence_cost_matrix"
   ]
  },
  {
   "cell_type": "code",
   "execution_count": 34,
   "metadata": {},
   "outputs": [
    {
     "data": {
      "text/plain": [
       "7.986859784079446"
      ]
     },
     "execution_count": 34,
     "metadata": {},
     "output_type": "execute_result"
    }
   ],
   "source": [
    "dist = dtw(ts3, ts4)\n",
    "dist"
   ]
  },
  {
   "cell_type": "code",
   "execution_count": 47,
   "metadata": {},
   "outputs": [
    {
     "data": {
      "text/plain": [
       "27.47119612779492"
      ]
     },
     "execution_count": 47,
     "metadata": {},
     "output_type": "execute_result"
    }
   ],
   "source": [
    "dist = dtw(cs41, cs51)\n",
    "dist"
   ]
  },
  {
   "cell_type": "code",
   "execution_count": null,
   "metadata": {},
   "outputs": [],
   "source": []
  },
  {
   "cell_type": "code",
   "execution_count": 37,
   "metadata": {},
   "outputs": [
    {
     "data": {
      "text/plain": [
       "4.0071310089179795"
      ]
     },
     "execution_count": 37,
     "metadata": {},
     "output_type": "execute_result"
    }
   ],
   "source": [
    "dist = dtw(cs41[3850:3860], cs51[3850:3860])\n",
    "dist"
   ]
  },
  {
   "cell_type": "code",
   "execution_count": 38,
   "metadata": {},
   "outputs": [],
   "source": [
    "path, dist = dtw_path(cs41[3850:3860], cs51[3850:3860])"
   ]
  },
  {
   "cell_type": "code",
   "execution_count": 39,
   "metadata": {},
   "outputs": [
    {
     "data": {
      "text/plain": [
       "[(0, 0),\n",
       " (1, 1),\n",
       " (2, 2),\n",
       " (3, 3),\n",
       " (4, 4),\n",
       " (5, 5),\n",
       " (6, 6),\n",
       " (7, 7),\n",
       " (8, 8),\n",
       " (9, 9)]"
      ]
     },
     "execution_count": 39,
     "metadata": {},
     "output_type": "execute_result"
    }
   ],
   "source": [
    "path"
   ]
  },
  {
   "cell_type": "code",
   "execution_count": 32,
   "metadata": {},
   "outputs": [],
   "source": [
    "from scipy.spatial.distance import cdist"
   ]
  },
  {
   "cell_type": "code",
   "execution_count": 33,
   "metadata": {},
   "outputs": [
    {
     "data": {
      "image/png": "[encoded data removed]",
      "text/plain": [
       "<Figure size 432x288 with 1 Axes>"
      ]
     },
     "metadata": {
      "needs_background": "light"
     },
     "output_type": "display_data"
    }
   ],
   "source": [
    "mat = cdist(cs41.values[1100:1110].reshape(-1,1), cs51.values[1100:1110].reshape(-1,1))\n",
    "\n",
    "plt.imshow(mat)\n",
    "plt.axis(\"off\")\n",
    "plt.autoscale(False)\n",
    "for i in range(mat.shape[0]):\n",
    "    for j in range(mat.shape[1]):\n",
    "        text = plt.text(j, i, '%.1f' % mat[i, j], ha=\"center\", va=\"center\", color=\"w\")\n",
    "        \n",
    "plt.show()"
   ]
  },
  {
   "cell_type": "code",
   "execution_count": 34,
   "metadata": {},
   "outputs": [
    {
     "data": {
      "image/png": "[encoded data removed]",
      "text/plain": [
       "<Figure size 432x288 with 1 Axes>"
      ]
     },
     "metadata": {
      "needs_background": "light"
     },
     "output_type": "display_data"
    }
   ],
   "source": [
    "acc = subsequence_cost_matrix(cs41.values[1100:1110].reshape(-1,1), cs51.values[1100:1110].reshape(-1,1))\n",
    "\n",
    "plt.imshow(acc)\n",
    "plt.axis(\"off\")\n",
    "plt.autoscale(False)\n",
    "for i in range(acc.shape[0]):\n",
    "    for j in range(acc.shape[1]):\n",
    "        text = plt.text(j, i, '%.1f' % np.sqrt(acc[i, j]), ha=\"center\", va=\"center\", color=\"w\")\n",
    "        \n",
    "plt.show()"
   ]
  },
  {
   "cell_type": "code",
   "execution_count": 35,
   "metadata": {},
   "outputs": [
    {
     "data": {
      "image/png": "[encoded data removed]",
      "text/plain": [
       "<Figure size 432x288 with 1 Axes>"
      ]
     },
     "metadata": {
      "needs_background": "light"
     },
     "output_type": "display_data"
    }
   ],
   "source": [
    "plt.imshow(mat)\n",
    "plt.axis(\"off\")\n",
    "plt.autoscale(False)\n",
    "plt.plot([j for (i, j) in path], [i for (i, j) in path], \"w-\", linewidth=3.)\n",
    "plt.show()"
   ]
  },
  {
   "cell_type": "code",
   "execution_count": 55,
   "metadata": {},
   "outputs": [
    {
     "data": {
      "text/plain": [
       "1.0345524590271546"
      ]
     },
     "execution_count": 55,
     "metadata": {},
     "output_type": "execute_result"
    }
   ],
   "source": [
    "path, dist = dtw_path(ts3[870:880], ts4[870:880], global_constraint=\"sakoe_chiba\", sakoe_chiba_radius=2)\n",
    "dist"
   ]
  },
  {
   "cell_type": "code",
   "execution_count": 56,
   "metadata": {},
   "outputs": [
    {
     "data": {
      "image/png": "[encoded data removed]",
      "text/plain": [
       "<Figure size 432x288 with 1 Axes>"
      ]
     },
     "metadata": {
      "needs_background": "light"
     },
     "output_type": "display_data"
    }
   ],
   "source": [
    "plt.imshow(mat)\n",
    "plt.axis(\"off\")\n",
    "plt.autoscale(False)\n",
    "plt.plot([j for (i, j) in path], [i for (i, j) in path], \"w-\", linewidth=3.)\n",
    "plt.show()"
   ]
  },
  {
   "cell_type": "code",
   "execution_count": 57,
   "metadata": {},
   "outputs": [
    {
     "data": {
      "text/plain": [
       "1.0345524590271546"
      ]
     },
     "execution_count": 57,
     "metadata": {},
     "output_type": "execute_result"
    }
   ],
   "source": [
    "path, dist = dtw_path(ts3[870:880], ts4[870:880], global_constraint=\"itakura\", itakura_max_slope=2.)\n",
    "dist"
   ]
  },
  {
   "cell_type": "code",
   "execution_count": 58,
   "metadata": {},
   "outputs": [
    {
     "data": {
      "image/png": "[encoded data removed]",
      "text/plain": [
       "<Figure size 432x288 with 1 Axes>"
      ]
     },
     "metadata": {
      "needs_background": "light"
     },
     "output_type": "display_data"
    }
   ],
   "source": [
    "plt.imshow(mat)\n",
    "plt.axis(\"off\")\n",
    "plt.autoscale(False)\n",
    "plt.plot([j for (i, j) in path], [i for (i, j) in path], \"w-\", linewidth=3.)\n",
    "plt.show()"
   ]
  },
  {
   "cell_type": "code",
   "execution_count": 59,
   "metadata": {},
   "outputs": [
    {
     "data": {
      "text/plain": [
       "array([[0.        , 7.98685978],\n",
       "       [7.98685978, 0.        ]])"
      ]
     },
     "execution_count": 59,
     "metadata": {},
     "output_type": "execute_result"
    }
   ],
   "source": [
    "cdist_dtw([ts3, ts4])"
   ]
  },
  {
   "cell_type": "code",
   "execution_count": null,
   "metadata": {},
   "outputs": [],
   "source": [
    "#Euclidean,Manatthan and Dtw sono shape based similiarities, a livello di struttura invece abbiamo le structural based\n",
    "#similarities, feature extraction compression based etc."
   ]
  },
  {
   "cell_type": "markdown",
   "metadata": {},
   "source": [
    "# Structure-based similarities"
   ]
  },
  {
   "cell_type": "code",
   "execution_count": 40,
   "metadata": {},
   "outputs": [],
   "source": [
    "import numpy as np\n",
    "import scipy.stats as stats"
   ]
  },
  {
   "cell_type": "code",
   "execution_count": 41,
   "metadata": {},
   "outputs": [],
   "source": [
    "def calculate_features(values):\n",
    "    features = {\n",
    "        'avg': np.mean(values),\n",
    "        'std': np.std(values),\n",
    "        'var': np.var(values),\n",
    "        'med': np.median(values),\n",
    "        '10p': np.percentile(values, 10),\n",
    "        '25p': np.percentile(values, 25),\n",
    "        '50p': np.percentile(values, 50),\n",
    "        '75p': np.percentile(values, 75),\n",
    "        '90p': np.percentile(values, 90),\n",
    "        'iqr': np.percentile(values, 75) - np.percentile(values, 25),\n",
    "        'cov': 1.0 * np.mean(values) / np.std(values),\n",
    "        'skw': stats.skew(values),\n",
    "        'kur': stats.kurtosis(values)\n",
    "    }\n",
    "\n",
    "    return features"
   ]
  },
  {
   "cell_type": "code",
   "execution_count": 52,
   "metadata": {},
   "outputs": [],
   "source": [
    "features = calculate_features(cs41)"
   ]
  },
  {
   "cell_type": "code",
   "execution_count": 53,
   "metadata": {},
   "outputs": [
    {
     "data": {
      "text/plain": [
       "{'avg': 7.194975986186757e-16,\n",
       " 'std': 0.9999385956831498,\n",
       " 'var': 0.9998771951367896,\n",
       " 'med': -0.6136883808802567,\n",
       " '10p': -0.6136883808802567,\n",
       " '25p': -0.6136883808802567,\n",
       " '50p': -0.6136883808802567,\n",
       " '75p': 0.7027037044036331,\n",
       " '90p': 1.7431091506470193,\n",
       " 'iqr': 1.3163920852838897,\n",
       " 'cov': 7.195417815902194e-16,\n",
       " 'skw': 1.23721173982967,\n",
       " 'kur': 0.12234005814184146}"
      ]
     },
     "execution_count": 53,
     "metadata": {},
     "output_type": "execute_result"
    }
   ],
   "source": [
    "features"
   ]
  },
  {
   "cell_type": "code",
   "execution_count": 54,
   "metadata": {},
   "outputs": [],
   "source": [
    "features1 = calculate_features(cs51)"
   ]
  },
  {
   "cell_type": "code",
   "execution_count": 55,
   "metadata": {},
   "outputs": [
    {
     "data": {
      "text/plain": [
       "{'avg': -2.691203516943515e-15,\n",
       " 'std': 0.9999385956832214,\n",
       " 'var': 0.9998771951369329,\n",
       " 'med': -0.5191661285515521,\n",
       " '10p': -0.5191661285515521,\n",
       " '25p': -0.5191661285515521,\n",
       " '50p': -0.5191661285515521,\n",
       " '75p': -0.5191661285515521,\n",
       " '90p': 1.9259291778656187,\n",
       " 'iqr': 0.0,\n",
       " 'cov': -2.6913687786045642e-15,\n",
       " 'skw': 1.4068494359424673,\n",
       " 'kur': -0.02077466458836197}"
      ]
     },
     "execution_count": 55,
     "metadata": {},
     "output_type": "execute_result"
    }
   ],
   "source": [
    "features1"
   ]
  },
  {
   "cell_type": "code",
   "execution_count": 72,
   "metadata": {},
   "outputs": [],
   "source": [
    "from tsfresh.feature_extraction import extract_features"
   ]
  },
  {
   "cell_type": "code",
   "execution_count": 102,
   "metadata": {},
   "outputs": [
    {
     "data": {
      "text/html": [
       "<div>\n",
       "<style scoped>\n",
       "    .dataframe tbody tr th:only-of-type {\n",
       "        vertical-align: middle;\n",
       "    }\n",
       "\n",
       "    .dataframe tbody tr th {\n",
       "        vertical-align: top;\n",
       "    }\n",
       "\n",
       "    .dataframe thead th {\n",
       "        text-align: right;\n",
       "    }\n",
       "</style>\n",
       "<table border=\"1\" class=\"dataframe\">\n",
       "  <thead>\n",
       "    <tr style=\"text-align: right;\">\n",
       "      <th></th>\n",
       "      <th>\"Number\"</th>\n",
       "      <th>\"Temperature\"</th>\n",
       "      <th>\"Humidity\"</th>\n",
       "      <th>\"Light\"</th>\n",
       "      <th>\"HumidityRatio\"</th>\n",
       "      <th>\"Occupancy\"</th>\n",
       "    </tr>\n",
       "    <tr>\n",
       "      <th>\"date\"</th>\n",
       "      <th></th>\n",
       "      <th></th>\n",
       "      <th></th>\n",
       "      <th></th>\n",
       "      <th></th>\n",
       "      <th></th>\n",
       "    </tr>\n",
       "  </thead>\n",
       "  <tbody>\n",
       "    <tr>\n",
       "      <th>\"2015-02-04 17:51:00\"</th>\n",
       "      <td>\"1\"</td>\n",
       "      <td>23.18</td>\n",
       "      <td>27.2720</td>\n",
       "      <td>426.0</td>\n",
       "      <td>0.004793</td>\n",
       "      <td>1</td>\n",
       "    </tr>\n",
       "    <tr>\n",
       "      <th>\"2015-02-04 17:51:59\"</th>\n",
       "      <td>\"2\"</td>\n",
       "      <td>23.15</td>\n",
       "      <td>27.2675</td>\n",
       "      <td>429.5</td>\n",
       "      <td>0.004783</td>\n",
       "      <td>1</td>\n",
       "    </tr>\n",
       "    <tr>\n",
       "      <th>\"2015-02-04 17:53:00\"</th>\n",
       "      <td>\"3\"</td>\n",
       "      <td>23.15</td>\n",
       "      <td>27.2450</td>\n",
       "      <td>426.0</td>\n",
       "      <td>0.004779</td>\n",
       "      <td>1</td>\n",
       "    </tr>\n",
       "    <tr>\n",
       "      <th>\"2015-02-04 17:54:00\"</th>\n",
       "      <td>\"4\"</td>\n",
       "      <td>23.15</td>\n",
       "      <td>27.2000</td>\n",
       "      <td>426.0</td>\n",
       "      <td>0.004772</td>\n",
       "      <td>1</td>\n",
       "    </tr>\n",
       "    <tr>\n",
       "      <th>\"2015-02-04 17:55:00\"</th>\n",
       "      <td>\"5\"</td>\n",
       "      <td>23.10</td>\n",
       "      <td>27.2000</td>\n",
       "      <td>426.0</td>\n",
       "      <td>0.004757</td>\n",
       "      <td>1</td>\n",
       "    </tr>\n",
       "    <tr>\n",
       "      <th>...</th>\n",
       "      <td>...</td>\n",
       "      <td>...</td>\n",
       "      <td>...</td>\n",
       "      <td>...</td>\n",
       "      <td>...</td>\n",
       "      <td>...</td>\n",
       "    </tr>\n",
       "    <tr>\n",
       "      <th>\"2015-02-10 09:29:00\"</th>\n",
       "      <td>\"8139\"</td>\n",
       "      <td>21.05</td>\n",
       "      <td>36.0975</td>\n",
       "      <td>433.0</td>\n",
       "      <td>0.005579</td>\n",
       "      <td>1</td>\n",
       "    </tr>\n",
       "    <tr>\n",
       "      <th>\"2015-02-10 09:29:59\"</th>\n",
       "      <td>\"8140\"</td>\n",
       "      <td>21.05</td>\n",
       "      <td>35.9950</td>\n",
       "      <td>433.0</td>\n",
       "      <td>0.005563</td>\n",
       "      <td>1</td>\n",
       "    </tr>\n",
       "    <tr>\n",
       "      <th>\"2015-02-10 09:30:59\"</th>\n",
       "      <td>\"8141\"</td>\n",
       "      <td>21.10</td>\n",
       "      <td>36.0950</td>\n",
       "      <td>433.0</td>\n",
       "      <td>0.005596</td>\n",
       "      <td>1</td>\n",
       "    </tr>\n",
       "    <tr>\n",
       "      <th>\"2015-02-10 09:32:00\"</th>\n",
       "      <td>\"8142\"</td>\n",
       "      <td>21.10</td>\n",
       "      <td>36.2600</td>\n",
       "      <td>433.0</td>\n",
       "      <td>0.005621</td>\n",
       "      <td>1</td>\n",
       "    </tr>\n",
       "    <tr>\n",
       "      <th>\"2015-02-10 09:33:00\"</th>\n",
       "      <td>\"8143\"</td>\n",
       "      <td>21.10</td>\n",
       "      <td>36.2000</td>\n",
       "      <td>447.0</td>\n",
       "      <td>0.005612</td>\n",
       "      <td>1</td>\n",
       "    </tr>\n",
       "  </tbody>\n",
       "</table>\n",
       "<p>8143 rows × 6 columns</p>\n",
       "</div>"
      ],
      "text/plain": [
       "                      \"Number\"  \"Temperature\"  \"Humidity\"  \"Light\"  \\\n",
       "\"date\"                                                               \n",
       "\"2015-02-04 17:51:00\"      \"1\"          23.18     27.2720    426.0   \n",
       "\"2015-02-04 17:51:59\"      \"2\"          23.15     27.2675    429.5   \n",
       "\"2015-02-04 17:53:00\"      \"3\"          23.15     27.2450    426.0   \n",
       "\"2015-02-04 17:54:00\"      \"4\"          23.15     27.2000    426.0   \n",
       "\"2015-02-04 17:55:00\"      \"5\"          23.10     27.2000    426.0   \n",
       "...                        ...            ...         ...      ...   \n",
       "\"2015-02-10 09:29:00\"   \"8139\"          21.05     36.0975    433.0   \n",
       "\"2015-02-10 09:29:59\"   \"8140\"          21.05     35.9950    433.0   \n",
       "\"2015-02-10 09:30:59\"   \"8141\"          21.10     36.0950    433.0   \n",
       "\"2015-02-10 09:32:00\"   \"8142\"          21.10     36.2600    433.0   \n",
       "\"2015-02-10 09:33:00\"   \"8143\"          21.10     36.2000    447.0   \n",
       "\n",
       "                       \"HumidityRatio\"  \"Occupancy\"  \n",
       "\"date\"                                               \n",
       "\"2015-02-04 17:51:00\"         0.004793            1  \n",
       "\"2015-02-04 17:51:59\"         0.004783            1  \n",
       "\"2015-02-04 17:53:00\"         0.004779            1  \n",
       "\"2015-02-04 17:54:00\"         0.004772            1  \n",
       "\"2015-02-04 17:55:00\"         0.004757            1  \n",
       "...                                ...          ...  \n",
       "\"2015-02-10 09:29:00\"         0.005579            1  \n",
       "\"2015-02-10 09:29:59\"         0.005563            1  \n",
       "\"2015-02-10 09:30:59\"         0.005596            1  \n",
       "\"2015-02-10 09:32:00\"         0.005621            1  \n",
       "\"2015-02-10 09:33:00\"         0.005612            1  \n",
       "\n",
       "[8143 rows x 6 columns]"
      ]
     },
     "execution_count": 102,
     "metadata": {},
     "output_type": "execute_result"
    }
   ],
   "source": [
    "df1"
   ]
  },
  {
   "cell_type": "code",
   "execution_count": 82,
   "metadata": {},
   "outputs": [],
   "source": [
    "df1['id'] = [0] * len(df1)"
   ]
  },
  {
   "cell_type": "code",
   "execution_count": 84,
   "metadata": {},
   "outputs": [
    {
     "name": "stderr",
     "output_type": "stream",
     "text": [
      "\n",
      "\n",
      "Feature Extraction:   0%|          | 0/4 [00:00<?, ?it/s]\u001b[A\u001b[AProcess ForkPoolWorker-10:\n",
      "Process ForkPoolWorker-11:\n",
      "Traceback (most recent call last):\n",
      "  File \"//anaconda3/lib/python3.7/multiprocessing/process.py\", line 297, in _bootstrap\n",
      "    self.run()\n",
      "  File \"//anaconda3/lib/python3.7/multiprocessing/process.py\", line 99, in run\n",
      "    self._target(*self._args, **self._kwargs)\n",
      "Traceback (most recent call last):\n",
      "  File \"//anaconda3/lib/python3.7/multiprocessing/pool.py\", line 121, in worker\n",
      "    result = (True, func(*args, **kwds))\n",
      "  File \"//anaconda3/lib/python3.7/multiprocessing/process.py\", line 297, in _bootstrap\n",
      "    self.run()\n",
      "  File \"//anaconda3/lib/python3.7/multiprocessing/process.py\", line 99, in run\n",
      "    self._target(*self._args, **self._kwargs)\n",
      "  File \"//anaconda3/lib/python3.7/site-packages/tsfresh/utilities/distribution.py\", line 39, in _function_with_partly_reduce\n",
      "    results = list(itertools.chain.from_iterable(results))\n",
      "  File \"//anaconda3/lib/python3.7/multiprocessing/pool.py\", line 121, in worker\n",
      "    result = (True, func(*args, **kwds))\n",
      "  File \"//anaconda3/lib/python3.7/site-packages/tsfresh/utilities/distribution.py\", line 38, in <genexpr>\n",
      "    results = (map_function(chunk, **kwargs) for chunk in chunk_list)\n",
      "  File \"//anaconda3/lib/python3.7/site-packages/tsfresh/utilities/distribution.py\", line 39, in _function_with_partly_reduce\n",
      "    results = list(itertools.chain.from_iterable(results))\n",
      "  File \"//anaconda3/lib/python3.7/site-packages/tsfresh/utilities/distribution.py\", line 38, in <genexpr>\n",
      "    results = (map_function(chunk, **kwargs) for chunk in chunk_list)\n",
      "  File \"//anaconda3/lib/python3.7/site-packages/tsfresh/feature_extraction/extraction.py\", line 390, in _do_extraction_on_chunk\n",
      "    return list(_f())\n",
      "  File \"//anaconda3/lib/python3.7/site-packages/tsfresh/feature_extraction/extraction.py\", line 390, in _do_extraction_on_chunk\n",
      "    return list(_f())\n",
      "  File \"//anaconda3/lib/python3.7/site-packages/tsfresh/feature_extraction/extraction.py\", line 382, in _f\n",
      "    result = [(\"\", func(x))]\n",
      "  File \"//anaconda3/lib/python3.7/site-packages/tsfresh/feature_extraction/extraction.py\", line 382, in _f\n",
      "    result = [(\"\", func(x))]\n",
      "  File \"//anaconda3/lib/python3.7/site-packages/tsfresh/feature_extraction/feature_calculators.py\", line 1520, in sample_entropy\n",
      "    A[m] += 1\n",
      "  File \"//anaconda3/lib/python3.7/site-packages/tsfresh/feature_extraction/feature_calculators.py\", line 1519, in sample_entropy\n",
      "    for m in range(int(temp_ts_length)):\n",
      "KeyboardInterrupt\n",
      "KeyboardInterrupt\n"
     ]
    },
    {
     "ename": "KeyboardInterrupt",
     "evalue": "",
     "output_type": "error",
     "traceback": [
      "\u001b[0;31m---------------------------------------------------------------------------\u001b[0m",
      "\u001b[0;31mIndexError\u001b[0m                                Traceback (most recent call last)",
      "\u001b[0;32m//anaconda3/lib/python3.7/multiprocessing/pool.py\u001b[0m in \u001b[0;36mnext\u001b[0;34m(self, timeout)\u001b[0m\n\u001b[1;32m    732\u001b[0m             \u001b[0;32mtry\u001b[0m\u001b[0;34m:\u001b[0m\u001b[0;34m\u001b[0m\u001b[0;34m\u001b[0m\u001b[0m\n\u001b[0;32m--> 733\u001b[0;31m                 \u001b[0mitem\u001b[0m \u001b[0;34m=\u001b[0m \u001b[0mself\u001b[0m\u001b[0;34m.\u001b[0m\u001b[0m_items\u001b[0m\u001b[0;34m.\u001b[0m\u001b[0mpopleft\u001b[0m\u001b[0;34m(\u001b[0m\u001b[0;34m)\u001b[0m\u001b[0;34m\u001b[0m\u001b[0;34m\u001b[0m\u001b[0m\n\u001b[0m\u001b[1;32m    734\u001b[0m             \u001b[0;32mexcept\u001b[0m \u001b[0mIndexError\u001b[0m\u001b[0;34m:\u001b[0m\u001b[0;34m\u001b[0m\u001b[0;34m\u001b[0m\u001b[0m\n",
      "\u001b[0;31mIndexError\u001b[0m: pop from an empty deque",
      "\nDuring handling of the above exception, another exception occurred:\n",
      "\u001b[0;31mKeyboardInterrupt\u001b[0m                         Traceback (most recent call last)",
      "\u001b[0;32m<ipython-input-84-7596d88150ae>\u001b[0m in \u001b[0;36m<module>\u001b[0;34m\u001b[0m\n\u001b[0;32m----> 1\u001b[0;31m \u001b[0mfeatures\u001b[0m \u001b[0;34m=\u001b[0m \u001b[0mextract_features\u001b[0m\u001b[0;34m(\u001b[0m\u001b[0mtimeseries_container\u001b[0m\u001b[0;34m=\u001b[0m\u001b[0mdf1\u001b[0m\u001b[0;34m,\u001b[0m \u001b[0mcolumn_id\u001b[0m\u001b[0;34m=\u001b[0m\u001b[0;34m'id'\u001b[0m\u001b[0;34m)\u001b[0m\u001b[0;34m\u001b[0m\u001b[0;34m\u001b[0m\u001b[0m\n\u001b[0m",
      "\u001b[0;32m//anaconda3/lib/python3.7/site-packages/tsfresh/feature_extraction/extraction.py\u001b[0m in \u001b[0;36mextract_features\u001b[0;34m(timeseries_container, default_fc_parameters, kind_to_fc_parameters, column_id, column_sort, column_kind, column_value, chunksize, n_jobs, show_warnings, disable_progressbar, impute_function, profile, profiling_filename, profiling_sorting, distributor)\u001b[0m\n\u001b[1;32m    158\u001b[0m                                 \u001b[0mdefault_fc_parameters\u001b[0m\u001b[0;34m=\u001b[0m\u001b[0mdefault_fc_parameters\u001b[0m\u001b[0;34m,\u001b[0m\u001b[0;34m\u001b[0m\u001b[0;34m\u001b[0m\u001b[0m\n\u001b[1;32m    159\u001b[0m                                 \u001b[0mkind_to_fc_parameters\u001b[0m\u001b[0;34m=\u001b[0m\u001b[0mkind_to_fc_parameters\u001b[0m\u001b[0;34m,\u001b[0m\u001b[0;34m\u001b[0m\u001b[0;34m\u001b[0m\u001b[0m\n\u001b[0;32m--> 160\u001b[0;31m                                 distributor=distributor)\n\u001b[0m\u001b[1;32m    161\u001b[0m \u001b[0;34m\u001b[0m\u001b[0m\n\u001b[1;32m    162\u001b[0m         \u001b[0;31m# Impute the result if requested\u001b[0m\u001b[0;34m\u001b[0m\u001b[0;34m\u001b[0m\u001b[0;34m\u001b[0m\u001b[0m\n",
      "\u001b[0;32m//anaconda3/lib/python3.7/site-packages/tsfresh/feature_extraction/extraction.py\u001b[0m in \u001b[0;36m_do_extraction\u001b[0;34m(df, column_id, column_value, column_kind, default_fc_parameters, kind_to_fc_parameters, n_jobs, chunk_size, disable_progressbar, show_warnings, distributor)\u001b[0m\n\u001b[1;32m    309\u001b[0m     result = distributor.map_reduce(_do_extraction_on_chunk, data=data_in_chunks,\n\u001b[1;32m    310\u001b[0m                                     \u001b[0mchunk_size\u001b[0m\u001b[0;34m=\u001b[0m\u001b[0mchunk_size\u001b[0m\u001b[0;34m,\u001b[0m\u001b[0;34m\u001b[0m\u001b[0;34m\u001b[0m\u001b[0m\n\u001b[0;32m--> 311\u001b[0;31m                                     function_kwargs=kwargs)\n\u001b[0m\u001b[1;32m    312\u001b[0m     \u001b[0mdistributor\u001b[0m\u001b[0;34m.\u001b[0m\u001b[0mclose\u001b[0m\u001b[0;34m(\u001b[0m\u001b[0;34m)\u001b[0m\u001b[0;34m\u001b[0m\u001b[0;34m\u001b[0m\u001b[0m\n\u001b[1;32m    313\u001b[0m \u001b[0;34m\u001b[0m\u001b[0m\n",
      "\u001b[0;32m//anaconda3/lib/python3.7/site-packages/tsfresh/utilities/distribution.py\u001b[0m in \u001b[0;36mmap_reduce\u001b[0;34m(self, map_function, data, function_kwargs, chunk_size, data_length)\u001b[0m\n\u001b[1;32m    165\u001b[0m             \u001b[0mresult\u001b[0m \u001b[0;34m=\u001b[0m \u001b[0mself\u001b[0m\u001b[0;34m.\u001b[0m\u001b[0mdistribute\u001b[0m\u001b[0;34m(\u001b[0m\u001b[0m_function_with_partly_reduce\u001b[0m\u001b[0;34m,\u001b[0m \u001b[0mchunk_generator\u001b[0m\u001b[0;34m,\u001b[0m \u001b[0mmap_kwargs\u001b[0m\u001b[0;34m)\u001b[0m\u001b[0;34m,\u001b[0m\u001b[0;34m\u001b[0m\u001b[0;34m\u001b[0m\u001b[0m\n\u001b[1;32m    166\u001b[0m \u001b[0;34m\u001b[0m\u001b[0m\n\u001b[0;32m--> 167\u001b[0;31m         \u001b[0mresult\u001b[0m \u001b[0;34m=\u001b[0m \u001b[0mlist\u001b[0m\u001b[0;34m(\u001b[0m\u001b[0mitertools\u001b[0m\u001b[0;34m.\u001b[0m\u001b[0mchain\u001b[0m\u001b[0;34m.\u001b[0m\u001b[0mfrom_iterable\u001b[0m\u001b[0;34m(\u001b[0m\u001b[0mresult\u001b[0m\u001b[0;34m)\u001b[0m\u001b[0;34m)\u001b[0m\u001b[0;34m\u001b[0m\u001b[0;34m\u001b[0m\u001b[0m\n\u001b[0m\u001b[1;32m    168\u001b[0m \u001b[0;34m\u001b[0m\u001b[0m\n\u001b[1;32m    169\u001b[0m         \u001b[0;32mreturn\u001b[0m \u001b[0mresult\u001b[0m\u001b[0;34m\u001b[0m\u001b[0;34m\u001b[0m\u001b[0m\n",
      "\u001b[0;32m//anaconda3/lib/python3.7/site-packages/tqdm/_tqdm.py\u001b[0m in \u001b[0;36m__iter__\u001b[0;34m(self)\u001b[0m\n\u001b[1;32m   1003\u001b[0m                 \"\"\"), fp_write=getattr(self.fp, 'write', sys.stderr.write))\n\u001b[1;32m   1004\u001b[0m \u001b[0;34m\u001b[0m\u001b[0m\n\u001b[0;32m-> 1005\u001b[0;31m             \u001b[0;32mfor\u001b[0m \u001b[0mobj\u001b[0m \u001b[0;32min\u001b[0m \u001b[0miterable\u001b[0m\u001b[0;34m:\u001b[0m\u001b[0;34m\u001b[0m\u001b[0;34m\u001b[0m\u001b[0m\n\u001b[0m\u001b[1;32m   1006\u001b[0m                 \u001b[0;32myield\u001b[0m \u001b[0mobj\u001b[0m\u001b[0;34m\u001b[0m\u001b[0;34m\u001b[0m\u001b[0m\n\u001b[1;32m   1007\u001b[0m                 \u001b[0;31m# Update and possibly print the progressbar.\u001b[0m\u001b[0;34m\u001b[0m\u001b[0;34m\u001b[0m\u001b[0;34m\u001b[0m\u001b[0m\n",
      "\u001b[0;32m//anaconda3/lib/python3.7/multiprocessing/pool.py\u001b[0m in \u001b[0;36mnext\u001b[0;34m(self, timeout)\u001b[0m\n\u001b[1;32m    735\u001b[0m                 \u001b[0;32mif\u001b[0m \u001b[0mself\u001b[0m\u001b[0;34m.\u001b[0m\u001b[0m_index\u001b[0m \u001b[0;34m==\u001b[0m \u001b[0mself\u001b[0m\u001b[0;34m.\u001b[0m\u001b[0m_length\u001b[0m\u001b[0;34m:\u001b[0m\u001b[0;34m\u001b[0m\u001b[0;34m\u001b[0m\u001b[0m\n\u001b[1;32m    736\u001b[0m                     \u001b[0;32mraise\u001b[0m \u001b[0mStopIteration\u001b[0m \u001b[0;32mfrom\u001b[0m \u001b[0;32mNone\u001b[0m\u001b[0;34m\u001b[0m\u001b[0;34m\u001b[0m\u001b[0m\n\u001b[0;32m--> 737\u001b[0;31m                 \u001b[0mself\u001b[0m\u001b[0;34m.\u001b[0m\u001b[0m_cond\u001b[0m\u001b[0;34m.\u001b[0m\u001b[0mwait\u001b[0m\u001b[0;34m(\u001b[0m\u001b[0mtimeout\u001b[0m\u001b[0;34m)\u001b[0m\u001b[0;34m\u001b[0m\u001b[0;34m\u001b[0m\u001b[0m\n\u001b[0m\u001b[1;32m    738\u001b[0m                 \u001b[0;32mtry\u001b[0m\u001b[0;34m:\u001b[0m\u001b[0;34m\u001b[0m\u001b[0;34m\u001b[0m\u001b[0m\n\u001b[1;32m    739\u001b[0m                     \u001b[0mitem\u001b[0m \u001b[0;34m=\u001b[0m \u001b[0mself\u001b[0m\u001b[0;34m.\u001b[0m\u001b[0m_items\u001b[0m\u001b[0;34m.\u001b[0m\u001b[0mpopleft\u001b[0m\u001b[0;34m(\u001b[0m\u001b[0;34m)\u001b[0m\u001b[0;34m\u001b[0m\u001b[0;34m\u001b[0m\u001b[0m\n",
      "\u001b[0;32m//anaconda3/lib/python3.7/threading.py\u001b[0m in \u001b[0;36mwait\u001b[0;34m(self, timeout)\u001b[0m\n\u001b[1;32m    294\u001b[0m         \u001b[0;32mtry\u001b[0m\u001b[0;34m:\u001b[0m    \u001b[0;31m# restore state no matter what (e.g., KeyboardInterrupt)\u001b[0m\u001b[0;34m\u001b[0m\u001b[0;34m\u001b[0m\u001b[0m\n\u001b[1;32m    295\u001b[0m             \u001b[0;32mif\u001b[0m \u001b[0mtimeout\u001b[0m \u001b[0;32mis\u001b[0m \u001b[0;32mNone\u001b[0m\u001b[0;34m:\u001b[0m\u001b[0;34m\u001b[0m\u001b[0;34m\u001b[0m\u001b[0m\n\u001b[0;32m--> 296\u001b[0;31m                 \u001b[0mwaiter\u001b[0m\u001b[0;34m.\u001b[0m\u001b[0macquire\u001b[0m\u001b[0;34m(\u001b[0m\u001b[0;34m)\u001b[0m\u001b[0;34m\u001b[0m\u001b[0;34m\u001b[0m\u001b[0m\n\u001b[0m\u001b[1;32m    297\u001b[0m                 \u001b[0mgotit\u001b[0m \u001b[0;34m=\u001b[0m \u001b[0;32mTrue\u001b[0m\u001b[0;34m\u001b[0m\u001b[0;34m\u001b[0m\u001b[0m\n\u001b[1;32m    298\u001b[0m             \u001b[0;32melse\u001b[0m\u001b[0;34m:\u001b[0m\u001b[0;34m\u001b[0m\u001b[0;34m\u001b[0m\u001b[0m\n",
      "\u001b[0;31mKeyboardInterrupt\u001b[0m: "
     ]
    }
   ],
   "source": [
    "features = extract_features(timeseries_container=df1, column_id='id')"
   ]
  },
  {
   "cell_type": "code",
   "execution_count": null,
   "metadata": {},
   "outputs": [],
   "source": [
    "features.to_dict()"
   ]
  },
  {
   "cell_type": "markdown",
   "metadata": {},
   "source": [
    "# Compression Based Distances"
   ]
  },
  {
   "cell_type": "code",
   "execution_count": 56,
   "metadata": {},
   "outputs": [],
   "source": [
    "import zlib\n",
    "import string"
   ]
  },
  {
   "cell_type": "code",
   "execution_count": 57,
   "metadata": {},
   "outputs": [
    {
     "name": "stdout",
     "output_type": "stream",
     "text": [
      "Hello world!\n",
      "b'Hello world!'\n"
     ]
    },
    {
     "data": {
      "text/plain": [
       "b'x\\x9c\\xf3H\\xcd\\xc9\\xc9W(\\xcf/\\xcaIQ\\x04\\x00\\x1d\\t\\x04^'"
      ]
     },
     "execution_count": 57,
     "metadata": {},
     "output_type": "execute_result"
    }
   ],
   "source": [
    "s = \"Hello world!\"\n",
    "print(s)\n",
    "print(s.encode('utf-8'))\n",
    "zlib.compress(s.encode('utf-8'))"
   ]
  },
  {
   "cell_type": "code",
   "execution_count": 58,
   "metadata": {},
   "outputs": [],
   "source": [
    "def CDM(x, y):\n",
    "    return len(zlib.compress(x + y)) / (len(zlib.compress(x)) + len(zlib.compress(y)))"
   ]
  },
  {
   "cell_type": "code",
   "execution_count": 64,
   "metadata": {},
   "outputs": [
    {
     "data": {
      "text/plain": [
       "b'1.7687823263717173 1.7174359749223214 1.7174359749223214 1.7174359749223214 1.7559457385093684 1.7559457385093684 1.7687823263717173 1.7431091506470193 1.7944555020964155 1.7559457385093684'"
      ]
     },
     "execution_count": 64,
     "metadata": {},
     "output_type": "execute_result"
    }
   ],
   "source": [
    "ts1_str = (' '.join([str(v) for v in cs41[1000:1010]])).encode('utf-8')\n",
    "ts1_str"
   ]
  },
  {
   "cell_type": "code",
   "execution_count": 65,
   "metadata": {},
   "outputs": [
    {
     "data": {
      "text/plain": [
       "b'1.9259291778656187 1.9259291778656187 1.9259291778656187 1.9259291778656187 1.9259291778656187 1.9259291778656187 1.9259291778656187 1.9259291778656187 1.9259291778656187 1.9259291778656187'"
      ]
     },
     "execution_count": 65,
     "metadata": {},
     "output_type": "execute_result"
    }
   ],
   "source": [
    "ts2_str = (' '.join([str(v) for v in cs51[1000:1010]])).encode('utf-8')\n",
    "ts2_str"
   ]
  },
  {
   "cell_type": "code",
   "execution_count": 66,
   "metadata": {},
   "outputs": [
    {
     "name": "stdout",
     "output_type": "stream",
     "text": [
      "len(ts1_str + ts2_str):  378\n",
      "len(compress(ts1_str+ts2_str)):  90\n",
      "len(compress(ts1_str)):  78\n",
      "len(compress(ts2_str)):  30\n",
      "CDM =  0.8333333333333334\n"
     ]
    }
   ],
   "source": [
    "print(\"len(ts1_str + ts2_str): \", len(ts1_str + ts2_str))\n",
    "print(\"len(compress(ts1_str+ts2_str)): \", len(zlib.compress(ts1_str+ts2_str)))\n",
    "print(\"len(compress(ts1_str)): \", len(zlib.compress(ts1_str)))\n",
    "print(\"len(compress(ts2_str)): \", len(zlib.compress(ts2_str)))\n",
    "print(\"CDM = \", CDM(ts1_str, ts2_str))"
   ]
  },
  {
   "cell_type": "code",
   "execution_count": 67,
   "metadata": {},
   "outputs": [
    {
     "name": "stdout",
     "output_type": "stream",
     "text": [
      "len(ts1_str + ts2_str):  321741\n",
      "len(compress(ts1_str+ts2_str)):  13840\n",
      "len(compress(ts1_str)):  12981\n",
      "len(compress(ts2_str)):  558\n",
      "CDM =  1.022232070315385\n"
     ]
    }
   ],
   "source": [
    "ts1_str = (' '.join([str(v) for v in cs41])).encode('utf-8')\n",
    "ts2_str = (' '.join([str(v) for v in cs51])).encode('utf-8')\n",
    "\n",
    "print(\"len(ts1_str + ts2_str): \", len(ts1_str + ts2_str))\n",
    "print(\"len(compress(ts1_str+ts2_str)): \", len(zlib.compress(ts1_str+ts2_str)))\n",
    "print(\"len(compress(ts1_str)): \", len(zlib.compress(ts1_str)))\n",
    "print(\"len(compress(ts2_str)): \", len(zlib.compress(ts2_str)))\n",
    "print(\"CDM = \", CDM(ts1_str, ts2_str))"
   ]
  },
  {
   "cell_type": "markdown",
   "metadata": {},
   "source": [
    "# Time series Approximation"
   ]
  },
  {
   "cell_type": "code",
   "execution_count": 68,
   "metadata": {},
   "outputs": [],
   "source": [
    "from tslearn.piecewise import PiecewiseAggregateApproximation\n",
    "from tslearn.piecewise import SymbolicAggregateApproximation\n",
    "from tslearn.piecewise import OneD_SymbolicAggregateApproximation"
   ]
  },
  {
   "cell_type": "code",
   "execution_count": null,
   "metadata": {},
   "outputs": [],
   "source": [
    "scaler = TimeSeriesScalerMeanVariance(mu=0., std=1.)  # Rescale time series\n",
    "ts = scaler.fit_transform(ts)\n",
    "ts1 = scaler.fit_transform(ts1)\n",
    "ts2 = scaler.fit_transform(ts2)"
   ]
  },
  {
   "cell_type": "code",
   "execution_count": null,
   "metadata": {},
   "outputs": [],
   "source": []
  },
  {
   "cell_type": "code",
   "execution_count": null,
   "metadata": {},
   "outputs": [],
   "source": []
  },
  {
   "cell_type": "markdown",
   "metadata": {},
   "source": [
    "# shapelet discovery"
   ]
  },
  {
   "cell_type": "code",
   "execution_count": 7,
   "metadata": {},
   "outputs": [
    {
     "data": {
      "text/plain": [
       "(8143, 7)"
      ]
     },
     "execution_count": 7,
     "metadata": {},
     "output_type": "execute_result"
    }
   ],
   "source": [
    "df1.shape"
   ]
  },
  {
   "cell_type": "markdown",
   "metadata": {},
   "source": [
    "# shapelet discovery"
   ]
  },
  {
   "cell_type": "code",
   "execution_count": 39,
   "metadata": {},
   "outputs": [
    {
     "name": "stderr",
     "output_type": "stream",
     "text": [
      "Using TensorFlow backend.\n",
      "//anaconda3/lib/python3.7/site-packages/sklearn/utils/deprecation.py:144: FutureWarning: The sklearn.cluster.k_means_ module is  deprecated in version 0.22 and will be removed in version 0.24. The corresponding classes / functions should instead be imported from sklearn.cluster. Anything that cannot be imported from sklearn.cluster is now part of the private API.\n",
      "  warnings.warn(message, FutureWarning)\n"
     ]
    }
   ],
   "source": [
    "from keras.optimizers import Adagrad\n",
    "from tslearn.shapelets import ShapeletModel\n",
    "from tslearn.shapelets import grabocka_params_to_shapelet_size_dict\n",
    "import tensorflow as tf\n",
    "\n",
    "from tslearn.preprocessing import TimeSeriesScalerMinMax"
   ]
  },
  {
   "cell_type": "code",
   "execution_count": 280,
   "metadata": {},
   "outputs": [],
   "source": [
    "df1=df1.drop(columns=['\"date\"'])\n"
   ]
  },
  {
   "cell_type": "code",
   "execution_count": 44,
   "metadata": {},
   "outputs": [
    {
     "ename": "KeyError",
     "evalue": "'[\\'\"Temperature\"\\'] not found in axis'",
     "output_type": "error",
     "traceback": [
      "\u001b[0;31m---------------------------------------------------------------------------\u001b[0m",
      "\u001b[0;31mKeyError\u001b[0m                                  Traceback (most recent call last)",
      "\u001b[0;32m<ipython-input-44-25ddb5e5e220>\u001b[0m in \u001b[0;36m<module>\u001b[0;34m\u001b[0m\n\u001b[1;32m      1\u001b[0m \u001b[0mdf1\u001b[0m\u001b[0;34m=\u001b[0m\u001b[0mdf1\u001b[0m\u001b[0;34m.\u001b[0m\u001b[0mdrop\u001b[0m\u001b[0;34m(\u001b[0m\u001b[0mcolumns\u001b[0m\u001b[0;34m=\u001b[0m\u001b[0;34m[\u001b[0m\u001b[0;34m'\"HumidityRatio\"'\u001b[0m\u001b[0;34m]\u001b[0m\u001b[0;34m)\u001b[0m\u001b[0;34m\u001b[0m\u001b[0;34m\u001b[0m\u001b[0m\n\u001b[1;32m      2\u001b[0m \u001b[0mdf1\u001b[0m\u001b[0;34m=\u001b[0m\u001b[0mdf1\u001b[0m\u001b[0;34m.\u001b[0m\u001b[0mdrop\u001b[0m\u001b[0;34m(\u001b[0m\u001b[0mcolumns\u001b[0m\u001b[0;34m=\u001b[0m\u001b[0;34m[\u001b[0m\u001b[0;34m'\"Humidity\"'\u001b[0m\u001b[0;34m]\u001b[0m\u001b[0;34m)\u001b[0m\u001b[0;34m\u001b[0m\u001b[0;34m\u001b[0m\u001b[0m\n\u001b[0;32m----> 3\u001b[0;31m \u001b[0mdf1\u001b[0m\u001b[0;34m=\u001b[0m\u001b[0mdf1\u001b[0m\u001b[0;34m.\u001b[0m\u001b[0mdrop\u001b[0m\u001b[0;34m(\u001b[0m\u001b[0mcolumns\u001b[0m\u001b[0;34m=\u001b[0m\u001b[0;34m[\u001b[0m\u001b[0;34m'\"Temperature\"'\u001b[0m\u001b[0;34m]\u001b[0m\u001b[0;34m)\u001b[0m\u001b[0;34m\u001b[0m\u001b[0;34m\u001b[0m\u001b[0m\n\u001b[0m\u001b[1;32m      4\u001b[0m \u001b[0mdf1\u001b[0m\u001b[0;34m\u001b[0m\u001b[0;34m\u001b[0m\u001b[0m\n",
      "\u001b[0;32m//anaconda3/lib/python3.7/site-packages/pandas/core/frame.py\u001b[0m in \u001b[0;36mdrop\u001b[0;34m(self, labels, axis, index, columns, level, inplace, errors)\u001b[0m\n\u001b[1;32m   3995\u001b[0m             \u001b[0mlevel\u001b[0m\u001b[0;34m=\u001b[0m\u001b[0mlevel\u001b[0m\u001b[0;34m,\u001b[0m\u001b[0;34m\u001b[0m\u001b[0;34m\u001b[0m\u001b[0m\n\u001b[1;32m   3996\u001b[0m             \u001b[0minplace\u001b[0m\u001b[0;34m=\u001b[0m\u001b[0minplace\u001b[0m\u001b[0;34m,\u001b[0m\u001b[0;34m\u001b[0m\u001b[0;34m\u001b[0m\u001b[0m\n\u001b[0;32m-> 3997\u001b[0;31m             \u001b[0merrors\u001b[0m\u001b[0;34m=\u001b[0m\u001b[0merrors\u001b[0m\u001b[0;34m,\u001b[0m\u001b[0;34m\u001b[0m\u001b[0;34m\u001b[0m\u001b[0m\n\u001b[0m\u001b[1;32m   3998\u001b[0m         )\n\u001b[1;32m   3999\u001b[0m \u001b[0;34m\u001b[0m\u001b[0m\n",
      "\u001b[0;32m//anaconda3/lib/python3.7/site-packages/pandas/core/generic.py\u001b[0m in \u001b[0;36mdrop\u001b[0;34m(self, labels, axis, index, columns, level, inplace, errors)\u001b[0m\n\u001b[1;32m   3934\u001b[0m         \u001b[0;32mfor\u001b[0m \u001b[0maxis\u001b[0m\u001b[0;34m,\u001b[0m \u001b[0mlabels\u001b[0m \u001b[0;32min\u001b[0m \u001b[0maxes\u001b[0m\u001b[0;34m.\u001b[0m\u001b[0mitems\u001b[0m\u001b[0;34m(\u001b[0m\u001b[0;34m)\u001b[0m\u001b[0;34m:\u001b[0m\u001b[0;34m\u001b[0m\u001b[0;34m\u001b[0m\u001b[0m\n\u001b[1;32m   3935\u001b[0m             \u001b[0;32mif\u001b[0m \u001b[0mlabels\u001b[0m \u001b[0;32mis\u001b[0m \u001b[0;32mnot\u001b[0m \u001b[0;32mNone\u001b[0m\u001b[0;34m:\u001b[0m\u001b[0;34m\u001b[0m\u001b[0;34m\u001b[0m\u001b[0m\n\u001b[0;32m-> 3936\u001b[0;31m                 \u001b[0mobj\u001b[0m \u001b[0;34m=\u001b[0m \u001b[0mobj\u001b[0m\u001b[0;34m.\u001b[0m\u001b[0m_drop_axis\u001b[0m\u001b[0;34m(\u001b[0m\u001b[0mlabels\u001b[0m\u001b[0;34m,\u001b[0m \u001b[0maxis\u001b[0m\u001b[0;34m,\u001b[0m \u001b[0mlevel\u001b[0m\u001b[0;34m=\u001b[0m\u001b[0mlevel\u001b[0m\u001b[0;34m,\u001b[0m \u001b[0merrors\u001b[0m\u001b[0;34m=\u001b[0m\u001b[0merrors\u001b[0m\u001b[0;34m)\u001b[0m\u001b[0;34m\u001b[0m\u001b[0;34m\u001b[0m\u001b[0m\n\u001b[0m\u001b[1;32m   3937\u001b[0m \u001b[0;34m\u001b[0m\u001b[0m\n\u001b[1;32m   3938\u001b[0m         \u001b[0;32mif\u001b[0m \u001b[0minplace\u001b[0m\u001b[0;34m:\u001b[0m\u001b[0;34m\u001b[0m\u001b[0;34m\u001b[0m\u001b[0m\n",
      "\u001b[0;32m//anaconda3/lib/python3.7/site-packages/pandas/core/generic.py\u001b[0m in \u001b[0;36m_drop_axis\u001b[0;34m(self, labels, axis, level, errors)\u001b[0m\n\u001b[1;32m   3968\u001b[0m                 \u001b[0mnew_axis\u001b[0m \u001b[0;34m=\u001b[0m \u001b[0maxis\u001b[0m\u001b[0;34m.\u001b[0m\u001b[0mdrop\u001b[0m\u001b[0;34m(\u001b[0m\u001b[0mlabels\u001b[0m\u001b[0;34m,\u001b[0m \u001b[0mlevel\u001b[0m\u001b[0;34m=\u001b[0m\u001b[0mlevel\u001b[0m\u001b[0;34m,\u001b[0m \u001b[0merrors\u001b[0m\u001b[0;34m=\u001b[0m\u001b[0merrors\u001b[0m\u001b[0;34m)\u001b[0m\u001b[0;34m\u001b[0m\u001b[0;34m\u001b[0m\u001b[0m\n\u001b[1;32m   3969\u001b[0m             \u001b[0;32melse\u001b[0m\u001b[0;34m:\u001b[0m\u001b[0;34m\u001b[0m\u001b[0;34m\u001b[0m\u001b[0m\n\u001b[0;32m-> 3970\u001b[0;31m                 \u001b[0mnew_axis\u001b[0m \u001b[0;34m=\u001b[0m \u001b[0maxis\u001b[0m\u001b[0;34m.\u001b[0m\u001b[0mdrop\u001b[0m\u001b[0;34m(\u001b[0m\u001b[0mlabels\u001b[0m\u001b[0;34m,\u001b[0m \u001b[0merrors\u001b[0m\u001b[0;34m=\u001b[0m\u001b[0merrors\u001b[0m\u001b[0;34m)\u001b[0m\u001b[0;34m\u001b[0m\u001b[0;34m\u001b[0m\u001b[0m\n\u001b[0m\u001b[1;32m   3971\u001b[0m             \u001b[0mresult\u001b[0m \u001b[0;34m=\u001b[0m \u001b[0mself\u001b[0m\u001b[0;34m.\u001b[0m\u001b[0mreindex\u001b[0m\u001b[0;34m(\u001b[0m\u001b[0;34m**\u001b[0m\u001b[0;34m{\u001b[0m\u001b[0maxis_name\u001b[0m\u001b[0;34m:\u001b[0m \u001b[0mnew_axis\u001b[0m\u001b[0;34m}\u001b[0m\u001b[0;34m)\u001b[0m\u001b[0;34m\u001b[0m\u001b[0;34m\u001b[0m\u001b[0m\n\u001b[1;32m   3972\u001b[0m \u001b[0;34m\u001b[0m\u001b[0m\n",
      "\u001b[0;32m//anaconda3/lib/python3.7/site-packages/pandas/core/indexes/base.py\u001b[0m in \u001b[0;36mdrop\u001b[0;34m(self, labels, errors)\u001b[0m\n\u001b[1;32m   5015\u001b[0m         \u001b[0;32mif\u001b[0m \u001b[0mmask\u001b[0m\u001b[0;34m.\u001b[0m\u001b[0many\u001b[0m\u001b[0;34m(\u001b[0m\u001b[0;34m)\u001b[0m\u001b[0;34m:\u001b[0m\u001b[0;34m\u001b[0m\u001b[0;34m\u001b[0m\u001b[0m\n\u001b[1;32m   5016\u001b[0m             \u001b[0;32mif\u001b[0m \u001b[0merrors\u001b[0m \u001b[0;34m!=\u001b[0m \u001b[0;34m\"ignore\"\u001b[0m\u001b[0;34m:\u001b[0m\u001b[0;34m\u001b[0m\u001b[0;34m\u001b[0m\u001b[0m\n\u001b[0;32m-> 5017\u001b[0;31m                 \u001b[0;32mraise\u001b[0m \u001b[0mKeyError\u001b[0m\u001b[0;34m(\u001b[0m\u001b[0;34mf\"{labels[mask]} not found in axis\"\u001b[0m\u001b[0;34m)\u001b[0m\u001b[0;34m\u001b[0m\u001b[0;34m\u001b[0m\u001b[0m\n\u001b[0m\u001b[1;32m   5018\u001b[0m             \u001b[0mindexer\u001b[0m \u001b[0;34m=\u001b[0m \u001b[0mindexer\u001b[0m\u001b[0;34m[\u001b[0m\u001b[0;34m~\u001b[0m\u001b[0mmask\u001b[0m\u001b[0;34m]\u001b[0m\u001b[0;34m\u001b[0m\u001b[0;34m\u001b[0m\u001b[0m\n\u001b[1;32m   5019\u001b[0m         \u001b[0;32mreturn\u001b[0m \u001b[0mself\u001b[0m\u001b[0;34m.\u001b[0m\u001b[0mdelete\u001b[0m\u001b[0;34m(\u001b[0m\u001b[0mindexer\u001b[0m\u001b[0;34m)\u001b[0m\u001b[0;34m\u001b[0m\u001b[0;34m\u001b[0m\u001b[0m\n",
      "\u001b[0;31mKeyError\u001b[0m: '[\\'\"Temperature\"\\'] not found in axis'"
     ]
    }
   ],
   "source": [
    "df1=df1.drop(columns=['\"HumidityRatio\"'])\n",
    "df1=df1.drop(columns=['\"Humidity\"'])\n",
    "df1=df1.drop(columns=['\"Temperature\"'])\n"
   ]
  },
  {
   "cell_type": "code",
   "execution_count": 47,
   "metadata": {},
   "outputs": [],
   "source": [
    "df1=df1.drop(columns=['\"Number\"'])"
   ]
  },
  {
   "cell_type": "code",
   "execution_count": 48,
   "metadata": {},
   "outputs": [
    {
     "data": {
      "text/html": [
       "<div>\n",
       "<style scoped>\n",
       "    .dataframe tbody tr th:only-of-type {\n",
       "        vertical-align: middle;\n",
       "    }\n",
       "\n",
       "    .dataframe tbody tr th {\n",
       "        vertical-align: top;\n",
       "    }\n",
       "\n",
       "    .dataframe thead th {\n",
       "        text-align: right;\n",
       "    }\n",
       "</style>\n",
       "<table border=\"1\" class=\"dataframe\">\n",
       "  <thead>\n",
       "    <tr style=\"text-align: right;\">\n",
       "      <th></th>\n",
       "      <th>\"Light\"</th>\n",
       "      <th>\"CO2\"</th>\n",
       "      <th>\"Occupancy\"</th>\n",
       "    </tr>\n",
       "    <tr>\n",
       "      <th>\"date\"</th>\n",
       "      <th></th>\n",
       "      <th></th>\n",
       "      <th></th>\n",
       "    </tr>\n",
       "  </thead>\n",
       "  <tbody>\n",
       "    <tr>\n",
       "      <th>\"2015-02-04 17:51:00\"</th>\n",
       "      <td>426.0</td>\n",
       "      <td>721.250000</td>\n",
       "      <td>1</td>\n",
       "    </tr>\n",
       "    <tr>\n",
       "      <th>\"2015-02-04 17:51:59\"</th>\n",
       "      <td>429.5</td>\n",
       "      <td>714.000000</td>\n",
       "      <td>1</td>\n",
       "    </tr>\n",
       "    <tr>\n",
       "      <th>\"2015-02-04 17:53:00\"</th>\n",
       "      <td>426.0</td>\n",
       "      <td>713.500000</td>\n",
       "      <td>1</td>\n",
       "    </tr>\n",
       "    <tr>\n",
       "      <th>\"2015-02-04 17:54:00\"</th>\n",
       "      <td>426.0</td>\n",
       "      <td>708.250000</td>\n",
       "      <td>1</td>\n",
       "    </tr>\n",
       "    <tr>\n",
       "      <th>\"2015-02-04 17:55:00\"</th>\n",
       "      <td>426.0</td>\n",
       "      <td>704.500000</td>\n",
       "      <td>1</td>\n",
       "    </tr>\n",
       "    <tr>\n",
       "      <th>...</th>\n",
       "      <td>...</td>\n",
       "      <td>...</td>\n",
       "      <td>...</td>\n",
       "    </tr>\n",
       "    <tr>\n",
       "      <th>\"2015-02-10 09:29:00\"</th>\n",
       "      <td>433.0</td>\n",
       "      <td>787.250000</td>\n",
       "      <td>1</td>\n",
       "    </tr>\n",
       "    <tr>\n",
       "      <th>\"2015-02-10 09:29:59\"</th>\n",
       "      <td>433.0</td>\n",
       "      <td>789.500000</td>\n",
       "      <td>1</td>\n",
       "    </tr>\n",
       "    <tr>\n",
       "      <th>\"2015-02-10 09:30:59\"</th>\n",
       "      <td>433.0</td>\n",
       "      <td>798.500000</td>\n",
       "      <td>1</td>\n",
       "    </tr>\n",
       "    <tr>\n",
       "      <th>\"2015-02-10 09:32:00\"</th>\n",
       "      <td>433.0</td>\n",
       "      <td>820.333333</td>\n",
       "      <td>1</td>\n",
       "    </tr>\n",
       "    <tr>\n",
       "      <th>\"2015-02-10 09:33:00\"</th>\n",
       "      <td>447.0</td>\n",
       "      <td>821.000000</td>\n",
       "      <td>1</td>\n",
       "    </tr>\n",
       "  </tbody>\n",
       "</table>\n",
       "<p>8143 rows × 3 columns</p>\n",
       "</div>"
      ],
      "text/plain": [
       "                       \"Light\"       \"CO2\"  \"Occupancy\"\n",
       "\"date\"                                                 \n",
       "\"2015-02-04 17:51:00\"    426.0  721.250000            1\n",
       "\"2015-02-04 17:51:59\"    429.5  714.000000            1\n",
       "\"2015-02-04 17:53:00\"    426.0  713.500000            1\n",
       "\"2015-02-04 17:54:00\"    426.0  708.250000            1\n",
       "\"2015-02-04 17:55:00\"    426.0  704.500000            1\n",
       "...                        ...         ...          ...\n",
       "\"2015-02-10 09:29:00\"    433.0  787.250000            1\n",
       "\"2015-02-10 09:29:59\"    433.0  789.500000            1\n",
       "\"2015-02-10 09:30:59\"    433.0  798.500000            1\n",
       "\"2015-02-10 09:32:00\"    433.0  820.333333            1\n",
       "\"2015-02-10 09:33:00\"    447.0  821.000000            1\n",
       "\n",
       "[8143 rows x 3 columns]"
      ]
     },
     "execution_count": 48,
     "metadata": {},
     "output_type": "execute_result"
    }
   ],
   "source": [
    "df1"
   ]
  },
  {
   "cell_type": "code",
   "execution_count": 17,
   "metadata": {},
   "outputs": [],
   "source": [
    "df1 = df1.iloc[0:368]\n",
    "df1 = df1.iloc[1809:8143]"
   ]
  },
  {
   "cell_type": "code",
   "execution_count": 19,
   "metadata": {},
   "outputs": [
    {
     "data": {
      "text/plain": [
       "0"
      ]
     },
     "execution_count": 19,
     "metadata": {},
     "output_type": "execute_result"
    }
   ],
   "source": [
    "len(df1)"
   ]
  },
  {
   "cell_type": "code",
   "execution_count": 307,
   "metadata": {},
   "outputs": [],
   "source": [
    "a=np.asarray(df1['\"Light\"'])\n",
    "b=np.asarray(df1['\"CO2\"'])\n",
    "c=np.asarray(df1['\"Occupancy\"'])"
   ]
  },
  {
   "cell_type": "code",
   "execution_count": 40,
   "metadata": {},
   "outputs": [],
   "source": [
    "df1=df.set_index('\"date\"', inplace=True)\n",
    "    "
   ]
  },
  {
   "cell_type": "code",
   "execution_count": 282,
   "metadata": {},
   "outputs": [],
   "source": [
    "arrX = X.to_numpy()\n",
    "arry= y.to_numpy()"
   ]
  },
  {
   "cell_type": "code",
   "execution_count": 281,
   "metadata": {},
   "outputs": [],
   "source": [
    "class_name='\"Occupancy\"'\n",
    "attributes = [col for col in df1.columns if col != class_name]\n",
    "X = df1[attributes]\n",
    "y = df1[class_name]\n",
    "\n",
    "#X,y = train_test_split(X, y, test_size=0.3, random_state=100, stratify=y)\n",
    "\n"
   ]
  },
  {
   "cell_type": "code",
   "execution_count": 52,
   "metadata": {},
   "outputs": [
    {
     "data": {
      "text/plain": [
       "['\"Light\"', '\"CO2\"']"
      ]
     },
     "execution_count": 52,
     "metadata": {},
     "output_type": "execute_result"
    }
   ],
   "source": [
    "attributes"
   ]
  },
  {
   "cell_type": "code",
   "execution_count": 53,
   "metadata": {},
   "outputs": [
    {
     "data": {
      "text/plain": [
       "(8143, 2)"
      ]
     },
     "execution_count": 53,
     "metadata": {},
     "output_type": "execute_result"
    }
   ],
   "source": [
    "arrX.shape"
   ]
  },
  {
   "cell_type": "code",
   "execution_count": 156,
   "metadata": {},
   "outputs": [
    {
     "data": {
      "text/plain": [
       "array([[1],\n",
       "       [1],\n",
       "       [1],\n",
       "       ...,\n",
       "       [1],\n",
       "       [1],\n",
       "       [1]])"
      ]
     },
     "execution_count": 156,
     "metadata": {},
     "output_type": "execute_result"
    }
   ],
   "source": [
    "arrX.reshape(-1,1)\n",
    "arry.reshape(-1,1)"
   ]
  },
  {
   "cell_type": "code",
   "execution_count": 143,
   "metadata": {},
   "outputs": [
    {
     "name": "stdout",
     "output_type": "stream",
     "text": [
      "[[426.         721.25      ]\n",
      " [429.5        714.        ]\n",
      " [426.         713.5       ]\n",
      " ...\n",
      " [433.         798.5       ]\n",
      " [433.         820.33333333]\n",
      " [447.         821.        ]]\n",
      "[1 1 1 ... 1 1 1]\n"
     ]
    }
   ],
   "source": [
    "print(arrX)\n",
    "print(arry)"
   ]
  },
  {
   "cell_type": "code",
   "execution_count": 204,
   "metadata": {},
   "outputs": [
    {
     "name": "stdout",
     "output_type": "stream",
     "text": [
      "n_ts 8143\n",
      "ts_sz 2\n",
      "n_classes 2\n",
      "shapelet_sizes {1: 4}\n"
     ]
    }
   ],
   "source": [
    "\n",
    "n_ts,ts_sz= arrX.shape\n",
    "n_classes = len(set(arry))\n",
    "\n",
    "# Set the number of shapelets per size as done in the original paper\n",
    "shapelet_sizes = grabocka_params_to_shapelet_size_dict(n_ts=n_ts,\n",
    "                                                       ts_sz=ts_sz,\n",
    "                                                       n_classes=n_classes,\n",
    "                                                       l=0.1,\n",
    "                                                       r=1)\n",
    "\n",
    "print('n_ts', n_ts)\n",
    "print('ts_sz', ts_sz)\n",
    "print('n_classes', n_classes)\n",
    "print('shapelet_sizes', shapelet_sizes)"
   ]
  },
  {
   "cell_type": "code",
   "execution_count": 348,
   "metadata": {},
   "outputs": [],
   "source": [
    "\n",
    "shp_clf = ShapeletModel(n_shapelets_per_size=shapelet_sizes,\n",
    "                        optimizer=\"adamax\",\n",
    "                        weight_regularizer=0.01,\n",
    "                        max_iter=1000,\n",
    "                        verbose=1)"
   ]
  },
  {
   "cell_type": "code",
   "execution_count": 349,
   "metadata": {},
   "outputs": [
    {
     "name": "stdout",
     "output_type": "stream",
     "text": [
      "Epoch 1/1000\n",
      "8143/8143 [==============================] - 1s 108us/step - loss: 489508.6923 - binary_accuracy: 0.2123 - binary_crossentropy: 489508.6562\n",
      "Epoch 2/1000\n",
      "8143/8143 [==============================] - 0s 12us/step - loss: 412074.2283 - binary_accuracy: 0.2123 - binary_crossentropy: 412074.2812\n",
      "Epoch 3/1000\n",
      "8143/8143 [==============================] - 0s 12us/step - loss: 333362.3914 - binary_accuracy: 0.2123 - binary_crossentropy: 333362.4062\n",
      "Epoch 4/1000\n",
      "8143/8143 [==============================] - 0s 12us/step - loss: 253088.4441 - binary_accuracy: 0.2140 - binary_crossentropy: 253088.4219\n",
      "Epoch 5/1000\n",
      "8143/8143 [==============================] - 0s 13us/step - loss: 174403.9645 - binary_accuracy: 0.2265 - binary_crossentropy: 174403.9688\n",
      "Epoch 6/1000\n",
      "8143/8143 [==============================] - 0s 12us/step - loss: 96966.9938 - binary_accuracy: 0.2117 - binary_crossentropy: 96966.9922\n",
      "Epoch 7/1000\n",
      "8143/8143 [==============================] - 0s 12us/step - loss: 27501.9831 - binary_accuracy: 0.2650 - binary_crossentropy: 27501.9824\n",
      "Epoch 8/1000\n",
      "8143/8143 [==============================] - 0s 12us/step - loss: 7593.5455 - binary_accuracy: 0.8313 - binary_crossentropy: 7593.5415\n",
      "Epoch 9/1000\n",
      "8143/8143 [==============================] - 0s 12us/step - loss: 7175.7958 - binary_accuracy: 0.8314 - binary_crossentropy: 7175.7910\n",
      "Epoch 10/1000\n",
      "8143/8143 [==============================] - 0s 15us/step - loss: 6545.1635 - binary_accuracy: 0.7786 - binary_crossentropy: 6545.1592\n",
      "Epoch 11/1000\n",
      "8143/8143 [==============================] - 0s 14us/step - loss: 6391.8608 - binary_accuracy: 0.7701 - binary_crossentropy: 6391.8560\n",
      "Epoch 12/1000\n",
      "8143/8143 [==============================] - 0s 16us/step - loss: 6307.7924 - binary_accuracy: 0.7688 - binary_crossentropy: 6307.7871\n",
      "Epoch 13/1000\n",
      "8143/8143 [==============================] - 0s 20us/step - loss: 6221.7154 - binary_accuracy: 0.7706 - binary_crossentropy: 6221.7114\n",
      "Epoch 14/1000\n",
      "8143/8143 [==============================] - 0s 23us/step - loss: 6132.7004 - binary_accuracy: 0.7694 - binary_crossentropy: 6132.6958\n",
      "Epoch 15/1000\n",
      "8143/8143 [==============================] - 0s 17us/step - loss: 6042.3657 - binary_accuracy: 0.7654 - binary_crossentropy: 6042.3608\n",
      "Epoch 16/1000\n",
      "8143/8143 [==============================] - 0s 18us/step - loss: 5948.4876 - binary_accuracy: 0.7688 - binary_crossentropy: 5948.4819: 0s - loss: 6022.8181 - binary_accuracy: 0.7705 - binary_crossentropy: 6022.812\n",
      "Epoch 17/1000\n",
      "8143/8143 [==============================] - 0s 21us/step - loss: 5852.7217 - binary_accuracy: 0.7694 - binary_crossentropy: 5852.7168\n",
      "Epoch 18/1000\n",
      "8143/8143 [==============================] - 0s 15us/step - loss: 5752.7741 - binary_accuracy: 0.7728 - binary_crossentropy: 5752.7686\n",
      "Epoch 19/1000\n",
      "8143/8143 [==============================] - 0s 16us/step - loss: 5651.5333 - binary_accuracy: 0.7664 - binary_crossentropy: 5651.5278\n",
      "Epoch 20/1000\n",
      "8143/8143 [==============================] - 0s 14us/step - loss: 5548.7955 - binary_accuracy: 0.7726 - binary_crossentropy: 5548.7905\n",
      "Epoch 21/1000\n",
      "8143/8143 [==============================] - 0s 16us/step - loss: 5442.5821 - binary_accuracy: 0.7692 - binary_crossentropy: 5442.5767\n",
      "Epoch 22/1000\n",
      "8143/8143 [==============================] - 0s 15us/step - loss: 5333.0845 - binary_accuracy: 0.7679 - binary_crossentropy: 5333.0776\n",
      "Epoch 23/1000\n",
      "8143/8143 [==============================] - 0s 13us/step - loss: 5220.8822 - binary_accuracy: 0.7721 - binary_crossentropy: 5220.8760\n",
      "Epoch 24/1000\n",
      "8143/8143 [==============================] - 0s 15us/step - loss: 5105.7110 - binary_accuracy: 0.7691 - binary_crossentropy: 5105.7036\n",
      "Epoch 25/1000\n",
      "8143/8143 [==============================] - 0s 17us/step - loss: 4988.6979 - binary_accuracy: 0.7697 - binary_crossentropy: 4988.6899\n",
      "Epoch 26/1000\n",
      "8143/8143 [==============================] - 0s 16us/step - loss: 4865.9809 - binary_accuracy: 0.7675 - binary_crossentropy: 4865.9736\n",
      "Epoch 27/1000\n",
      "8143/8143 [==============================] - 0s 17us/step - loss: 4740.3245 - binary_accuracy: 0.7744 - binary_crossentropy: 4740.3169\n",
      "Epoch 28/1000\n",
      "8143/8143 [==============================] - 0s 18us/step - loss: 4613.7357 - binary_accuracy: 0.7659 - binary_crossentropy: 4613.7271\n",
      "Epoch 29/1000\n",
      "8143/8143 [==============================] - 0s 14us/step - loss: 4481.2209 - binary_accuracy: 0.7715 - binary_crossentropy: 4481.2129\n",
      "Epoch 30/1000\n",
      "8143/8143 [==============================] - 0s 12us/step - loss: 4349.3095 - binary_accuracy: 0.7731 - binary_crossentropy: 4349.3003\n",
      "Epoch 31/1000\n",
      "8143/8143 [==============================] - 0s 14us/step - loss: 4211.5116 - binary_accuracy: 0.7672 - binary_crossentropy: 4211.5015\n",
      "Epoch 32/1000\n",
      "8143/8143 [==============================] - 0s 14us/step - loss: 4069.4613 - binary_accuracy: 0.7697 - binary_crossentropy: 4069.4512\n",
      "Epoch 33/1000\n",
      "8143/8143 [==============================] - 0s 14us/step - loss: 3927.9892 - binary_accuracy: 0.7740 - binary_crossentropy: 3927.9778\n",
      "Epoch 34/1000\n",
      "8143/8143 [==============================] - 0s 21us/step - loss: 3779.0487 - binary_accuracy: 0.7681 - binary_crossentropy: 3779.0366\n",
      "Epoch 35/1000\n",
      "8143/8143 [==============================] - 0s 19us/step - loss: 3629.5631 - binary_accuracy: 0.7723 - binary_crossentropy: 3629.5508\n",
      "Epoch 36/1000\n",
      "8143/8143 [==============================] - 0s 29us/step - loss: 3480.0703 - binary_accuracy: 0.7731 - binary_crossentropy: 3480.0571\n",
      "Epoch 37/1000\n",
      "8143/8143 [==============================] - 0s 18us/step - loss: 3321.7098 - binary_accuracy: 0.7734 - binary_crossentropy: 3321.6960\n",
      "Epoch 38/1000\n",
      "8143/8143 [==============================] - 0s 19us/step - loss: 3165.0956 - binary_accuracy: 0.7670 - binary_crossentropy: 3165.0811\n",
      "Epoch 39/1000\n",
      "8143/8143 [==============================] - 0s 19us/step - loss: 2999.1444 - binary_accuracy: 0.7727 - binary_crossentropy: 2999.1289\n",
      "Epoch 40/1000\n",
      "8143/8143 [==============================] - 0s 17us/step - loss: 2832.4353 - binary_accuracy: 0.7713 - binary_crossentropy: 2832.4192\n",
      "Epoch 41/1000\n",
      "8143/8143 [==============================] - 0s 15us/step - loss: 2661.5957 - binary_accuracy: 0.7734 - binary_crossentropy: 2661.5784\n",
      "Epoch 42/1000\n",
      "8143/8143 [==============================] - 0s 19us/step - loss: 2492.5568 - binary_accuracy: 0.7702 - binary_crossentropy: 2492.5383\n",
      "Epoch 43/1000\n",
      "8143/8143 [==============================] - 0s 18us/step - loss: 2317.5103 - binary_accuracy: 0.7724 - binary_crossentropy: 2317.4912\n",
      "Epoch 44/1000\n",
      "8143/8143 [==============================] - 0s 15us/step - loss: 2145.1414 - binary_accuracy: 0.7737 - binary_crossentropy: 2145.1208\n",
      "Epoch 45/1000\n",
      "8143/8143 [==============================] - 0s 15us/step - loss: 1973.7311 - binary_accuracy: 0.7696 - binary_crossentropy: 1973.7100\n",
      "Epoch 46/1000\n",
      "8143/8143 [==============================] - 0s 14us/step - loss: 1802.5704 - binary_accuracy: 0.7762 - binary_crossentropy: 1802.5481\n",
      "Epoch 47/1000\n",
      "8143/8143 [==============================] - 0s 14us/step - loss: 1629.8964 - binary_accuracy: 0.7712 - binary_crossentropy: 1629.8732\n",
      "Epoch 48/1000\n",
      "8143/8143 [==============================] - 0s 14us/step - loss: 1451.8957 - binary_accuracy: 0.7715 - binary_crossentropy: 1451.8712\n",
      "Epoch 49/1000\n",
      "8143/8143 [==============================] - 0s 12us/step - loss: 1267.5902 - binary_accuracy: 0.7761 - binary_crossentropy: 1267.5645\n",
      "Epoch 50/1000\n",
      "8143/8143 [==============================] - 0s 19us/step - loss: 1075.2787 - binary_accuracy: 0.7704 - binary_crossentropy: 1075.2516\n",
      "Epoch 51/1000\n",
      "8143/8143 [==============================] - 0s 20us/step - loss: 893.8428 - binary_accuracy: 0.7770 - binary_crossentropy: 893.8144\n",
      "Epoch 52/1000\n",
      "8143/8143 [==============================] - 0s 15us/step - loss: 766.4617 - binary_accuracy: 0.7624 - binary_crossentropy: 766.4323\n",
      "Epoch 53/1000\n",
      "8143/8143 [==============================] - 0s 15us/step - loss: 679.8578 - binary_accuracy: 0.7812 - binary_crossentropy: 679.8273\n",
      "Epoch 54/1000\n",
      "8143/8143 [==============================] - 0s 21us/step - loss: 603.2525 - binary_accuracy: 0.7653 - binary_crossentropy: 603.2211\n",
      "Epoch 55/1000\n",
      "8143/8143 [==============================] - 0s 33us/step - loss: 527.7506 - binary_accuracy: 0.7726 - binary_crossentropy: 527.7181\n",
      "Epoch 56/1000\n",
      "8143/8143 [==============================] - 0s 19us/step - loss: 467.4922 - binary_accuracy: 0.7713 - binary_crossentropy: 467.4587\n",
      "Epoch 57/1000\n",
      "8143/8143 [==============================] - 0s 16us/step - loss: 389.2714 - binary_accuracy: 0.7652 - binary_crossentropy: 389.2367\n",
      "Epoch 58/1000\n",
      "8143/8143 [==============================] - 0s 16us/step - loss: 313.0969 - binary_accuracy: 0.7715 - binary_crossentropy: 313.0611\n",
      "Epoch 59/1000\n",
      "8143/8143 [==============================] - 0s 18us/step - loss: 238.2496 - binary_accuracy: 0.7704 - binary_crossentropy: 238.2127\n",
      "Epoch 60/1000\n",
      "8143/8143 [==============================] - 0s 16us/step - loss: 166.7868 - binary_accuracy: 0.7888 - binary_crossentropy: 166.7487\n",
      "Epoch 61/1000\n",
      "8143/8143 [==============================] - 0s 13us/step - loss: 136.0844 - binary_accuracy: 0.8004 - binary_crossentropy: 136.0453\n",
      "Epoch 62/1000\n",
      "8143/8143 [==============================] - 0s 12us/step - loss: 132.7013 - binary_accuracy: 0.8135 - binary_crossentropy: 132.6611\n",
      "Epoch 63/1000\n",
      "8143/8143 [==============================] - 0s 12us/step - loss: 129.1308 - binary_accuracy: 0.8003 - binary_crossentropy: 129.0894\n",
      "Epoch 64/1000\n",
      "8143/8143 [==============================] - 0s 20us/step - loss: 122.6653 - binary_accuracy: 0.8115 - binary_crossentropy: 122.6229\n",
      "Epoch 65/1000\n",
      "8143/8143 [==============================] - 0s 28us/step - loss: 118.2087 - binary_accuracy: 0.8099 - binary_crossentropy: 118.1651\n",
      "Epoch 66/1000\n",
      "8143/8143 [==============================] - 0s 19us/step - loss: 109.1026 - binary_accuracy: 0.8216 - binary_crossentropy: 109.0578\n",
      "Epoch 67/1000\n",
      "8143/8143 [==============================] - 0s 21us/step - loss: 107.4045 - binary_accuracy: 0.8186 - binary_crossentropy: 107.3587\n",
      "Epoch 68/1000\n",
      "8143/8143 [==============================] - 0s 18us/step - loss: 104.5469 - binary_accuracy: 0.8182 - binary_crossentropy: 104.4999\n",
      "Epoch 69/1000\n",
      "8143/8143 [==============================] - 0s 17us/step - loss: 97.2058 - binary_accuracy: 0.8196 - binary_crossentropy: 97.1579\n",
      "Epoch 70/1000\n",
      "8143/8143 [==============================] - 0s 16us/step - loss: 89.0628 - binary_accuracy: 0.8311 - binary_crossentropy: 89.0140\n",
      "Epoch 71/1000\n",
      "8143/8143 [==============================] - 0s 15us/step - loss: 83.4785 - binary_accuracy: 0.8400 - binary_crossentropy: 83.4288\n",
      "Epoch 72/1000\n",
      "8143/8143 [==============================] - 0s 13us/step - loss: 79.7852 - binary_accuracy: 0.8311 - binary_crossentropy: 79.7346\n",
      "Epoch 73/1000\n",
      "8143/8143 [==============================] - 0s 12us/step - loss: 70.7470 - binary_accuracy: 0.8451 - binary_crossentropy: 70.6957\n",
      "Epoch 74/1000\n",
      "8143/8143 [==============================] - 0s 11us/step - loss: 64.6460 - binary_accuracy: 0.8579 - binary_crossentropy: 64.5940\n",
      "Epoch 75/1000\n",
      "8143/8143 [==============================] - 0s 13us/step - loss: 62.5153 - binary_accuracy: 0.8439 - binary_crossentropy: 62.4626\n",
      "Epoch 76/1000\n",
      "8143/8143 [==============================] - 0s 12us/step - loss: 56.8735 - binary_accuracy: 0.8492 - binary_crossentropy: 56.8200\n",
      "Epoch 77/1000\n",
      "8143/8143 [==============================] - 0s 17us/step - loss: 44.8132 - binary_accuracy: 0.8794 - binary_crossentropy: 44.7592\n",
      "Epoch 78/1000\n",
      "8143/8143 [==============================] - 0s 14us/step - loss: 49.6702 - binary_accuracy: 0.8319 - binary_crossentropy: 49.6156\n",
      "Epoch 79/1000\n",
      "8143/8143 [==============================] - 0s 13us/step - loss: 36.1361 - binary_accuracy: 0.8878 - binary_crossentropy: 36.0810\n",
      "Epoch 80/1000\n",
      "8143/8143 [==============================] - 0s 14us/step - loss: 27.4914 - binary_accuracy: 0.9048 - binary_crossentropy: 27.4360\n",
      "Epoch 81/1000\n",
      "8143/8143 [==============================] - 0s 19us/step - loss: 22.0844 - binary_accuracy: 0.9104 - binary_crossentropy: 22.0288\n",
      "Epoch 82/1000\n",
      "8143/8143 [==============================] - 0s 17us/step - loss: 17.0807 - binary_accuracy: 0.9237 - binary_crossentropy: 17.0249\n",
      "Epoch 83/1000\n",
      "8143/8143 [==============================] - ETA: 0s - loss: 14.1171 - binary_accuracy: 0.9304 - binary_crossentropy: 14.061 - 0s 19us/step - loss: 13.1207 - binary_accuracy: 0.9288 - binary_crossentropy: 13.0648\n",
      "Epoch 84/1000\n",
      "8143/8143 [==============================] - 0s 27us/step - loss: 9.1176 - binary_accuracy: 0.9366 - binary_crossentropy: 9.0616\n",
      "Epoch 85/1000\n",
      "8143/8143 [==============================] - 0s 15us/step - loss: 5.1252 - binary_accuracy: 0.9519 - binary_crossentropy: 5.0692\n",
      "Epoch 86/1000\n",
      "8143/8143 [==============================] - 0s 11us/step - loss: 3.2057 - binary_accuracy: 0.9571 - binary_crossentropy: 3.1497\n",
      "Epoch 87/1000\n",
      "8143/8143 [==============================] - 0s 11us/step - loss: 2.9308 - binary_accuracy: 0.9554 - binary_crossentropy: 2.8750\n",
      "Epoch 88/1000\n",
      "8143/8143 [==============================] - 0s 11us/step - loss: 2.7174 - binary_accuracy: 0.9515 - binary_crossentropy: 2.6617\n",
      "Epoch 89/1000\n",
      "8143/8143 [==============================] - 0s 10us/step - loss: 2.7252 - binary_accuracy: 0.9508 - binary_crossentropy: 2.6697\n",
      "Epoch 90/1000\n",
      "8143/8143 [==============================] - 0s 10us/step - loss: 3.1635 - binary_accuracy: 0.9478 - binary_crossentropy: 3.1082\n",
      "Epoch 91/1000\n",
      "8143/8143 [==============================] - 0s 10us/step - loss: 2.8160 - binary_accuracy: 0.9484 - binary_crossentropy: 2.7608\n",
      "Epoch 92/1000\n",
      "8143/8143 [==============================] - 0s 10us/step - loss: 2.9466 - binary_accuracy: 0.9506 - binary_crossentropy: 2.8916\n",
      "Epoch 93/1000\n",
      "8143/8143 [==============================] - 0s 11us/step - loss: 2.9731 - binary_accuracy: 0.9479 - binary_crossentropy: 2.9183\n",
      "Epoch 94/1000\n",
      "8143/8143 [==============================] - 0s 10us/step - loss: 3.1388 - binary_accuracy: 0.9510 - binary_crossentropy: 3.0842\n",
      "Epoch 95/1000\n",
      "8143/8143 [==============================] - 0s 11us/step - loss: 2.7300 - binary_accuracy: 0.9515 - binary_crossentropy: 2.6756\n",
      "Epoch 96/1000\n",
      "8143/8143 [==============================] - 0s 12us/step - loss: 2.8780 - binary_accuracy: 0.9501 - binary_crossentropy: 2.8238\n",
      "Epoch 97/1000\n",
      "8143/8143 [==============================] - 0s 19us/step - loss: 3.4760 - binary_accuracy: 0.9463 - binary_crossentropy: 3.4221\n",
      "Epoch 98/1000\n",
      "8143/8143 [==============================] - 0s 12us/step - loss: 6.3934 - binary_accuracy: 0.9242 - binary_crossentropy: 6.3396\n",
      "Epoch 99/1000\n",
      "8143/8143 [==============================] - 0s 10us/step - loss: 23.4417 - binary_accuracy: 0.8399 - binary_crossentropy: 23.3878\n",
      "Epoch 100/1000\n",
      "8143/8143 [==============================] - 0s 10us/step - loss: 4.7585 - binary_accuracy: 0.9406 - binary_crossentropy: 4.7044\n",
      "Epoch 101/1000\n",
      "8143/8143 [==============================] - 0s 10us/step - loss: 2.9423 - binary_accuracy: 0.9579 - binary_crossentropy: 2.8882\n",
      "Epoch 102/1000\n",
      "8143/8143 [==============================] - 0s 10us/step - loss: 2.8327 - binary_accuracy: 0.9547 - binary_crossentropy: 2.7787\n",
      "Epoch 103/1000\n",
      "8143/8143 [==============================] - 0s 11us/step - loss: 2.6911 - binary_accuracy: 0.9495 - binary_crossentropy: 2.6372\n",
      "Epoch 104/1000\n",
      "8143/8143 [==============================] - 0s 10us/step - loss: 2.6902 - binary_accuracy: 0.9521 - binary_crossentropy: 2.6363\n",
      "Epoch 105/1000\n",
      "8143/8143 [==============================] - 0s 11us/step - loss: 2.6629 - binary_accuracy: 0.9501 - binary_crossentropy: 2.6092\n",
      "Epoch 106/1000\n",
      "8143/8143 [==============================] - 0s 12us/step - loss: 2.7180 - binary_accuracy: 0.9500 - binary_crossentropy: 2.6644\n",
      "Epoch 107/1000\n",
      "8143/8143 [==============================] - 0s 11us/step - loss: 3.0183 - binary_accuracy: 0.9495 - binary_crossentropy: 2.9648\n",
      "Epoch 108/1000\n",
      "8143/8143 [==============================] - 0s 10us/step - loss: 3.5659 - binary_accuracy: 0.9471 - binary_crossentropy: 3.5124\n",
      "Epoch 109/1000\n",
      "8143/8143 [==============================] - 0s 10us/step - loss: 3.0131 - binary_accuracy: 0.9512 - binary_crossentropy: 2.9597\n",
      "Epoch 110/1000\n",
      "8143/8143 [==============================] - 0s 10us/step - loss: 3.6485 - binary_accuracy: 0.9476 - binary_crossentropy: 3.5952\n",
      "Epoch 111/1000\n"
     ]
    },
    {
     "name": "stdout",
     "output_type": "stream",
     "text": [
      "8143/8143 [==============================] - 0s 10us/step - loss: 2.8126 - binary_accuracy: 0.9546 - binary_crossentropy: 2.7594\n",
      "Epoch 112/1000\n",
      "8143/8143 [==============================] - 0s 10us/step - loss: 2.8242 - binary_accuracy: 0.9509 - binary_crossentropy: 2.7711\n",
      "Epoch 113/1000\n",
      "8143/8143 [==============================] - 0s 10us/step - loss: 3.5916 - binary_accuracy: 0.9456 - binary_crossentropy: 3.5386\n",
      "Epoch 114/1000\n",
      "8143/8143 [==============================] - 0s 11us/step - loss: 3.2790 - binary_accuracy: 0.9531 - binary_crossentropy: 3.2261\n",
      "Epoch 115/1000\n",
      "8143/8143 [==============================] - 0s 10us/step - loss: 3.0093 - binary_accuracy: 0.9521 - binary_crossentropy: 2.9566\n",
      "Epoch 116/1000\n",
      "8143/8143 [==============================] - 0s 10us/step - loss: 2.6870 - binary_accuracy: 0.9542 - binary_crossentropy: 2.6343\n",
      "Epoch 117/1000\n",
      "8143/8143 [==============================] - 0s 10us/step - loss: 2.5808 - binary_accuracy: 0.9492 - binary_crossentropy: 2.5282\n",
      "Epoch 118/1000\n",
      "8143/8143 [==============================] - 0s 11us/step - loss: 2.6249 - binary_accuracy: 0.9495 - binary_crossentropy: 2.5725\n",
      "Epoch 119/1000\n",
      "8143/8143 [==============================] - 0s 11us/step - loss: 2.7625 - binary_accuracy: 0.9501 - binary_crossentropy: 2.7102\n",
      "Epoch 120/1000\n",
      "8143/8143 [==============================] - 0s 12us/step - loss: 2.7385 - binary_accuracy: 0.9508 - binary_crossentropy: 2.6864\n",
      "Epoch 121/1000\n",
      "8143/8143 [==============================] - 0s 12us/step - loss: 2.6663 - binary_accuracy: 0.9506 - binary_crossentropy: 2.6143\n",
      "Epoch 122/1000\n",
      "8143/8143 [==============================] - 0s 13us/step - loss: 2.9001 - binary_accuracy: 0.9505 - binary_crossentropy: 2.8482\n",
      "Epoch 123/1000\n",
      "8143/8143 [==============================] - 0s 18us/step - loss: 2.7110 - binary_accuracy: 0.9482 - binary_crossentropy: 2.6593\n",
      "Epoch 124/1000\n",
      "8143/8143 [==============================] - 0s 16us/step - loss: 2.7089 - binary_accuracy: 0.9510 - binary_crossentropy: 2.6573\n",
      "Epoch 125/1000\n",
      "8143/8143 [==============================] - 0s 13us/step - loss: 3.0310 - binary_accuracy: 0.9492 - binary_crossentropy: 2.9796\n",
      "Epoch 126/1000\n",
      "8143/8143 [==============================] - 0s 18us/step - loss: 2.5726 - binary_accuracy: 0.9516 - binary_crossentropy: 2.5214\n",
      "Epoch 127/1000\n",
      "8143/8143 [==============================] - 0s 16us/step - loss: 3.5445 - binary_accuracy: 0.9441 - binary_crossentropy: 3.4934\n",
      "Epoch 128/1000\n",
      "8143/8143 [==============================] - 0s 11us/step - loss: 3.3067 - binary_accuracy: 0.9525 - binary_crossentropy: 3.2557\n",
      "Epoch 129/1000\n",
      "8143/8143 [==============================] - 0s 10us/step - loss: 3.3179 - binary_accuracy: 0.9504 - binary_crossentropy: 3.2671\n",
      "Epoch 130/1000\n",
      "8143/8143 [==============================] - 0s 10us/step - loss: 9.6867 - binary_accuracy: 0.9058 - binary_crossentropy: 9.6361\n",
      "Epoch 131/1000\n",
      "8143/8143 [==============================] - 0s 16us/step - loss: 14.5152 - binary_accuracy: 0.8810 - binary_crossentropy: 14.4644\n",
      "Epoch 132/1000\n",
      "8143/8143 [==============================] - 0s 17us/step - loss: 4.7778 - binary_accuracy: 0.9404 - binary_crossentropy: 4.7269\n",
      "Epoch 133/1000\n",
      "8143/8143 [==============================] - 0s 16us/step - loss: 2.6519 - binary_accuracy: 0.9576 - binary_crossentropy: 2.6010\n",
      "Epoch 134/1000\n",
      "8143/8143 [==============================] - 0s 13us/step - loss: 2.6379 - binary_accuracy: 0.9557 - binary_crossentropy: 2.5871\n",
      "Epoch 135/1000\n",
      "8143/8143 [==============================] - 0s 14us/step - loss: 2.5898 - binary_accuracy: 0.9514 - binary_crossentropy: 2.5391\n",
      "Epoch 136/1000\n",
      "8143/8143 [==============================] - 0s 13us/step - loss: 2.7392 - binary_accuracy: 0.9492 - binary_crossentropy: 2.6886\n",
      "Epoch 137/1000\n",
      "8143/8143 [==============================] - 0s 11us/step - loss: 2.9262 - binary_accuracy: 0.9478 - binary_crossentropy: 2.8756\n",
      "Epoch 138/1000\n",
      "8143/8143 [==============================] - 0s 12us/step - loss: 2.6132 - binary_accuracy: 0.9501 - binary_crossentropy: 2.5627\n",
      "Epoch 139/1000\n",
      "8143/8143 [==============================] - 0s 18us/step - loss: 3.1751 - binary_accuracy: 0.9512 - binary_crossentropy: 3.1248\n",
      "Epoch 140/1000\n",
      "8143/8143 [==============================] - 0s 16us/step - loss: 2.7488 - binary_accuracy: 0.9511 - binary_crossentropy: 2.6986\n",
      "Epoch 141/1000\n",
      "8143/8143 [==============================] - 0s 11us/step - loss: 2.6841 - binary_accuracy: 0.9516 - binary_crossentropy: 2.6340\n",
      "Epoch 142/1000\n",
      "8143/8143 [==============================] - 0s 13us/step - loss: 2.7133 - binary_accuracy: 0.9503 - binary_crossentropy: 2.6632\n",
      "Epoch 143/1000\n",
      "8143/8143 [==============================] - 0s 14us/step - loss: 3.8286 - binary_accuracy: 0.9423 - binary_crossentropy: 3.7786\n",
      "Epoch 144/1000\n",
      "8143/8143 [==============================] - 0s 11us/step - loss: 3.2681 - binary_accuracy: 0.9516 - binary_crossentropy: 3.2182\n",
      "Epoch 145/1000\n",
      "8143/8143 [==============================] - 0s 11us/step - loss: 3.5171 - binary_accuracy: 0.9481 - binary_crossentropy: 3.4673\n",
      "Epoch 146/1000\n",
      "8143/8143 [==============================] - 0s 12us/step - loss: 3.0124 - binary_accuracy: 0.9538 - binary_crossentropy: 2.9627\n",
      "Epoch 147/1000\n",
      "8143/8143 [==============================] - 0s 22us/step - loss: 2.7327 - binary_accuracy: 0.9551 - binary_crossentropy: 2.6831\n",
      "Epoch 148/1000\n",
      "8143/8143 [==============================] - 0s 23us/step - loss: 3.0298 - binary_accuracy: 0.9482 - binary_crossentropy: 2.9803\n",
      "Epoch 149/1000\n",
      "8143/8143 [==============================] - 0s 18us/step - loss: 3.8096 - binary_accuracy: 0.9462 - binary_crossentropy: 3.7602\n",
      "Epoch 150/1000\n",
      "8143/8143 [==============================] - 0s 19us/step - loss: 2.6557 - binary_accuracy: 0.9560 - binary_crossentropy: 2.6064\n",
      "Epoch 151/1000\n",
      "8143/8143 [==============================] - 0s 13us/step - loss: 2.6591 - binary_accuracy: 0.9522 - binary_crossentropy: 2.6099\n",
      "Epoch 152/1000\n",
      "8143/8143 [==============================] - 0s 19us/step - loss: 2.8261 - binary_accuracy: 0.9494 - binary_crossentropy: 2.7771\n",
      "Epoch 153/1000\n",
      "8143/8143 [==============================] - 0s 18us/step - loss: 2.5789 - binary_accuracy: 0.9500 - binary_crossentropy: 2.5299\n",
      "Epoch 154/1000\n",
      "8143/8143 [==============================] - 0s 21us/step - loss: 3.2895 - binary_accuracy: 0.9472 - binary_crossentropy: 3.2407\n",
      "Epoch 155/1000\n",
      "8143/8143 [==============================] - 0s 15us/step - loss: 2.6873 - binary_accuracy: 0.9525 - binary_crossentropy: 2.6387\n",
      "Epoch 156/1000\n",
      "8143/8143 [==============================] - 0s 14us/step - loss: 2.5540 - binary_accuracy: 0.9525 - binary_crossentropy: 2.5055\n",
      "Epoch 157/1000\n",
      "8143/8143 [==============================] - 0s 18us/step - loss: 3.4295 - binary_accuracy: 0.9451 - binary_crossentropy: 3.3811\n",
      "Epoch 158/1000\n",
      "8143/8143 [==============================] - 0s 16us/step - loss: 2.8853 - binary_accuracy: 0.9553 - binary_crossentropy: 2.8371\n",
      "Epoch 159/1000\n",
      "8143/8143 [==============================] - 0s 29us/step - loss: 4.3222 - binary_accuracy: 0.9348 - binary_crossentropy: 4.2741\n",
      "Epoch 160/1000\n",
      "8143/8143 [==============================] - 0s 19us/step - loss: 21.2491 - binary_accuracy: 0.8350 - binary_crossentropy: 21.2010\n",
      "Epoch 161/1000\n",
      "8143/8143 [==============================] - 0s 15us/step - loss: 14.8331 - binary_accuracy: 0.8594 - binary_crossentropy: 14.7847\n",
      "Epoch 162/1000\n",
      "8143/8143 [==============================] - 0s 11us/step - loss: 4.1631 - binary_accuracy: 0.9446 - binary_crossentropy: 4.1145\n",
      "Epoch 163/1000\n",
      "8143/8143 [==============================] - 0s 11us/step - loss: 2.6344 - binary_accuracy: 0.9564 - binary_crossentropy: 2.5859\n",
      "Epoch 164/1000\n",
      "8143/8143 [==============================] - 0s 11us/step - loss: 2.6605 - binary_accuracy: 0.9537 - binary_crossentropy: 2.6120\n",
      "Epoch 165/1000\n",
      "8143/8143 [==============================] - 0s 11us/step - loss: 2.5207 - binary_accuracy: 0.9514 - binary_crossentropy: 2.4723\n",
      "Epoch 166/1000\n",
      "8143/8143 [==============================] - 0s 11us/step - loss: 2.5490 - binary_accuracy: 0.9509 - binary_crossentropy: 2.5007\n",
      "Epoch 167/1000\n",
      "8143/8143 [==============================] - 0s 14us/step - loss: 2.5393 - binary_accuracy: 0.9504 - binary_crossentropy: 2.4911\n",
      "Epoch 168/1000\n",
      "8143/8143 [==============================] - 0s 14us/step - loss: 2.6608 - binary_accuracy: 0.9494 - binary_crossentropy: 2.6127\n",
      "Epoch 169/1000\n",
      "8143/8143 [==============================] - 0s 12us/step - loss: 2.4403 - binary_accuracy: 0.9508 - binary_crossentropy: 2.3922\n",
      "Epoch 170/1000\n",
      "8143/8143 [==============================] - 0s 11us/step - loss: 2.4936 - binary_accuracy: 0.9493 - binary_crossentropy: 2.4456\n",
      "Epoch 171/1000\n",
      "8143/8143 [==============================] - 0s 16us/step - loss: 2.6041 - binary_accuracy: 0.9496 - binary_crossentropy: 2.5563\n",
      "Epoch 172/1000\n",
      "8143/8143 [==============================] - 0s 18us/step - loss: 2.5124 - binary_accuracy: 0.9482 - binary_crossentropy: 2.4646\n",
      "Epoch 173/1000\n",
      "8143/8143 [==============================] - 0s 15us/step - loss: 2.5733 - binary_accuracy: 0.9498 - binary_crossentropy: 2.5257\n",
      "Epoch 174/1000\n",
      "8143/8143 [==============================] - 0s 14us/step - loss: 3.4056 - binary_accuracy: 0.9439 - binary_crossentropy: 3.3580\n",
      "Epoch 175/1000\n",
      "8143/8143 [==============================] - 0s 13us/step - loss: 5.5017 - binary_accuracy: 0.9290 - binary_crossentropy: 5.4542\n",
      "Epoch 176/1000\n",
      "8143/8143 [==============================] - 0s 13us/step - loss: 3.4008 - binary_accuracy: 0.9522 - binary_crossentropy: 3.3534\n",
      "Epoch 177/1000\n",
      "8143/8143 [==============================] - 0s 12us/step - loss: 2.7472 - binary_accuracy: 0.9533 - binary_crossentropy: 2.6999\n",
      "Epoch 178/1000\n",
      "8143/8143 [==============================] - 0s 13us/step - loss: 2.6329 - binary_accuracy: 0.9527 - binary_crossentropy: 2.5857\n",
      "Epoch 179/1000\n",
      "8143/8143 [==============================] - 0s 15us/step - loss: 2.8238 - binary_accuracy: 0.9499 - binary_crossentropy: 2.7767\n",
      "Epoch 180/1000\n",
      "8143/8143 [==============================] - 0s 19us/step - loss: 2.5013 - binary_accuracy: 0.9504 - binary_crossentropy: 2.4543\n",
      "Epoch 181/1000\n",
      "8143/8143 [==============================] - 0s 13us/step - loss: 2.7058 - binary_accuracy: 0.9501 - binary_crossentropy: 2.6590\n",
      "Epoch 182/1000\n",
      "8143/8143 [==============================] - 0s 12us/step - loss: 2.4982 - binary_accuracy: 0.9506 - binary_crossentropy: 2.4515\n",
      "Epoch 183/1000\n",
      "8143/8143 [==============================] - 0s 11us/step - loss: 3.3160 - binary_accuracy: 0.9481 - binary_crossentropy: 3.2694\n",
      "Epoch 184/1000\n",
      "8143/8143 [==============================] - 0s 13us/step - loss: 5.5459 - binary_accuracy: 0.9247 - binary_crossentropy: 5.4994\n",
      "Epoch 185/1000\n",
      "8143/8143 [==============================] - 0s 13us/step - loss: 3.0393 - binary_accuracy: 0.9503 - binary_crossentropy: 2.9929\n",
      "Epoch 186/1000\n",
      "8143/8143 [==============================] - 0s 11us/step - loss: 2.5316 - binary_accuracy: 0.9538 - binary_crossentropy: 2.4853\n",
      "Epoch 187/1000\n",
      "8143/8143 [==============================] - 0s 18us/step - loss: 2.6750 - binary_accuracy: 0.9465 - binary_crossentropy: 2.6288\n",
      "Epoch 188/1000\n",
      "8143/8143 [==============================] - 0s 21us/step - loss: 17.9989 - binary_accuracy: 0.8509 - binary_crossentropy: 17.9528\n",
      "Epoch 189/1000\n",
      "8143/8143 [==============================] - 0s 19us/step - loss: 4.2609 - binary_accuracy: 0.9388 - binary_crossentropy: 4.2145\n",
      "Epoch 190/1000\n",
      "8143/8143 [==============================] - 0s 18us/step - loss: 2.7736 - binary_accuracy: 0.9547 - binary_crossentropy: 2.7273\n",
      "Epoch 191/1000\n",
      "8143/8143 [==============================] - 0s 19us/step - loss: 2.7239 - binary_accuracy: 0.9541 - binary_crossentropy: 2.6777\n",
      "Epoch 192/1000\n",
      "8143/8143 [==============================] - 0s 19us/step - loss: 2.7185 - binary_accuracy: 0.9498 - binary_crossentropy: 2.6723\n",
      "Epoch 193/1000\n",
      "8143/8143 [==============================] - 0s 12us/step - loss: 2.4719 - binary_accuracy: 0.9524 - binary_crossentropy: 2.4258\n",
      "Epoch 194/1000\n",
      "8143/8143 [==============================] - 0s 15us/step - loss: 2.5458 - binary_accuracy: 0.9505 - binary_crossentropy: 2.4998\n",
      "Epoch 195/1000\n",
      "8143/8143 [==============================] - 0s 18us/step - loss: 2.5943 - binary_accuracy: 0.9501 - binary_crossentropy: 2.5484\n",
      "Epoch 196/1000\n",
      "8143/8143 [==============================] - 0s 18us/step - loss: 2.3668 - binary_accuracy: 0.9504 - binary_crossentropy: 2.3210\n",
      "Epoch 197/1000\n",
      "8143/8143 [==============================] - 0s 19us/step - loss: 2.5430 - binary_accuracy: 0.9493 - binary_crossentropy: 2.4973\n",
      "Epoch 198/1000\n",
      "8143/8143 [==============================] - 0s 17us/step - loss: 2.4556 - binary_accuracy: 0.9496 - binary_crossentropy: 2.4100\n",
      "Epoch 199/1000\n",
      "8143/8143 [==============================] - 0s 17us/step - loss: 2.4991 - binary_accuracy: 0.9504 - binary_crossentropy: 2.4536\n",
      "Epoch 200/1000\n",
      "8143/8143 [==============================] - 0s 12us/step - loss: 2.6843 - binary_accuracy: 0.9474 - binary_crossentropy: 2.6389\n",
      "Epoch 201/1000\n",
      "8143/8143 [==============================] - 0s 13us/step - loss: 5.6098 - binary_accuracy: 0.9294 - binary_crossentropy: 5.5645\n",
      "Epoch 202/1000\n",
      "8143/8143 [==============================] - 0s 13us/step - loss: 15.8715 - binary_accuracy: 0.8481 - binary_crossentropy: 15.8262\n",
      "Epoch 203/1000\n",
      "8143/8143 [==============================] - 0s 17us/step - loss: 8.2787 - binary_accuracy: 0.9129 - binary_crossentropy: 8.2330\n",
      "Epoch 204/1000\n",
      "8143/8143 [==============================] - 0s 17us/step - loss: 3.0058 - binary_accuracy: 0.9531 - binary_crossentropy: 2.9602\n",
      "Epoch 205/1000\n",
      "8143/8143 [==============================] - 0s 19us/step - loss: 2.4420 - binary_accuracy: 0.9554 - binary_crossentropy: 2.3964\n",
      "Epoch 206/1000\n",
      "8143/8143 [==============================] - 0s 18us/step - loss: 2.5757 - binary_accuracy: 0.9505 - binary_crossentropy: 2.5302\n",
      "Epoch 207/1000\n",
      "8143/8143 [==============================] - 0s 17us/step - loss: 2.3592 - binary_accuracy: 0.9503 - binary_crossentropy: 2.3137\n",
      "Epoch 208/1000\n",
      "8143/8143 [==============================] - 0s 13us/step - loss: 2.3967 - binary_accuracy: 0.9493 - binary_crossentropy: 2.3513\n",
      "Epoch 209/1000\n",
      "8143/8143 [==============================] - 0s 12us/step - loss: 2.5285 - binary_accuracy: 0.9487 - binary_crossentropy: 2.4833\n",
      "Epoch 210/1000\n",
      "8143/8143 [==============================] - 0s 11us/step - loss: 2.6535 - binary_accuracy: 0.9492 - binary_crossentropy: 2.6084\n",
      "Epoch 211/1000\n",
      "8143/8143 [==============================] - 0s 12us/step - loss: 2.4580 - binary_accuracy: 0.9519 - binary_crossentropy: 2.4130\n",
      "Epoch 212/1000\n",
      "8143/8143 [==============================] - 0s 12us/step - loss: 2.6702 - binary_accuracy: 0.9501 - binary_crossentropy: 2.6252\n",
      "Epoch 213/1000\n",
      "8143/8143 [==============================] - 0s 11us/step - loss: 4.0304 - binary_accuracy: 0.9417 - binary_crossentropy: 3.9855\n",
      "Epoch 214/1000\n",
      "8143/8143 [==============================] - 0s 11us/step - loss: 5.8342 - binary_accuracy: 0.9167 - binary_crossentropy: 5.7894\n",
      "Epoch 215/1000\n",
      "8143/8143 [==============================] - 0s 11us/step - loss: 8.9869 - binary_accuracy: 0.9124 - binary_crossentropy: 8.9419\n",
      "Epoch 216/1000\n",
      "8143/8143 [==============================] - 0s 13us/step - loss: 3.0548 - binary_accuracy: 0.9535 - binary_crossentropy: 3.0098\n",
      "Epoch 217/1000\n",
      "8143/8143 [==============================] - 0s 12us/step - loss: 2.8351 - binary_accuracy: 0.9533 - binary_crossentropy: 2.7902\n",
      "Epoch 218/1000\n",
      "8143/8143 [==============================] - 0s 14us/step - loss: 3.3325 - binary_accuracy: 0.9449 - binary_crossentropy: 3.2878\n",
      "Epoch 219/1000\n",
      "8143/8143 [==============================] - 0s 25us/step - loss: 2.8614 - binary_accuracy: 0.9498 - binary_crossentropy: 2.8168\n",
      "Epoch 220/1000\n",
      "8143/8143 [==============================] - 0s 16us/step - loss: 2.6363 - binary_accuracy: 0.9525 - binary_crossentropy: 2.5917\n",
      "Epoch 221/1000\n",
      "8143/8143 [==============================] - 0s 12us/step - loss: 2.4017 - binary_accuracy: 0.9511 - binary_crossentropy: 2.3573\n",
      "Epoch 222/1000\n",
      "8143/8143 [==============================] - 0s 11us/step - loss: 6.4366 - binary_accuracy: 0.9176 - binary_crossentropy: 6.3923\n",
      "Epoch 223/1000\n"
     ]
    },
    {
     "name": "stdout",
     "output_type": "stream",
     "text": [
      "8143/8143 [==============================] - 0s 11us/step - loss: 18.3509 - binary_accuracy: 0.8422 - binary_crossentropy: 18.3064\n",
      "Epoch 224/1000\n",
      "8143/8143 [==============================] - 0s 11us/step - loss: 10.0569 - binary_accuracy: 0.8836 - binary_crossentropy: 10.0121\n",
      "Epoch 225/1000\n",
      "8143/8143 [==============================] - 0s 13us/step - loss: 2.9102 - binary_accuracy: 0.9566 - binary_crossentropy: 2.8653\n",
      "Epoch 226/1000\n",
      "8143/8143 [==============================] - 0s 22us/step - loss: 2.5547 - binary_accuracy: 0.9539 - binary_crossentropy: 2.5099\n",
      "Epoch 227/1000\n",
      "8143/8143 [==============================] - 0s 26us/step - loss: 2.4237 - binary_accuracy: 0.9532 - binary_crossentropy: 2.3790\n",
      "Epoch 228/1000\n",
      "8143/8143 [==============================] - 0s 23us/step - loss: 2.5972 - binary_accuracy: 0.9487 - binary_crossentropy: 2.5526\n",
      "Epoch 229/1000\n",
      "8143/8143 [==============================] - 0s 18us/step - loss: 2.4731 - binary_accuracy: 0.9508 - binary_crossentropy: 2.4285\n",
      "Epoch 230/1000\n",
      "8143/8143 [==============================] - 0s 13us/step - loss: 2.5247 - binary_accuracy: 0.9501 - binary_crossentropy: 2.4802\n",
      "Epoch 231/1000\n",
      "8143/8143 [==============================] - 0s 19us/step - loss: 2.4517 - binary_accuracy: 0.9495 - binary_crossentropy: 2.4073\n",
      "Epoch 232/1000\n",
      "8143/8143 [==============================] - 0s 19us/step - loss: 2.4534 - binary_accuracy: 0.9516 - binary_crossentropy: 2.4091\n",
      "Epoch 233/1000\n",
      "8143/8143 [==============================] - 0s 19us/step - loss: 2.4923 - binary_accuracy: 0.9473 - binary_crossentropy: 2.4481\n",
      "Epoch 234/1000\n",
      "8143/8143 [==============================] - 0s 17us/step - loss: 2.8807 - binary_accuracy: 0.9488 - binary_crossentropy: 2.8366\n",
      "Epoch 235/1000\n",
      "8143/8143 [==============================] - 0s 19us/step - loss: 2.4502 - binary_accuracy: 0.9530 - binary_crossentropy: 2.4062\n",
      "Epoch 236/1000\n",
      "8143/8143 [==============================] - 0s 12us/step - loss: 2.4692 - binary_accuracy: 0.9516 - binary_crossentropy: 2.4252\n",
      "Epoch 237/1000\n",
      "8143/8143 [==============================] - 0s 11us/step - loss: 2.6977 - binary_accuracy: 0.9498 - binary_crossentropy: 2.6539\n",
      "Epoch 238/1000\n",
      "8143/8143 [==============================] - 0s 11us/step - loss: 2.4959 - binary_accuracy: 0.9473 - binary_crossentropy: 2.4522\n",
      "Epoch 239/1000\n",
      "8143/8143 [==============================] - 0s 17us/step - loss: 2.6725 - binary_accuracy: 0.9515 - binary_crossentropy: 2.6289\n",
      "Epoch 240/1000\n",
      "8143/8143 [==============================] - 0s 12us/step - loss: 2.9453 - binary_accuracy: 0.9476 - binary_crossentropy: 2.9018\n",
      "Epoch 241/1000\n",
      "8143/8143 [==============================] - 0s 12us/step - loss: 2.4751 - binary_accuracy: 0.9522 - binary_crossentropy: 2.4317\n",
      "Epoch 242/1000\n",
      "8143/8143 [==============================] - 0s 11us/step - loss: 3.8656 - binary_accuracy: 0.9353 - binary_crossentropy: 3.8223\n",
      "Epoch 243/1000\n",
      "8143/8143 [==============================] - 0s 11us/step - loss: 4.3526 - binary_accuracy: 0.9419 - binary_crossentropy: 4.3094\n",
      "Epoch 244/1000\n",
      "8143/8143 [==============================] - 0s 11us/step - loss: 18.5205 - binary_accuracy: 0.8277 - binary_crossentropy: 18.4772\n",
      "Epoch 245/1000\n",
      "8143/8143 [==============================] - 0s 12us/step - loss: 20.7763 - binary_accuracy: 0.8492 - binary_crossentropy: 20.7327\n",
      "Epoch 246/1000\n",
      "8143/8143 [==============================] - 0s 14us/step - loss: 2.8486 - binary_accuracy: 0.9531 - binary_crossentropy: 2.8048\n",
      "Epoch 247/1000\n",
      "8143/8143 [==============================] - 0s 12us/step - loss: 2.6900 - binary_accuracy: 0.9543 - binary_crossentropy: 2.6462\n",
      "Epoch 248/1000\n",
      "8143/8143 [==============================] - 0s 11us/step - loss: 2.5984 - binary_accuracy: 0.9542 - binary_crossentropy: 2.5547\n",
      "Epoch 249/1000\n",
      "8143/8143 [==============================] - 0s 11us/step - loss: 2.5697 - binary_accuracy: 0.9511 - binary_crossentropy: 2.5261\n",
      "Epoch 250/1000\n",
      "8143/8143 [==============================] - 0s 11us/step - loss: 2.4082 - binary_accuracy: 0.9501 - binary_crossentropy: 2.3647\n",
      "Epoch 251/1000\n",
      "8143/8143 [==============================] - 0s 12us/step - loss: 2.3752 - binary_accuracy: 0.9510 - binary_crossentropy: 2.3317\n",
      "Epoch 252/1000\n",
      "8143/8143 [==============================] - 0s 11us/step - loss: 2.5475 - binary_accuracy: 0.9500 - binary_crossentropy: 2.5041\n",
      "Epoch 253/1000\n",
      "8143/8143 [==============================] - 0s 11us/step - loss: 2.5365 - binary_accuracy: 0.9498 - binary_crossentropy: 2.4932\n",
      "Epoch 254/1000\n",
      "8143/8143 [==============================] - 0s 11us/step - loss: 2.4491 - binary_accuracy: 0.9489 - binary_crossentropy: 2.4059\n",
      "Epoch 255/1000\n",
      "8143/8143 [==============================] - 0s 11us/step - loss: 2.3287 - binary_accuracy: 0.9500 - binary_crossentropy: 2.2856\n",
      "Epoch 256/1000\n",
      "8143/8143 [==============================] - 0s 10us/step - loss: 2.3707 - binary_accuracy: 0.9506 - binary_crossentropy: 2.3277\n",
      "Epoch 257/1000\n",
      "8143/8143 [==============================] - 0s 11us/step - loss: 2.5132 - binary_accuracy: 0.9503 - binary_crossentropy: 2.4703\n",
      "Epoch 258/1000\n",
      "8143/8143 [==============================] - 0s 11us/step - loss: 2.4206 - binary_accuracy: 0.9512 - binary_crossentropy: 2.3778\n",
      "Epoch 259/1000\n",
      "8143/8143 [==============================] - 0s 11us/step - loss: 2.3664 - binary_accuracy: 0.9514 - binary_crossentropy: 2.3237\n",
      "Epoch 260/1000\n",
      "8143/8143 [==============================] - 0s 11us/step - loss: 2.3756 - binary_accuracy: 0.9478 - binary_crossentropy: 2.3330\n",
      "Epoch 261/1000\n",
      "8143/8143 [==============================] - 0s 11us/step - loss: 3.0087 - binary_accuracy: 0.9472 - binary_crossentropy: 2.9662\n",
      "Epoch 262/1000\n",
      "8143/8143 [==============================] - 0s 11us/step - loss: 3.3203 - binary_accuracy: 0.9477 - binary_crossentropy: 3.2779\n",
      "Epoch 263/1000\n",
      "8143/8143 [==============================] - 0s 11us/step - loss: 2.5133 - binary_accuracy: 0.9531 - binary_crossentropy: 2.4710\n",
      "Epoch 264/1000\n",
      "8143/8143 [==============================] - 0s 11us/step - loss: 2.8911 - binary_accuracy: 0.9487 - binary_crossentropy: 2.8489\n",
      "Epoch 265/1000\n",
      "8143/8143 [==============================] - 0s 11us/step - loss: 3.1884 - binary_accuracy: 0.9505 - binary_crossentropy: 3.1463\n",
      "Epoch 266/1000\n",
      "8143/8143 [==============================] - 0s 11us/step - loss: 2.6055 - binary_accuracy: 0.9536 - binary_crossentropy: 2.5635\n",
      "Epoch 267/1000\n",
      "8143/8143 [==============================] - 0s 11us/step - loss: 2.7201 - binary_accuracy: 0.9511 - binary_crossentropy: 2.6782\n",
      "Epoch 268/1000\n",
      "8143/8143 [==============================] - 0s 11us/step - loss: 6.0866 - binary_accuracy: 0.9137 - binary_crossentropy: 6.0448\n",
      "Epoch 269/1000\n",
      "8143/8143 [==============================] - 0s 11us/step - loss: 3.6298 - binary_accuracy: 0.9441 - binary_crossentropy: 3.5879\n",
      "Epoch 270/1000\n",
      "8143/8143 [==============================] - 0s 11us/step - loss: 4.5632 - binary_accuracy: 0.9359 - binary_crossentropy: 4.5215\n",
      "Epoch 271/1000\n",
      "8143/8143 [==============================] - 0s 13us/step - loss: 2.6730 - binary_accuracy: 0.9536 - binary_crossentropy: 2.6313\n",
      "Epoch 272/1000\n",
      "8143/8143 [==============================] - 0s 13us/step - loss: 2.4928 - binary_accuracy: 0.9527 - binary_crossentropy: 2.4513\n",
      "Epoch 273/1000\n",
      "8143/8143 [==============================] - 0s 11us/step - loss: 3.6143 - binary_accuracy: 0.9445 - binary_crossentropy: 3.5729\n",
      "Epoch 274/1000\n",
      "8143/8143 [==============================] - 0s 12us/step - loss: 2.6952 - binary_accuracy: 0.9526 - binary_crossentropy: 2.6539\n",
      "Epoch 275/1000\n",
      "8143/8143 [==============================] - 0s 11us/step - loss: 7.6933 - binary_accuracy: 0.9083 - binary_crossentropy: 7.6520\n",
      "Epoch 276/1000\n",
      "8143/8143 [==============================] - 0s 11us/step - loss: 8.4885 - binary_accuracy: 0.8978 - binary_crossentropy: 8.4472\n",
      "Epoch 277/1000\n",
      "8143/8143 [==============================] - 0s 11us/step - loss: 2.4258 - binary_accuracy: 0.9493 - binary_crossentropy: 2.3844\n",
      "Epoch 278/1000\n",
      "8143/8143 [==============================] - 0s 11us/step - loss: 3.2868 - binary_accuracy: 0.9409 - binary_crossentropy: 3.2455\n",
      "Epoch 279/1000\n",
      "8143/8143 [==============================] - 0s 12us/step - loss: 3.9729 - binary_accuracy: 0.9386 - binary_crossentropy: 3.9316\n",
      "Epoch 280/1000\n",
      "8143/8143 [==============================] - 0s 11us/step - loss: 17.8102 - binary_accuracy: 0.8523 - binary_crossentropy: 17.7689\n",
      "Epoch 281/1000\n",
      "8143/8143 [==============================] - 0s 11us/step - loss: 5.0244 - binary_accuracy: 0.9318 - binary_crossentropy: 4.9829\n",
      "Epoch 282/1000\n",
      "8143/8143 [==============================] - 0s 11us/step - loss: 2.4799 - binary_accuracy: 0.9570 - binary_crossentropy: 2.4385\n",
      "Epoch 283/1000\n",
      "8143/8143 [==============================] - 0s 11us/step - loss: 2.3380 - binary_accuracy: 0.9519 - binary_crossentropy: 2.2966\n",
      "Epoch 284/1000\n",
      "8143/8143 [==============================] - 0s 11us/step - loss: 2.2770 - binary_accuracy: 0.9506 - binary_crossentropy: 2.2357\n",
      "Epoch 285/1000\n",
      "8143/8143 [==============================] - 0s 11us/step - loss: 2.4876 - binary_accuracy: 0.9469 - binary_crossentropy: 2.4464\n",
      "Epoch 286/1000\n",
      "8143/8143 [==============================] - 0s 11us/step - loss: 2.5858 - binary_accuracy: 0.9499 - binary_crossentropy: 2.5447\n",
      "Epoch 287/1000\n",
      "8143/8143 [==============================] - 0s 11us/step - loss: 2.4107 - binary_accuracy: 0.9512 - binary_crossentropy: 2.3696\n",
      "Epoch 288/1000\n",
      "8143/8143 [==============================] - 0s 11us/step - loss: 2.4176 - binary_accuracy: 0.9511 - binary_crossentropy: 2.3766\n",
      "Epoch 289/1000\n",
      "8143/8143 [==============================] - 0s 11us/step - loss: 2.3839 - binary_accuracy: 0.9510 - binary_crossentropy: 2.3429\n",
      "Epoch 290/1000\n",
      "8143/8143 [==============================] - 0s 11us/step - loss: 2.6787 - binary_accuracy: 0.9484 - binary_crossentropy: 2.6379\n",
      "Epoch 291/1000\n",
      "8143/8143 [==============================] - 0s 11us/step - loss: 2.6616 - binary_accuracy: 0.9479 - binary_crossentropy: 2.6209\n",
      "Epoch 292/1000\n",
      "8143/8143 [==============================] - 0s 11us/step - loss: 2.5016 - binary_accuracy: 0.9509 - binary_crossentropy: 2.4609\n",
      "Epoch 293/1000\n",
      "8143/8143 [==============================] - 0s 11us/step - loss: 2.4930 - binary_accuracy: 0.9494 - binary_crossentropy: 2.4525\n",
      "Epoch 294/1000\n",
      "8143/8143 [==============================] - 0s 11us/step - loss: 2.4978 - binary_accuracy: 0.9508 - binary_crossentropy: 2.4573\n",
      "Epoch 295/1000\n",
      "8143/8143 [==============================] - 0s 11us/step - loss: 2.3605 - binary_accuracy: 0.9514 - binary_crossentropy: 2.3201\n",
      "Epoch 296/1000\n",
      "8143/8143 [==============================] - 0s 11us/step - loss: 2.4084 - binary_accuracy: 0.9514 - binary_crossentropy: 2.3682\n",
      "Epoch 297/1000\n",
      "8143/8143 [==============================] - 0s 11us/step - loss: 2.4881 - binary_accuracy: 0.9476 - binary_crossentropy: 2.4479\n",
      "Epoch 298/1000\n",
      "8143/8143 [==============================] - 0s 11us/step - loss: 2.8284 - binary_accuracy: 0.9478 - binary_crossentropy: 2.7883\n",
      "Epoch 299/1000\n",
      "8143/8143 [==============================] - 0s 11us/step - loss: 3.2112 - binary_accuracy: 0.9488 - binary_crossentropy: 3.1712\n",
      "Epoch 300/1000\n",
      "8143/8143 [==============================] - 0s 11us/step - loss: 4.3175 - binary_accuracy: 0.9375 - binary_crossentropy: 4.2776\n",
      "Epoch 301/1000\n",
      "8143/8143 [==============================] - 0s 10us/step - loss: 2.6649 - binary_accuracy: 0.9500 - binary_crossentropy: 2.6251\n",
      "Epoch 302/1000\n",
      "8143/8143 [==============================] - 0s 14us/step - loss: 2.2946 - binary_accuracy: 0.9526 - binary_crossentropy: 2.2549\n",
      "Epoch 303/1000\n",
      "8143/8143 [==============================] - 0s 12us/step - loss: 2.8393 - binary_accuracy: 0.9492 - binary_crossentropy: 2.7997\n",
      "Epoch 304/1000\n",
      "8143/8143 [==============================] - 0s 11us/step - loss: 9.2722 - binary_accuracy: 0.9127 - binary_crossentropy: 9.2327\n",
      "Epoch 305/1000\n",
      "8143/8143 [==============================] - 0s 11us/step - loss: 17.5459 - binary_accuracy: 0.8524 - binary_crossentropy: 17.5063\n",
      "Epoch 306/1000\n",
      "8143/8143 [==============================] - 0s 11us/step - loss: 2.9790 - binary_accuracy: 0.9488 - binary_crossentropy: 2.9392\n",
      "Epoch 307/1000\n",
      "8143/8143 [==============================] - 0s 11us/step - loss: 2.2787 - binary_accuracy: 0.9553 - binary_crossentropy: 2.2390\n",
      "Epoch 308/1000\n",
      "8143/8143 [==============================] - 0s 11us/step - loss: 2.3144 - binary_accuracy: 0.9553 - binary_crossentropy: 2.2747\n",
      "Epoch 309/1000\n",
      "8143/8143 [==============================] - 0s 11us/step - loss: 2.2993 - binary_accuracy: 0.9508 - binary_crossentropy: 2.2597\n",
      "Epoch 310/1000\n",
      "8143/8143 [==============================] - 0s 11us/step - loss: 2.3263 - binary_accuracy: 0.9499 - binary_crossentropy: 2.2867\n",
      "Epoch 311/1000\n",
      "8143/8143 [==============================] - 0s 11us/step - loss: 2.3067 - binary_accuracy: 0.9503 - binary_crossentropy: 2.2672\n",
      "Epoch 312/1000\n",
      "8143/8143 [==============================] - 0s 11us/step - loss: 2.2396 - binary_accuracy: 0.9485 - binary_crossentropy: 2.2002\n",
      "Epoch 313/1000\n",
      "8143/8143 [==============================] - 0s 11us/step - loss: 2.3544 - binary_accuracy: 0.9504 - binary_crossentropy: 2.3151\n",
      "Epoch 314/1000\n",
      "8143/8143 [==============================] - 0s 11us/step - loss: 2.3185 - binary_accuracy: 0.9492 - binary_crossentropy: 2.2793\n",
      "Epoch 315/1000\n",
      "8143/8143 [==============================] - 0s 11us/step - loss: 2.2627 - binary_accuracy: 0.9498 - binary_crossentropy: 2.2235\n",
      "Epoch 316/1000\n",
      "8143/8143 [==============================] - 0s 12us/step - loss: 2.3117 - binary_accuracy: 0.9508 - binary_crossentropy: 2.2727\n",
      "Epoch 317/1000\n",
      "8143/8143 [==============================] - 0s 11us/step - loss: 2.5795 - binary_accuracy: 0.9493 - binary_crossentropy: 2.5406\n",
      "Epoch 318/1000\n",
      "8143/8143 [==============================] - 0s 11us/step - loss: 11.2883 - binary_accuracy: 0.8784 - binary_crossentropy: 11.2494\n",
      "Epoch 319/1000\n",
      "8143/8143 [==============================] - 0s 11us/step - loss: 19.2025 - binary_accuracy: 0.8388 - binary_crossentropy: 19.1633\n",
      "Epoch 320/1000\n",
      "8143/8143 [==============================] - 0s 11us/step - loss: 14.3139 - binary_accuracy: 0.8490 - binary_crossentropy: 14.2745\n",
      "Epoch 321/1000\n",
      "8143/8143 [==============================] - 0s 11us/step - loss: 4.5849 - binary_accuracy: 0.9343 - binary_crossentropy: 4.5452\n",
      "Epoch 322/1000\n",
      "8143/8143 [==============================] - 0s 11us/step - loss: 2.2796 - binary_accuracy: 0.9535 - binary_crossentropy: 2.2400\n",
      "Epoch 323/1000\n",
      "8143/8143 [==============================] - 0s 10us/step - loss: 2.2379 - binary_accuracy: 0.9501 - binary_crossentropy: 2.1984\n",
      "Epoch 324/1000\n",
      "8143/8143 [==============================] - 0s 11us/step - loss: 2.4354 - binary_accuracy: 0.9511 - binary_crossentropy: 2.3959\n",
      "Epoch 325/1000\n",
      "8143/8143 [==============================] - 0s 12us/step - loss: 2.2256 - binary_accuracy: 0.9524 - binary_crossentropy: 2.1862\n",
      "Epoch 326/1000\n",
      "8143/8143 [==============================] - 0s 11us/step - loss: 2.2540 - binary_accuracy: 0.9490 - binary_crossentropy: 2.2147\n",
      "Epoch 327/1000\n",
      "8143/8143 [==============================] - 0s 13us/step - loss: 2.2916 - binary_accuracy: 0.9506 - binary_crossentropy: 2.2523\n",
      "Epoch 328/1000\n",
      "8143/8143 [==============================] - 0s 17us/step - loss: 2.5667 - binary_accuracy: 0.9468 - binary_crossentropy: 2.5275\n",
      "Epoch 329/1000\n",
      "8143/8143 [==============================] - 0s 17us/step - loss: 2.4741 - binary_accuracy: 0.9501 - binary_crossentropy: 2.4350\n",
      "Epoch 330/1000\n",
      "8143/8143 [==============================] - 0s 21us/step - loss: 4.8776 - binary_accuracy: 0.9315 - binary_crossentropy: 4.8386\n",
      "Epoch 331/1000\n",
      "8143/8143 [==============================] - 0s 22us/step - loss: 4.0283 - binary_accuracy: 0.9404 - binary_crossentropy: 3.9893\n",
      "Epoch 332/1000\n",
      "8143/8143 [==============================] - 0s 17us/step - loss: 2.3509 - binary_accuracy: 0.9568 - binary_crossentropy: 2.3119\n",
      "Epoch 333/1000\n",
      "8143/8143 [==============================] - 0s 27us/step - loss: 2.2383 - binary_accuracy: 0.9520 - binary_crossentropy: 2.1994\n",
      "Epoch 334/1000\n",
      "8143/8143 [==============================] - 0s 30us/step - loss: 2.7017 - binary_accuracy: 0.9460 - binary_crossentropy: 2.6629\n",
      "Epoch 335/1000\n"
     ]
    },
    {
     "name": "stdout",
     "output_type": "stream",
     "text": [
      "8143/8143 [==============================] - 0s 23us/step - loss: 2.8376 - binary_accuracy: 0.9496 - binary_crossentropy: 2.7989\n",
      "Epoch 336/1000\n",
      "8143/8143 [==============================] - 0s 22us/step - loss: 2.3179 - binary_accuracy: 0.9543 - binary_crossentropy: 2.2793\n",
      "Epoch 337/1000\n",
      "8143/8143 [==============================] - 0s 19us/step - loss: 2.6829 - binary_accuracy: 0.9472 - binary_crossentropy: 2.6444\n",
      "Epoch 338/1000\n",
      "8143/8143 [==============================] - 0s 17us/step - loss: 12.3486 - binary_accuracy: 0.8837 - binary_crossentropy: 12.3101\n",
      "Epoch 339/1000\n",
      "8143/8143 [==============================] - 0s 29us/step - loss: 19.5981 - binary_accuracy: 0.8416 - binary_crossentropy: 19.5594\n",
      "Epoch 340/1000\n",
      "8143/8143 [==============================] - 0s 17us/step - loss: 13.8075 - binary_accuracy: 0.8545 - binary_crossentropy: 13.7686\n",
      "Epoch 341/1000\n",
      "8143/8143 [==============================] - 0s 18us/step - loss: 3.8183 - binary_accuracy: 0.9473 - binary_crossentropy: 3.7792\n",
      "Epoch 342/1000\n",
      "8143/8143 [==============================] - 0s 18us/step - loss: 2.7754 - binary_accuracy: 0.9522 - binary_crossentropy: 2.7363\n",
      "Epoch 343/1000\n",
      "8143/8143 [==============================] - 0s 17us/step - loss: 2.3738 - binary_accuracy: 0.9548 - binary_crossentropy: 2.3348\n",
      "Epoch 344/1000\n",
      "8143/8143 [==============================] - 0s 11us/step - loss: 2.1646 - binary_accuracy: 0.9559 - binary_crossentropy: 2.1256\n",
      "Epoch 345/1000\n",
      "8143/8143 [==============================] - 0s 11us/step - loss: 2.2658 - binary_accuracy: 0.9508 - binary_crossentropy: 2.2270\n",
      "Epoch 346/1000\n",
      "8143/8143 [==============================] - 0s 11us/step - loss: 2.2469 - binary_accuracy: 0.9515 - binary_crossentropy: 2.2082\n",
      "Epoch 347/1000\n",
      "8143/8143 [==============================] - 0s 13us/step - loss: 2.1316 - binary_accuracy: 0.9489 - binary_crossentropy: 2.0929\n",
      "Epoch 348/1000\n",
      "8143/8143 [==============================] - 0s 17us/step - loss: 2.2983 - binary_accuracy: 0.9472 - binary_crossentropy: 2.2597\n",
      "Epoch 349/1000\n",
      "8143/8143 [==============================] - 0s 12us/step - loss: 2.4106 - binary_accuracy: 0.9505 - binary_crossentropy: 2.3720\n",
      "Epoch 350/1000\n",
      "8143/8143 [==============================] - 0s 11us/step - loss: 2.4339 - binary_accuracy: 0.9501 - binary_crossentropy: 2.3954\n",
      "Epoch 351/1000\n",
      "8143/8143 [==============================] - 0s 30us/step - loss: 2.2596 - binary_accuracy: 0.9548 - binary_crossentropy: 2.2212\n",
      "Epoch 352/1000\n",
      "8143/8143 [==============================] - 0s 22us/step - loss: 2.3156 - binary_accuracy: 0.9487 - binary_crossentropy: 2.2772\n",
      "Epoch 353/1000\n",
      "8143/8143 [==============================] - 0s 25us/step - loss: 2.1580 - binary_accuracy: 0.9473 - binary_crossentropy: 2.1198\n",
      "Epoch 354/1000\n",
      "8143/8143 [==============================] - 0s 18us/step - loss: 2.4065 - binary_accuracy: 0.9495 - binary_crossentropy: 2.3684\n",
      "Epoch 355/1000\n",
      "8143/8143 [==============================] - 0s 18us/step - loss: 2.6651 - binary_accuracy: 0.9482 - binary_crossentropy: 2.6271\n",
      "Epoch 356/1000\n",
      "8143/8143 [==============================] - 0s 19us/step - loss: 4.3908 - binary_accuracy: 0.9299 - binary_crossentropy: 4.3528\n",
      "Epoch 357/1000\n",
      "8143/8143 [==============================] - 0s 20us/step - loss: 3.3326 - binary_accuracy: 0.9483 - binary_crossentropy: 3.2947\n",
      "Epoch 358/1000\n",
      "8143/8143 [==============================] - 0s 20us/step - loss: 2.2402 - binary_accuracy: 0.9547 - binary_crossentropy: 2.2024\n",
      "Epoch 359/1000\n",
      "8143/8143 [==============================] - 0s 18us/step - loss: 14.9333 - binary_accuracy: 0.8749 - binary_crossentropy: 14.8955\n",
      "Epoch 360/1000\n",
      "8143/8143 [==============================] - 0s 16us/step - loss: 25.5205 - binary_accuracy: 0.8090 - binary_crossentropy: 25.4824\n",
      "Epoch 361/1000\n",
      "8143/8143 [==============================] - 0s 18us/step - loss: 13.8824 - binary_accuracy: 0.8587 - binary_crossentropy: 13.8440\n",
      "Epoch 362/1000\n",
      "8143/8143 [==============================] - 0s 16us/step - loss: 6.1325 - binary_accuracy: 0.9165 - binary_crossentropy: 6.0939\n",
      "Epoch 363/1000\n",
      "8143/8143 [==============================] - 0s 18us/step - loss: 2.5990 - binary_accuracy: 0.9551 - binary_crossentropy: 2.5605\n",
      "Epoch 364/1000\n",
      "8143/8143 [==============================] - 0s 16us/step - loss: 2.1705 - binary_accuracy: 0.9541 - binary_crossentropy: 2.1320\n",
      "Epoch 365/1000\n",
      "8143/8143 [==============================] - 0s 16us/step - loss: 2.2862 - binary_accuracy: 0.9498 - binary_crossentropy: 2.2478\n",
      "Epoch 366/1000\n",
      "8143/8143 [==============================] - 0s 12us/step - loss: 2.2163 - binary_accuracy: 0.9528 - binary_crossentropy: 2.1779\n",
      "Epoch 367/1000\n",
      "8143/8143 [==============================] - 0s 15us/step - loss: 2.2100 - binary_accuracy: 0.9506 - binary_crossentropy: 2.1717\n",
      "Epoch 368/1000\n",
      "8143/8143 [==============================] - 0s 12us/step - loss: 2.8516 - binary_accuracy: 0.9447 - binary_crossentropy: 2.8134\n",
      "Epoch 369/1000\n",
      "8143/8143 [==============================] - 0s 11us/step - loss: 3.4453 - binary_accuracy: 0.9462 - binary_crossentropy: 3.4071\n",
      "Epoch 370/1000\n",
      "8143/8143 [==============================] - 0s 11us/step - loss: 2.5650 - binary_accuracy: 0.9543 - binary_crossentropy: 2.5269\n",
      "Epoch 371/1000\n",
      "8143/8143 [==============================] - 0s 12us/step - loss: 2.5804 - binary_accuracy: 0.9527 - binary_crossentropy: 2.5423\n",
      "Epoch 372/1000\n",
      "8143/8143 [==============================] - 0s 12us/step - loss: 2.3440 - binary_accuracy: 0.9535 - binary_crossentropy: 2.3061\n",
      "Epoch 373/1000\n",
      "8143/8143 [==============================] - 0s 17us/step - loss: 2.4595 - binary_accuracy: 0.9519 - binary_crossentropy: 2.4216\n",
      "Epoch 374/1000\n",
      "8143/8143 [==============================] - 0s 21us/step - loss: 2.7390 - binary_accuracy: 0.9476 - binary_crossentropy: 2.7012\n",
      "Epoch 375/1000\n",
      "8143/8143 [==============================] - 0s 17us/step - loss: 2.2552 - binary_accuracy: 0.9506 - binary_crossentropy: 2.2175\n",
      "Epoch 376/1000\n",
      "8143/8143 [==============================] - 0s 15us/step - loss: 2.2691 - binary_accuracy: 0.9519 - binary_crossentropy: 2.2314\n",
      "Epoch 377/1000\n",
      "8143/8143 [==============================] - 0s 15us/step - loss: 2.3414 - binary_accuracy: 0.9501 - binary_crossentropy: 2.3038\n",
      "Epoch 378/1000\n",
      "8143/8143 [==============================] - 0s 18us/step - loss: 2.9978 - binary_accuracy: 0.9457 - binary_crossentropy: 2.9603\n",
      "Epoch 379/1000\n",
      "8143/8143 [==============================] - 0s 17us/step - loss: 2.2890 - binary_accuracy: 0.9558 - binary_crossentropy: 2.2517\n",
      "Epoch 380/1000\n",
      "8143/8143 [==============================] - 0s 17us/step - loss: 2.2208 - binary_accuracy: 0.9503 - binary_crossentropy: 2.1835\n",
      "Epoch 381/1000\n",
      "8143/8143 [==============================] - 0s 11us/step - loss: 12.8628 - binary_accuracy: 0.8803 - binary_crossentropy: 12.8257\n",
      "Epoch 382/1000\n",
      "8143/8143 [==============================] - 0s 12us/step - loss: 21.9132 - binary_accuracy: 0.8293 - binary_crossentropy: 21.8759\n",
      "Epoch 383/1000\n",
      "8143/8143 [==============================] - 0s 12us/step - loss: 20.7007 - binary_accuracy: 0.8295 - binary_crossentropy: 20.6630\n",
      "Epoch 384/1000\n",
      "8143/8143 [==============================] - 0s 11us/step - loss: 7.6053 - binary_accuracy: 0.8993 - binary_crossentropy: 7.5673\n",
      "Epoch 385/1000\n",
      "8143/8143 [==============================] - 0s 12us/step - loss: 2.5116 - binary_accuracy: 0.9558 - binary_crossentropy: 2.4735\n",
      "Epoch 386/1000\n",
      "8143/8143 [==============================] - 0s 18us/step - loss: 2.2010 - binary_accuracy: 0.9552 - binary_crossentropy: 2.1631\n",
      "Epoch 387/1000\n",
      "8143/8143 [==============================] - 0s 12us/step - loss: 2.2159 - binary_accuracy: 0.9517 - binary_crossentropy: 2.1780\n",
      "Epoch 388/1000\n",
      "8143/8143 [==============================] - 0s 11us/step - loss: 2.1865 - binary_accuracy: 0.9517 - binary_crossentropy: 2.1487\n",
      "Epoch 389/1000\n",
      "8143/8143 [==============================] - 0s 12us/step - loss: 2.4238 - binary_accuracy: 0.9505 - binary_crossentropy: 2.3861\n",
      "Epoch 390/1000\n",
      "8143/8143 [==============================] - 0s 11us/step - loss: 2.3622 - binary_accuracy: 0.9496 - binary_crossentropy: 2.3245\n",
      "Epoch 391/1000\n",
      "8143/8143 [==============================] - 0s 12us/step - loss: 2.1542 - binary_accuracy: 0.9526 - binary_crossentropy: 2.1166\n",
      "Epoch 392/1000\n",
      "8143/8143 [==============================] - 0s 14us/step - loss: 2.6756 - binary_accuracy: 0.9485 - binary_crossentropy: 2.6381\n",
      "Epoch 393/1000\n",
      "8143/8143 [==============================] - 0s 14us/step - loss: 2.5185 - binary_accuracy: 0.9522 - binary_crossentropy: 2.4811\n",
      "Epoch 394/1000\n",
      "8143/8143 [==============================] - 0s 11us/step - loss: 4.0429 - binary_accuracy: 0.9375 - binary_crossentropy: 4.0055\n",
      "Epoch 395/1000\n",
      "8143/8143 [==============================] - 0s 16us/step - loss: 2.7997 - binary_accuracy: 0.9508 - binary_crossentropy: 2.7623\n",
      "Epoch 396/1000\n",
      "8143/8143 [==============================] - 0s 20us/step - loss: 2.2973 - binary_accuracy: 0.9526 - binary_crossentropy: 2.2600\n",
      "Epoch 397/1000\n",
      "8143/8143 [==============================] - 0s 16us/step - loss: 3.5728 - binary_accuracy: 0.9442 - binary_crossentropy: 3.5356\n",
      "Epoch 398/1000\n",
      "8143/8143 [==============================] - 0s 18us/step - loss: 2.7633 - binary_accuracy: 0.9526 - binary_crossentropy: 2.7262\n",
      "Epoch 399/1000\n",
      "8143/8143 [==============================] - 0s 17us/step - loss: 2.2184 - binary_accuracy: 0.9531 - binary_crossentropy: 2.1814\n",
      "Epoch 400/1000\n",
      "8143/8143 [==============================] - 0s 19us/step - loss: 2.1938 - binary_accuracy: 0.9527 - binary_crossentropy: 2.1569\n",
      "Epoch 401/1000\n",
      "8143/8143 [==============================] - 0s 20us/step - loss: 2.5990 - binary_accuracy: 0.9465 - binary_crossentropy: 2.5622\n",
      "Epoch 402/1000\n",
      "8143/8143 [==============================] - 0s 14us/step - loss: 4.0275 - binary_accuracy: 0.9388 - binary_crossentropy: 3.9907\n",
      "Epoch 403/1000\n",
      "8143/8143 [==============================] - 0s 15us/step - loss: 2.3127 - binary_accuracy: 0.9563 - binary_crossentropy: 2.2760\n",
      "Epoch 404/1000\n",
      "8143/8143 [==============================] - 0s 12us/step - loss: 5.2876 - binary_accuracy: 0.9196 - binary_crossentropy: 5.2510\n",
      "Epoch 405/1000\n",
      "8143/8143 [==============================] - 0s 11us/step - loss: 9.4192 - binary_accuracy: 0.9034 - binary_crossentropy: 9.3825\n",
      "Epoch 406/1000\n",
      "8143/8143 [==============================] - 0s 15us/step - loss: 14.0852 - binary_accuracy: 0.8713 - binary_crossentropy: 14.0484\n",
      "Epoch 407/1000\n",
      "8143/8143 [==============================] - 0s 16us/step - loss: 20.8734 - binary_accuracy: 0.8249 - binary_crossentropy: 20.8364\n",
      "Epoch 408/1000\n",
      "8143/8143 [==============================] - 0s 12us/step - loss: 7.8499 - binary_accuracy: 0.9051 - binary_crossentropy: 7.8126\n",
      "Epoch 409/1000\n",
      "8143/8143 [==============================] - 0s 13us/step - loss: 2.6047 - binary_accuracy: 0.9509 - binary_crossentropy: 2.5673\n",
      "Epoch 410/1000\n",
      "8143/8143 [==============================] - 0s 16us/step - loss: 2.2311 - binary_accuracy: 0.9542 - binary_crossentropy: 2.1938\n",
      "Epoch 411/1000\n",
      "8143/8143 [==============================] - 0s 14us/step - loss: 2.1793 - binary_accuracy: 0.9515 - binary_crossentropy: 2.1421\n",
      "Epoch 412/1000\n",
      "8143/8143 [==============================] - 0s 15us/step - loss: 2.1082 - binary_accuracy: 0.9514 - binary_crossentropy: 2.0710\n",
      "Epoch 413/1000\n",
      "8143/8143 [==============================] - 0s 15us/step - loss: 2.3285 - binary_accuracy: 0.9485 - binary_crossentropy: 2.2914\n",
      "Epoch 414/1000\n",
      "8143/8143 [==============================] - 0s 15us/step - loss: 2.1043 - binary_accuracy: 0.9503 - binary_crossentropy: 2.0672\n",
      "Epoch 415/1000\n",
      "8143/8143 [==============================] - 0s 16us/step - loss: 2.4663 - binary_accuracy: 0.9493 - binary_crossentropy: 2.4293\n",
      "Epoch 416/1000\n",
      "8143/8143 [==============================] - 0s 16us/step - loss: 2.5140 - binary_accuracy: 0.9485 - binary_crossentropy: 2.4771\n",
      "Epoch 417/1000\n",
      "8143/8143 [==============================] - 0s 14us/step - loss: 2.1443 - binary_accuracy: 0.9530 - binary_crossentropy: 2.1075\n",
      "Epoch 418/1000\n",
      "8143/8143 [==============================] - 0s 20us/step - loss: 2.7448 - binary_accuracy: 0.9477 - binary_crossentropy: 2.7080\n",
      "Epoch 419/1000\n",
      "8143/8143 [==============================] - 0s 15us/step - loss: 2.3900 - binary_accuracy: 0.9526 - binary_crossentropy: 2.3534\n",
      "Epoch 420/1000\n",
      "8143/8143 [==============================] - 0s 15us/step - loss: 2.2069 - binary_accuracy: 0.9512 - binary_crossentropy: 2.1703\n",
      "Epoch 421/1000\n",
      "8143/8143 [==============================] - 0s 14us/step - loss: 2.1801 - binary_accuracy: 0.9536 - binary_crossentropy: 2.1436\n",
      "Epoch 422/1000\n",
      "8143/8143 [==============================] - 0s 19us/step - loss: 2.6412 - binary_accuracy: 0.9469 - binary_crossentropy: 2.6048\n",
      "Epoch 423/1000\n",
      "8143/8143 [==============================] - 0s 17us/step - loss: 3.6573 - binary_accuracy: 0.9406 - binary_crossentropy: 3.6210\n",
      "Epoch 424/1000\n",
      "8143/8143 [==============================] - 0s 18us/step - loss: 2.4259 - binary_accuracy: 0.9536 - binary_crossentropy: 2.3896\n",
      "Epoch 425/1000\n",
      "8143/8143 [==============================] - 0s 18us/step - loss: 2.4259 - binary_accuracy: 0.9521 - binary_crossentropy: 2.3897\n",
      "Epoch 426/1000\n",
      "8143/8143 [==============================] - 0s 16us/step - loss: 2.1963 - binary_accuracy: 0.9499 - binary_crossentropy: 2.1602\n",
      "Epoch 427/1000\n",
      "8143/8143 [==============================] - 0s 15us/step - loss: 2.2904 - binary_accuracy: 0.9496 - binary_crossentropy: 2.2544\n",
      "Epoch 428/1000\n",
      "8143/8143 [==============================] - 0s 15us/step - loss: 2.3498 - binary_accuracy: 0.9494 - binary_crossentropy: 2.3139\n",
      "Epoch 429/1000\n",
      "8143/8143 [==============================] - 0s 15us/step - loss: 2.3856 - binary_accuracy: 0.9517 - binary_crossentropy: 2.3498\n",
      "Epoch 430/1000\n",
      "8143/8143 [==============================] - 0s 12us/step - loss: 14.7528 - binary_accuracy: 0.8572 - binary_crossentropy: 14.7170\n",
      "Epoch 431/1000\n",
      "8143/8143 [==============================] - 0s 18us/step - loss: 4.6360 - binary_accuracy: 0.9360 - binary_crossentropy: 4.6000\n",
      "Epoch 432/1000\n",
      "8143/8143 [==============================] - 0s 17us/step - loss: 2.2114 - binary_accuracy: 0.9579 - binary_crossentropy: 2.1754\n",
      "Epoch 433/1000\n",
      "8143/8143 [==============================] - 0s 15us/step - loss: 2.1056 - binary_accuracy: 0.9542 - binary_crossentropy: 2.0698\n",
      "Epoch 434/1000\n",
      "8143/8143 [==============================] - 0s 17us/step - loss: 2.0776 - binary_accuracy: 0.9490 - binary_crossentropy: 2.0419\n",
      "Epoch 435/1000\n",
      "8143/8143 [==============================] - 0s 14us/step - loss: 2.0746 - binary_accuracy: 0.9489 - binary_crossentropy: 2.0389\n",
      "Epoch 436/1000\n",
      "8143/8143 [==============================] - 0s 17us/step - loss: 2.8007 - binary_accuracy: 0.9463 - binary_crossentropy: 2.7650\n",
      "Epoch 437/1000\n",
      "8143/8143 [==============================] - 0s 15us/step - loss: 2.4868 - binary_accuracy: 0.9524 - binary_crossentropy: 2.4513\n",
      "Epoch 438/1000\n",
      "8143/8143 [==============================] - 0s 20us/step - loss: 2.0947 - binary_accuracy: 0.9532 - binary_crossentropy: 2.0592\n",
      "Epoch 439/1000\n",
      "8143/8143 [==============================] - 0s 16us/step - loss: 2.1328 - binary_accuracy: 0.9504 - binary_crossentropy: 2.0974\n",
      "Epoch 440/1000\n",
      "8143/8143 [==============================] - 0s 12us/step - loss: 2.1249 - binary_accuracy: 0.9509 - binary_crossentropy: 2.0896\n",
      "Epoch 441/1000\n",
      "8143/8143 [==============================] - 0s 12us/step - loss: 2.1717 - binary_accuracy: 0.9501 - binary_crossentropy: 2.1364\n",
      "Epoch 442/1000\n",
      "8143/8143 [==============================] - 0s 12us/step - loss: 2.2720 - binary_accuracy: 0.9494 - binary_crossentropy: 2.2369\n",
      "Epoch 443/1000\n",
      "8143/8143 [==============================] - 0s 12us/step - loss: 2.2297 - binary_accuracy: 0.9492 - binary_crossentropy: 2.1947\n",
      "Epoch 444/1000\n",
      "8143/8143 [==============================] - 0s 13us/step - loss: 2.3745 - binary_accuracy: 0.9493 - binary_crossentropy: 2.3396\n",
      "Epoch 445/1000\n",
      "8143/8143 [==============================] - 0s 17us/step - loss: 2.0551 - binary_accuracy: 0.9531 - binary_crossentropy: 2.0202\n",
      "Epoch 446/1000\n",
      "8143/8143 [==============================] - 0s 16us/step - loss: 2.3674 - binary_accuracy: 0.9494 - binary_crossentropy: 2.3326\n",
      "Epoch 447/1000\n"
     ]
    },
    {
     "name": "stdout",
     "output_type": "stream",
     "text": [
      "8143/8143 [==============================] - 0s 16us/step - loss: 19.7002 - binary_accuracy: 0.8494 - binary_crossentropy: 19.6655\n",
      "Epoch 448/1000\n",
      "8143/8143 [==============================] - 0s 13us/step - loss: 9.8372 - binary_accuracy: 0.8865 - binary_crossentropy: 9.8022\n",
      "Epoch 449/1000\n",
      "8143/8143 [==============================] - 0s 15us/step - loss: 3.0190 - binary_accuracy: 0.9484 - binary_crossentropy: 2.9839\n",
      "Epoch 450/1000\n",
      "8143/8143 [==============================] - 0s 16us/step - loss: 2.1682 - binary_accuracy: 0.9544 - binary_crossentropy: 2.1332\n",
      "Epoch 451/1000\n",
      "8143/8143 [==============================] - 0s 15us/step - loss: 2.1807 - binary_accuracy: 0.9544 - binary_crossentropy: 2.1457\n",
      "Epoch 452/1000\n",
      "8143/8143 [==============================] - 0s 16us/step - loss: 2.2072 - binary_accuracy: 0.9512 - binary_crossentropy: 2.1723\n",
      "Epoch 453/1000\n",
      "8143/8143 [==============================] - 0s 15us/step - loss: 2.1321 - binary_accuracy: 0.9500 - binary_crossentropy: 2.0973\n",
      "Epoch 454/1000\n",
      "8143/8143 [==============================] - 0s 12us/step - loss: 2.1458 - binary_accuracy: 0.9520 - binary_crossentropy: 2.1111\n",
      "Epoch 455/1000\n",
      "8143/8143 [==============================] - 0s 16us/step - loss: 2.0765 - binary_accuracy: 0.9501 - binary_crossentropy: 2.0418\n",
      "Epoch 456/1000\n",
      "8143/8143 [==============================] - 0s 14us/step - loss: 2.0398 - binary_accuracy: 0.9517 - binary_crossentropy: 2.0052\n",
      "Epoch 457/1000\n",
      "8143/8143 [==============================] - 0s 13us/step - loss: 2.0326 - binary_accuracy: 0.9493 - binary_crossentropy: 1.9981\n",
      "Epoch 458/1000\n",
      "8143/8143 [==============================] - 0s 12us/step - loss: 2.2591 - binary_accuracy: 0.9492 - binary_crossentropy: 2.2246\n",
      "Epoch 459/1000\n",
      "8143/8143 [==============================] - 0s 14us/step - loss: 2.2725 - binary_accuracy: 0.9508 - binary_crossentropy: 2.2381\n",
      "Epoch 460/1000\n",
      "8143/8143 [==============================] - 0s 13us/step - loss: 2.3807 - binary_accuracy: 0.9483 - binary_crossentropy: 2.3464\n",
      "Epoch 461/1000\n",
      "8143/8143 [==============================] - 0s 15us/step - loss: 2.0623 - binary_accuracy: 0.9524 - binary_crossentropy: 2.0281\n",
      "Epoch 462/1000\n",
      "8143/8143 [==============================] - 0s 15us/step - loss: 2.1799 - binary_accuracy: 0.9501 - binary_crossentropy: 2.1458\n",
      "Epoch 463/1000\n",
      "8143/8143 [==============================] - 0s 16us/step - loss: 2.1094 - binary_accuracy: 0.9522 - binary_crossentropy: 2.0753\n",
      "Epoch 464/1000\n",
      "8143/8143 [==============================] - 0s 15us/step - loss: 2.0897 - binary_accuracy: 0.9524 - binary_crossentropy: 2.0558\n",
      "Epoch 465/1000\n",
      "8143/8143 [==============================] - 0s 13us/step - loss: 2.1255 - binary_accuracy: 0.9516 - binary_crossentropy: 2.0917\n",
      "Epoch 466/1000\n",
      "8143/8143 [==============================] - 0s 13us/step - loss: 2.5448 - binary_accuracy: 0.9442 - binary_crossentropy: 2.5111\n",
      "Epoch 467/1000\n",
      "8143/8143 [==============================] - 0s 12us/step - loss: 14.3002 - binary_accuracy: 0.8466 - binary_crossentropy: 14.2665\n",
      "Epoch 468/1000\n",
      "8143/8143 [==============================] - 0s 11us/step - loss: 19.9606 - binary_accuracy: 0.8293 - binary_crossentropy: 19.9266\n",
      "Epoch 469/1000\n",
      "8143/8143 [==============================] - 0s 11us/step - loss: 19.3671 - binary_accuracy: 0.8311 - binary_crossentropy: 19.3328\n",
      "Epoch 470/1000\n",
      "8143/8143 [==============================] - 0s 14us/step - loss: 14.1817 - binary_accuracy: 0.8719 - binary_crossentropy: 14.1470\n",
      "Epoch 471/1000\n",
      "8143/8143 [==============================] - 0s 14us/step - loss: 2.5959 - binary_accuracy: 0.9504 - binary_crossentropy: 2.5611\n",
      "Epoch 472/1000\n",
      "8143/8143 [==============================] - 0s 13us/step - loss: 2.3360 - binary_accuracy: 0.9536 - binary_crossentropy: 2.3013\n",
      "Epoch 473/1000\n",
      "8143/8143 [==============================] - 0s 12us/step - loss: 2.1132 - binary_accuracy: 0.9530 - binary_crossentropy: 2.0785\n",
      "Epoch 474/1000\n",
      "8143/8143 [==============================] - 0s 13us/step - loss: 2.0192 - binary_accuracy: 0.9514 - binary_crossentropy: 1.9846\n",
      "Epoch 475/1000\n",
      "8143/8143 [==============================] - 0s 11us/step - loss: 2.0542 - binary_accuracy: 0.9506 - binary_crossentropy: 2.0197\n",
      "Epoch 476/1000\n",
      "8143/8143 [==============================] - 0s 11us/step - loss: 2.0457 - binary_accuracy: 0.9490 - binary_crossentropy: 2.0112\n",
      "Epoch 477/1000\n",
      "8143/8143 [==============================] - 0s 12us/step - loss: 2.1394 - binary_accuracy: 0.9499 - binary_crossentropy: 2.1050\n",
      "Epoch 478/1000\n",
      "8143/8143 [==============================] - 0s 17us/step - loss: 2.0148 - binary_accuracy: 0.9512 - binary_crossentropy: 1.9805\n",
      "Epoch 479/1000\n",
      "8143/8143 [==============================] - 0s 16us/step - loss: 2.3073 - binary_accuracy: 0.9487 - binary_crossentropy: 2.2731\n",
      "Epoch 480/1000\n",
      "8143/8143 [==============================] - 0s 16us/step - loss: 2.0983 - binary_accuracy: 0.9505 - binary_crossentropy: 2.0641\n",
      "Epoch 481/1000\n",
      "8143/8143 [==============================] - 0s 24us/step - loss: 2.0702 - binary_accuracy: 0.9514 - binary_crossentropy: 2.0361\n",
      "Epoch 482/1000\n",
      "8143/8143 [==============================] - 0s 15us/step - loss: 2.1739 - binary_accuracy: 0.9509 - binary_crossentropy: 2.1399\n",
      "Epoch 483/1000\n",
      "8143/8143 [==============================] - 0s 15us/step - loss: 2.0809 - binary_accuracy: 0.9503 - binary_crossentropy: 2.0470\n",
      "Epoch 484/1000\n",
      "8143/8143 [==============================] - 0s 20us/step - loss: 2.0884 - binary_accuracy: 0.9498 - binary_crossentropy: 2.0546\n",
      "Epoch 485/1000\n",
      "8143/8143 [==============================] - 0s 22us/step - loss: 2.1480 - binary_accuracy: 0.9515 - binary_crossentropy: 2.1142\n",
      "Epoch 486/1000\n",
      "8143/8143 [==============================] - 0s 30us/step - loss: 2.0941 - binary_accuracy: 0.9514 - binary_crossentropy: 2.0605\n",
      "Epoch 487/1000\n",
      "8143/8143 [==============================] - 0s 18us/step - loss: 2.2240 - binary_accuracy: 0.9501 - binary_crossentropy: 2.1905\n",
      "Epoch 488/1000\n",
      "8143/8143 [==============================] - 0s 21us/step - loss: 2.1698 - binary_accuracy: 0.9516 - binary_crossentropy: 2.1364\n",
      "Epoch 489/1000\n",
      "8143/8143 [==============================] - 0s 25us/step - loss: 2.0757 - binary_accuracy: 0.9521 - binary_crossentropy: 2.0423\n",
      "Epoch 490/1000\n",
      "8143/8143 [==============================] - 0s 23us/step - loss: 9.0256 - binary_accuracy: 0.8843 - binary_crossentropy: 8.9923\n",
      "Epoch 491/1000\n",
      "8143/8143 [==============================] - 0s 25us/step - loss: 4.9817 - binary_accuracy: 0.9274 - binary_crossentropy: 4.9483\n",
      "Epoch 492/1000\n",
      "8143/8143 [==============================] - 0s 22us/step - loss: 6.8291 - binary_accuracy: 0.9032 - binary_crossentropy: 6.7956\n",
      "Epoch 493/1000\n",
      "8143/8143 [==============================] - 0s 18us/step - loss: 2.7651 - binary_accuracy: 0.9531 - binary_crossentropy: 2.7316\n",
      "Epoch 494/1000\n",
      "8143/8143 [==============================] - 0s 21us/step - loss: 2.1452 - binary_accuracy: 0.9535 - binary_crossentropy: 2.1118\n",
      "Epoch 495/1000\n",
      "8143/8143 [==============================] - 0s 24us/step - loss: 4.3294 - binary_accuracy: 0.9279 - binary_crossentropy: 4.2961\n",
      "Epoch 496/1000\n",
      "8143/8143 [==============================] - 0s 30us/step - loss: 15.6780 - binary_accuracy: 0.8470 - binary_crossentropy: 15.6446\n",
      "Epoch 497/1000\n",
      "8143/8143 [==============================] - 0s 25us/step - loss: 2.8107 - binary_accuracy: 0.9496 - binary_crossentropy: 2.7771\n",
      "Epoch 498/1000\n",
      "8143/8143 [==============================] - 0s 24us/step - loss: 2.2017 - binary_accuracy: 0.9582 - binary_crossentropy: 2.1682\n",
      "Epoch 499/1000\n",
      "8143/8143 [==============================] - 0s 27us/step - loss: 2.0212 - binary_accuracy: 0.9547 - binary_crossentropy: 1.9878\n",
      "Epoch 500/1000\n",
      "8143/8143 [==============================] - 0s 23us/step - loss: 1.9838 - binary_accuracy: 0.9517 - binary_crossentropy: 1.9504\n",
      "Epoch 501/1000\n",
      "8143/8143 [==============================] - 0s 27us/step - loss: 2.2046 - binary_accuracy: 0.9508 - binary_crossentropy: 2.1713\n",
      "Epoch 502/1000\n",
      "8143/8143 [==============================] - 0s 21us/step - loss: 2.0081 - binary_accuracy: 0.9524 - binary_crossentropy: 1.9749\n",
      "Epoch 503/1000\n",
      "8143/8143 [==============================] - 0s 30us/step - loss: 2.0149 - binary_accuracy: 0.9511 - binary_crossentropy: 1.9817\n",
      "Epoch 504/1000\n",
      "8143/8143 [==============================] - 0s 23us/step - loss: 1.9909 - binary_accuracy: 0.9500 - binary_crossentropy: 1.9579\n",
      "Epoch 505/1000\n",
      "8143/8143 [==============================] - 0s 30us/step - loss: 2.3939 - binary_accuracy: 0.9483 - binary_crossentropy: 2.3609\n",
      "Epoch 506/1000\n",
      "8143/8143 [==============================] - 0s 18us/step - loss: 2.2341 - binary_accuracy: 0.9495 - binary_crossentropy: 2.2012\n",
      "Epoch 507/1000\n",
      "8143/8143 [==============================] - 0s 20us/step - loss: 2.0132 - binary_accuracy: 0.9498 - binary_crossentropy: 1.9804\n",
      "Epoch 508/1000\n",
      "8143/8143 [==============================] - 0s 22us/step - loss: 2.1174 - binary_accuracy: 0.9512 - binary_crossentropy: 2.0846\n",
      "Epoch 509/1000\n",
      "8143/8143 [==============================] - 0s 21us/step - loss: 2.5671 - binary_accuracy: 0.9481 - binary_crossentropy: 2.5345\n",
      "Epoch 510/1000\n",
      "8143/8143 [==============================] - 0s 20us/step - loss: 18.1044 - binary_accuracy: 0.8389 - binary_crossentropy: 18.0718\n",
      "Epoch 511/1000\n",
      "8143/8143 [==============================] - 0s 26us/step - loss: 8.4800 - binary_accuracy: 0.8968 - binary_crossentropy: 8.4471\n",
      "Epoch 512/1000\n",
      "8143/8143 [==============================] - 0s 26us/step - loss: 2.9134 - binary_accuracy: 0.9483 - binary_crossentropy: 2.8805\n",
      "Epoch 513/1000\n",
      "8143/8143 [==============================] - 0s 18us/step - loss: 2.2189 - binary_accuracy: 0.9564 - binary_crossentropy: 2.1860\n",
      "Epoch 514/1000\n",
      "8143/8143 [==============================] - 0s 19us/step - loss: 2.0440 - binary_accuracy: 0.9526 - binary_crossentropy: 2.0111\n",
      "Epoch 515/1000\n",
      "8143/8143 [==============================] - 0s 19us/step - loss: 2.0537 - binary_accuracy: 0.9498 - binary_crossentropy: 2.0209\n",
      "Epoch 516/1000\n",
      "8143/8143 [==============================] - 0s 18us/step - loss: 2.4536 - binary_accuracy: 0.9500 - binary_crossentropy: 2.4209\n",
      "Epoch 517/1000\n",
      "8143/8143 [==============================] - 0s 18us/step - loss: 2.6468 - binary_accuracy: 0.9515 - binary_crossentropy: 2.6142\n",
      "Epoch 518/1000\n",
      "8143/8143 [==============================] - 0s 30us/step - loss: 3.4097 - binary_accuracy: 0.9425 - binary_crossentropy: 3.3771\n",
      "Epoch 519/1000\n",
      "8143/8143 [==============================] - 0s 23us/step - loss: 2.0857 - binary_accuracy: 0.9555 - binary_crossentropy: 2.0531\n",
      "Epoch 520/1000\n",
      "8143/8143 [==============================] - 0s 17us/step - loss: 3.0329 - binary_accuracy: 0.9420 - binary_crossentropy: 3.0005\n",
      "Epoch 521/1000\n",
      "8143/8143 [==============================] - 0s 15us/step - loss: 3.5991 - binary_accuracy: 0.9415 - binary_crossentropy: 3.5667\n",
      "Epoch 522/1000\n",
      "8143/8143 [==============================] - 0s 15us/step - loss: 2.6165 - binary_accuracy: 0.9511 - binary_crossentropy: 2.5841\n",
      "Epoch 523/1000\n",
      "8143/8143 [==============================] - 0s 16us/step - loss: 2.5467 - binary_accuracy: 0.9511 - binary_crossentropy: 2.5144\n",
      "Epoch 524/1000\n",
      "8143/8143 [==============================] - 0s 16us/step - loss: 2.1847 - binary_accuracy: 0.9535 - binary_crossentropy: 2.1524\n",
      "Epoch 525/1000\n",
      "8143/8143 [==============================] - 0s 16us/step - loss: 2.4765 - binary_accuracy: 0.9488 - binary_crossentropy: 2.4443\n",
      "Epoch 526/1000\n",
      "8143/8143 [==============================] - 0s 16us/step - loss: 2.9153 - binary_accuracy: 0.9485 - binary_crossentropy: 2.8832\n",
      "Epoch 527/1000\n",
      "8143/8143 [==============================] - 0s 16us/step - loss: 2.4387 - binary_accuracy: 0.9527 - binary_crossentropy: 2.4067\n",
      "Epoch 528/1000\n",
      "8143/8143 [==============================] - 0s 15us/step - loss: 4.6975 - binary_accuracy: 0.9153 - binary_crossentropy: 4.6656\n",
      "Epoch 529/1000\n",
      "8143/8143 [==============================] - 0s 15us/step - loss: 20.3081 - binary_accuracy: 0.8316 - binary_crossentropy: 20.2760\n",
      "Epoch 530/1000\n",
      "8143/8143 [==============================] - 0s 19us/step - loss: 4.5482 - binary_accuracy: 0.9327 - binary_crossentropy: 4.5159\n",
      "Epoch 531/1000\n",
      "8143/8143 [==============================] - 0s 16us/step - loss: 2.1361 - binary_accuracy: 0.9551 - binary_crossentropy: 2.1039\n",
      "Epoch 532/1000\n",
      "8143/8143 [==============================] - 0s 15us/step - loss: 2.3168 - binary_accuracy: 0.9485 - binary_crossentropy: 2.2846\n",
      "Epoch 533/1000\n",
      "8143/8143 [==============================] - 0s 17us/step - loss: 2.1904 - binary_accuracy: 0.9512 - binary_crossentropy: 2.1583\n",
      "Epoch 534/1000\n",
      "8143/8143 [==============================] - 0s 16us/step - loss: 2.2160 - binary_accuracy: 0.9521 - binary_crossentropy: 2.1839\n",
      "Epoch 535/1000\n",
      "8143/8143 [==============================] - 0s 17us/step - loss: 2.0190 - binary_accuracy: 0.9537 - binary_crossentropy: 1.9870\n",
      "Epoch 536/1000\n",
      "8143/8143 [==============================] - 0s 17us/step - loss: 1.9547 - binary_accuracy: 0.9509 - binary_crossentropy: 1.9227\n",
      "Epoch 537/1000\n",
      "8143/8143 [==============================] - 0s 18us/step - loss: 2.0558 - binary_accuracy: 0.9483 - binary_crossentropy: 2.0240\n",
      "Epoch 538/1000\n",
      "8143/8143 [==============================] - 0s 16us/step - loss: 2.2608 - binary_accuracy: 0.9485 - binary_crossentropy: 2.2290\n",
      "Epoch 539/1000\n",
      "8143/8143 [==============================] - 0s 22us/step - loss: 1.9997 - binary_accuracy: 0.9525 - binary_crossentropy: 1.9680\n",
      "Epoch 540/1000\n",
      "8143/8143 [==============================] - 0s 22us/step - loss: 2.6495 - binary_accuracy: 0.9500 - binary_crossentropy: 2.6178\n",
      "Epoch 541/1000\n",
      "8143/8143 [==============================] - 0s 19us/step - loss: 2.6050 - binary_accuracy: 0.9489 - binary_crossentropy: 2.5734\n",
      "Epoch 542/1000\n",
      "8143/8143 [==============================] - 0s 17us/step - loss: 2.3029 - binary_accuracy: 0.9542 - binary_crossentropy: 2.2714\n",
      "Epoch 543/1000\n",
      "8143/8143 [==============================] - 0s 24us/step - loss: 2.0250 - binary_accuracy: 0.9560 - binary_crossentropy: 1.9936\n",
      "Epoch 544/1000\n",
      "8143/8143 [==============================] - 0s 24us/step - loss: 2.0462 - binary_accuracy: 0.9499 - binary_crossentropy: 2.0149\n",
      "Epoch 545/1000\n",
      "8143/8143 [==============================] - 0s 24us/step - loss: 2.0503 - binary_accuracy: 0.9520 - binary_crossentropy: 2.0190\n",
      "Epoch 546/1000\n",
      "8143/8143 [==============================] - 0s 22us/step - loss: 2.1846 - binary_accuracy: 0.9509 - binary_crossentropy: 2.1534\n",
      "Epoch 547/1000\n",
      "8143/8143 [==============================] - 0s 20us/step - loss: 2.4186 - binary_accuracy: 0.9500 - binary_crossentropy: 2.3875\n",
      "Epoch 548/1000\n",
      "8143/8143 [==============================] - 0s 22us/step - loss: 2.6468 - binary_accuracy: 0.9503 - binary_crossentropy: 2.6158\n",
      "Epoch 549/1000\n",
      "8143/8143 [==============================] - 0s 23us/step - loss: 2.1023 - binary_accuracy: 0.9541 - binary_crossentropy: 2.0714\n",
      "Epoch 550/1000\n",
      "8143/8143 [==============================] - 0s 19us/step - loss: 1.9564 - binary_accuracy: 0.9525 - binary_crossentropy: 1.9255\n",
      "Epoch 551/1000\n",
      "8143/8143 [==============================] - 0s 21us/step - loss: 3.8653 - binary_accuracy: 0.9327 - binary_crossentropy: 3.8346\n",
      "Epoch 552/1000\n",
      "8143/8143 [==============================] - 0s 26us/step - loss: 22.4253 - binary_accuracy: 0.8173 - binary_crossentropy: 22.3945\n",
      "Epoch 553/1000\n",
      "8143/8143 [==============================] - 0s 20us/step - loss: 9.3373 - binary_accuracy: 0.8784 - binary_crossentropy: 9.3062\n",
      "Epoch 554/1000\n",
      "8143/8143 [==============================] - 0s 17us/step - loss: 3.1171 - binary_accuracy: 0.9461 - binary_crossentropy: 3.0860\n",
      "Epoch 555/1000\n",
      "8143/8143 [==============================] - 0s 18us/step - loss: 2.1036 - binary_accuracy: 0.9569 - binary_crossentropy: 2.0725\n",
      "Epoch 556/1000\n",
      "8143/8143 [==============================] - 0s 17us/step - loss: 2.9804 - binary_accuracy: 0.9481 - binary_crossentropy: 2.9493\n",
      "Epoch 557/1000\n",
      "8143/8143 [==============================] - 0s 16us/step - loss: 2.0520 - binary_accuracy: 0.9563 - binary_crossentropy: 2.0210\n",
      "Epoch 558/1000\n",
      "8143/8143 [==============================] - 0s 15us/step - loss: 1.9903 - binary_accuracy: 0.9531 - binary_crossentropy: 1.9594\n",
      "Epoch 559/1000\n"
     ]
    },
    {
     "name": "stdout",
     "output_type": "stream",
     "text": [
      "8143/8143 [==============================] - 0s 18us/step - loss: 2.0907 - binary_accuracy: 0.9521 - binary_crossentropy: 2.0598\n",
      "Epoch 560/1000\n",
      "8143/8143 [==============================] - 0s 16us/step - loss: 2.3621 - binary_accuracy: 0.9479 - binary_crossentropy: 2.3313\n",
      "Epoch 561/1000\n",
      "8143/8143 [==============================] - 0s 16us/step - loss: 2.3059 - binary_accuracy: 0.9509 - binary_crossentropy: 2.2751\n",
      "Epoch 562/1000\n",
      "8143/8143 [==============================] - 0s 17us/step - loss: 1.9533 - binary_accuracy: 0.9539 - binary_crossentropy: 1.9225\n",
      "Epoch 563/1000\n",
      "8143/8143 [==============================] - 0s 14us/step - loss: 1.9341 - binary_accuracy: 0.9515 - binary_crossentropy: 1.9035\n",
      "Epoch 564/1000\n",
      "8143/8143 [==============================] - 0s 17us/step - loss: 1.9616 - binary_accuracy: 0.9500 - binary_crossentropy: 1.9311\n",
      "Epoch 565/1000\n",
      "8143/8143 [==============================] - 0s 18us/step - loss: 1.9954 - binary_accuracy: 0.9510 - binary_crossentropy: 1.9649\n",
      "Epoch 566/1000\n",
      "8143/8143 [==============================] - 0s 15us/step - loss: 2.0026 - binary_accuracy: 0.9521 - binary_crossentropy: 1.9722\n",
      "Epoch 567/1000\n",
      "8143/8143 [==============================] - 0s 15us/step - loss: 1.9141 - binary_accuracy: 0.9531 - binary_crossentropy: 1.8837\n",
      "Epoch 568/1000\n",
      "8143/8143 [==============================] - 0s 15us/step - loss: 2.2091 - binary_accuracy: 0.9516 - binary_crossentropy: 2.1788\n",
      "Epoch 569/1000\n",
      "8143/8143 [==============================] - 0s 16us/step - loss: 1.9620 - binary_accuracy: 0.9525 - binary_crossentropy: 1.9318\n",
      "Epoch 570/1000\n",
      "8143/8143 [==============================] - 0s 14us/step - loss: 2.2026 - binary_accuracy: 0.9490 - binary_crossentropy: 2.1726\n",
      "Epoch 571/1000\n",
      "8143/8143 [==============================] - 0s 17us/step - loss: 2.0594 - binary_accuracy: 0.9515 - binary_crossentropy: 2.0294\n",
      "Epoch 572/1000\n",
      "8143/8143 [==============================] - 0s 14us/step - loss: 2.0539 - binary_accuracy: 0.9490 - binary_crossentropy: 2.0240\n",
      "Epoch 573/1000\n",
      "8143/8143 [==============================] - 0s 14us/step - loss: 4.6083 - binary_accuracy: 0.9300 - binary_crossentropy: 4.5785\n",
      "Epoch 574/1000\n",
      "8143/8143 [==============================] - 0s 15us/step - loss: 27.3290 - binary_accuracy: 0.8035 - binary_crossentropy: 27.2991\n",
      "Epoch 575/1000\n",
      "8143/8143 [==============================] - 0s 15us/step - loss: 11.5559 - binary_accuracy: 0.8564 - binary_crossentropy: 11.5257\n",
      "Epoch 576/1000\n",
      "8143/8143 [==============================] - 0s 15us/step - loss: 2.8567 - binary_accuracy: 0.9484 - binary_crossentropy: 2.8263\n",
      "Epoch 577/1000\n",
      "8143/8143 [==============================] - 0s 19us/step - loss: 2.0409 - binary_accuracy: 0.9565 - binary_crossentropy: 2.0106\n",
      "Epoch 578/1000\n",
      "8143/8143 [==============================] - 0s 18us/step - loss: 2.0535 - binary_accuracy: 0.9533 - binary_crossentropy: 2.0232\n",
      "Epoch 579/1000\n",
      "8143/8143 [==============================] - 0s 14us/step - loss: 2.1147 - binary_accuracy: 0.9525 - binary_crossentropy: 2.0845: 0s - loss: 1.9807 - binary_accuracy: 0.9523 - binary_crossentropy: 1.950\n",
      "Epoch 580/1000\n",
      "8143/8143 [==============================] - 0s 13us/step - loss: 1.9108 - binary_accuracy: 0.9496 - binary_crossentropy: 1.8807\n",
      "Epoch 581/1000\n",
      "8143/8143 [==============================] - 0s 15us/step - loss: 1.8565 - binary_accuracy: 0.9499 - binary_crossentropy: 1.8264\n",
      "Epoch 582/1000\n",
      "8143/8143 [==============================] - 0s 15us/step - loss: 1.8558 - binary_accuracy: 0.9504 - binary_crossentropy: 1.8257\n",
      "Epoch 583/1000\n",
      "8143/8143 [==============================] - 0s 16us/step - loss: 1.9236 - binary_accuracy: 0.9494 - binary_crossentropy: 1.8936\n",
      "Epoch 584/1000\n",
      "8143/8143 [==============================] - 0s 16us/step - loss: 1.8375 - binary_accuracy: 0.9512 - binary_crossentropy: 1.8076\n",
      "Epoch 585/1000\n",
      "8143/8143 [==============================] - 0s 15us/step - loss: 2.7410 - binary_accuracy: 0.9425 - binary_crossentropy: 2.7112\n",
      "Epoch 586/1000\n",
      "8143/8143 [==============================] - 0s 16us/step - loss: 2.0192 - binary_accuracy: 0.9554 - binary_crossentropy: 1.9895\n",
      "Epoch 587/1000\n",
      "8143/8143 [==============================] - 0s 17us/step - loss: 2.2450 - binary_accuracy: 0.9536 - binary_crossentropy: 2.2153\n",
      "Epoch 588/1000\n",
      "8143/8143 [==============================] - 0s 15us/step - loss: 2.3355 - binary_accuracy: 0.9498 - binary_crossentropy: 2.3059\n",
      "Epoch 589/1000\n",
      "8143/8143 [==============================] - 0s 17us/step - loss: 1.8902 - binary_accuracy: 0.9544 - binary_crossentropy: 1.8607\n",
      "Epoch 590/1000\n",
      "8143/8143 [==============================] - 0s 15us/step - loss: 1.9673 - binary_accuracy: 0.9487 - binary_crossentropy: 1.9378\n",
      "Epoch 591/1000\n",
      "8143/8143 [==============================] - 0s 16us/step - loss: 2.2877 - binary_accuracy: 0.9492 - binary_crossentropy: 2.2583\n",
      "Epoch 592/1000\n",
      "8143/8143 [==============================] - 0s 18us/step - loss: 1.9897 - binary_accuracy: 0.9516 - binary_crossentropy: 1.9604\n",
      "Epoch 593/1000\n",
      "8143/8143 [==============================] - 0s 18us/step - loss: 1.9535 - binary_accuracy: 0.9516 - binary_crossentropy: 1.9243\n",
      "Epoch 594/1000\n",
      "8143/8143 [==============================] - 0s 18us/step - loss: 4.6770 - binary_accuracy: 0.9201 - binary_crossentropy: 4.6479\n",
      "Epoch 595/1000\n",
      "8143/8143 [==============================] - 0s 16us/step - loss: 19.0897 - binary_accuracy: 0.8286 - binary_crossentropy: 19.0605\n",
      "Epoch 596/1000\n",
      "8143/8143 [==============================] - 0s 19us/step - loss: 3.0988 - binary_accuracy: 0.9411 - binary_crossentropy: 3.0693\n",
      "Epoch 597/1000\n",
      "8143/8143 [==============================] - 0s 20us/step - loss: 2.0290 - binary_accuracy: 0.9535 - binary_crossentropy: 1.9996\n",
      "Epoch 598/1000\n",
      "8143/8143 [==============================] - 0s 16us/step - loss: 1.8516 - binary_accuracy: 0.9570 - binary_crossentropy: 1.8223\n",
      "Epoch 599/1000\n",
      "8143/8143 [==============================] - 0s 19us/step - loss: 1.9633 - binary_accuracy: 0.9489 - binary_crossentropy: 1.9340\n",
      "Epoch 600/1000\n",
      "8143/8143 [==============================] - 0s 17us/step - loss: 1.8263 - binary_accuracy: 0.9498 - binary_crossentropy: 1.7970\n",
      "Epoch 601/1000\n",
      "8143/8143 [==============================] - 0s 19us/step - loss: 1.8951 - binary_accuracy: 0.9509 - binary_crossentropy: 1.8659\n",
      "Epoch 602/1000\n",
      "8143/8143 [==============================] - 0s 19us/step - loss: 1.9346 - binary_accuracy: 0.9505 - binary_crossentropy: 1.9055\n",
      "Epoch 603/1000\n",
      "8143/8143 [==============================] - 0s 18us/step - loss: 1.8325 - binary_accuracy: 0.9533 - binary_crossentropy: 1.8034\n",
      "Epoch 604/1000\n",
      "8143/8143 [==============================] - 0s 18us/step - loss: 1.9035 - binary_accuracy: 0.9485 - binary_crossentropy: 1.8745\n",
      "Epoch 605/1000\n",
      "8143/8143 [==============================] - 0s 17us/step - loss: 2.2513 - binary_accuracy: 0.9508 - binary_crossentropy: 2.2224\n",
      "Epoch 606/1000\n",
      "8143/8143 [==============================] - 0s 20us/step - loss: 3.0575 - binary_accuracy: 0.9463 - binary_crossentropy: 3.0286\n",
      "Epoch 607/1000\n",
      "8143/8143 [==============================] - 0s 19us/step - loss: 2.0338 - binary_accuracy: 0.9563 - binary_crossentropy: 2.0050\n",
      "Epoch 608/1000\n",
      "8143/8143 [==============================] - 0s 19us/step - loss: 1.8482 - binary_accuracy: 0.9537 - binary_crossentropy: 1.8195\n",
      "Epoch 609/1000\n",
      "8143/8143 [==============================] - 0s 19us/step - loss: 1.9142 - binary_accuracy: 0.9496 - binary_crossentropy: 1.8856\n",
      "Epoch 610/1000\n",
      "8143/8143 [==============================] - 0s 17us/step - loss: 1.9318 - binary_accuracy: 0.9511 - binary_crossentropy: 1.9033\n",
      "Epoch 611/1000\n",
      "8143/8143 [==============================] - 0s 20us/step - loss: 2.8078 - binary_accuracy: 0.9353 - binary_crossentropy: 2.7793\n",
      "Epoch 612/1000\n",
      "8143/8143 [==============================] - 0s 17us/step - loss: 7.6663 - binary_accuracy: 0.8960 - binary_crossentropy: 7.6379\n",
      "Epoch 613/1000\n",
      "8143/8143 [==============================] - 0s 18us/step - loss: 19.1047 - binary_accuracy: 0.8311 - binary_crossentropy: 19.0760\n",
      "Epoch 614/1000\n",
      "8143/8143 [==============================] - 0s 19us/step - loss: 6.7220 - binary_accuracy: 0.8918 - binary_crossentropy: 6.6931\n",
      "Epoch 615/1000\n",
      "8143/8143 [==============================] - 0s 26us/step - loss: 16.1858 - binary_accuracy: 0.8505 - binary_crossentropy: 16.1567\n",
      "Epoch 616/1000\n",
      "8143/8143 [==============================] - 0s 18us/step - loss: 3.3670 - binary_accuracy: 0.9371 - binary_crossentropy: 3.3378\n",
      "Epoch 617/1000\n",
      "8143/8143 [==============================] - 0s 15us/step - loss: 2.7406 - binary_accuracy: 0.9504 - binary_crossentropy: 2.7114\n",
      "Epoch 618/1000\n",
      "8143/8143 [==============================] - 0s 17us/step - loss: 1.9679 - binary_accuracy: 0.9560 - binary_crossentropy: 1.9388\n",
      "Epoch 619/1000\n",
      "8143/8143 [==============================] - 0s 18us/step - loss: 1.9683 - binary_accuracy: 0.9516 - binary_crossentropy: 1.9392\n",
      "Epoch 620/1000\n",
      "8143/8143 [==============================] - 0s 17us/step - loss: 2.3403 - binary_accuracy: 0.9488 - binary_crossentropy: 2.3112\n",
      "Epoch 621/1000\n",
      "8143/8143 [==============================] - 0s 18us/step - loss: 1.8558 - binary_accuracy: 0.9535 - binary_crossentropy: 1.8268\n",
      "Epoch 622/1000\n",
      "8143/8143 [==============================] - 0s 16us/step - loss: 2.8009 - binary_accuracy: 0.9435 - binary_crossentropy: 2.7720\n",
      "Epoch 623/1000\n",
      "8143/8143 [==============================] - 0s 17us/step - loss: 2.5132 - binary_accuracy: 0.9504 - binary_crossentropy: 2.4843\n",
      "Epoch 624/1000\n",
      "8143/8143 [==============================] - 0s 18us/step - loss: 2.2557 - binary_accuracy: 0.9552 - binary_crossentropy: 2.2269\n",
      "Epoch 625/1000\n",
      "8143/8143 [==============================] - 0s 16us/step - loss: 1.8652 - binary_accuracy: 0.9546 - binary_crossentropy: 1.8365\n",
      "Epoch 626/1000\n",
      "8143/8143 [==============================] - 0s 18us/step - loss: 2.1887 - binary_accuracy: 0.9517 - binary_crossentropy: 2.1600\n",
      "Epoch 627/1000\n",
      "8143/8143 [==============================] - 0s 17us/step - loss: 2.9059 - binary_accuracy: 0.9465 - binary_crossentropy: 2.8773\n",
      "Epoch 628/1000\n",
      "8143/8143 [==============================] - 0s 16us/step - loss: 1.9357 - binary_accuracy: 0.9553 - binary_crossentropy: 1.9072\n",
      "Epoch 629/1000\n",
      "8143/8143 [==============================] - 0s 18us/step - loss: 1.9680 - binary_accuracy: 0.9531 - binary_crossentropy: 1.9396\n",
      "Epoch 630/1000\n",
      "8143/8143 [==============================] - 0s 18us/step - loss: 4.6275 - binary_accuracy: 0.9241 - binary_crossentropy: 4.5991\n",
      "Epoch 631/1000\n",
      "8143/8143 [==============================] - 0s 17us/step - loss: 22.0405 - binary_accuracy: 0.8085 - binary_crossentropy: 22.0120\n",
      "Epoch 632/1000\n",
      "8143/8143 [==============================] - 0s 19us/step - loss: 16.2767 - binary_accuracy: 0.8211 - binary_crossentropy: 16.2479\n",
      "Epoch 633/1000\n",
      "8143/8143 [==============================] - 0s 18us/step - loss: 22.7349 - binary_accuracy: 0.8136 - binary_crossentropy: 22.7058\n",
      "Epoch 634/1000\n",
      "8143/8143 [==============================] - 0s 18us/step - loss: 18.2645 - binary_accuracy: 0.8321 - binary_crossentropy: 18.2350\n",
      "Epoch 635/1000\n",
      "8143/8143 [==============================] - 0s 18us/step - loss: 2.7291 - binary_accuracy: 0.9468 - binary_crossentropy: 2.6995\n",
      "Epoch 636/1000\n",
      "8143/8143 [==============================] - 0s 18us/step - loss: 2.0179 - binary_accuracy: 0.9520 - binary_crossentropy: 1.9883\n",
      "Epoch 637/1000\n",
      "8143/8143 [==============================] - 0s 16us/step - loss: 2.0395 - binary_accuracy: 0.9498 - binary_crossentropy: 2.0100\n",
      "Epoch 638/1000\n",
      "8143/8143 [==============================] - 0s 17us/step - loss: 1.9659 - binary_accuracy: 0.9526 - binary_crossentropy: 1.9364\n",
      "Epoch 639/1000\n",
      "8143/8143 [==============================] - 0s 18us/step - loss: 2.1669 - binary_accuracy: 0.9516 - binary_crossentropy: 2.1374\n",
      "Epoch 640/1000\n",
      "8143/8143 [==============================] - 0s 18us/step - loss: 1.9427 - binary_accuracy: 0.9522 - binary_crossentropy: 1.9133\n",
      "Epoch 641/1000\n",
      "8143/8143 [==============================] - 0s 19us/step - loss: 1.8452 - binary_accuracy: 0.9508 - binary_crossentropy: 1.8159\n",
      "Epoch 642/1000\n",
      "8143/8143 [==============================] - 0s 16us/step - loss: 2.5137 - binary_accuracy: 0.9441 - binary_crossentropy: 2.4845\n",
      "Epoch 643/1000\n",
      "8143/8143 [==============================] - 0s 18us/step - loss: 5.7582 - binary_accuracy: 0.9124 - binary_crossentropy: 5.7289\n",
      "Epoch 644/1000\n",
      "8143/8143 [==============================] - 0s 14us/step - loss: 19.0879 - binary_accuracy: 0.8521 - binary_crossentropy: 19.0586\n",
      "Epoch 645/1000\n",
      "8143/8143 [==============================] - 0s 16us/step - loss: 19.1652 - binary_accuracy: 0.8318 - binary_crossentropy: 19.1356\n",
      "Epoch 646/1000\n",
      "8143/8143 [==============================] - 0s 17us/step - loss: 9.4912 - binary_accuracy: 0.8687 - binary_crossentropy: 9.4614\n",
      "Epoch 647/1000\n",
      "8143/8143 [==============================] - 0s 17us/step - loss: 2.6554 - binary_accuracy: 0.9499 - binary_crossentropy: 2.6254\n",
      "Epoch 648/1000\n",
      "8143/8143 [==============================] - 0s 20us/step - loss: 2.3365 - binary_accuracy: 0.9537 - binary_crossentropy: 2.3065\n",
      "Epoch 649/1000\n",
      "8143/8143 [==============================] - 0s 16us/step - loss: 1.9887 - binary_accuracy: 0.9557 - binary_crossentropy: 1.9588\n",
      "Epoch 650/1000\n",
      "8143/8143 [==============================] - 0s 28us/step - loss: 1.8275 - binary_accuracy: 0.9537 - binary_crossentropy: 1.7977\n",
      "Epoch 651/1000\n",
      "8143/8143 [==============================] - 0s 17us/step - loss: 1.9006 - binary_accuracy: 0.9515 - binary_crossentropy: 1.8709\n",
      "Epoch 652/1000\n",
      "8143/8143 [==============================] - 0s 17us/step - loss: 1.9180 - binary_accuracy: 0.9537 - binary_crossentropy: 1.8883\n",
      "Epoch 653/1000\n",
      "8143/8143 [==============================] - 0s 16us/step - loss: 1.9796 - binary_accuracy: 0.9509 - binary_crossentropy: 1.9500\n",
      "Epoch 654/1000\n",
      "8143/8143 [==============================] - 0s 19us/step - loss: 1.8490 - binary_accuracy: 0.9498 - binary_crossentropy: 1.8194\n",
      "Epoch 655/1000\n",
      "8143/8143 [==============================] - 0s 18us/step - loss: 2.2715 - binary_accuracy: 0.9458 - binary_crossentropy: 2.2420\n",
      "Epoch 656/1000\n",
      "8143/8143 [==============================] - 0s 19us/step - loss: 2.1026 - binary_accuracy: 0.9539 - binary_crossentropy: 2.0732\n",
      "Epoch 657/1000\n",
      "8143/8143 [==============================] - 0s 17us/step - loss: 2.0225 - binary_accuracy: 0.9527 - binary_crossentropy: 1.9931\n",
      "Epoch 658/1000\n",
      "8143/8143 [==============================] - 0s 19us/step - loss: 1.9939 - binary_accuracy: 0.9516 - binary_crossentropy: 1.9647\n",
      "Epoch 659/1000\n",
      "8143/8143 [==============================] - 0s 18us/step - loss: 2.9309 - binary_accuracy: 0.9354 - binary_crossentropy: 2.9017\n",
      "Epoch 660/1000\n",
      "8143/8143 [==============================] - 0s 18us/step - loss: 22.2609 - binary_accuracy: 0.8180 - binary_crossentropy: 22.2317\n",
      "Epoch 661/1000\n",
      "8143/8143 [==============================] - 0s 17us/step - loss: 3.8762 - binary_accuracy: 0.9328 - binary_crossentropy: 3.8467\n",
      "Epoch 662/1000\n",
      "8143/8143 [==============================] - 0s 17us/step - loss: 3.3115 - binary_accuracy: 0.9424 - binary_crossentropy: 3.2820\n",
      "Epoch 663/1000\n",
      "8143/8143 [==============================] - 0s 18us/step - loss: 2.5673 - binary_accuracy: 0.9530 - binary_crossentropy: 2.5378\n",
      "Epoch 664/1000\n",
      "8143/8143 [==============================] - 0s 18us/step - loss: 2.2966 - binary_accuracy: 0.9551 - binary_crossentropy: 2.2672\n",
      "Epoch 665/1000\n",
      "8143/8143 [==============================] - 0s 15us/step - loss: 2.1446 - binary_accuracy: 0.9524 - binary_crossentropy: 2.1153\n",
      "Epoch 666/1000\n",
      "8143/8143 [==============================] - 0s 14us/step - loss: 2.2801 - binary_accuracy: 0.9493 - binary_crossentropy: 2.2508\n",
      "Epoch 667/1000\n",
      "8143/8143 [==============================] - 0s 14us/step - loss: 4.8335 - binary_accuracy: 0.9210 - binary_crossentropy: 4.8042\n",
      "Epoch 668/1000\n",
      "8143/8143 [==============================] - 0s 14us/step - loss: 3.3608 - binary_accuracy: 0.9430 - binary_crossentropy: 3.3315\n",
      "Epoch 669/1000\n",
      "8143/8143 [==============================] - 0s 15us/step - loss: 3.6909 - binary_accuracy: 0.9408 - binary_crossentropy: 3.6617\n",
      "Epoch 670/1000\n",
      "8143/8143 [==============================] - 0s 13us/step - loss: 3.0010 - binary_accuracy: 0.9385 - binary_crossentropy: 2.9718\n",
      "Epoch 671/1000\n"
     ]
    },
    {
     "name": "stdout",
     "output_type": "stream",
     "text": [
      "8143/8143 [==============================] - 0s 14us/step - loss: 2.0692 - binary_accuracy: 0.9506 - binary_crossentropy: 2.0400\n",
      "Epoch 672/1000\n",
      "8143/8143 [==============================] - 0s 12us/step - loss: 2.2218 - binary_accuracy: 0.9494 - binary_crossentropy: 2.1927\n",
      "Epoch 673/1000\n",
      "8143/8143 [==============================] - 0s 12us/step - loss: 3.2539 - binary_accuracy: 0.9355 - binary_crossentropy: 3.2249\n",
      "Epoch 674/1000\n",
      "8143/8143 [==============================] - 0s 14us/step - loss: 15.3514 - binary_accuracy: 0.8338 - binary_crossentropy: 15.3223\n",
      "Epoch 675/1000\n",
      "8143/8143 [==============================] - 0s 14us/step - loss: 5.3830 - binary_accuracy: 0.9159 - binary_crossentropy: 5.3537\n",
      "Epoch 676/1000\n",
      "8143/8143 [==============================] - 0s 13us/step - loss: 2.5758 - binary_accuracy: 0.9509 - binary_crossentropy: 2.5465\n",
      "Epoch 677/1000\n",
      "8143/8143 [==============================] - 0s 14us/step - loss: 2.0198 - binary_accuracy: 0.9594 - binary_crossentropy: 1.9905\n",
      "Epoch 678/1000\n",
      "8143/8143 [==============================] - 0s 14us/step - loss: 1.9219 - binary_accuracy: 0.9532 - binary_crossentropy: 1.8927\n",
      "Epoch 679/1000\n",
      "8143/8143 [==============================] - 0s 16us/step - loss: 2.0398 - binary_accuracy: 0.9517 - binary_crossentropy: 2.0106\n",
      "Epoch 680/1000\n",
      "8143/8143 [==============================] - 0s 14us/step - loss: 2.5663 - binary_accuracy: 0.9463 - binary_crossentropy: 2.5373\n",
      "Epoch 681/1000\n",
      "8143/8143 [==============================] - 0s 17us/step - loss: 5.8475 - binary_accuracy: 0.9011 - binary_crossentropy: 5.8185\n",
      "Epoch 682/1000\n",
      "8143/8143 [==============================] - 0s 16us/step - loss: 5.6394 - binary_accuracy: 0.9159 - binary_crossentropy: 5.6103\n",
      "Epoch 683/1000\n",
      "8143/8143 [==============================] - 0s 16us/step - loss: 2.1171 - binary_accuracy: 0.9560 - binary_crossentropy: 2.0880\n",
      "Epoch 684/1000\n",
      "8143/8143 [==============================] - 0s 18us/step - loss: 1.8813 - binary_accuracy: 0.9538 - binary_crossentropy: 1.8522\n",
      "Epoch 685/1000\n",
      "8143/8143 [==============================] - 0s 15us/step - loss: 1.9478 - binary_accuracy: 0.9516 - binary_crossentropy: 1.9189\n",
      "Epoch 686/1000\n",
      "8143/8143 [==============================] - 0s 17us/step - loss: 2.2908 - binary_accuracy: 0.9492 - binary_crossentropy: 2.2619\n",
      "Epoch 687/1000\n",
      "8143/8143 [==============================] - 0s 16us/step - loss: 2.8702 - binary_accuracy: 0.9474 - binary_crossentropy: 2.8414\n",
      "Epoch 688/1000\n",
      "8143/8143 [==============================] - 0s 16us/step - loss: 2.1521 - binary_accuracy: 0.9544 - binary_crossentropy: 2.1234\n",
      "Epoch 689/1000\n",
      "8143/8143 [==============================] - 0s 16us/step - loss: 4.7852 - binary_accuracy: 0.9220 - binary_crossentropy: 4.7565\n",
      "Epoch 690/1000\n",
      "8143/8143 [==============================] - 0s 17us/step - loss: 27.9836 - binary_accuracy: 0.7996 - binary_crossentropy: 27.9548\n",
      "Epoch 691/1000\n",
      "8143/8143 [==============================] - 0s 17us/step - loss: 20.2363 - binary_accuracy: 0.8314 - binary_crossentropy: 20.2072\n",
      "Epoch 692/1000\n",
      "8143/8143 [==============================] - 0s 17us/step - loss: 24.2594 - binary_accuracy: 0.8151 - binary_crossentropy: 24.2300\n",
      "Epoch 693/1000\n",
      "8143/8143 [==============================] - 0s 15us/step - loss: 22.7365 - binary_accuracy: 0.8081 - binary_crossentropy: 22.7067\n",
      "Epoch 694/1000\n",
      "8143/8143 [==============================] - 0s 14us/step - loss: 3.1477 - binary_accuracy: 0.9496 - binary_crossentropy: 3.1176\n",
      "Epoch 695/1000\n",
      "8143/8143 [==============================] - 0s 14us/step - loss: 2.6921 - binary_accuracy: 0.9508 - binary_crossentropy: 2.6620\n",
      "Epoch 696/1000\n",
      "8143/8143 [==============================] - 0s 14us/step - loss: 2.3561 - binary_accuracy: 0.9512 - binary_crossentropy: 2.3261\n",
      "Epoch 697/1000\n",
      "8143/8143 [==============================] - 0s 14us/step - loss: 2.3450 - binary_accuracy: 0.9524 - binary_crossentropy: 2.3151\n",
      "Epoch 698/1000\n",
      "8143/8143 [==============================] - 0s 14us/step - loss: 1.9318 - binary_accuracy: 0.9565 - binary_crossentropy: 1.9019\n",
      "Epoch 699/1000\n",
      "8143/8143 [==============================] - 0s 14us/step - loss: 1.8758 - binary_accuracy: 0.9533 - binary_crossentropy: 1.8460\n",
      "Epoch 700/1000\n",
      "8143/8143 [==============================] - 0s 14us/step - loss: 1.9353 - binary_accuracy: 0.9511 - binary_crossentropy: 1.9055\n",
      "Epoch 701/1000\n",
      "8143/8143 [==============================] - 0s 14us/step - loss: 2.3947 - binary_accuracy: 0.9476 - binary_crossentropy: 2.3650\n",
      "Epoch 702/1000\n",
      "8143/8143 [==============================] - 0s 15us/step - loss: 1.9588 - binary_accuracy: 0.9524 - binary_crossentropy: 1.9292\n",
      "Epoch 703/1000\n",
      "8143/8143 [==============================] - 0s 13us/step - loss: 2.0347 - binary_accuracy: 0.9517 - binary_crossentropy: 2.0051\n",
      "Epoch 704/1000\n",
      "8143/8143 [==============================] - 0s 14us/step - loss: 2.1826 - binary_accuracy: 0.9516 - binary_crossentropy: 2.1531\n",
      "Epoch 705/1000\n",
      "8143/8143 [==============================] - 0s 14us/step - loss: 2.4043 - binary_accuracy: 0.9467 - binary_crossentropy: 2.3748\n",
      "Epoch 706/1000\n",
      "8143/8143 [==============================] - 0s 14us/step - loss: 1.8413 - binary_accuracy: 0.9536 - binary_crossentropy: 1.8120\n",
      "Epoch 707/1000\n",
      "8143/8143 [==============================] - 0s 13us/step - loss: 1.9323 - binary_accuracy: 0.9501 - binary_crossentropy: 1.9030\n",
      "Epoch 708/1000\n",
      "8143/8143 [==============================] - 0s 14us/step - loss: 1.9515 - binary_accuracy: 0.9531 - binary_crossentropy: 1.9223\n",
      "Epoch 709/1000\n",
      "8143/8143 [==============================] - 0s 14us/step - loss: 1.9529 - binary_accuracy: 0.9505 - binary_crossentropy: 1.9238\n",
      "Epoch 710/1000\n",
      "8143/8143 [==============================] - 0s 14us/step - loss: 2.7692 - binary_accuracy: 0.9492 - binary_crossentropy: 2.7401\n",
      "Epoch 711/1000\n",
      "8143/8143 [==============================] - 0s 14us/step - loss: 2.1450 - binary_accuracy: 0.9543 - binary_crossentropy: 2.1160\n",
      "Epoch 712/1000\n",
      "8143/8143 [==============================] - 0s 16us/step - loss: 2.0308 - binary_accuracy: 0.9543 - binary_crossentropy: 2.0019\n",
      "Epoch 713/1000\n",
      "8143/8143 [==============================] - 0s 15us/step - loss: 2.0974 - binary_accuracy: 0.9496 - binary_crossentropy: 2.0686\n",
      "Epoch 714/1000\n",
      "8143/8143 [==============================] - 0s 12us/step - loss: 2.0111 - binary_accuracy: 0.9524 - binary_crossentropy: 1.9824\n",
      "Epoch 715/1000\n",
      "8143/8143 [==============================] - 0s 14us/step - loss: 2.0093 - binary_accuracy: 0.9515 - binary_crossentropy: 1.9807\n",
      "Epoch 716/1000\n",
      "8143/8143 [==============================] - 0s 15us/step - loss: 1.8936 - binary_accuracy: 0.9525 - binary_crossentropy: 1.8651\n",
      "Epoch 717/1000\n",
      "8143/8143 [==============================] - 0s 14us/step - loss: 1.8171 - binary_accuracy: 0.9546 - binary_crossentropy: 1.7887\n",
      "Epoch 718/1000\n",
      "8143/8143 [==============================] - 0s 14us/step - loss: 4.2661 - binary_accuracy: 0.9253 - binary_crossentropy: 4.2378\n",
      "Epoch 719/1000\n",
      "8143/8143 [==============================] - 0s 12us/step - loss: 18.7834 - binary_accuracy: 0.8299 - binary_crossentropy: 18.7550\n",
      "Epoch 720/1000\n",
      "8143/8143 [==============================] - 0s 14us/step - loss: 21.3476 - binary_accuracy: 0.8259 - binary_crossentropy: 21.3190\n",
      "Epoch 721/1000\n",
      "8143/8143 [==============================] - 0s 19us/step - loss: 17.9729 - binary_accuracy: 0.8404 - binary_crossentropy: 17.9439\n",
      "Epoch 722/1000\n",
      "8143/8143 [==============================] - 0s 17us/step - loss: 2.7729 - binary_accuracy: 0.9458 - binary_crossentropy: 2.7438\n",
      "Epoch 723/1000\n",
      "8143/8143 [==============================] - 0s 15us/step - loss: 2.0095 - binary_accuracy: 0.9555 - binary_crossentropy: 1.9804\n",
      "Epoch 724/1000\n",
      "8143/8143 [==============================] - 0s 19us/step - loss: 1.9623 - binary_accuracy: 0.9547 - binary_crossentropy: 1.9333\n",
      "Epoch 725/1000\n",
      "8143/8143 [==============================] - 0s 15us/step - loss: 1.8418 - binary_accuracy: 0.9522 - binary_crossentropy: 1.8127\n",
      "Epoch 726/1000\n",
      "8143/8143 [==============================] - 0s 15us/step - loss: 1.8648 - binary_accuracy: 0.9525 - binary_crossentropy: 1.8358\n",
      "Epoch 727/1000\n",
      "8143/8143 [==============================] - 0s 14us/step - loss: 2.2036 - binary_accuracy: 0.9498 - binary_crossentropy: 2.1746\n",
      "Epoch 728/1000\n",
      "8143/8143 [==============================] - 0s 14us/step - loss: 1.8895 - binary_accuracy: 0.9525 - binary_crossentropy: 1.8607\n",
      "Epoch 729/1000\n",
      "8143/8143 [==============================] - 0s 14us/step - loss: 2.0781 - binary_accuracy: 0.9499 - binary_crossentropy: 2.0493\n",
      "Epoch 730/1000\n",
      "8143/8143 [==============================] - 0s 14us/step - loss: 1.9720 - binary_accuracy: 0.9524 - binary_crossentropy: 1.9432\n",
      "Epoch 731/1000\n",
      "8143/8143 [==============================] - 0s 14us/step - loss: 1.8277 - binary_accuracy: 0.9535 - binary_crossentropy: 1.7991\n",
      "Epoch 732/1000\n",
      "8143/8143 [==============================] - 0s 14us/step - loss: 2.8215 - binary_accuracy: 0.9450 - binary_crossentropy: 2.7929\n",
      "Epoch 733/1000\n",
      "8143/8143 [==============================] - 0s 13us/step - loss: 1.9716 - binary_accuracy: 0.9564 - binary_crossentropy: 1.9431\n",
      "Epoch 734/1000\n",
      "8143/8143 [==============================] - 0s 13us/step - loss: 1.8222 - binary_accuracy: 0.9542 - binary_crossentropy: 1.7938\n",
      "Epoch 735/1000\n",
      "8143/8143 [==============================] - 0s 16us/step - loss: 2.2233 - binary_accuracy: 0.9490 - binary_crossentropy: 2.1950\n",
      "Epoch 736/1000\n",
      "8143/8143 [==============================] - 0s 14us/step - loss: 2.5191 - binary_accuracy: 0.9515 - binary_crossentropy: 2.4908\n",
      "Epoch 737/1000\n",
      "8143/8143 [==============================] - 0s 13us/step - loss: 1.8905 - binary_accuracy: 0.9560 - binary_crossentropy: 1.8622\n",
      "Epoch 738/1000\n",
      "8143/8143 [==============================] - 0s 12us/step - loss: 7.9562 - binary_accuracy: 0.9085 - binary_crossentropy: 7.9280\n",
      "Epoch 739/1000\n",
      "8143/8143 [==============================] - 0s 14us/step - loss: 20.4397 - binary_accuracy: 0.8152 - binary_crossentropy: 20.4113\n",
      "Epoch 740/1000\n",
      "8143/8143 [==============================] - 0s 15us/step - loss: 21.2678 - binary_accuracy: 0.8353 - binary_crossentropy: 21.2391\n",
      "Epoch 741/1000\n",
      "8143/8143 [==============================] - 0s 13us/step - loss: 3.4370 - binary_accuracy: 0.9454 - binary_crossentropy: 3.4082\n",
      "Epoch 742/1000\n",
      "8143/8143 [==============================] - 0s 13us/step - loss: 1.9826 - binary_accuracy: 0.9586 - binary_crossentropy: 1.9538\n",
      "Epoch 743/1000\n",
      "8143/8143 [==============================] - 0s 13us/step - loss: 1.8234 - binary_accuracy: 0.9565 - binary_crossentropy: 1.7946\n",
      "Epoch 744/1000\n",
      "8143/8143 [==============================] - 0s 13us/step - loss: 1.8809 - binary_accuracy: 0.9510 - binary_crossentropy: 1.8522\n",
      "Epoch 745/1000\n",
      "8143/8143 [==============================] - 0s 13us/step - loss: 1.8536 - binary_accuracy: 0.9530 - binary_crossentropy: 1.8249\n",
      "Epoch 746/1000\n",
      "8143/8143 [==============================] - 0s 16us/step - loss: 1.8887 - binary_accuracy: 0.9495 - binary_crossentropy: 1.8601\n",
      "Epoch 747/1000\n",
      "8143/8143 [==============================] - 0s 21us/step - loss: 1.9645 - binary_accuracy: 0.9511 - binary_crossentropy: 1.9359\n",
      "Epoch 748/1000\n",
      "8143/8143 [==============================] - 0s 18us/step - loss: 1.8270 - binary_accuracy: 0.9510 - binary_crossentropy: 1.7985\n",
      "Epoch 749/1000\n",
      "8143/8143 [==============================] - 0s 17us/step - loss: 1.9385 - binary_accuracy: 0.9510 - binary_crossentropy: 1.9101\n",
      "Epoch 750/1000\n",
      "8143/8143 [==============================] - 0s 17us/step - loss: 2.0135 - binary_accuracy: 0.9524 - binary_crossentropy: 1.9852\n",
      "Epoch 751/1000\n",
      "8143/8143 [==============================] - 0s 15us/step - loss: 2.0144 - binary_accuracy: 0.9510 - binary_crossentropy: 1.9861\n",
      "Epoch 752/1000\n",
      "8143/8143 [==============================] - 0s 16us/step - loss: 2.0061 - binary_accuracy: 0.9524 - binary_crossentropy: 1.9779\n",
      "Epoch 753/1000\n",
      "8143/8143 [==============================] - 0s 16us/step - loss: 2.4705 - binary_accuracy: 0.9481 - binary_crossentropy: 2.4424\n",
      "Epoch 754/1000\n",
      "8143/8143 [==============================] - 0s 19us/step - loss: 2.7422 - binary_accuracy: 0.9494 - binary_crossentropy: 2.7141\n",
      "Epoch 755/1000\n",
      "8143/8143 [==============================] - 0s 16us/step - loss: 1.9130 - binary_accuracy: 0.9566 - binary_crossentropy: 1.8849\n",
      "Epoch 756/1000\n",
      "8143/8143 [==============================] - 0s 16us/step - loss: 3.0693 - binary_accuracy: 0.9369 - binary_crossentropy: 3.0414\n",
      "Epoch 757/1000\n",
      "8143/8143 [==============================] - 0s 14us/step - loss: 2.8727 - binary_accuracy: 0.9433 - binary_crossentropy: 2.8448\n",
      "Epoch 758/1000\n",
      "8143/8143 [==============================] - 0s 14us/step - loss: 2.7985 - binary_accuracy: 0.9477 - binary_crossentropy: 2.7706\n",
      "Epoch 759/1000\n",
      "8143/8143 [==============================] - 0s 15us/step - loss: 1.9358 - binary_accuracy: 0.9564 - binary_crossentropy: 1.9080\n",
      "Epoch 760/1000\n",
      "8143/8143 [==============================] - 0s 16us/step - loss: 1.9970 - binary_accuracy: 0.9517 - binary_crossentropy: 1.9693\n",
      "Epoch 761/1000\n",
      "8143/8143 [==============================] - 0s 16us/step - loss: 2.0031 - binary_accuracy: 0.9527 - binary_crossentropy: 1.9755\n",
      "Epoch 762/1000\n",
      "8143/8143 [==============================] - 0s 17us/step - loss: 2.0585 - binary_accuracy: 0.9514 - binary_crossentropy: 2.0310\n",
      "Epoch 763/1000\n",
      "8143/8143 [==============================] - 0s 14us/step - loss: 18.6279 - binary_accuracy: 0.8293 - binary_crossentropy: 18.6003\n",
      "Epoch 764/1000\n",
      "8143/8143 [==============================] - 0s 15us/step - loss: 3.1704 - binary_accuracy: 0.9435 - binary_crossentropy: 3.1427\n",
      "Epoch 765/1000\n",
      "8143/8143 [==============================] - 0s 17us/step - loss: 2.1462 - binary_accuracy: 0.9553 - binary_crossentropy: 2.1185\n",
      "Epoch 766/1000\n",
      "8143/8143 [==============================] - 0s 13us/step - loss: 1.9351 - binary_accuracy: 0.9548 - binary_crossentropy: 1.9074\n",
      "Epoch 767/1000\n",
      "8143/8143 [==============================] - 0s 13us/step - loss: 1.7775 - binary_accuracy: 0.9557 - binary_crossentropy: 1.7499\n",
      "Epoch 768/1000\n",
      "8143/8143 [==============================] - 0s 13us/step - loss: 1.8352 - binary_accuracy: 0.9541 - binary_crossentropy: 1.8076\n",
      "Epoch 769/1000\n",
      "8143/8143 [==============================] - 0s 14us/step - loss: 1.7651 - binary_accuracy: 0.9530 - binary_crossentropy: 1.7376\n",
      "Epoch 770/1000\n",
      "8143/8143 [==============================] - 0s 16us/step - loss: 2.3757 - binary_accuracy: 0.9478 - binary_crossentropy: 2.3482\n",
      "Epoch 771/1000\n",
      "8143/8143 [==============================] - 0s 14us/step - loss: 1.9853 - binary_accuracy: 0.9543 - binary_crossentropy: 1.9579\n",
      "Epoch 772/1000\n",
      "8143/8143 [==============================] - 0s 15us/step - loss: 2.5068 - binary_accuracy: 0.9455 - binary_crossentropy: 2.4795\n",
      "Epoch 773/1000\n",
      "8143/8143 [==============================] - 0s 14us/step - loss: 2.7105 - binary_accuracy: 0.9517 - binary_crossentropy: 2.6832\n",
      "Epoch 774/1000\n",
      "8143/8143 [==============================] - 0s 13us/step - loss: 2.3590 - binary_accuracy: 0.9515 - binary_crossentropy: 2.3318\n",
      "Epoch 775/1000\n",
      "8143/8143 [==============================] - 0s 13us/step - loss: 2.0765 - binary_accuracy: 0.9541 - binary_crossentropy: 2.0493\n",
      "Epoch 776/1000\n",
      "8143/8143 [==============================] - 0s 13us/step - loss: 1.8200 - binary_accuracy: 0.9524 - binary_crossentropy: 1.7929\n",
      "Epoch 777/1000\n",
      "8143/8143 [==============================] - 0s 13us/step - loss: 2.1938 - binary_accuracy: 0.9508 - binary_crossentropy: 2.1668\n",
      "Epoch 778/1000\n",
      "8143/8143 [==============================] - 0s 13us/step - loss: 2.2220 - binary_accuracy: 0.9473 - binary_crossentropy: 2.1951\n",
      "Epoch 779/1000\n",
      "8143/8143 [==============================] - 0s 24us/step - loss: 3.4546 - binary_accuracy: 0.9413 - binary_crossentropy: 3.4277\n",
      "Epoch 780/1000\n",
      "8143/8143 [==============================] - 0s 13us/step - loss: 4.0867 - binary_accuracy: 0.9248 - binary_crossentropy: 4.0598\n",
      "Epoch 781/1000\n",
      "8143/8143 [==============================] - 0s 13us/step - loss: 3.3174 - binary_accuracy: 0.9370 - binary_crossentropy: 3.2905\n",
      "Epoch 782/1000\n",
      "8143/8143 [==============================] - 0s 12us/step - loss: 2.0969 - binary_accuracy: 0.9551 - binary_crossentropy: 2.0701\n",
      "Epoch 783/1000\n"
     ]
    },
    {
     "name": "stdout",
     "output_type": "stream",
     "text": [
      "8143/8143 [==============================] - 0s 16us/step - loss: 3.0694 - binary_accuracy: 0.9433 - binary_crossentropy: 3.0427\n",
      "Epoch 784/1000\n",
      "8143/8143 [==============================] - 0s 16us/step - loss: 2.3550 - binary_accuracy: 0.9505 - binary_crossentropy: 2.3284\n",
      "Epoch 785/1000\n",
      "8143/8143 [==============================] - 0s 14us/step - loss: 2.0837 - binary_accuracy: 0.9521 - binary_crossentropy: 2.0571\n",
      "Epoch 786/1000\n",
      "8143/8143 [==============================] - 0s 17us/step - loss: 2.7111 - binary_accuracy: 0.9463 - binary_crossentropy: 2.6846\n",
      "Epoch 787/1000\n",
      "8143/8143 [==============================] - 0s 13us/step - loss: 22.0955 - binary_accuracy: 0.8153 - binary_crossentropy: 22.0689\n",
      "Epoch 788/1000\n",
      "8143/8143 [==============================] - 0s 13us/step - loss: 15.6389 - binary_accuracy: 0.8458 - binary_crossentropy: 15.6121\n",
      "Epoch 789/1000\n",
      "8143/8143 [==============================] - 0s 15us/step - loss: 3.5519 - binary_accuracy: 0.9393 - binary_crossentropy: 3.5249\n",
      "Epoch 790/1000\n",
      "8143/8143 [==============================] - 0s 14us/step - loss: 1.9556 - binary_accuracy: 0.9566 - binary_crossentropy: 1.9286\n",
      "Epoch 791/1000\n",
      "8143/8143 [==============================] - 0s 19us/step - loss: 1.8707 - binary_accuracy: 0.9568 - binary_crossentropy: 1.8438\n",
      "Epoch 792/1000\n",
      "8143/8143 [==============================] - 0s 14us/step - loss: 1.7659 - binary_accuracy: 0.9532 - binary_crossentropy: 1.7391\n",
      "Epoch 793/1000\n",
      "8143/8143 [==============================] - 0s 14us/step - loss: 1.8558 - binary_accuracy: 0.9498 - binary_crossentropy: 1.8290\n",
      "Epoch 794/1000\n",
      "8143/8143 [==============================] - 0s 15us/step - loss: 1.8213 - binary_accuracy: 0.9536 - binary_crossentropy: 1.7945\n",
      "Epoch 795/1000\n",
      "8143/8143 [==============================] - 0s 13us/step - loss: 1.7810 - binary_accuracy: 0.9515 - binary_crossentropy: 1.7543\n",
      "Epoch 796/1000\n",
      "8143/8143 [==============================] - 0s 13us/step - loss: 1.9399 - binary_accuracy: 0.9496 - binary_crossentropy: 1.9133\n",
      "Epoch 797/1000\n",
      "8143/8143 [==============================] - 0s 12us/step - loss: 1.7389 - binary_accuracy: 0.9539 - binary_crossentropy: 1.7123\n",
      "Epoch 798/1000\n",
      "8143/8143 [==============================] - 0s 13us/step - loss: 1.7689 - binary_accuracy: 0.9466 - binary_crossentropy: 1.7424\n",
      "Epoch 799/1000\n",
      "8143/8143 [==============================] - 0s 13us/step - loss: 1.7694 - binary_accuracy: 0.9541 - binary_crossentropy: 1.7430\n",
      "Epoch 800/1000\n",
      "8143/8143 [==============================] - 0s 12us/step - loss: 2.4567 - binary_accuracy: 0.9461 - binary_crossentropy: 2.4303\n",
      "Epoch 801/1000\n",
      "8143/8143 [==============================] - 0s 13us/step - loss: 1.8554 - binary_accuracy: 0.9549 - binary_crossentropy: 1.8291\n",
      "Epoch 802/1000\n",
      "8143/8143 [==============================] - 0s 14us/step - loss: 1.8430 - binary_accuracy: 0.9533 - binary_crossentropy: 1.8168\n",
      "Epoch 803/1000\n",
      "8143/8143 [==============================] - 0s 15us/step - loss: 2.7286 - binary_accuracy: 0.9450 - binary_crossentropy: 2.7024\n",
      "Epoch 804/1000\n",
      "8143/8143 [==============================] - 0s 13us/step - loss: 2.2998 - binary_accuracy: 0.9532 - binary_crossentropy: 2.2737\n",
      "Epoch 805/1000\n",
      "8143/8143 [==============================] - 0s 14us/step - loss: 2.1109 - binary_accuracy: 0.9522 - binary_crossentropy: 2.0849\n",
      "Epoch 806/1000\n",
      "8143/8143 [==============================] - 0s 14us/step - loss: 1.8224 - binary_accuracy: 0.9554 - binary_crossentropy: 1.7965\n",
      "Epoch 807/1000\n",
      "8143/8143 [==============================] - 0s 14us/step - loss: 1.8356 - binary_accuracy: 0.9506 - binary_crossentropy: 1.8097\n",
      "Epoch 808/1000\n",
      "8143/8143 [==============================] - 0s 14us/step - loss: 7.1109 - binary_accuracy: 0.8959 - binary_crossentropy: 7.0851\n",
      "Epoch 809/1000\n",
      "8143/8143 [==============================] - 0s 14us/step - loss: 16.7613 - binary_accuracy: 0.8650 - binary_crossentropy: 16.7354\n",
      "Epoch 810/1000\n",
      "8143/8143 [==============================] - 0s 13us/step - loss: 2.2181 - binary_accuracy: 0.9496 - binary_crossentropy: 2.1920\n",
      "Epoch 811/1000\n",
      "8143/8143 [==============================] - 0s 14us/step - loss: 1.9010 - binary_accuracy: 0.9554 - binary_crossentropy: 1.8750\n",
      "Epoch 812/1000\n",
      "8143/8143 [==============================] - 0s 14us/step - loss: 2.0072 - binary_accuracy: 0.9536 - binary_crossentropy: 1.9812\n",
      "Epoch 813/1000\n",
      "8143/8143 [==============================] - 0s 15us/step - loss: 1.8517 - binary_accuracy: 0.9530 - binary_crossentropy: 1.8258\n",
      "Epoch 814/1000\n",
      "8143/8143 [==============================] - 0s 13us/step - loss: 1.9150 - binary_accuracy: 0.9524 - binary_crossentropy: 1.8891\n",
      "Epoch 815/1000\n",
      "8143/8143 [==============================] - 0s 14us/step - loss: 2.4727 - binary_accuracy: 0.9460 - binary_crossentropy: 2.4469\n",
      "Epoch 816/1000\n",
      "8143/8143 [==============================] - 0s 13us/step - loss: 10.0107 - binary_accuracy: 0.8776 - binary_crossentropy: 9.9849\n",
      "Epoch 817/1000\n",
      "8143/8143 [==============================] - 0s 12us/step - loss: 10.9106 - binary_accuracy: 0.8789 - binary_crossentropy: 10.8846\n",
      "Epoch 818/1000\n",
      "8143/8143 [==============================] - 0s 12us/step - loss: 2.5040 - binary_accuracy: 0.9487 - binary_crossentropy: 2.4780\n",
      "Epoch 819/1000\n",
      "8143/8143 [==============================] - 0s 14us/step - loss: 1.8009 - binary_accuracy: 0.9554 - binary_crossentropy: 1.7748\n",
      "Epoch 820/1000\n",
      "8143/8143 [==============================] - 0s 14us/step - loss: 1.8338 - binary_accuracy: 0.9519 - binary_crossentropy: 1.8078\n",
      "Epoch 821/1000\n",
      "8143/8143 [==============================] - 0s 15us/step - loss: 1.8863 - binary_accuracy: 0.9530 - binary_crossentropy: 1.8604\n",
      "Epoch 822/1000\n",
      "8143/8143 [==============================] - 0s 15us/step - loss: 1.7864 - binary_accuracy: 0.9531 - binary_crossentropy: 1.7605\n",
      "Epoch 823/1000\n",
      "8143/8143 [==============================] - 0s 15us/step - loss: 1.7355 - binary_accuracy: 0.9525 - binary_crossentropy: 1.7097\n",
      "Epoch 824/1000\n",
      "8143/8143 [==============================] - 0s 14us/step - loss: 2.0583 - binary_accuracy: 0.9494 - binary_crossentropy: 2.0325\n",
      "Epoch 825/1000\n",
      "8143/8143 [==============================] - 0s 14us/step - loss: 1.8844 - binary_accuracy: 0.9527 - binary_crossentropy: 1.8587\n",
      "Epoch 826/1000\n",
      "8143/8143 [==============================] - 0s 14us/step - loss: 1.7988 - binary_accuracy: 0.9542 - binary_crossentropy: 1.7732\n",
      "Epoch 827/1000\n",
      "8143/8143 [==============================] - 0s 15us/step - loss: 1.8840 - binary_accuracy: 0.9511 - binary_crossentropy: 1.8584\n",
      "Epoch 828/1000\n",
      "8143/8143 [==============================] - 0s 16us/step - loss: 1.7442 - binary_accuracy: 0.9537 - binary_crossentropy: 1.7188\n",
      "Epoch 829/1000\n",
      "8143/8143 [==============================] - 0s 14us/step - loss: 2.0730 - binary_accuracy: 0.9474 - binary_crossentropy: 2.0476\n",
      "Epoch 830/1000\n",
      "8143/8143 [==============================] - 0s 17us/step - loss: 2.2853 - binary_accuracy: 0.9510 - binary_crossentropy: 2.2600\n",
      "Epoch 831/1000\n",
      "8143/8143 [==============================] - 0s 14us/step - loss: 15.2770 - binary_accuracy: 0.8471 - binary_crossentropy: 15.2517\n",
      "Epoch 832/1000\n",
      "8143/8143 [==============================] - 0s 15us/step - loss: 20.8491 - binary_accuracy: 0.8066 - binary_crossentropy: 20.8234\n",
      "Epoch 833/1000\n",
      "8143/8143 [==============================] - 0s 12us/step - loss: 20.7318 - binary_accuracy: 0.8230 - binary_crossentropy: 20.7059\n",
      "Epoch 834/1000\n",
      "8143/8143 [==============================] - 0s 12us/step - loss: 6.1809 - binary_accuracy: 0.9108 - binary_crossentropy: 6.1547\n",
      "Epoch 835/1000\n",
      "8143/8143 [==============================] - 0s 15us/step - loss: 1.9301 - binary_accuracy: 0.9542 - binary_crossentropy: 1.9039\n",
      "Epoch 836/1000\n",
      "8143/8143 [==============================] - 0s 15us/step - loss: 1.9088 - binary_accuracy: 0.9525 - binary_crossentropy: 1.8826\n",
      "Epoch 837/1000\n",
      "8143/8143 [==============================] - 0s 16us/step - loss: 1.9302 - binary_accuracy: 0.9517 - binary_crossentropy: 1.9041\n",
      "Epoch 838/1000\n",
      "8143/8143 [==============================] - 0s 16us/step - loss: 1.8118 - binary_accuracy: 0.9526 - binary_crossentropy: 1.7857\n",
      "Epoch 839/1000\n",
      "8143/8143 [==============================] - 0s 14us/step - loss: 1.9322 - binary_accuracy: 0.9488 - binary_crossentropy: 1.9063\n",
      "Epoch 840/1000\n",
      "8143/8143 [==============================] - 0s 14us/step - loss: 2.3378 - binary_accuracy: 0.9496 - binary_crossentropy: 2.3118\n",
      "Epoch 841/1000\n",
      "8143/8143 [==============================] - 0s 12us/step - loss: 1.9682 - binary_accuracy: 0.9537 - binary_crossentropy: 1.9423\n",
      "Epoch 842/1000\n",
      "8143/8143 [==============================] - 0s 12us/step - loss: 1.7778 - binary_accuracy: 0.9512 - binary_crossentropy: 1.7520\n",
      "Epoch 843/1000\n",
      "8143/8143 [==============================] - 0s 17us/step - loss: 1.9019 - binary_accuracy: 0.9524 - binary_crossentropy: 1.8761\n",
      "Epoch 844/1000\n",
      "8143/8143 [==============================] - 0s 20us/step - loss: 2.0252 - binary_accuracy: 0.9521 - binary_crossentropy: 1.9995\n",
      "Epoch 845/1000\n",
      "8143/8143 [==============================] - 0s 17us/step - loss: 3.7991 - binary_accuracy: 0.9273 - binary_crossentropy: 3.7735\n",
      "Epoch 846/1000\n",
      "8143/8143 [==============================] - 0s 19us/step - loss: 21.3560 - binary_accuracy: 0.8229 - binary_crossentropy: 21.3302\n",
      "Epoch 847/1000\n",
      "8143/8143 [==============================] - 0s 17us/step - loss: 18.5185 - binary_accuracy: 0.8181 - binary_crossentropy: 18.4924\n",
      "Epoch 848/1000\n",
      "8143/8143 [==============================] - 0s 13us/step - loss: 4.0010 - binary_accuracy: 0.9331 - binary_crossentropy: 3.9747\n",
      "Epoch 849/1000\n",
      "8143/8143 [==============================] - 0s 12us/step - loss: 1.7862 - binary_accuracy: 0.9546 - binary_crossentropy: 1.7599\n",
      "Epoch 850/1000\n",
      "8143/8143 [==============================] - 0s 11us/step - loss: 1.8595 - binary_accuracy: 0.9501 - binary_crossentropy: 1.8333\n",
      "Epoch 851/1000\n",
      "8143/8143 [==============================] - 0s 13us/step - loss: 1.9053 - binary_accuracy: 0.9517 - binary_crossentropy: 1.8792\n",
      "Epoch 852/1000\n",
      "8143/8143 [==============================] - 0s 12us/step - loss: 1.9500 - binary_accuracy: 0.9516 - binary_crossentropy: 1.9239\n",
      "Epoch 853/1000\n",
      "8143/8143 [==============================] - 0s 18us/step - loss: 1.8623 - binary_accuracy: 0.9538 - binary_crossentropy: 1.8362\n",
      "Epoch 854/1000\n",
      "8143/8143 [==============================] - 0s 14us/step - loss: 1.8523 - binary_accuracy: 0.9528 - binary_crossentropy: 1.8264\n",
      "Epoch 855/1000\n",
      "8143/8143 [==============================] - 0s 11us/step - loss: 1.9882 - binary_accuracy: 0.9517 - binary_crossentropy: 1.9622\n",
      "Epoch 856/1000\n",
      "8143/8143 [==============================] - 0s 12us/step - loss: 2.7173 - binary_accuracy: 0.9447 - binary_crossentropy: 2.6914\n",
      "Epoch 857/1000\n",
      "8143/8143 [==============================] - 0s 12us/step - loss: 2.6444 - binary_accuracy: 0.9471 - binary_crossentropy: 2.6186\n",
      "Epoch 858/1000\n",
      "8143/8143 [==============================] - 0s 11us/step - loss: 1.9596 - binary_accuracy: 0.9562 - binary_crossentropy: 1.9338\n",
      "Epoch 859/1000\n",
      "8143/8143 [==============================] - 0s 12us/step - loss: 2.5608 - binary_accuracy: 0.9487 - binary_crossentropy: 2.5350\n",
      "Epoch 860/1000\n",
      "8143/8143 [==============================] - 0s 12us/step - loss: 3.0437 - binary_accuracy: 0.9336 - binary_crossentropy: 3.0180\n",
      "Epoch 861/1000\n",
      "8143/8143 [==============================] - 0s 16us/step - loss: 1.7870 - binary_accuracy: 0.9527 - binary_crossentropy: 1.7614\n",
      "Epoch 862/1000\n",
      "8143/8143 [==============================] - 0s 12us/step - loss: 1.7276 - binary_accuracy: 0.9514 - binary_crossentropy: 1.7021\n",
      "Epoch 863/1000\n",
      "8143/8143 [==============================] - 0s 11us/step - loss: 2.1044 - binary_accuracy: 0.9477 - binary_crossentropy: 2.0789\n",
      "Epoch 864/1000\n",
      "8143/8143 [==============================] - 0s 12us/step - loss: 6.2904 - binary_accuracy: 0.9003 - binary_crossentropy: 6.2649\n",
      "Epoch 865/1000\n",
      "8143/8143 [==============================] - 0s 14us/step - loss: 24.3789 - binary_accuracy: 0.8101 - binary_crossentropy: 24.3533\n",
      "Epoch 866/1000\n",
      "8143/8143 [==============================] - 0s 11us/step - loss: 7.8975 - binary_accuracy: 0.9133 - binary_crossentropy: 7.8716\n",
      "Epoch 867/1000\n",
      "8143/8143 [==============================] - 0s 12us/step - loss: 2.0661 - binary_accuracy: 0.9541 - binary_crossentropy: 2.0402\n",
      "Epoch 868/1000\n",
      "8143/8143 [==============================] - 0s 13us/step - loss: 1.7689 - binary_accuracy: 0.9571 - binary_crossentropy: 1.7430\n",
      "Epoch 869/1000\n",
      "8143/8143 [==============================] - 0s 13us/step - loss: 1.6912 - binary_accuracy: 0.9536 - binary_crossentropy: 1.6654\n",
      "Epoch 870/1000\n",
      "8143/8143 [==============================] - 0s 13us/step - loss: 1.7033 - binary_accuracy: 0.9527 - binary_crossentropy: 1.6776\n",
      "Epoch 871/1000\n",
      "8143/8143 [==============================] - 0s 13us/step - loss: 1.8388 - binary_accuracy: 0.9483 - binary_crossentropy: 1.8131\n",
      "Epoch 872/1000\n",
      "8143/8143 [==============================] - 0s 13us/step - loss: 2.1629 - binary_accuracy: 0.9522 - binary_crossentropy: 2.1372\n",
      "Epoch 873/1000\n",
      "8143/8143 [==============================] - 0s 16us/step - loss: 1.9895 - binary_accuracy: 0.9514 - binary_crossentropy: 1.9639\n",
      "Epoch 874/1000\n",
      "8143/8143 [==============================] - 0s 16us/step - loss: 1.8414 - binary_accuracy: 0.9544 - binary_crossentropy: 1.8159\n",
      "Epoch 875/1000\n",
      "8143/8143 [==============================] - 0s 15us/step - loss: 1.8492 - binary_accuracy: 0.9516 - binary_crossentropy: 1.8237\n",
      "Epoch 876/1000\n",
      "8143/8143 [==============================] - 0s 16us/step - loss: 1.8967 - binary_accuracy: 0.9544 - binary_crossentropy: 1.8712\n",
      "Epoch 877/1000\n",
      "8143/8143 [==============================] - 0s 16us/step - loss: 1.9753 - binary_accuracy: 0.9511 - binary_crossentropy: 1.9499\n",
      "Epoch 878/1000\n",
      "8143/8143 [==============================] - 0s 15us/step - loss: 1.8278 - binary_accuracy: 0.9548 - binary_crossentropy: 1.8025\n",
      "Epoch 879/1000\n",
      "8143/8143 [==============================] - 0s 16us/step - loss: 1.8258 - binary_accuracy: 0.9521 - binary_crossentropy: 1.8006\n",
      "Epoch 880/1000\n",
      "8143/8143 [==============================] - 0s 13us/step - loss: 1.7574 - binary_accuracy: 0.9521 - binary_crossentropy: 1.7322\n",
      "Epoch 881/1000\n",
      "8143/8143 [==============================] - 0s 12us/step - loss: 2.0960 - binary_accuracy: 0.9524 - binary_crossentropy: 2.0709\n",
      "Epoch 882/1000\n",
      "8143/8143 [==============================] - 0s 12us/step - loss: 1.7770 - binary_accuracy: 0.9515 - binary_crossentropy: 1.7520\n",
      "Epoch 883/1000\n",
      "8143/8143 [==============================] - 0s 13us/step - loss: 1.7183 - binary_accuracy: 0.9515 - binary_crossentropy: 1.6933\n",
      "Epoch 884/1000\n",
      "8143/8143 [==============================] - 0s 13us/step - loss: 1.8988 - binary_accuracy: 0.9520 - binary_crossentropy: 1.8740\n",
      "Epoch 885/1000\n",
      "8143/8143 [==============================] - 0s 17us/step - loss: 1.9691 - binary_accuracy: 0.9499 - binary_crossentropy: 1.9443\n",
      "Epoch 886/1000\n",
      "8143/8143 [==============================] - 0s 17us/step - loss: 1.9268 - binary_accuracy: 0.9515 - binary_crossentropy: 1.9021\n",
      "Epoch 887/1000\n",
      "8143/8143 [==============================] - 0s 16us/step - loss: 2.3205 - binary_accuracy: 0.9482 - binary_crossentropy: 2.2958\n",
      "Epoch 888/1000\n",
      "8143/8143 [==============================] - 0s 15us/step - loss: 1.8230 - binary_accuracy: 0.9552 - binary_crossentropy: 1.7985\n",
      "Epoch 889/1000\n",
      "8143/8143 [==============================] - 0s 16us/step - loss: 2.6956 - binary_accuracy: 0.9466 - binary_crossentropy: 2.6711\n",
      "Epoch 890/1000\n",
      "8143/8143 [==============================] - 0s 14us/step - loss: 2.2547 - binary_accuracy: 0.9508 - binary_crossentropy: 2.2303\n",
      "Epoch 891/1000\n",
      "8143/8143 [==============================] - 0s 17us/step - loss: 1.8894 - binary_accuracy: 0.9544 - binary_crossentropy: 1.8651\n",
      "Epoch 892/1000\n",
      "8143/8143 [==============================] - 0s 13us/step - loss: 1.9019 - binary_accuracy: 0.9498 - binary_crossentropy: 1.8777\n",
      "Epoch 893/1000\n",
      "8143/8143 [==============================] - 0s 13us/step - loss: 1.7747 - binary_accuracy: 0.9522 - binary_crossentropy: 1.7506\n",
      "Epoch 894/1000\n",
      "8143/8143 [==============================] - 0s 16us/step - loss: 18.1031 - binary_accuracy: 0.8292 - binary_crossentropy: 18.0790\n",
      "Epoch 895/1000\n"
     ]
    },
    {
     "name": "stdout",
     "output_type": "stream",
     "text": [
      "8143/8143 [==============================] - 0s 16us/step - loss: 23.3864 - binary_accuracy: 0.8092 - binary_crossentropy: 23.3621\n",
      "Epoch 896/1000\n",
      "8143/8143 [==============================] - 0s 14us/step - loss: 23.7267 - binary_accuracy: 0.8127 - binary_crossentropy: 23.7020\n",
      "Epoch 897/1000\n",
      "8143/8143 [==============================] - 0s 13us/step - loss: 20.0932 - binary_accuracy: 0.8046 - binary_crossentropy: 20.0681\n",
      "Epoch 898/1000\n",
      "8143/8143 [==============================] - 0s 12us/step - loss: 8.0134 - binary_accuracy: 0.9073 - binary_crossentropy: 7.9881\n",
      "Epoch 899/1000\n",
      "8143/8143 [==============================] - 0s 17us/step - loss: 1.9350 - binary_accuracy: 0.9499 - binary_crossentropy: 1.9097\n",
      "Epoch 900/1000\n",
      "8143/8143 [==============================] - 0s 12us/step - loss: 1.7904 - binary_accuracy: 0.9524 - binary_crossentropy: 1.7651\n",
      "Epoch 901/1000\n",
      "8143/8143 [==============================] - 0s 14us/step - loss: 1.7830 - binary_accuracy: 0.9530 - binary_crossentropy: 1.7577\n",
      "Epoch 902/1000\n",
      "8143/8143 [==============================] - 0s 15us/step - loss: 1.7117 - binary_accuracy: 0.9517 - binary_crossentropy: 1.6864\n",
      "Epoch 903/1000\n",
      "8143/8143 [==============================] - 0s 16us/step - loss: 1.6993 - binary_accuracy: 0.9508 - binary_crossentropy: 1.6741\n",
      "Epoch 904/1000\n",
      "8143/8143 [==============================] - 0s 16us/step - loss: 1.6820 - binary_accuracy: 0.9520 - binary_crossentropy: 1.6569\n",
      "Epoch 905/1000\n",
      "8143/8143 [==============================] - 0s 14us/step - loss: 1.8122 - binary_accuracy: 0.9524 - binary_crossentropy: 1.7872\n",
      "Epoch 906/1000\n",
      "8143/8143 [==============================] - 0s 15us/step - loss: 1.7755 - binary_accuracy: 0.9509 - binary_crossentropy: 1.7505\n",
      "Epoch 907/1000\n",
      "8143/8143 [==============================] - 0s 15us/step - loss: 1.8411 - binary_accuracy: 0.9516 - binary_crossentropy: 1.8162\n",
      "Epoch 908/1000\n",
      "8143/8143 [==============================] - 0s 13us/step - loss: 1.7428 - binary_accuracy: 0.9535 - binary_crossentropy: 1.7180\n",
      "Epoch 909/1000\n",
      "8143/8143 [==============================] - 0s 14us/step - loss: 1.8149 - binary_accuracy: 0.9508 - binary_crossentropy: 1.7901\n",
      "Epoch 910/1000\n",
      "8143/8143 [==============================] - 0s 16us/step - loss: 1.8192 - binary_accuracy: 0.9532 - binary_crossentropy: 1.7945\n",
      "Epoch 911/1000\n",
      "8143/8143 [==============================] - 0s 15us/step - loss: 2.0232 - binary_accuracy: 0.9484 - binary_crossentropy: 1.9986\n",
      "Epoch 912/1000\n",
      "8143/8143 [==============================] - 0s 16us/step - loss: 18.6421 - binary_accuracy: 0.8455 - binary_crossentropy: 18.6175\n",
      "Epoch 913/1000\n",
      "8143/8143 [==============================] - 0s 15us/step - loss: 20.2402 - binary_accuracy: 0.7980 - binary_crossentropy: 20.2153\n",
      "Epoch 914/1000\n",
      "8143/8143 [==============================] - 0s 18us/step - loss: 27.7023 - binary_accuracy: 0.7977 - binary_crossentropy: 27.6771\n",
      "Epoch 915/1000\n",
      "8143/8143 [==============================] - 0s 15us/step - loss: 10.5382 - binary_accuracy: 0.8916 - binary_crossentropy: 10.5126\n",
      "Epoch 916/1000\n",
      "8143/8143 [==============================] - 0s 19us/step - loss: 2.5292 - binary_accuracy: 0.9512 - binary_crossentropy: 2.5035\n",
      "Epoch 917/1000\n",
      "8143/8143 [==============================] - 0s 18us/step - loss: 1.7968 - binary_accuracy: 0.9574 - binary_crossentropy: 1.7711\n",
      "Epoch 918/1000\n",
      "8143/8143 [==============================] - 0s 17us/step - loss: 1.9227 - binary_accuracy: 0.9528 - binary_crossentropy: 1.8971\n",
      "Epoch 919/1000\n",
      "8143/8143 [==============================] - 0s 17us/step - loss: 2.2918 - binary_accuracy: 0.9514 - binary_crossentropy: 2.2663\n",
      "Epoch 920/1000\n",
      "8143/8143 [==============================] - 0s 19us/step - loss: 1.8602 - binary_accuracy: 0.9526 - binary_crossentropy: 1.8347\n",
      "Epoch 921/1000\n",
      "8143/8143 [==============================] - 0s 18us/step - loss: 2.0631 - binary_accuracy: 0.9536 - binary_crossentropy: 2.0377\n",
      "Epoch 922/1000\n",
      "8143/8143 [==============================] - 0s 18us/step - loss: 1.7058 - binary_accuracy: 0.9543 - binary_crossentropy: 1.6804\n",
      "Epoch 923/1000\n",
      "8143/8143 [==============================] - 0s 17us/step - loss: 1.7426 - binary_accuracy: 0.9512 - binary_crossentropy: 1.7173\n",
      "Epoch 924/1000\n",
      "8143/8143 [==============================] - 0s 15us/step - loss: 1.7411 - binary_accuracy: 0.9527 - binary_crossentropy: 1.7158: 0s - loss: 1.9966 - binary_accuracy: 0.9505 - binary_crossentropy: 1.97\n",
      "Epoch 925/1000\n",
      "8143/8143 [==============================] - 0s 15us/step - loss: 2.2726 - binary_accuracy: 0.9449 - binary_crossentropy: 2.2474\n",
      "Epoch 926/1000\n",
      "8143/8143 [==============================] - 0s 16us/step - loss: 2.1081 - binary_accuracy: 0.9527 - binary_crossentropy: 2.0830\n",
      "Epoch 927/1000\n",
      "8143/8143 [==============================] - 0s 15us/step - loss: 1.8836 - binary_accuracy: 0.9542 - binary_crossentropy: 1.8585\n",
      "Epoch 928/1000\n",
      "8143/8143 [==============================] - 0s 16us/step - loss: 1.7720 - binary_accuracy: 0.9549 - binary_crossentropy: 1.7469\n",
      "Epoch 929/1000\n",
      "8143/8143 [==============================] - 0s 14us/step - loss: 1.8123 - binary_accuracy: 0.9511 - binary_crossentropy: 1.7874\n",
      "Epoch 930/1000\n",
      "8143/8143 [==============================] - 0s 14us/step - loss: 1.7108 - binary_accuracy: 0.9528 - binary_crossentropy: 1.6858\n",
      "Epoch 931/1000\n",
      "8143/8143 [==============================] - 0s 15us/step - loss: 1.7816 - binary_accuracy: 0.9508 - binary_crossentropy: 1.7568\n",
      "Epoch 932/1000\n",
      "8143/8143 [==============================] - 0s 17us/step - loss: 3.6627 - binary_accuracy: 0.9311 - binary_crossentropy: 3.6379\n",
      "Epoch 933/1000\n",
      "8143/8143 [==============================] - 0s 13us/step - loss: 18.0711 - binary_accuracy: 0.8389 - binary_crossentropy: 18.0463\n",
      "Epoch 934/1000\n",
      "8143/8143 [==============================] - 0s 12us/step - loss: 22.2864 - binary_accuracy: 0.8116 - binary_crossentropy: 22.2613\n",
      "Epoch 935/1000\n",
      "8143/8143 [==============================] - 0s 11us/step - loss: 4.2983 - binary_accuracy: 0.9189 - binary_crossentropy: 4.2730\n",
      "Epoch 936/1000\n",
      "8143/8143 [==============================] - 0s 11us/step - loss: 2.0559 - binary_accuracy: 0.9568 - binary_crossentropy: 2.0306\n",
      "Epoch 937/1000\n",
      "8143/8143 [==============================] - 0s 12us/step - loss: 1.7723 - binary_accuracy: 0.9573 - binary_crossentropy: 1.7470\n",
      "Epoch 938/1000\n",
      "8143/8143 [==============================] - 0s 15us/step - loss: 1.7445 - binary_accuracy: 0.9535 - binary_crossentropy: 1.7192\n",
      "Epoch 939/1000\n",
      "8143/8143 [==============================] - 0s 14us/step - loss: 2.1318 - binary_accuracy: 0.9485 - binary_crossentropy: 2.1066\n",
      "Epoch 940/1000\n",
      "8143/8143 [==============================] - 0s 13us/step - loss: 2.3020 - binary_accuracy: 0.9515 - binary_crossentropy: 2.2769\n",
      "Epoch 941/1000\n",
      "8143/8143 [==============================] - 0s 13us/step - loss: 1.7225 - binary_accuracy: 0.9548 - binary_crossentropy: 1.6974\n",
      "Epoch 942/1000\n",
      "8143/8143 [==============================] - 0s 16us/step - loss: 1.8384 - binary_accuracy: 0.9527 - binary_crossentropy: 1.8133\n",
      "Epoch 943/1000\n",
      "8143/8143 [==============================] - 0s 15us/step - loss: 1.7146 - binary_accuracy: 0.9531 - binary_crossentropy: 1.6896\n",
      "Epoch 944/1000\n",
      "8143/8143 [==============================] - 0s 16us/step - loss: 1.9447 - binary_accuracy: 0.9479 - binary_crossentropy: 1.9198\n",
      "Epoch 945/1000\n",
      "8143/8143 [==============================] - 0s 14us/step - loss: 2.9089 - binary_accuracy: 0.9467 - binary_crossentropy: 2.8840\n",
      "Epoch 946/1000\n",
      "8143/8143 [==============================] - 0s 22us/step - loss: 1.9567 - binary_accuracy: 0.9568 - binary_crossentropy: 1.9319\n",
      "Epoch 947/1000\n",
      "8143/8143 [==============================] - 0s 37us/step - loss: 1.7808 - binary_accuracy: 0.9560 - binary_crossentropy: 1.7560\n",
      "Epoch 948/1000\n",
      "8143/8143 [==============================] - 0s 14us/step - loss: 2.0353 - binary_accuracy: 0.9517 - binary_crossentropy: 2.0106\n",
      "Epoch 949/1000\n",
      "8143/8143 [==============================] - 0s 12us/step - loss: 3.0380 - binary_accuracy: 0.9442 - binary_crossentropy: 3.0134\n",
      "Epoch 950/1000\n",
      "8143/8143 [==============================] - 0s 11us/step - loss: 12.3236 - binary_accuracy: 0.8875 - binary_crossentropy: 12.2990\n",
      "Epoch 951/1000\n",
      "8143/8143 [==============================] - 0s 12us/step - loss: 17.2893 - binary_accuracy: 0.8381 - binary_crossentropy: 17.2646\n",
      "Epoch 952/1000\n",
      "8143/8143 [==============================] - 0s 13us/step - loss: 9.6664 - binary_accuracy: 0.8644 - binary_crossentropy: 9.6414\n",
      "Epoch 953/1000\n",
      "8143/8143 [==============================] - 0s 17us/step - loss: 3.1376 - binary_accuracy: 0.9431 - binary_crossentropy: 3.1124\n",
      "Epoch 954/1000\n",
      "8143/8143 [==============================] - 0s 14us/step - loss: 1.9889 - binary_accuracy: 0.9546 - binary_crossentropy: 1.9638\n",
      "Epoch 955/1000\n",
      "8143/8143 [==============================] - 0s 12us/step - loss: 1.7823 - binary_accuracy: 0.9579 - binary_crossentropy: 1.7573\n",
      "Epoch 956/1000\n",
      "8143/8143 [==============================] - 0s 12us/step - loss: 2.0616 - binary_accuracy: 0.9517 - binary_crossentropy: 2.0366\n",
      "Epoch 957/1000\n",
      "8143/8143 [==============================] - 0s 12us/step - loss: 2.1364 - binary_accuracy: 0.9504 - binary_crossentropy: 2.1114\n",
      "Epoch 958/1000\n",
      "8143/8143 [==============================] - 0s 12us/step - loss: 1.8685 - binary_accuracy: 0.9539 - binary_crossentropy: 1.8436\n",
      "Epoch 959/1000\n",
      "8143/8143 [==============================] - 0s 12us/step - loss: 1.9779 - binary_accuracy: 0.9514 - binary_crossentropy: 1.9531\n",
      "Epoch 960/1000\n",
      "8143/8143 [==============================] - 0s 11us/step - loss: 1.8596 - binary_accuracy: 0.9517 - binary_crossentropy: 1.8348\n",
      "Epoch 961/1000\n",
      "8143/8143 [==============================] - 0s 11us/step - loss: 1.8053 - binary_accuracy: 0.9532 - binary_crossentropy: 1.7806\n",
      "Epoch 962/1000\n",
      "8143/8143 [==============================] - 0s 11us/step - loss: 1.8999 - binary_accuracy: 0.9516 - binary_crossentropy: 1.8753\n",
      "Epoch 963/1000\n",
      "8143/8143 [==============================] - 0s 12us/step - loss: 1.7119 - binary_accuracy: 0.9526 - binary_crossentropy: 1.6873\n",
      "Epoch 964/1000\n",
      "8143/8143 [==============================] - 0s 12us/step - loss: 1.6940 - binary_accuracy: 0.9525 - binary_crossentropy: 1.6695\n",
      "Epoch 965/1000\n",
      "8143/8143 [==============================] - 0s 11us/step - loss: 1.8315 - binary_accuracy: 0.9512 - binary_crossentropy: 1.8071\n",
      "Epoch 966/1000\n",
      "8143/8143 [==============================] - 0s 12us/step - loss: 1.6816 - binary_accuracy: 0.9528 - binary_crossentropy: 1.6572\n",
      "Epoch 967/1000\n",
      "8143/8143 [==============================] - 0s 11us/step - loss: 1.8311 - binary_accuracy: 0.9521 - binary_crossentropy: 1.8068\n",
      "Epoch 968/1000\n",
      "8143/8143 [==============================] - 0s 11us/step - loss: 1.7444 - binary_accuracy: 0.9510 - binary_crossentropy: 1.7202\n",
      "Epoch 969/1000\n",
      "8143/8143 [==============================] - 0s 13us/step - loss: 3.1916 - binary_accuracy: 0.9374 - binary_crossentropy: 3.1674\n",
      "Epoch 970/1000\n",
      "8143/8143 [==============================] - 0s 11us/step - loss: 21.6576 - binary_accuracy: 0.8055 - binary_crossentropy: 21.6333\n",
      "Epoch 971/1000\n",
      "8143/8143 [==============================] - 0s 12us/step - loss: 6.1527 - binary_accuracy: 0.8946 - binary_crossentropy: 6.1282\n",
      "Epoch 972/1000\n",
      "8143/8143 [==============================] - 0s 12us/step - loss: 3.3871 - binary_accuracy: 0.9388 - binary_crossentropy: 3.3625\n",
      "Epoch 973/1000\n",
      "8143/8143 [==============================] - 0s 11us/step - loss: 1.8089 - binary_accuracy: 0.9573 - binary_crossentropy: 1.7844\n",
      "Epoch 974/1000\n",
      "8143/8143 [==============================] - 0s 13us/step - loss: 1.6909 - binary_accuracy: 0.9557 - binary_crossentropy: 1.6664\n",
      "Epoch 975/1000\n",
      "8143/8143 [==============================] - 0s 11us/step - loss: 1.6920 - binary_accuracy: 0.9519 - binary_crossentropy: 1.6676\n",
      "Epoch 976/1000\n",
      "8143/8143 [==============================] - 0s 12us/step - loss: 1.9374 - binary_accuracy: 0.9498 - binary_crossentropy: 1.9130\n",
      "Epoch 977/1000\n",
      "8143/8143 [==============================] - 0s 11us/step - loss: 1.9823 - binary_accuracy: 0.9509 - binary_crossentropy: 1.9580\n",
      "Epoch 978/1000\n",
      "8143/8143 [==============================] - 0s 12us/step - loss: 1.8803 - binary_accuracy: 0.9525 - binary_crossentropy: 1.8561\n",
      "Epoch 979/1000\n",
      "8143/8143 [==============================] - 0s 11us/step - loss: 2.1320 - binary_accuracy: 0.9468 - binary_crossentropy: 2.1078\n",
      "Epoch 980/1000\n",
      "8143/8143 [==============================] - 0s 11us/step - loss: 1.9360 - binary_accuracy: 0.9557 - binary_crossentropy: 1.9118\n",
      "Epoch 981/1000\n",
      "8143/8143 [==============================] - 0s 11us/step - loss: 1.9562 - binary_accuracy: 0.9517 - binary_crossentropy: 1.9321\n",
      "Epoch 982/1000\n",
      "8143/8143 [==============================] - 0s 11us/step - loss: 2.3073 - binary_accuracy: 0.9493 - binary_crossentropy: 2.2832\n",
      "Epoch 983/1000\n",
      "8143/8143 [==============================] - 0s 12us/step - loss: 2.2935 - binary_accuracy: 0.9506 - binary_crossentropy: 2.2695\n",
      "Epoch 984/1000\n",
      "8143/8143 [==============================] - 0s 11us/step - loss: 1.9409 - binary_accuracy: 0.9575 - binary_crossentropy: 1.9170\n",
      "Epoch 985/1000\n",
      "8143/8143 [==============================] - 0s 12us/step - loss: 1.7367 - binary_accuracy: 0.9562 - binary_crossentropy: 1.7128\n",
      "Epoch 986/1000\n",
      "8143/8143 [==============================] - 0s 11us/step - loss: 1.7369 - binary_accuracy: 0.9546 - binary_crossentropy: 1.7131\n",
      "Epoch 987/1000\n",
      "8143/8143 [==============================] - 0s 11us/step - loss: 1.9621 - binary_accuracy: 0.9512 - binary_crossentropy: 1.9383\n",
      "Epoch 988/1000\n",
      "8143/8143 [==============================] - 0s 12us/step - loss: 1.7165 - binary_accuracy: 0.9537 - binary_crossentropy: 1.6929\n",
      "Epoch 989/1000\n",
      "8143/8143 [==============================] - 0s 12us/step - loss: 1.8607 - binary_accuracy: 0.9520 - binary_crossentropy: 1.8371\n",
      "Epoch 990/1000\n",
      "8143/8143 [==============================] - 0s 11us/step - loss: 2.4224 - binary_accuracy: 0.9463 - binary_crossentropy: 2.3990\n",
      "Epoch 991/1000\n",
      "8143/8143 [==============================] - 0s 11us/step - loss: 2.3366 - binary_accuracy: 0.9526 - binary_crossentropy: 2.3131\n",
      "Epoch 992/1000\n",
      "8143/8143 [==============================] - 0s 11us/step - loss: 3.5830 - binary_accuracy: 0.9295 - binary_crossentropy: 3.5597\n",
      "Epoch 993/1000\n",
      "8143/8143 [==============================] - 0s 11us/step - loss: 28.9716 - binary_accuracy: 0.7995 - binary_crossentropy: 28.9482\n",
      "Epoch 994/1000\n",
      "8143/8143 [==============================] - 0s 12us/step - loss: 14.1556 - binary_accuracy: 0.8286 - binary_crossentropy: 14.1318\n",
      "Epoch 995/1000\n",
      "8143/8143 [==============================] - 0s 11us/step - loss: 7.8597 - binary_accuracy: 0.9058 - binary_crossentropy: 7.8357\n",
      "Epoch 996/1000\n",
      "8143/8143 [==============================] - 0s 11us/step - loss: 2.0497 - binary_accuracy: 0.9514 - binary_crossentropy: 2.0257\n",
      "Epoch 997/1000\n",
      "8143/8143 [==============================] - 0s 12us/step - loss: 1.7991 - binary_accuracy: 0.9546 - binary_crossentropy: 1.7750\n",
      "Epoch 998/1000\n",
      "8143/8143 [==============================] - 0s 11us/step - loss: 1.6664 - binary_accuracy: 0.9552 - binary_crossentropy: 1.6425\n",
      "Epoch 999/1000\n",
      "8143/8143 [==============================] - 0s 11us/step - loss: 1.6596 - binary_accuracy: 0.9530 - binary_crossentropy: 1.6357\n",
      "Epoch 1000/1000\n",
      "8143/8143 [==============================] - 0s 12us/step - loss: 1.7396 - binary_accuracy: 0.9501 - binary_crossentropy: 1.7157\n"
     ]
    },
    {
     "data": {
      "text/plain": [
       "ShapeletModel(batch_size=256, max_iter=1000, n_shapelets_per_size={1: 4},\n",
       "              optimizer='adamax', random_state=None, shapelet_length=0.15,\n",
       "              total_lengths=3, verbose=1, verbose_level=None,\n",
       "              weight_regularizer=0.01)"
      ]
     },
     "execution_count": 349,
     "metadata": {},
     "output_type": "execute_result"
    }
   ],
   "source": [
    "shp_clf.fit(arrX,arry)"
   ]
  },
  {
   "cell_type": "code",
   "execution_count": 353,
   "metadata": {},
   "outputs": [],
   "source": [
    "from sklearn.metrics import accuracy_score"
   ]
  },
  {
   "cell_type": "code",
   "execution_count": 354,
   "metadata": {},
   "outputs": [
    {
     "name": "stdout",
     "output_type": "stream",
     "text": [
      "8143/8143 [==============================] - 0s 6us/step\n",
      "Correct classification rate: 0.9463342748372836\n"
     ]
    }
   ],
   "source": [
    "predicted_labels = shp_clf.predict(arrX)\n",
    "print(\"Correct classification rate:\", accuracy_score(arry, predicted_labels))"
   ]
  },
  {
   "cell_type": "code",
   "execution_count": 355,
   "metadata": {},
   "outputs": [
    {
     "name": "stderr",
     "output_type": "stream",
     "text": [
      "//anaconda3/lib/python3.7/site-packages/tslearn/utils.py:63: UserWarning: 2-Dimensional data passed. Assuming these are 8143 1-dimensional timeseries\n",
      "  '{} 1-dimensional timeseries'.format(X.shape[0]))\n"
     ]
    },
    {
     "name": "stdout",
     "output_type": "stream",
     "text": [
      "8143/8143 [==============================] - 1s 115us/step\n"
     ]
    }
   ],
   "source": [
    "predicted_locations = shp_clf.locate(arrX)"
   ]
  },
  {
   "cell_type": "code",
   "execution_count": 356,
   "metadata": {
    "scrolled": true
   },
   "outputs": [
    {
     "data": {
      "image/png": "[encoded data removed]",
      "text/plain": [
       "<Figure size 432x288 with 1 Axes>"
      ]
     },
     "metadata": {
      "needs_background": "light"
     },
     "output_type": "display_data"
    }
   ],
   "source": [
    "ts_id = 0\n",
    "plt.figure()\n",
    "n_shapelets = sum(shapelet_sizes.values())\n",
    "plt.title(\"Example locations of shapelet matches \"\n",
    "          \"(%d shapelets extracted)\".format(n_shapelets))\n",
    "\n",
    "plt.plot(arrX[ts_id].ravel())\n",
    "for idx_shp, shp in enumerate(shp_clf.shapelets_):\n",
    "    t0 = predicted_locations[ts_id, idx_shp]\n",
    "    plt.plot(np.arange(t0, t0 + len(shp)), shp, linewidth=2)"
   ]
  },
  {
   "cell_type": "markdown",
   "metadata": {},
   "source": [
    "# Shapelet Discovery 2"
   ]
  },
  {
   "cell_type": "code",
   "execution_count": 283,
   "metadata": {},
   "outputs": [],
   "source": [
    "from shapelets_lts.classification import LtsShapeletClassifier"
   ]
  },
  {
   "cell_type": "code",
   "execution_count": 293,
   "metadata": {},
   "outputs": [],
   "source": [
    "shp_clf = LtsShapeletClassifier(\n",
    "    K=10,\n",
    "    R=2,\n",
    "    L_min=1,\n",
    "    epocs=50,\n",
    "    lamda=1,\n",
    "    eta=0.01,\n",
    "    shapelet_initialization='segments_centroids',\n",
    "    plot_loss=False\n",
    ")\n"
   ]
  },
  {
   "cell_type": "code",
   "execution_count": 294,
   "metadata": {},
   "outputs": [
    {
     "data": {
      "text/plain": [
       "(8143,)"
      ]
     },
     "execution_count": 294,
     "metadata": {},
     "output_type": "execute_result"
    }
   ],
   "source": [
    "arry.shape"
   ]
  },
  {
   "cell_type": "code",
   "execution_count": 295,
   "metadata": {},
   "outputs": [
    {
     "name": "stdout",
     "output_type": "stream",
     "text": [
      "Network initialization ...\n",
      "Using training data to initialize shaplets\n",
      "Training ...\n",
      "Using training data for validation\n"
     ]
    },
    {
     "name": "stderr",
     "output_type": "stream",
     "text": [
      "//anaconda3/lib/python3.7/site-packages/shapelets_lts/network/soft_min_layer.py:67: RuntimeWarning: invalid value encountered in double_scalars\n",
      "  M = M_numerator / self.psi\n"
     ]
    },
    {
     "name": "stdout",
     "output_type": "stream",
     "text": [
      "epoch=1/50 (iteration=8143) loss=nan validation accuracy=0.7876703917475132\n",
      "epoch=2/50 (iteration=16286) loss=nan validation accuracy=0.7876703917475132\n",
      "epoch=3/50 (iteration=24429) loss=nan validation accuracy=0.7876703917475132\n",
      "epoch=4/50 (iteration=32572) loss=nan validation accuracy=0.7876703917475132\n",
      "epoch=5/50 (iteration=40715) loss=nan validation accuracy=0.7876703917475132\n"
     ]
    },
    {
     "ename": "KeyboardInterrupt",
     "evalue": "",
     "output_type": "error",
     "traceback": [
      "\u001b[0;31m---------------------------------------------------------------------------\u001b[0m",
      "\u001b[0;31mKeyboardInterrupt\u001b[0m                         Traceback (most recent call last)",
      "\u001b[0;32m<ipython-input-295-cbb4738d7b30>\u001b[0m in \u001b[0;36m<module>\u001b[0;34m\u001b[0m\n\u001b[0;32m----> 1\u001b[0;31m \u001b[0mshp_clf\u001b[0m\u001b[0;34m.\u001b[0m\u001b[0mfit\u001b[0m\u001b[0;34m(\u001b[0m\u001b[0marrX\u001b[0m\u001b[0;34m,\u001b[0m \u001b[0marry\u001b[0m\u001b[0;34m)\u001b[0m\u001b[0;34m\u001b[0m\u001b[0;34m\u001b[0m\u001b[0m\n\u001b[0m",
      "\u001b[0;32m//anaconda3/lib/python3.7/site-packages/shapelets_lts/classification/shapelet_models.py\u001b[0m in \u001b[0;36mfit\u001b[0;34m(self, X, y)\u001b[0m\n\u001b[1;32m     65\u001b[0m         \u001b[0mself\u001b[0m\u001b[0;34m.\u001b[0m\u001b[0mtrain_size\u001b[0m\u001b[0;34m,\u001b[0m \u001b[0mself\u001b[0m\u001b[0;34m.\u001b[0m\u001b[0moutput_size\u001b[0m \u001b[0;34m=\u001b[0m \u001b[0mself\u001b[0m\u001b[0;34m.\u001b[0m\u001b[0mtrain_labels\u001b[0m\u001b[0;34m.\u001b[0m\u001b[0mshape\u001b[0m\u001b[0;34m\u001b[0m\u001b[0;34m\u001b[0m\u001b[0m\n\u001b[1;32m     66\u001b[0m         \u001b[0mself\u001b[0m\u001b[0;34m.\u001b[0m\u001b[0m_init_network\u001b[0m\u001b[0;34m(\u001b[0m\u001b[0;34m)\u001b[0m\u001b[0;34m\u001b[0m\u001b[0;34m\u001b[0m\u001b[0m\n\u001b[0;32m---> 67\u001b[0;31m         \u001b[0mself\u001b[0m\u001b[0;34m.\u001b[0m\u001b[0m_train_network\u001b[0m\u001b[0;34m(\u001b[0m\u001b[0;34m)\u001b[0m\u001b[0;34m\u001b[0m\u001b[0;34m\u001b[0m\u001b[0m\n\u001b[0m\u001b[1;32m     68\u001b[0m         \u001b[0;32mreturn\u001b[0m \u001b[0mself\u001b[0m\u001b[0;34m\u001b[0m\u001b[0;34m\u001b[0m\u001b[0m\n\u001b[1;32m     69\u001b[0m \u001b[0;34m\u001b[0m\u001b[0m\n",
      "\u001b[0;32m//anaconda3/lib/python3.7/site-packages/shapelets_lts/classification/shapelet_models.py\u001b[0m in \u001b[0;36m_train_network\u001b[0;34m(self)\u001b[0m\n\u001b[1;32m    161\u001b[0m                 \u001b[0mlabel\u001b[0m \u001b[0;34m=\u001b[0m \u001b[0mnp\u001b[0m\u001b[0;34m.\u001b[0m\u001b[0marray\u001b[0m\u001b[0;34m(\u001b[0m\u001b[0;34m[\u001b[0m\u001b[0mself\u001b[0m\u001b[0;34m.\u001b[0m\u001b[0mtrain_labels\u001b[0m\u001b[0;34m[\u001b[0m\u001b[0msample_id\u001b[0m\u001b[0;34m]\u001b[0m\u001b[0;34m]\u001b[0m\u001b[0;34m)\u001b[0m\u001b[0;34m\u001b[0m\u001b[0;34m\u001b[0m\u001b[0m\n\u001b[1;32m    162\u001b[0m                 \u001b[0;31m# perform a forward pass\u001b[0m\u001b[0;34m\u001b[0m\u001b[0;34m\u001b[0m\u001b[0;34m\u001b[0m\u001b[0m\n\u001b[0;32m--> 163\u001b[0;31m                 \u001b[0ml\u001b[0m \u001b[0;34m=\u001b[0m \u001b[0mself\u001b[0m\u001b[0;34m.\u001b[0m\u001b[0mnetwork\u001b[0m\u001b[0;34m.\u001b[0m\u001b[0mforward\u001b[0m\u001b[0;34m(\u001b[0m\u001b[0msample\u001b[0m\u001b[0;34m,\u001b[0m \u001b[0mlabel\u001b[0m\u001b[0;34m)\u001b[0m\u001b[0;34m\u001b[0m\u001b[0;34m\u001b[0m\u001b[0m\n\u001b[0m\u001b[1;32m    164\u001b[0m                 \u001b[0;31m# perform a backward pass\u001b[0m\u001b[0;34m\u001b[0m\u001b[0;34m\u001b[0m\u001b[0;34m\u001b[0m\u001b[0m\n\u001b[1;32m    165\u001b[0m                 \u001b[0mself\u001b[0m\u001b[0;34m.\u001b[0m\u001b[0mnetwork\u001b[0m\u001b[0;34m.\u001b[0m\u001b[0mbackward\u001b[0m\u001b[0;34m(\u001b[0m\u001b[0;34m)\u001b[0m\u001b[0;34m\u001b[0m\u001b[0;34m\u001b[0m\u001b[0m\n",
      "\u001b[0;32m//anaconda3/lib/python3.7/site-packages/shapelets_lts/network/network.py\u001b[0m in \u001b[0;36mforward\u001b[0;34m(self, sample, target)\u001b[0m\n\u001b[1;32m     22\u001b[0m                 \u001b[0mself\u001b[0m\u001b[0;34m.\u001b[0m\u001b[0mlayers\u001b[0m\u001b[0;34m[\u001b[0m\u001b[0mlayer_id\u001b[0m\u001b[0;34m]\u001b[0m\u001b[0;34m.\u001b[0m\u001b[0mset_current_target_probabilities\u001b[0m\u001b[0;34m(\u001b[0m\u001b[0mtarget\u001b[0m\u001b[0;34m)\u001b[0m\u001b[0;34m\u001b[0m\u001b[0;34m\u001b[0m\u001b[0m\n\u001b[1;32m     23\u001b[0m                 \u001b[0mself\u001b[0m\u001b[0;34m.\u001b[0m\u001b[0mlayers\u001b[0m\u001b[0;34m[\u001b[0m\u001b[0mlayer_id\u001b[0m\u001b[0;34m]\u001b[0m\u001b[0;34m.\u001b[0m\u001b[0mset_regularized_params\u001b[0m\u001b[0;34m(\u001b[0m\u001b[0mself\u001b[0m\u001b[0;34m.\u001b[0m\u001b[0m_get_regularized_params\u001b[0m\u001b[0;34m(\u001b[0m\u001b[0;34m)\u001b[0m\u001b[0;34m)\u001b[0m\u001b[0;34m\u001b[0m\u001b[0;34m\u001b[0m\u001b[0m\n\u001b[0;32m---> 24\u001b[0;31m             \u001b[0mlayer_input\u001b[0m \u001b[0;34m=\u001b[0m \u001b[0mself\u001b[0m\u001b[0;34m.\u001b[0m\u001b[0mlayers\u001b[0m\u001b[0;34m[\u001b[0m\u001b[0mlayer_id\u001b[0m\u001b[0;34m]\u001b[0m\u001b[0;34m.\u001b[0m\u001b[0mforward\u001b[0m\u001b[0;34m(\u001b[0m\u001b[0mlayer_input\u001b[0m\u001b[0;34m)\u001b[0m\u001b[0;34m\u001b[0m\u001b[0;34m\u001b[0m\u001b[0m\n\u001b[0m\u001b[1;32m     25\u001b[0m         \u001b[0;32mreturn\u001b[0m \u001b[0mlayer_input\u001b[0m\u001b[0;34m\u001b[0m\u001b[0;34m\u001b[0m\u001b[0m\n\u001b[1;32m     26\u001b[0m \u001b[0;34m\u001b[0m\u001b[0m\n",
      "\u001b[0;32m//anaconda3/lib/python3.7/site-packages/shapelets_lts/network/aggregation_layer.py\u001b[0m in \u001b[0;36mforward\u001b[0;34m(self, layer_input)\u001b[0m\n\u001b[1;32m     25\u001b[0m         \u001b[0mself\u001b[0m\u001b[0;34m.\u001b[0m\u001b[0mcurrent_output\u001b[0m \u001b[0;34m=\u001b[0m \u001b[0mnp\u001b[0m\u001b[0;34m.\u001b[0m\u001b[0mzeros\u001b[0m\u001b[0;34m(\u001b[0m\u001b[0;34m(\u001b[0m\u001b[0;36m1\u001b[0m\u001b[0;34m,\u001b[0m \u001b[0mself\u001b[0m\u001b[0;34m.\u001b[0m\u001b[0mlayers_number\u001b[0m\u001b[0;34m)\u001b[0m\u001b[0;34m)\u001b[0m\u001b[0;34m\u001b[0m\u001b[0;34m\u001b[0m\u001b[0m\n\u001b[1;32m     26\u001b[0m         \u001b[0;32mfor\u001b[0m \u001b[0mlayer_number\u001b[0m \u001b[0;32min\u001b[0m \u001b[0mrange\u001b[0m\u001b[0;34m(\u001b[0m\u001b[0mself\u001b[0m\u001b[0;34m.\u001b[0m\u001b[0mlayers_number\u001b[0m\u001b[0;34m)\u001b[0m\u001b[0;34m:\u001b[0m\u001b[0;34m\u001b[0m\u001b[0;34m\u001b[0m\u001b[0m\n\u001b[0;32m---> 27\u001b[0;31m             \u001b[0mself\u001b[0m\u001b[0;34m.\u001b[0m\u001b[0mcurrent_output\u001b[0m\u001b[0;34m[\u001b[0m\u001b[0;36m0\u001b[0m\u001b[0;34m,\u001b[0m \u001b[0mlayer_number\u001b[0m\u001b[0;34m]\u001b[0m \u001b[0;34m=\u001b[0m \u001b[0mself\u001b[0m\u001b[0;34m.\u001b[0m\u001b[0mlayers\u001b[0m\u001b[0;34m[\u001b[0m\u001b[0mlayer_number\u001b[0m\u001b[0;34m]\u001b[0m\u001b[0;34m.\u001b[0m\u001b[0mforward\u001b[0m\u001b[0;34m(\u001b[0m\u001b[0mself\u001b[0m\u001b[0;34m.\u001b[0m\u001b[0mcurrent_input\u001b[0m\u001b[0;34m)\u001b[0m\u001b[0;34m\u001b[0m\u001b[0;34m\u001b[0m\u001b[0m\n\u001b[0m\u001b[1;32m     28\u001b[0m         \u001b[0;32mreturn\u001b[0m \u001b[0mself\u001b[0m\u001b[0;34m.\u001b[0m\u001b[0mcurrent_output\u001b[0m\u001b[0;34m\u001b[0m\u001b[0;34m\u001b[0m\u001b[0m\n\u001b[1;32m     29\u001b[0m \u001b[0;34m\u001b[0m\u001b[0m\n",
      "\u001b[0;32m//anaconda3/lib/python3.7/site-packages/shapelets_lts/network/soft_min_layer.py\u001b[0m in \u001b[0;36mforward\u001b[0;34m(self, layer_input)\u001b[0m\n\u001b[1;32m     30\u001b[0m     \u001b[0;32mdef\u001b[0m \u001b[0mforward\u001b[0m\u001b[0;34m(\u001b[0m\u001b[0mself\u001b[0m\u001b[0;34m,\u001b[0m \u001b[0mlayer_input\u001b[0m\u001b[0;34m)\u001b[0m\u001b[0;34m:\u001b[0m\u001b[0;34m\u001b[0m\u001b[0;34m\u001b[0m\u001b[0m\n\u001b[1;32m     31\u001b[0m         \u001b[0mself\u001b[0m\u001b[0;34m.\u001b[0m\u001b[0mT\u001b[0m \u001b[0;34m=\u001b[0m \u001b[0mlayer_input\u001b[0m\u001b[0;34m\u001b[0m\u001b[0;34m\u001b[0m\u001b[0m\n\u001b[0;32m---> 32\u001b[0;31m         \u001b[0mself\u001b[0m\u001b[0;34m.\u001b[0m\u001b[0mM\u001b[0m \u001b[0;34m=\u001b[0m \u001b[0mself\u001b[0m\u001b[0;34m.\u001b[0m\u001b[0mdist_soft_min\u001b[0m\u001b[0;34m(\u001b[0m\u001b[0;34m)\u001b[0m\u001b[0;34m\u001b[0m\u001b[0;34m\u001b[0m\u001b[0m\n\u001b[0m\u001b[1;32m     33\u001b[0m         \u001b[0;32mreturn\u001b[0m \u001b[0mself\u001b[0m\u001b[0;34m.\u001b[0m\u001b[0mM\u001b[0m\u001b[0;34m\u001b[0m\u001b[0;34m\u001b[0m\u001b[0m\n\u001b[1;32m     34\u001b[0m \u001b[0;34m\u001b[0m\u001b[0m\n",
      "\u001b[0;32m//anaconda3/lib/python3.7/site-packages/shapelets_lts/network/soft_min_layer.py\u001b[0m in \u001b[0;36mdist_soft_min\u001b[0;34m(self)\u001b[0m\n\u001b[1;32m     61\u001b[0m         \u001b[0mself\u001b[0m\u001b[0;34m.\u001b[0m\u001b[0mpsi\u001b[0m \u001b[0;34m=\u001b[0m \u001b[0;36m0\u001b[0m\u001b[0;34m\u001b[0m\u001b[0;34m\u001b[0m\u001b[0m\n\u001b[1;32m     62\u001b[0m         \u001b[0;32mfor\u001b[0m \u001b[0mj\u001b[0m \u001b[0;32min\u001b[0m \u001b[0mrange\u001b[0m\u001b[0;34m(\u001b[0m\u001b[0mself\u001b[0m\u001b[0;34m.\u001b[0m\u001b[0mJ\u001b[0m\u001b[0;34m)\u001b[0m\u001b[0;34m:\u001b[0m\u001b[0;34m\u001b[0m\u001b[0;34m\u001b[0m\u001b[0m\n\u001b[0;32m---> 63\u001b[0;31m             \u001b[0mself\u001b[0m\u001b[0;34m.\u001b[0m\u001b[0mD\u001b[0m\u001b[0;34m[\u001b[0m\u001b[0;36m0\u001b[0m\u001b[0;34m,\u001b[0m \u001b[0mj\u001b[0m\u001b[0;34m]\u001b[0m \u001b[0;34m=\u001b[0m \u001b[0mself\u001b[0m\u001b[0;34m.\u001b[0m\u001b[0mdist_sqr_error\u001b[0m\u001b[0;34m(\u001b[0m\u001b[0mself\u001b[0m\u001b[0;34m.\u001b[0m\u001b[0mT\u001b[0m\u001b[0;34m[\u001b[0m\u001b[0;36m0\u001b[0m\u001b[0;34m,\u001b[0m \u001b[0mj\u001b[0m\u001b[0;34m:\u001b[0m\u001b[0mj\u001b[0m \u001b[0;34m+\u001b[0m \u001b[0mself\u001b[0m\u001b[0;34m.\u001b[0m\u001b[0mL\u001b[0m\u001b[0;34m]\u001b[0m\u001b[0;34m)\u001b[0m\u001b[0;34m\u001b[0m\u001b[0;34m\u001b[0m\u001b[0m\n\u001b[0m\u001b[1;32m     64\u001b[0m             \u001b[0mself\u001b[0m\u001b[0;34m.\u001b[0m\u001b[0mxi\u001b[0m\u001b[0;34m[\u001b[0m\u001b[0;36m0\u001b[0m\u001b[0;34m,\u001b[0m \u001b[0mj\u001b[0m\u001b[0;34m]\u001b[0m \u001b[0;34m=\u001b[0m \u001b[0mnp\u001b[0m\u001b[0;34m.\u001b[0m\u001b[0mexp\u001b[0m\u001b[0;34m(\u001b[0m\u001b[0mself\u001b[0m\u001b[0;34m.\u001b[0m\u001b[0malpha\u001b[0m \u001b[0;34m*\u001b[0m \u001b[0mself\u001b[0m\u001b[0;34m.\u001b[0m\u001b[0mD\u001b[0m\u001b[0;34m[\u001b[0m\u001b[0;36m0\u001b[0m\u001b[0;34m,\u001b[0m \u001b[0mj\u001b[0m\u001b[0;34m]\u001b[0m\u001b[0;34m)\u001b[0m\u001b[0;34m\u001b[0m\u001b[0;34m\u001b[0m\u001b[0m\n\u001b[1;32m     65\u001b[0m             \u001b[0mM_numerator\u001b[0m \u001b[0;34m+=\u001b[0m \u001b[0mself\u001b[0m\u001b[0;34m.\u001b[0m\u001b[0mD\u001b[0m\u001b[0;34m[\u001b[0m\u001b[0;36m0\u001b[0m\u001b[0;34m,\u001b[0m \u001b[0mj\u001b[0m\u001b[0;34m]\u001b[0m \u001b[0;34m*\u001b[0m \u001b[0mself\u001b[0m\u001b[0;34m.\u001b[0m\u001b[0mxi\u001b[0m\u001b[0;34m[\u001b[0m\u001b[0;36m0\u001b[0m\u001b[0;34m,\u001b[0m \u001b[0mj\u001b[0m\u001b[0;34m]\u001b[0m\u001b[0;34m\u001b[0m\u001b[0;34m\u001b[0m\u001b[0m\n",
      "\u001b[0;31mKeyboardInterrupt\u001b[0m: "
     ]
    }
   ],
   "source": [
    "shp_clf.fit(arrX, arry)"
   ]
  },
  {
   "cell_type": "code",
   "execution_count": 350,
   "metadata": {},
   "outputs": [],
   "source": [
    "from sklearn.metrics import accuracy_score"
   ]
  },
  {
   "cell_type": "code",
   "execution_count": 351,
   "metadata": {},
   "outputs": [
    {
     "name": "stdout",
     "output_type": "stream",
     "text": [
      "8143/8143 [==============================] - 1s 110us/step\n",
      "Correct classification rate: 0.9463342748372836\n"
     ]
    }
   ],
   "source": [
    "y_pred = shp_clf.predict(arrX)\n",
    "\n",
    "print(\"Correct classification rate:\", accuracy_score(arry, y_pred))"
   ]
  },
  {
   "cell_type": "code",
   "execution_count": 352,
   "metadata": {},
   "outputs": [
    {
     "ename": "AttributeError",
     "evalue": "'ShapeletModel' object has no attribute 'get_shapelets'",
     "output_type": "error",
     "traceback": [
      "\u001b[0;31m---------------------------------------------------------------------------\u001b[0m",
      "\u001b[0;31mAttributeError\u001b[0m                            Traceback (most recent call last)",
      "\u001b[0;32m<ipython-input-352-49dc55a705ec>\u001b[0m in \u001b[0;36m<module>\u001b[0;34m\u001b[0m\n\u001b[1;32m      1\u001b[0m \u001b[0;31m# retrieve the learnt shapelets\u001b[0m\u001b[0;34m\u001b[0m\u001b[0;34m\u001b[0m\u001b[0;34m\u001b[0m\u001b[0m\n\u001b[0;32m----> 2\u001b[0;31m \u001b[0mshapelets\u001b[0m \u001b[0;34m=\u001b[0m \u001b[0mshp_clf\u001b[0m\u001b[0;34m.\u001b[0m\u001b[0mget_shapelets\u001b[0m\u001b[0;34m(\u001b[0m\u001b[0;34m)\u001b[0m\u001b[0;34m\u001b[0m\u001b[0;34m\u001b[0m\u001b[0m\n\u001b[0m\u001b[1;32m      3\u001b[0m \u001b[0;34m\u001b[0m\u001b[0m\n\u001b[1;32m      4\u001b[0m \u001b[0;31m# and plot sample shapelets\u001b[0m\u001b[0;34m\u001b[0m\u001b[0;34m\u001b[0m\u001b[0;34m\u001b[0m\u001b[0m\n\u001b[1;32m      5\u001b[0m \u001b[0;32mfrom\u001b[0m \u001b[0mshapelets_lts\u001b[0m\u001b[0;34m.\u001b[0m\u001b[0mutil\u001b[0m \u001b[0;32mimport\u001b[0m \u001b[0mplot_sample_shapelets\u001b[0m\u001b[0;34m\u001b[0m\u001b[0;34m\u001b[0m\u001b[0m\n",
      "\u001b[0;31mAttributeError\u001b[0m: 'ShapeletModel' object has no attribute 'get_shapelets'"
     ]
    }
   ],
   "source": [
    "# retrieve the learnt shapelets\n",
    "shapelets = shp_clf.get_shapelets()\n",
    "\n",
    "# and plot sample shapelets\n",
    "from shapelets_lts.util import plot_sample_shapelets\n",
    "plot_sample_shapelets(shapelets=shapelets, sample_size=36)"
   ]
  },
  {
   "cell_type": "code",
   "execution_count": 122,
   "metadata": {},
   "outputs": [
    {
     "data": {
      "text/plain": [
       "10"
      ]
     },
     "execution_count": 122,
     "metadata": {},
     "output_type": "execute_result"
    }
   ],
   "source": [
    "len(shapelets)"
   ]
  },
  {
   "cell_type": "markdown",
   "metadata": {},
   "source": [
    "# Shapelet Discovery 3"
   ]
  },
  {
   "cell_type": "code",
   "execution_count": 345,
   "metadata": {},
   "outputs": [],
   "source": [
    "from pyts.transformation import ShapeletTransform"
   ]
  },
  {
   "cell_type": "code",
   "execution_count": 347,
   "metadata": {},
   "outputs": [
    {
     "ename": "KeyboardInterrupt",
     "evalue": "",
     "output_type": "error",
     "traceback": [
      "\u001b[0;31m---------------------------------------------------------------------------\u001b[0m",
      "\u001b[0;31mKeyboardInterrupt\u001b[0m                         Traceback (most recent call last)",
      "\u001b[0;32m<ipython-input-347-aaf732007ae1>\u001b[0m in \u001b[0;36m<module>\u001b[0;34m\u001b[0m\n\u001b[1;32m      1\u001b[0m \u001b[0mst\u001b[0m \u001b[0;34m=\u001b[0m \u001b[0mShapeletTransform\u001b[0m\u001b[0;34m(\u001b[0m\u001b[0mn_shapelets\u001b[0m\u001b[0;34m=\u001b[0m\u001b[0;36m2\u001b[0m\u001b[0;34m,\u001b[0m \u001b[0mwindow_sizes\u001b[0m\u001b[0;34m=\u001b[0m\u001b[0;34m[\u001b[0m\u001b[0;36m5\u001b[0m\u001b[0;34m]\u001b[0m\u001b[0;34m)\u001b[0m\u001b[0;34m\u001b[0m\u001b[0;34m\u001b[0m\u001b[0m\n\u001b[0;32m----> 2\u001b[0;31m \u001b[0mst\u001b[0m\u001b[0;34m.\u001b[0m\u001b[0mfit\u001b[0m\u001b[0;34m(\u001b[0m\u001b[0marrX\u001b[0m\u001b[0;34m,\u001b[0m \u001b[0marry\u001b[0m\u001b[0;34m)\u001b[0m\u001b[0;34m\u001b[0m\u001b[0;34m\u001b[0m\u001b[0m\n\u001b[0m",
      "\u001b[0;32m//anaconda3/lib/python3.7/site-packages/pyts/transformation/shapelet_transform.py\u001b[0m in \u001b[0;36mfit\u001b[0;34m(self, X, y)\u001b[0m\n\u001b[1;32m    306\u001b[0m         X_new, scores, shapelets, indices = self._fit(\n\u001b[1;32m    307\u001b[0m             \u001b[0mX\u001b[0m\u001b[0;34m,\u001b[0m \u001b[0my\u001b[0m\u001b[0;34m,\u001b[0m \u001b[0mn_shapelets\u001b[0m\u001b[0;34m,\u001b[0m \u001b[0mwindow_sizes\u001b[0m\u001b[0;34m,\u001b[0m \u001b[0mwindow_steps\u001b[0m\u001b[0;34m,\u001b[0m\u001b[0;34m\u001b[0m\u001b[0;34m\u001b[0m\u001b[0m\n\u001b[0;32m--> 308\u001b[0;31m             \u001b[0mself\u001b[0m\u001b[0;34m.\u001b[0m\u001b[0mremove_similar\u001b[0m\u001b[0;34m,\u001b[0m \u001b[0mn_jobs\u001b[0m\u001b[0;34m,\u001b[0m \u001b[0mrng\u001b[0m\u001b[0;34m\u001b[0m\u001b[0;34m\u001b[0m\u001b[0m\n\u001b[0m\u001b[1;32m    309\u001b[0m         )\n\u001b[1;32m    310\u001b[0m \u001b[0;34m\u001b[0m\u001b[0m\n",
      "\u001b[0;32m//anaconda3/lib/python3.7/site-packages/pyts/transformation/shapelet_transform.py\u001b[0m in \u001b[0;36m_fit\u001b[0;34m(self, X, y, n_shapelets, window_sizes, window_steps, remove_similar, n_jobs, rng)\u001b[0m\n\u001b[1;32m    568\u001b[0m                 \u001b[0mwindow_steps\u001b[0m\u001b[0;34m,\u001b[0m \u001b[0mremove_similar\u001b[0m\u001b[0;34m,\u001b[0m \u001b[0mi\u001b[0m\u001b[0;34m,\u001b[0m \u001b[0mrng\u001b[0m\u001b[0;34m\u001b[0m\u001b[0;34m\u001b[0m\u001b[0m\n\u001b[1;32m    569\u001b[0m             )\n\u001b[0;32m--> 570\u001b[0;31m             for i in range(n_samples))\n\u001b[0m\u001b[1;32m    571\u001b[0m \u001b[0;34m\u001b[0m\u001b[0m\n\u001b[1;32m    572\u001b[0m         (X_dist, scores, shapelets,\n",
      "\u001b[0;32m//anaconda3/lib/python3.7/site-packages/joblib/parallel.py\u001b[0m in \u001b[0;36m__call__\u001b[0;34m(self, iterable)\u001b[0m\n\u001b[1;32m    922\u001b[0m                 \u001b[0mself\u001b[0m\u001b[0;34m.\u001b[0m\u001b[0m_iterating\u001b[0m \u001b[0;34m=\u001b[0m \u001b[0mself\u001b[0m\u001b[0;34m.\u001b[0m\u001b[0m_original_iterator\u001b[0m \u001b[0;32mis\u001b[0m \u001b[0;32mnot\u001b[0m \u001b[0;32mNone\u001b[0m\u001b[0;34m\u001b[0m\u001b[0;34m\u001b[0m\u001b[0m\n\u001b[1;32m    923\u001b[0m \u001b[0;34m\u001b[0m\u001b[0m\n\u001b[0;32m--> 924\u001b[0;31m             \u001b[0;32mwhile\u001b[0m \u001b[0mself\u001b[0m\u001b[0;34m.\u001b[0m\u001b[0mdispatch_one_batch\u001b[0m\u001b[0;34m(\u001b[0m\u001b[0miterator\u001b[0m\u001b[0;34m)\u001b[0m\u001b[0;34m:\u001b[0m\u001b[0;34m\u001b[0m\u001b[0;34m\u001b[0m\u001b[0m\n\u001b[0m\u001b[1;32m    925\u001b[0m                 \u001b[0;32mpass\u001b[0m\u001b[0;34m\u001b[0m\u001b[0;34m\u001b[0m\u001b[0m\n\u001b[1;32m    926\u001b[0m \u001b[0;34m\u001b[0m\u001b[0m\n",
      "\u001b[0;32m//anaconda3/lib/python3.7/site-packages/joblib/parallel.py\u001b[0m in \u001b[0;36mdispatch_one_batch\u001b[0;34m(self, iterator)\u001b[0m\n\u001b[1;32m    757\u001b[0m                 \u001b[0;32mreturn\u001b[0m \u001b[0;32mFalse\u001b[0m\u001b[0;34m\u001b[0m\u001b[0;34m\u001b[0m\u001b[0m\n\u001b[1;32m    758\u001b[0m             \u001b[0;32melse\u001b[0m\u001b[0;34m:\u001b[0m\u001b[0;34m\u001b[0m\u001b[0;34m\u001b[0m\u001b[0m\n\u001b[0;32m--> 759\u001b[0;31m                 \u001b[0mself\u001b[0m\u001b[0;34m.\u001b[0m\u001b[0m_dispatch\u001b[0m\u001b[0;34m(\u001b[0m\u001b[0mtasks\u001b[0m\u001b[0;34m)\u001b[0m\u001b[0;34m\u001b[0m\u001b[0;34m\u001b[0m\u001b[0m\n\u001b[0m\u001b[1;32m    760\u001b[0m                 \u001b[0;32mreturn\u001b[0m \u001b[0;32mTrue\u001b[0m\u001b[0;34m\u001b[0m\u001b[0;34m\u001b[0m\u001b[0m\n\u001b[1;32m    761\u001b[0m \u001b[0;34m\u001b[0m\u001b[0m\n",
      "\u001b[0;32m//anaconda3/lib/python3.7/site-packages/joblib/parallel.py\u001b[0m in \u001b[0;36m_dispatch\u001b[0;34m(self, batch)\u001b[0m\n\u001b[1;32m    714\u001b[0m         \u001b[0;32mwith\u001b[0m \u001b[0mself\u001b[0m\u001b[0;34m.\u001b[0m\u001b[0m_lock\u001b[0m\u001b[0;34m:\u001b[0m\u001b[0;34m\u001b[0m\u001b[0;34m\u001b[0m\u001b[0m\n\u001b[1;32m    715\u001b[0m             \u001b[0mjob_idx\u001b[0m \u001b[0;34m=\u001b[0m \u001b[0mlen\u001b[0m\u001b[0;34m(\u001b[0m\u001b[0mself\u001b[0m\u001b[0;34m.\u001b[0m\u001b[0m_jobs\u001b[0m\u001b[0;34m)\u001b[0m\u001b[0;34m\u001b[0m\u001b[0;34m\u001b[0m\u001b[0m\n\u001b[0;32m--> 716\u001b[0;31m             \u001b[0mjob\u001b[0m \u001b[0;34m=\u001b[0m \u001b[0mself\u001b[0m\u001b[0;34m.\u001b[0m\u001b[0m_backend\u001b[0m\u001b[0;34m.\u001b[0m\u001b[0mapply_async\u001b[0m\u001b[0;34m(\u001b[0m\u001b[0mbatch\u001b[0m\u001b[0;34m,\u001b[0m \u001b[0mcallback\u001b[0m\u001b[0;34m=\u001b[0m\u001b[0mcb\u001b[0m\u001b[0;34m)\u001b[0m\u001b[0;34m\u001b[0m\u001b[0;34m\u001b[0m\u001b[0m\n\u001b[0m\u001b[1;32m    717\u001b[0m             \u001b[0;31m# A job can complete so quickly than its callback is\u001b[0m\u001b[0;34m\u001b[0m\u001b[0;34m\u001b[0m\u001b[0;34m\u001b[0m\u001b[0m\n\u001b[1;32m    718\u001b[0m             \u001b[0;31m# called before we get here, causing self._jobs to\u001b[0m\u001b[0;34m\u001b[0m\u001b[0;34m\u001b[0m\u001b[0;34m\u001b[0m\u001b[0m\n",
      "\u001b[0;32m//anaconda3/lib/python3.7/site-packages/joblib/_parallel_backends.py\u001b[0m in \u001b[0;36mapply_async\u001b[0;34m(self, func, callback)\u001b[0m\n\u001b[1;32m    180\u001b[0m     \u001b[0;32mdef\u001b[0m \u001b[0mapply_async\u001b[0m\u001b[0;34m(\u001b[0m\u001b[0mself\u001b[0m\u001b[0;34m,\u001b[0m \u001b[0mfunc\u001b[0m\u001b[0;34m,\u001b[0m \u001b[0mcallback\u001b[0m\u001b[0;34m=\u001b[0m\u001b[0;32mNone\u001b[0m\u001b[0;34m)\u001b[0m\u001b[0;34m:\u001b[0m\u001b[0;34m\u001b[0m\u001b[0;34m\u001b[0m\u001b[0m\n\u001b[1;32m    181\u001b[0m         \u001b[0;34m\"\"\"Schedule a func to be run\"\"\"\u001b[0m\u001b[0;34m\u001b[0m\u001b[0;34m\u001b[0m\u001b[0m\n\u001b[0;32m--> 182\u001b[0;31m         \u001b[0mresult\u001b[0m \u001b[0;34m=\u001b[0m \u001b[0mImmediateResult\u001b[0m\u001b[0;34m(\u001b[0m\u001b[0mfunc\u001b[0m\u001b[0;34m)\u001b[0m\u001b[0;34m\u001b[0m\u001b[0;34m\u001b[0m\u001b[0m\n\u001b[0m\u001b[1;32m    183\u001b[0m         \u001b[0;32mif\u001b[0m \u001b[0mcallback\u001b[0m\u001b[0;34m:\u001b[0m\u001b[0;34m\u001b[0m\u001b[0;34m\u001b[0m\u001b[0m\n\u001b[1;32m    184\u001b[0m             \u001b[0mcallback\u001b[0m\u001b[0;34m(\u001b[0m\u001b[0mresult\u001b[0m\u001b[0;34m)\u001b[0m\u001b[0;34m\u001b[0m\u001b[0;34m\u001b[0m\u001b[0m\n",
      "\u001b[0;32m//anaconda3/lib/python3.7/site-packages/joblib/_parallel_backends.py\u001b[0m in \u001b[0;36m__init__\u001b[0;34m(self, batch)\u001b[0m\n\u001b[1;32m    547\u001b[0m         \u001b[0;31m# Don't delay the application, to avoid keeping the input\u001b[0m\u001b[0;34m\u001b[0m\u001b[0;34m\u001b[0m\u001b[0;34m\u001b[0m\u001b[0m\n\u001b[1;32m    548\u001b[0m         \u001b[0;31m# arguments in memory\u001b[0m\u001b[0;34m\u001b[0m\u001b[0;34m\u001b[0m\u001b[0;34m\u001b[0m\u001b[0m\n\u001b[0;32m--> 549\u001b[0;31m         \u001b[0mself\u001b[0m\u001b[0;34m.\u001b[0m\u001b[0mresults\u001b[0m \u001b[0;34m=\u001b[0m \u001b[0mbatch\u001b[0m\u001b[0;34m(\u001b[0m\u001b[0;34m)\u001b[0m\u001b[0;34m\u001b[0m\u001b[0;34m\u001b[0m\u001b[0m\n\u001b[0m\u001b[1;32m    550\u001b[0m \u001b[0;34m\u001b[0m\u001b[0m\n\u001b[1;32m    551\u001b[0m     \u001b[0;32mdef\u001b[0m \u001b[0mget\u001b[0m\u001b[0;34m(\u001b[0m\u001b[0mself\u001b[0m\u001b[0;34m)\u001b[0m\u001b[0;34m:\u001b[0m\u001b[0;34m\u001b[0m\u001b[0;34m\u001b[0m\u001b[0m\n",
      "\u001b[0;32m//anaconda3/lib/python3.7/site-packages/joblib/parallel.py\u001b[0m in \u001b[0;36m__call__\u001b[0;34m(self)\u001b[0m\n\u001b[1;32m    223\u001b[0m         \u001b[0;32mwith\u001b[0m \u001b[0mparallel_backend\u001b[0m\u001b[0;34m(\u001b[0m\u001b[0mself\u001b[0m\u001b[0;34m.\u001b[0m\u001b[0m_backend\u001b[0m\u001b[0;34m,\u001b[0m \u001b[0mn_jobs\u001b[0m\u001b[0;34m=\u001b[0m\u001b[0mself\u001b[0m\u001b[0;34m.\u001b[0m\u001b[0m_n_jobs\u001b[0m\u001b[0;34m)\u001b[0m\u001b[0;34m:\u001b[0m\u001b[0;34m\u001b[0m\u001b[0;34m\u001b[0m\u001b[0m\n\u001b[1;32m    224\u001b[0m             return [func(*args, **kwargs)\n\u001b[0;32m--> 225\u001b[0;31m                     for func, args, kwargs in self.items]\n\u001b[0m\u001b[1;32m    226\u001b[0m \u001b[0;34m\u001b[0m\u001b[0m\n\u001b[1;32m    227\u001b[0m     \u001b[0;32mdef\u001b[0m \u001b[0m__len__\u001b[0m\u001b[0;34m(\u001b[0m\u001b[0mself\u001b[0m\u001b[0;34m)\u001b[0m\u001b[0;34m:\u001b[0m\u001b[0;34m\u001b[0m\u001b[0;34m\u001b[0m\u001b[0m\n",
      "\u001b[0;32m//anaconda3/lib/python3.7/site-packages/joblib/parallel.py\u001b[0m in \u001b[0;36m<listcomp>\u001b[0;34m(.0)\u001b[0m\n\u001b[1;32m    223\u001b[0m         \u001b[0;32mwith\u001b[0m \u001b[0mparallel_backend\u001b[0m\u001b[0;34m(\u001b[0m\u001b[0mself\u001b[0m\u001b[0;34m.\u001b[0m\u001b[0m_backend\u001b[0m\u001b[0;34m,\u001b[0m \u001b[0mn_jobs\u001b[0m\u001b[0;34m=\u001b[0m\u001b[0mself\u001b[0m\u001b[0;34m.\u001b[0m\u001b[0m_n_jobs\u001b[0m\u001b[0;34m)\u001b[0m\u001b[0;34m:\u001b[0m\u001b[0;34m\u001b[0m\u001b[0;34m\u001b[0m\u001b[0m\n\u001b[1;32m    224\u001b[0m             return [func(*args, **kwargs)\n\u001b[0;32m--> 225\u001b[0;31m                     for func, args, kwargs in self.items]\n\u001b[0m\u001b[1;32m    226\u001b[0m \u001b[0;34m\u001b[0m\u001b[0m\n\u001b[1;32m    227\u001b[0m     \u001b[0;32mdef\u001b[0m \u001b[0m__len__\u001b[0m\u001b[0;34m(\u001b[0m\u001b[0mself\u001b[0m\u001b[0;34m)\u001b[0m\u001b[0;34m:\u001b[0m\u001b[0;34m\u001b[0m\u001b[0;34m\u001b[0m\u001b[0m\n",
      "\u001b[0;32m//anaconda3/lib/python3.7/site-packages/pyts/transformation/shapelet_transform.py\u001b[0m in \u001b[0;36m_fit_one_time_series\u001b[0;34m(self, x, X, y, n_timestamps, n_shapelets, window_sizes, window_steps, remove_similar, i, rng)\u001b[0m\n\u001b[1;32m    524\u001b[0m         \u001b[0;32mif\u001b[0m \u001b[0mself\u001b[0m\u001b[0;34m.\u001b[0m\u001b[0mcriterion\u001b[0m \u001b[0;34m==\u001b[0m \u001b[0;34m'mutual_info'\u001b[0m\u001b[0;34m:\u001b[0m\u001b[0;34m\u001b[0m\u001b[0;34m\u001b[0m\u001b[0m\n\u001b[1;32m    525\u001b[0m             scores = mutual_info_classif(X_dist, y, discrete_features=False,\n\u001b[0;32m--> 526\u001b[0;31m                                          random_state=rng)\n\u001b[0m\u001b[1;32m    527\u001b[0m         \u001b[0;32melse\u001b[0m\u001b[0;34m:\u001b[0m\u001b[0;34m\u001b[0m\u001b[0;34m\u001b[0m\u001b[0m\n\u001b[1;32m    528\u001b[0m             \u001b[0mscores\u001b[0m\u001b[0;34m,\u001b[0m \u001b[0m_\u001b[0m \u001b[0;34m=\u001b[0m \u001b[0mf_classif\u001b[0m\u001b[0;34m(\u001b[0m\u001b[0mX_dist\u001b[0m\u001b[0;34m,\u001b[0m \u001b[0my\u001b[0m\u001b[0;34m)\u001b[0m\u001b[0;34m\u001b[0m\u001b[0;34m\u001b[0m\u001b[0m\n",
      "\u001b[0;32m//anaconda3/lib/python3.7/site-packages/sklearn/feature_selection/_mutual_info.py\u001b[0m in \u001b[0;36mmutual_info_classif\u001b[0;34m(X, y, discrete_features, n_neighbors, copy, random_state)\u001b[0m\n\u001b[1;32m    449\u001b[0m     \u001b[0mcheck_classification_targets\u001b[0m\u001b[0;34m(\u001b[0m\u001b[0my\u001b[0m\u001b[0;34m)\u001b[0m\u001b[0;34m\u001b[0m\u001b[0;34m\u001b[0m\u001b[0m\n\u001b[1;32m    450\u001b[0m     return _estimate_mi(X, y, discrete_features, True, n_neighbors,\n\u001b[0;32m--> 451\u001b[0;31m                         copy, random_state)\n\u001b[0m",
      "\u001b[0;32m//anaconda3/lib/python3.7/site-packages/sklearn/feature_selection/_mutual_info.py\u001b[0m in \u001b[0;36m_estimate_mi\u001b[0;34m(X, y, discrete_features, discrete_target, n_neighbors, copy, random_state)\u001b[0m\n\u001b[1;32m    288\u001b[0m \u001b[0;34m\u001b[0m\u001b[0m\n\u001b[1;32m    289\u001b[0m     mi = [_compute_mi(x, y, discrete_feature, discrete_target, n_neighbors) for\n\u001b[0;32m--> 290\u001b[0;31m           x, discrete_feature in zip(_iterate_columns(X), discrete_mask)]\n\u001b[0m\u001b[1;32m    291\u001b[0m \u001b[0;34m\u001b[0m\u001b[0m\n\u001b[1;32m    292\u001b[0m     \u001b[0;32mreturn\u001b[0m \u001b[0mnp\u001b[0m\u001b[0;34m.\u001b[0m\u001b[0marray\u001b[0m\u001b[0;34m(\u001b[0m\u001b[0mmi\u001b[0m\u001b[0;34m)\u001b[0m\u001b[0;34m\u001b[0m\u001b[0;34m\u001b[0m\u001b[0m\n",
      "\u001b[0;32m//anaconda3/lib/python3.7/site-packages/sklearn/feature_selection/_mutual_info.py\u001b[0m in \u001b[0;36m<listcomp>\u001b[0;34m(.0)\u001b[0m\n\u001b[1;32m    288\u001b[0m \u001b[0;34m\u001b[0m\u001b[0m\n\u001b[1;32m    289\u001b[0m     mi = [_compute_mi(x, y, discrete_feature, discrete_target, n_neighbors) for\n\u001b[0;32m--> 290\u001b[0;31m           x, discrete_feature in zip(_iterate_columns(X), discrete_mask)]\n\u001b[0m\u001b[1;32m    291\u001b[0m \u001b[0;34m\u001b[0m\u001b[0m\n\u001b[1;32m    292\u001b[0m     \u001b[0;32mreturn\u001b[0m \u001b[0mnp\u001b[0m\u001b[0;34m.\u001b[0m\u001b[0marray\u001b[0m\u001b[0;34m(\u001b[0m\u001b[0mmi\u001b[0m\u001b[0;34m)\u001b[0m\u001b[0;34m\u001b[0m\u001b[0;34m\u001b[0m\u001b[0m\n",
      "\u001b[0;32m//anaconda3/lib/python3.7/site-packages/sklearn/feature_selection/_mutual_info.py\u001b[0m in \u001b[0;36m_compute_mi\u001b[0;34m(x, y, x_discrete, y_discrete, n_neighbors)\u001b[0m\n\u001b[1;32m    158\u001b[0m         \u001b[0;32mreturn\u001b[0m \u001b[0m_compute_mi_cd\u001b[0m\u001b[0;34m(\u001b[0m\u001b[0my\u001b[0m\u001b[0;34m,\u001b[0m \u001b[0mx\u001b[0m\u001b[0;34m,\u001b[0m \u001b[0mn_neighbors\u001b[0m\u001b[0;34m)\u001b[0m\u001b[0;34m\u001b[0m\u001b[0;34m\u001b[0m\u001b[0m\n\u001b[1;32m    159\u001b[0m     \u001b[0;32melif\u001b[0m \u001b[0;32mnot\u001b[0m \u001b[0mx_discrete\u001b[0m \u001b[0;32mand\u001b[0m \u001b[0my_discrete\u001b[0m\u001b[0;34m:\u001b[0m\u001b[0;34m\u001b[0m\u001b[0;34m\u001b[0m\u001b[0m\n\u001b[0;32m--> 160\u001b[0;31m         \u001b[0;32mreturn\u001b[0m \u001b[0m_compute_mi_cd\u001b[0m\u001b[0;34m(\u001b[0m\u001b[0mx\u001b[0m\u001b[0;34m,\u001b[0m \u001b[0my\u001b[0m\u001b[0;34m,\u001b[0m \u001b[0mn_neighbors\u001b[0m\u001b[0;34m)\u001b[0m\u001b[0;34m\u001b[0m\u001b[0;34m\u001b[0m\u001b[0m\n\u001b[0m\u001b[1;32m    161\u001b[0m     \u001b[0;32melse\u001b[0m\u001b[0;34m:\u001b[0m\u001b[0;34m\u001b[0m\u001b[0;34m\u001b[0m\u001b[0m\n\u001b[1;32m    162\u001b[0m         \u001b[0;32mreturn\u001b[0m \u001b[0m_compute_mi_cc\u001b[0m\u001b[0;34m(\u001b[0m\u001b[0mx\u001b[0m\u001b[0;34m,\u001b[0m \u001b[0my\u001b[0m\u001b[0;34m,\u001b[0m \u001b[0mn_neighbors\u001b[0m\u001b[0;34m)\u001b[0m\u001b[0;34m\u001b[0m\u001b[0;34m\u001b[0m\u001b[0m\n",
      "\u001b[0;32m//anaconda3/lib/python3.7/site-packages/sklearn/feature_selection/_mutual_info.py\u001b[0m in \u001b[0;36m_compute_mi_cd\u001b[0;34m(c, d, n_neighbors)\u001b[0m\n\u001b[1;32m    137\u001b[0m     \u001b[0mnn\u001b[0m\u001b[0;34m.\u001b[0m\u001b[0mset_params\u001b[0m\u001b[0;34m(\u001b[0m\u001b[0malgorithm\u001b[0m\u001b[0;34m=\u001b[0m\u001b[0;34m'kd_tree'\u001b[0m\u001b[0;34m)\u001b[0m\u001b[0;34m\u001b[0m\u001b[0;34m\u001b[0m\u001b[0m\n\u001b[1;32m    138\u001b[0m     \u001b[0mnn\u001b[0m\u001b[0;34m.\u001b[0m\u001b[0mfit\u001b[0m\u001b[0;34m(\u001b[0m\u001b[0mc\u001b[0m\u001b[0;34m)\u001b[0m\u001b[0;34m\u001b[0m\u001b[0;34m\u001b[0m\u001b[0m\n\u001b[0;32m--> 139\u001b[0;31m     \u001b[0mind\u001b[0m \u001b[0;34m=\u001b[0m \u001b[0mnn\u001b[0m\u001b[0;34m.\u001b[0m\u001b[0mradius_neighbors\u001b[0m\u001b[0;34m(\u001b[0m\u001b[0mradius\u001b[0m\u001b[0;34m=\u001b[0m\u001b[0mradius\u001b[0m\u001b[0;34m,\u001b[0m \u001b[0mreturn_distance\u001b[0m\u001b[0;34m=\u001b[0m\u001b[0;32mFalse\u001b[0m\u001b[0;34m)\u001b[0m\u001b[0;34m\u001b[0m\u001b[0;34m\u001b[0m\u001b[0m\n\u001b[0m\u001b[1;32m    140\u001b[0m     \u001b[0mm_all\u001b[0m \u001b[0;34m=\u001b[0m \u001b[0mnp\u001b[0m\u001b[0;34m.\u001b[0m\u001b[0marray\u001b[0m\u001b[0;34m(\u001b[0m\u001b[0;34m[\u001b[0m\u001b[0mi\u001b[0m\u001b[0;34m.\u001b[0m\u001b[0msize\u001b[0m \u001b[0;32mfor\u001b[0m \u001b[0mi\u001b[0m \u001b[0;32min\u001b[0m \u001b[0mind\u001b[0m\u001b[0;34m]\u001b[0m\u001b[0;34m)\u001b[0m\u001b[0;34m\u001b[0m\u001b[0;34m\u001b[0m\u001b[0m\n\u001b[1;32m    141\u001b[0m \u001b[0;34m\u001b[0m\u001b[0m\n",
      "\u001b[0;32m//anaconda3/lib/python3.7/site-packages/sklearn/neighbors/_base.py\u001b[0m in \u001b[0;36mradius_neighbors\u001b[0;34m(self, X, radius, return_distance, sort_results)\u001b[0m\n\u001b[1;32m    991\u001b[0m \u001b[0;34m\u001b[0m\u001b[0m\n\u001b[1;32m    992\u001b[0m             \u001b[0;32mfor\u001b[0m \u001b[0mind\u001b[0m\u001b[0;34m,\u001b[0m \u001b[0mind_neighbor\u001b[0m \u001b[0;32min\u001b[0m \u001b[0menumerate\u001b[0m\u001b[0;34m(\u001b[0m\u001b[0mneigh_ind\u001b[0m\u001b[0;34m)\u001b[0m\u001b[0;34m:\u001b[0m\u001b[0;34m\u001b[0m\u001b[0;34m\u001b[0m\u001b[0m\n\u001b[0;32m--> 993\u001b[0;31m                 \u001b[0mmask\u001b[0m \u001b[0;34m=\u001b[0m \u001b[0mind_neighbor\u001b[0m \u001b[0;34m!=\u001b[0m \u001b[0mind\u001b[0m\u001b[0;34m\u001b[0m\u001b[0;34m\u001b[0m\u001b[0m\n\u001b[0m\u001b[1;32m    994\u001b[0m \u001b[0;34m\u001b[0m\u001b[0m\n\u001b[1;32m    995\u001b[0m                 \u001b[0mneigh_ind\u001b[0m\u001b[0;34m[\u001b[0m\u001b[0mind\u001b[0m\u001b[0;34m]\u001b[0m \u001b[0;34m=\u001b[0m \u001b[0mind_neighbor\u001b[0m\u001b[0;34m[\u001b[0m\u001b[0mmask\u001b[0m\u001b[0;34m]\u001b[0m\u001b[0;34m\u001b[0m\u001b[0;34m\u001b[0m\u001b[0m\n",
      "\u001b[0;31mKeyboardInterrupt\u001b[0m: "
     ]
    }
   ],
   "source": [
    "st = ShapeletTransform(n_shapelets=2, window_sizes=[5])\n",
    "st.fit(arrX, arry)"
   ]
  },
  {
   "cell_type": "code",
   "execution_count": null,
   "metadata": {},
   "outputs": [],
   "source": [
    "len(st.shapelets_)"
   ]
  },
  {
   "cell_type": "code",
   "execution_count": null,
   "metadata": {},
   "outputs": [],
   "source": [
    "st.shapelets_"
   ]
  },
  {
   "cell_type": "code",
   "execution_count": null,
   "metadata": {},
   "outputs": [],
   "source": [
    "for s in st.shapelets_:\n",
    "    plt.plot(s)\n",
    "\n",
    "plt.show()"
   ]
  },
  {
   "cell_type": "code",
   "execution_count": null,
   "metadata": {},
   "outputs": [],
   "source": [
    "st.indices_"
   ]
  },
  {
   "cell_type": "code",
   "execution_count": null,
   "metadata": {},
   "outputs": [],
   "source": [
    "st.scores_"
   ]
  },
  {
   "cell_type": "markdown",
   "metadata": {},
   "source": [
    "# Shapelet Discovery 4"
   ]
  },
  {
   "cell_type": "code",
   "execution_count": 338,
   "metadata": {},
   "outputs": [],
   "source": [
    "from pyts.classification import LearningShapelets"
   ]
  },
  {
   "cell_type": "code",
   "execution_count": 339,
   "metadata": {},
   "outputs": [],
   "source": [
    "shp_clf = LearningShapelets(random_state=42, tol=0.1)"
   ]
  },
  {
   "cell_type": "code",
   "execution_count": 340,
   "metadata": {},
   "outputs": [
    {
     "data": {
      "text/plain": [
       "LearningShapelets(C=1000, alpha=-100, class_weight=None, fit_intercept=True,\n",
       "                  intercept_scaling=1.0, learning_rate=1.0, max_iter=1000,\n",
       "                  min_shapelet_length=0.1, multi_class='multinomial',\n",
       "                  n_jobs=None, n_shapelets_per_size=0.2, penalty='l2',\n",
       "                  random_state=42, shapelet_scale=3, tol=0.1, verbose=0)"
      ]
     },
     "execution_count": 340,
     "metadata": {},
     "output_type": "execute_result"
    }
   ],
   "source": [
    "shp_clf.fit(arrX, arry)"
   ]
  },
  {
   "cell_type": "code",
   "execution_count": 341,
   "metadata": {},
   "outputs": [
    {
     "data": {
      "text/plain": [
       "3"
      ]
     },
     "execution_count": 341,
     "metadata": {},
     "output_type": "execute_result"
    }
   ],
   "source": [
    "len(shp_clf.shapelets_[0])"
   ]
  },
  {
   "cell_type": "code",
   "execution_count": 342,
   "metadata": {},
   "outputs": [],
   "source": [
    "from pyts.utils import windowed_view"
   ]
  },
  {
   "cell_type": "code",
   "execution_count": 343,
   "metadata": {},
   "outputs": [],
   "source": [
    "# Select three shapelets\n",
    "sel_shapelets = np.asarray([shp_clf.shapelets_[0, 0], \n",
    "                        shp_clf.shapelets_[0, 1], \n",
    "                        shp_clf.shapelets_[0, 2]])"
   ]
  },
  {
   "cell_type": "code",
   "execution_count": 344,
   "metadata": {},
   "outputs": [
    {
     "data": {
      "image/png": "[encoded data removed]",
      "text/plain": [
       "<Figure size 432x288 with 1 Axes>"
      ]
     },
     "metadata": {
      "needs_background": "light"
     },
     "output_type": "display_data"
    }
   ],
   "source": [
    "plt.plot(sel_shapelets[0])\n",
    "plt.plot(sel_shapelets[1])\n",
    "plt.plot(sel_shapelets[2])\n",
    "\n",
    "plt.show()"
   ]
  },
  {
   "cell_type": "code",
   "execution_count": 329,
   "metadata": {},
   "outputs": [],
   "source": [
    "# Derive the distances between the time series and a shapelets\n",
    "shapelet_size = sel_shapelets.shape[0]\n",
    "X_window = windowed_view(arrX, window_size=shapelet_size, window_step=1)\n",
    "X_dist = np.mean((X_window[:, :, None] - sel_shapelets[None, :]) ** 1, axis=1).min(axis=1)"
   ]
  },
  {
   "cell_type": "code",
   "execution_count": 330,
   "metadata": {},
   "outputs": [
    {
     "data": {
      "text/plain": [
       "array([[array([4.3333193]), array([198.4032816 , 203.55708683]),\n",
       "        array([327.12827581, 131.81922267, 140.39510418])],\n",
       "       [array([5.48848597]), array([197.1517816 , 202.30558683]),\n",
       "        array([325.87827263, 130.56921949, 139.14510099])],\n",
       "       [array([4.3143193]), array([195.81094827, 200.9647535 ]),\n",
       "        array([324.54493797, 129.23588483, 137.81176634])],\n",
       "       ...,\n",
       "       [array([8.9143193]), array([229.42761494, 234.58142016]),\n",
       "        array([355.21187669, 159.90282355, 168.47870506])],\n",
       "       [array([8.9693193]), array([236.76039271, 241.91419794]),\n",
       "        array([362.48966307, 167.18060993, 175.75649144])],\n",
       "       [array([13.61598597]), array([241.6292816 , 246.78308683]),\n",
       "        array([367.37854883, 172.06949569, 180.6453772 ])]], dtype=object)"
      ]
     },
     "execution_count": 330,
     "metadata": {},
     "output_type": "execute_result"
    }
   ],
   "source": [
    "X_dist"
   ]
  },
  {
   "cell_type": "code",
   "execution_count": 331,
   "metadata": {},
   "outputs": [
    {
     "data": {
      "text/plain": [
       "array([array([-129.99699459]), array([-11.95523861,  -6.80143339]),\n",
       "       array([117.41017285, -77.89888028, -69.32299878])], dtype=object)"
      ]
     },
     "execution_count": 331,
     "metadata": {},
     "output_type": "execute_result"
    }
   ],
   "source": [
    "np.mean(X_dist[y == 0], axis=0)"
   ]
  },
  {
   "cell_type": "code",
   "execution_count": 332,
   "metadata": {},
   "outputs": [
    {
     "data": {
      "text/plain": [
       "array([array([15.07447843]), array([315.13163881, 320.28544404]),\n",
       "       array([443.89784109, 248.58878795, 257.16466946])], dtype=object)"
      ]
     },
     "execution_count": 332,
     "metadata": {},
     "output_type": "execute_result"
    }
   ],
   "source": [
    "np.mean(X_dist[y == 1], axis=0)"
   ]
  },
  {
   "cell_type": "code",
   "execution_count": null,
   "metadata": {},
   "outputs": [],
   "source": []
  }
 ],
 "metadata": {
  "hide_input": false,
  "kernelspec": {
   "display_name": "Python 3",
   "language": "python",
   "name": "python3"
  },
  "language_info": {
   "codemirror_mode": {
    "name": "ipython",
    "version": 3
   },
   "file_extension": ".py",
   "mimetype": "text/x-python",
   "name": "python",
   "nbconvert_exporter": "python",
   "pygments_lexer": "ipython3",
   "version": "3.7.6"
  }
 },
 "nbformat": 4,
 "nbformat_minor": 2
}
