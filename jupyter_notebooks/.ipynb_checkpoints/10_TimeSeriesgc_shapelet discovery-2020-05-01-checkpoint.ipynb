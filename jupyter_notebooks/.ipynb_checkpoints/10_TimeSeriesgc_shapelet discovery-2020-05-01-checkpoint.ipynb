{
 "cells": [
  {
   "cell_type": "markdown",
   "metadata": {},
   "source": [
    "A shapelet transform for time series classification (KDD 2012)\n",
    "https://www.youtube.com/watch?v=RBSz2QkECaA\n",
    "\n",
    "It also shows how we can write a better report"
   ]
  },
  {
   "cell_type": "code",
   "execution_count": 1,
   "metadata": {},
   "outputs": [],
   "source": [
    "%matplotlib inline\n",
    "\n",
    "import numpy as np\n",
    "import pandas as pd\n",
    "import matplotlib.pyplot as plt\n",
    "\n",
    "from collections import defaultdict"
   ]
  },
  {
   "cell_type": "code",
   "execution_count": 3,
   "metadata": {},
   "outputs": [
    {
     "data": {
      "text/html": [
       "<div>\n",
       "<style scoped>\n",
       "    .dataframe tbody tr th:only-of-type {\n",
       "        vertical-align: middle;\n",
       "    }\n",
       "\n",
       "    .dataframe tbody tr th {\n",
       "        vertical-align: top;\n",
       "    }\n",
       "\n",
       "    .dataframe thead th {\n",
       "        text-align: right;\n",
       "    }\n",
       "</style>\n",
       "<table border=\"1\" class=\"dataframe\">\n",
       "  <thead>\n",
       "    <tr style=\"text-align: right;\">\n",
       "      <th></th>\n",
       "      <th>Temperature</th>\n",
       "      <th>Humidity</th>\n",
       "      <th>Light</th>\n",
       "      <th>CO2</th>\n",
       "      <th>HumidityRatio</th>\n",
       "      <th>Occupancy</th>\n",
       "    </tr>\n",
       "    <tr>\n",
       "      <th>date</th>\n",
       "      <th></th>\n",
       "      <th></th>\n",
       "      <th></th>\n",
       "      <th></th>\n",
       "      <th></th>\n",
       "      <th></th>\n",
       "    </tr>\n",
       "  </thead>\n",
       "  <tbody>\n",
       "    <tr>\n",
       "      <th>2015-02-04 17:51:00</th>\n",
       "      <td>23.18</td>\n",
       "      <td>27.2720</td>\n",
       "      <td>426.0</td>\n",
       "      <td>721.25</td>\n",
       "      <td>0.004793</td>\n",
       "      <td>1</td>\n",
       "    </tr>\n",
       "    <tr>\n",
       "      <th>2015-02-04 17:52:00</th>\n",
       "      <td>23.15</td>\n",
       "      <td>27.2675</td>\n",
       "      <td>429.5</td>\n",
       "      <td>714.00</td>\n",
       "      <td>0.004783</td>\n",
       "      <td>1</td>\n",
       "    </tr>\n",
       "    <tr>\n",
       "      <th>2015-02-04 17:53:00</th>\n",
       "      <td>23.15</td>\n",
       "      <td>27.2450</td>\n",
       "      <td>426.0</td>\n",
       "      <td>713.50</td>\n",
       "      <td>0.004779</td>\n",
       "      <td>1</td>\n",
       "    </tr>\n",
       "    <tr>\n",
       "      <th>2015-02-04 17:54:00</th>\n",
       "      <td>23.15</td>\n",
       "      <td>27.2000</td>\n",
       "      <td>426.0</td>\n",
       "      <td>708.25</td>\n",
       "      <td>0.004772</td>\n",
       "      <td>1</td>\n",
       "    </tr>\n",
       "    <tr>\n",
       "      <th>2015-02-04 17:55:00</th>\n",
       "      <td>23.10</td>\n",
       "      <td>27.2000</td>\n",
       "      <td>426.0</td>\n",
       "      <td>704.50</td>\n",
       "      <td>0.004757</td>\n",
       "      <td>1</td>\n",
       "    </tr>\n",
       "  </tbody>\n",
       "</table>\n",
       "</div>"
      ],
      "text/plain": [
       "                     Temperature  Humidity  Light     CO2  HumidityRatio  \\\n",
       "date                                                                       \n",
       "2015-02-04 17:51:00        23.18   27.2720  426.0  721.25       0.004793   \n",
       "2015-02-04 17:52:00        23.15   27.2675  429.5  714.00       0.004783   \n",
       "2015-02-04 17:53:00        23.15   27.2450  426.0  713.50       0.004779   \n",
       "2015-02-04 17:54:00        23.15   27.2000  426.0  708.25       0.004772   \n",
       "2015-02-04 17:55:00        23.10   27.2000  426.0  704.50       0.004757   \n",
       "\n",
       "                     Occupancy  \n",
       "date                            \n",
       "2015-02-04 17:51:00          1  \n",
       "2015-02-04 17:52:00          1  \n",
       "2015-02-04 17:53:00          1  \n",
       "2015-02-04 17:54:00          1  \n",
       "2015-02-04 17:55:00          1  "
      ]
     },
     "execution_count": 3,
     "metadata": {},
     "output_type": "execute_result"
    }
   ],
   "source": [
    "df = pd.read_csv('./data/datatraining_fix_min.csv', parse_dates=True, index_col='date')\n",
    "df.head()"
   ]
  },
  {
   "cell_type": "markdown",
   "metadata": {},
   "source": [
    "# shapelet discovery"
   ]
  },
  {
   "cell_type": "code",
   "execution_count": 49,
   "metadata": {},
   "outputs": [
    {
     "data": {
      "text/plain": [
       "(8143, 6)"
      ]
     },
     "execution_count": 49,
     "metadata": {},
     "output_type": "execute_result"
    }
   ],
   "source": [
    "df.shape"
   ]
  },
  {
   "cell_type": "code",
   "execution_count": 50,
   "metadata": {},
   "outputs": [
    {
     "data": {
      "text/plain": [
       "Index(['Temperature', 'Humidity', 'Light', 'CO2', 'HumidityRatio',\n",
       "       'Occupancy'],\n",
       "      dtype='object')"
      ]
     },
     "execution_count": 50,
     "metadata": {},
     "output_type": "execute_result"
    }
   ],
   "source": [
    "df.columns"
   ]
  },
  {
   "cell_type": "markdown",
   "metadata": {},
   "source": [
    "# shapelet discovery"
   ]
  },
  {
   "cell_type": "code",
   "execution_count": 11,
   "metadata": {},
   "outputs": [
    {
     "name": "stderr",
     "output_type": "stream",
     "text": [
      "/Users/piyush2017/opt/anaconda3/lib/python3.7/site-packages/sklearn/utils/deprecation.py:144: FutureWarning: The sklearn.cluster.k_means_ module is  deprecated in version 0.22 and will be removed in version 0.24. The corresponding classes / functions should instead be imported from sklearn.cluster. Anything that cannot be imported from sklearn.cluster is now part of the private API.\n",
      "  warnings.warn(message, FutureWarning)\n"
     ]
    }
   ],
   "source": [
    "from keras.optimizers import Adagrad\n",
    "from tslearn.shapelets import ShapeletModel\n",
    "from tslearn.shapelets import grabocka_params_to_shapelet_size_dict\n",
    "import tensorflow as tf\n",
    "from tslearn.preprocessing import TimeSeriesScalerMinMax"
   ]
  },
  {
   "cell_type": "code",
   "execution_count": 65,
   "metadata": {},
   "outputs": [],
   "source": [
    "# ['Temperature', 'Humidity', 'Light', 'CO2', 'HumidityRatio','Occupancy']\n",
    "\n",
    "class_name= \"Occupancy\"\n",
    "attributes = ['Light', 'CO2']"
   ]
  },
  {
   "cell_type": "code",
   "execution_count": 66,
   "metadata": {},
   "outputs": [],
   "source": [
    "X = df[attributes]\n",
    "y = df[class_name]\n",
    "\n",
    "#X,y = train_test_split(X, y, test_size=0.3, random_state=100, stratify=y)"
   ]
  },
  {
   "cell_type": "code",
   "execution_count": 21,
   "metadata": {},
   "outputs": [],
   "source": [
    "# arrX = X.to_numpy()\n",
    "# arry= y.to_numpy()"
   ]
  },
  {
   "cell_type": "code",
   "execution_count": 22,
   "metadata": {},
   "outputs": [
    {
     "data": {
      "text/plain": [
       "['Light', 'CO2']"
      ]
     },
     "execution_count": 22,
     "metadata": {},
     "output_type": "execute_result"
    }
   ],
   "source": [
    "attributes"
   ]
  },
  {
   "cell_type": "code",
   "execution_count": 67,
   "metadata": {},
   "outputs": [],
   "source": [
    "arrX = X\n",
    "arry= y"
   ]
  },
  {
   "cell_type": "code",
   "execution_count": 23,
   "metadata": {},
   "outputs": [
    {
     "data": {
      "text/plain": [
       "(8143, 2)"
      ]
     },
     "execution_count": 23,
     "metadata": {},
     "output_type": "execute_result"
    }
   ],
   "source": [
    "arrX.shape"
   ]
  },
  {
   "cell_type": "code",
   "execution_count": 54,
   "metadata": {},
   "outputs": [
    {
     "data": {
      "text/plain": [
       "array([[1],\n",
       "       [1],\n",
       "       [1],\n",
       "       ...,\n",
       "       [1],\n",
       "       [1],\n",
       "       [1]])"
      ]
     },
     "execution_count": 54,
     "metadata": {},
     "output_type": "execute_result"
    }
   ],
   "source": [
    "arrX.reshape(-1,1)\n",
    "arry.reshape(-1,1)"
   ]
  },
  {
   "cell_type": "code",
   "execution_count": 56,
   "metadata": {},
   "outputs": [
    {
     "name": "stdout",
     "output_type": "stream",
     "text": [
      "[[426.         721.25      ]\n",
      " [429.5        714.        ]\n",
      " [426.         713.5       ]\n",
      " ...\n",
      " [433.         798.5       ]\n",
      " [433.         820.33333333]\n",
      " [447.         821.        ]]\n",
      "[1 1 1 ... 1 1 1]\n"
     ]
    }
   ],
   "source": [
    "print(arrX)\n",
    "print(arry)"
   ]
  },
  {
   "cell_type": "code",
   "execution_count": 68,
   "metadata": {},
   "outputs": [
    {
     "name": "stdout",
     "output_type": "stream",
     "text": [
      "n_ts 8143\n",
      "ts_sz 2\n",
      "n_classes 2\n",
      "shapelet_sizes {1: 4}\n"
     ]
    }
   ],
   "source": [
    "n_ts,ts_sz= arrX.shape\n",
    "n_classes = len(set(arry))\n",
    "\n",
    "# Set the number of shapelets per size as done in the original paper\n",
    "shapelet_sizes = grabocka_params_to_shapelet_size_dict(n_ts=n_ts,\n",
    "                                                       ts_sz=ts_sz,\n",
    "                                                       n_classes=n_classes,\n",
    "                                                       l=0.1,\n",
    "                                                       r=1)\n",
    "\n",
    "print('n_ts', n_ts)\n",
    "print('ts_sz', ts_sz)\n",
    "print('n_classes', n_classes)\n",
    "print('shapelet_sizes', shapelet_sizes)"
   ]
  },
  {
   "cell_type": "code",
   "execution_count": 69,
   "metadata": {},
   "outputs": [],
   "source": [
    "\n",
    "shp_clf = ShapeletModel(n_shapelets_per_size=shapelet_sizes,\n",
    "                        optimizer=\"adamax\",\n",
    "                        weight_regularizer=0.01,\n",
    "                        max_iter=10,\n",
    "                        verbose=1)"
   ]
  },
  {
   "cell_type": "code",
   "execution_count": 70,
   "metadata": {},
   "outputs": [
    {
     "name": "stdout",
     "output_type": "stream",
     "text": [
      "Epoch 1/10\n",
      "8143/8143 [==============================] - 0s 38us/step - loss: 2.5880 - binary_accuracy: 0.8406 - binary_crossentropy: 2.5676\n",
      "Epoch 2/10\n",
      "8143/8143 [==============================] - 0s 8us/step - loss: 2.5748 - binary_accuracy: 0.8412 - binary_crossentropy: 2.5571\n",
      "Epoch 3/10\n",
      "8143/8143 [==============================] - 0s 9us/step - loss: 2.5692 - binary_accuracy: 0.8416 - binary_crossentropy: 2.5517\n",
      "Epoch 4/10\n",
      "8143/8143 [==============================] - 0s 8us/step - loss: 2.5692 - binary_accuracy: 0.8416 - binary_crossentropy: 2.5517\n",
      "Epoch 5/10\n",
      "8143/8143 [==============================] - 0s 8us/step - loss: 2.5692 - binary_accuracy: 0.8416 - binary_crossentropy: 2.5517\n",
      "Epoch 6/10\n",
      "8143/8143 [==============================] - 0s 8us/step - loss: 2.5692 - binary_accuracy: 0.8416 - binary_crossentropy: 2.5517\n",
      "Epoch 7/10\n",
      "8143/8143 [==============================] - 0s 8us/step - loss: 2.5692 - binary_accuracy: 0.8416 - binary_crossentropy: 2.5517\n",
      "Epoch 8/10\n",
      "8143/8143 [==============================] - 0s 9us/step - loss: 2.5692 - binary_accuracy: 0.8416 - binary_crossentropy: 2.5517\n",
      "Epoch 9/10\n",
      "8143/8143 [==============================] - 0s 8us/step - loss: 2.5692 - binary_accuracy: 0.8416 - binary_crossentropy: 2.5517\n",
      "Epoch 10/10\n",
      "8143/8143 [==============================] - 0s 10us/step - loss: 2.5692 - binary_accuracy: 0.8416 - binary_crossentropy: 2.5517\n"
     ]
    },
    {
     "data": {
      "text/plain": [
       "ShapeletModel(batch_size=256, max_iter=10, n_shapelets_per_size={1: 4},\n",
       "              optimizer='adamax', random_state=None, shapelet_length=0.15,\n",
       "              total_lengths=3, verbose=1, verbose_level=None,\n",
       "              weight_regularizer=0.01)"
      ]
     },
     "execution_count": 70,
     "metadata": {},
     "output_type": "execute_result"
    }
   ],
   "source": [
    "shp_clf.fit(arrX,arry)"
   ]
  },
  {
   "cell_type": "code",
   "execution_count": 60,
   "metadata": {},
   "outputs": [],
   "source": [
    "from sklearn.metrics import accuracy_score"
   ]
  },
  {
   "cell_type": "code",
   "execution_count": 71,
   "metadata": {},
   "outputs": [
    {
     "name": "stdout",
     "output_type": "stream",
     "text": [
      "8143/8143 [==============================] - 0s 13us/step\n",
      "Correct classification rate: 0.8415817266363748\n"
     ]
    }
   ],
   "source": [
    "predicted_labels = shp_clf.predict(arrX)\n",
    "print(\"Correct classification rate:\", accuracy_score(arry, predicted_labels))"
   ]
  },
  {
   "cell_type": "code",
   "execution_count": 73,
   "metadata": {},
   "outputs": [
    {
     "name": "stderr",
     "output_type": "stream",
     "text": [
      "/Users/piyush2017/opt/anaconda3/lib/python3.7/site-packages/tslearn/utils.py:63: UserWarning: 2-Dimensional data passed. Assuming these are 8143 1-dimensional timeseries\n",
      "  '{} 1-dimensional timeseries'.format(X.shape[0]))\n"
     ]
    },
    {
     "name": "stdout",
     "output_type": "stream",
     "text": [
      "8143/8143 [==============================] - 0s 14us/step\n"
     ]
    }
   ],
   "source": [
    "predicted_locations = shp_clf.locate(arrX.values)"
   ]
  },
  {
   "cell_type": "code",
   "execution_count": 74,
   "metadata": {
    "scrolled": true
   },
   "outputs": [
    {
     "ename": "KeyError",
     "evalue": "0",
     "output_type": "error",
     "traceback": [
      "\u001b[0;31m---------------------------------------------------------------------------\u001b[0m",
      "\u001b[0;31mKeyError\u001b[0m                                  Traceback (most recent call last)",
      "\u001b[0;32m~/opt/anaconda3/lib/python3.7/site-packages/pandas/core/indexes/base.py\u001b[0m in \u001b[0;36mget_loc\u001b[0;34m(self, key, method, tolerance)\u001b[0m\n\u001b[1;32m   2645\u001b[0m             \u001b[0;32mtry\u001b[0m\u001b[0;34m:\u001b[0m\u001b[0;34m\u001b[0m\u001b[0;34m\u001b[0m\u001b[0m\n\u001b[0;32m-> 2646\u001b[0;31m                 \u001b[0;32mreturn\u001b[0m \u001b[0mself\u001b[0m\u001b[0;34m.\u001b[0m\u001b[0m_engine\u001b[0m\u001b[0;34m.\u001b[0m\u001b[0mget_loc\u001b[0m\u001b[0;34m(\u001b[0m\u001b[0mkey\u001b[0m\u001b[0;34m)\u001b[0m\u001b[0;34m\u001b[0m\u001b[0;34m\u001b[0m\u001b[0m\n\u001b[0m\u001b[1;32m   2647\u001b[0m             \u001b[0;32mexcept\u001b[0m \u001b[0mKeyError\u001b[0m\u001b[0;34m:\u001b[0m\u001b[0;34m\u001b[0m\u001b[0;34m\u001b[0m\u001b[0m\n",
      "\u001b[0;32mpandas/_libs/index.pyx\u001b[0m in \u001b[0;36mpandas._libs.index.IndexEngine.get_loc\u001b[0;34m()\u001b[0m\n",
      "\u001b[0;32mpandas/_libs/index.pyx\u001b[0m in \u001b[0;36mpandas._libs.index.IndexEngine.get_loc\u001b[0;34m()\u001b[0m\n",
      "\u001b[0;32mpandas/_libs/hashtable_class_helper.pxi\u001b[0m in \u001b[0;36mpandas._libs.hashtable.PyObjectHashTable.get_item\u001b[0;34m()\u001b[0m\n",
      "\u001b[0;32mpandas/_libs/hashtable_class_helper.pxi\u001b[0m in \u001b[0;36mpandas._libs.hashtable.PyObjectHashTable.get_item\u001b[0;34m()\u001b[0m\n",
      "\u001b[0;31mKeyError\u001b[0m: 0",
      "\nDuring handling of the above exception, another exception occurred:\n",
      "\u001b[0;31mKeyError\u001b[0m                                  Traceback (most recent call last)",
      "\u001b[0;32m<ipython-input-74-0bba79d696b6>\u001b[0m in \u001b[0;36m<module>\u001b[0;34m\u001b[0m\n\u001b[1;32m      5\u001b[0m           \"(%d shapelets extracted)\".format(n_shapelets))\n\u001b[1;32m      6\u001b[0m \u001b[0;34m\u001b[0m\u001b[0m\n\u001b[0;32m----> 7\u001b[0;31m \u001b[0mplt\u001b[0m\u001b[0;34m.\u001b[0m\u001b[0mplot\u001b[0m\u001b[0;34m(\u001b[0m\u001b[0marrX\u001b[0m\u001b[0;34m[\u001b[0m\u001b[0mts_id\u001b[0m\u001b[0;34m]\u001b[0m\u001b[0;34m.\u001b[0m\u001b[0mravel\u001b[0m\u001b[0;34m(\u001b[0m\u001b[0;34m)\u001b[0m\u001b[0;34m)\u001b[0m\u001b[0;34m\u001b[0m\u001b[0;34m\u001b[0m\u001b[0m\n\u001b[0m\u001b[1;32m      8\u001b[0m \u001b[0;32mfor\u001b[0m \u001b[0midx_shp\u001b[0m\u001b[0;34m,\u001b[0m \u001b[0mshp\u001b[0m \u001b[0;32min\u001b[0m \u001b[0menumerate\u001b[0m\u001b[0;34m(\u001b[0m\u001b[0mshp_clf\u001b[0m\u001b[0;34m.\u001b[0m\u001b[0mshapelets_\u001b[0m\u001b[0;34m)\u001b[0m\u001b[0;34m:\u001b[0m\u001b[0;34m\u001b[0m\u001b[0;34m\u001b[0m\u001b[0m\n\u001b[1;32m      9\u001b[0m     \u001b[0mt0\u001b[0m \u001b[0;34m=\u001b[0m \u001b[0mpredicted_locations\u001b[0m\u001b[0;34m[\u001b[0m\u001b[0mts_id\u001b[0m\u001b[0;34m,\u001b[0m \u001b[0midx_shp\u001b[0m\u001b[0;34m]\u001b[0m\u001b[0;34m\u001b[0m\u001b[0;34m\u001b[0m\u001b[0m\n",
      "\u001b[0;32m~/opt/anaconda3/lib/python3.7/site-packages/pandas/core/frame.py\u001b[0m in \u001b[0;36m__getitem__\u001b[0;34m(self, key)\u001b[0m\n\u001b[1;32m   2798\u001b[0m             \u001b[0;32mif\u001b[0m \u001b[0mself\u001b[0m\u001b[0;34m.\u001b[0m\u001b[0mcolumns\u001b[0m\u001b[0;34m.\u001b[0m\u001b[0mnlevels\u001b[0m \u001b[0;34m>\u001b[0m \u001b[0;36m1\u001b[0m\u001b[0;34m:\u001b[0m\u001b[0;34m\u001b[0m\u001b[0;34m\u001b[0m\u001b[0m\n\u001b[1;32m   2799\u001b[0m                 \u001b[0;32mreturn\u001b[0m \u001b[0mself\u001b[0m\u001b[0;34m.\u001b[0m\u001b[0m_getitem_multilevel\u001b[0m\u001b[0;34m(\u001b[0m\u001b[0mkey\u001b[0m\u001b[0;34m)\u001b[0m\u001b[0;34m\u001b[0m\u001b[0;34m\u001b[0m\u001b[0m\n\u001b[0;32m-> 2800\u001b[0;31m             \u001b[0mindexer\u001b[0m \u001b[0;34m=\u001b[0m \u001b[0mself\u001b[0m\u001b[0;34m.\u001b[0m\u001b[0mcolumns\u001b[0m\u001b[0;34m.\u001b[0m\u001b[0mget_loc\u001b[0m\u001b[0;34m(\u001b[0m\u001b[0mkey\u001b[0m\u001b[0;34m)\u001b[0m\u001b[0;34m\u001b[0m\u001b[0;34m\u001b[0m\u001b[0m\n\u001b[0m\u001b[1;32m   2801\u001b[0m             \u001b[0;32mif\u001b[0m \u001b[0mis_integer\u001b[0m\u001b[0;34m(\u001b[0m\u001b[0mindexer\u001b[0m\u001b[0;34m)\u001b[0m\u001b[0;34m:\u001b[0m\u001b[0;34m\u001b[0m\u001b[0;34m\u001b[0m\u001b[0m\n\u001b[1;32m   2802\u001b[0m                 \u001b[0mindexer\u001b[0m \u001b[0;34m=\u001b[0m \u001b[0;34m[\u001b[0m\u001b[0mindexer\u001b[0m\u001b[0;34m]\u001b[0m\u001b[0;34m\u001b[0m\u001b[0;34m\u001b[0m\u001b[0m\n",
      "\u001b[0;32m~/opt/anaconda3/lib/python3.7/site-packages/pandas/core/indexes/base.py\u001b[0m in \u001b[0;36mget_loc\u001b[0;34m(self, key, method, tolerance)\u001b[0m\n\u001b[1;32m   2646\u001b[0m                 \u001b[0;32mreturn\u001b[0m \u001b[0mself\u001b[0m\u001b[0;34m.\u001b[0m\u001b[0m_engine\u001b[0m\u001b[0;34m.\u001b[0m\u001b[0mget_loc\u001b[0m\u001b[0;34m(\u001b[0m\u001b[0mkey\u001b[0m\u001b[0;34m)\u001b[0m\u001b[0;34m\u001b[0m\u001b[0;34m\u001b[0m\u001b[0m\n\u001b[1;32m   2647\u001b[0m             \u001b[0;32mexcept\u001b[0m \u001b[0mKeyError\u001b[0m\u001b[0;34m:\u001b[0m\u001b[0;34m\u001b[0m\u001b[0;34m\u001b[0m\u001b[0m\n\u001b[0;32m-> 2648\u001b[0;31m                 \u001b[0;32mreturn\u001b[0m \u001b[0mself\u001b[0m\u001b[0;34m.\u001b[0m\u001b[0m_engine\u001b[0m\u001b[0;34m.\u001b[0m\u001b[0mget_loc\u001b[0m\u001b[0;34m(\u001b[0m\u001b[0mself\u001b[0m\u001b[0;34m.\u001b[0m\u001b[0m_maybe_cast_indexer\u001b[0m\u001b[0;34m(\u001b[0m\u001b[0mkey\u001b[0m\u001b[0;34m)\u001b[0m\u001b[0;34m)\u001b[0m\u001b[0;34m\u001b[0m\u001b[0;34m\u001b[0m\u001b[0m\n\u001b[0m\u001b[1;32m   2649\u001b[0m         \u001b[0mindexer\u001b[0m \u001b[0;34m=\u001b[0m \u001b[0mself\u001b[0m\u001b[0;34m.\u001b[0m\u001b[0mget_indexer\u001b[0m\u001b[0;34m(\u001b[0m\u001b[0;34m[\u001b[0m\u001b[0mkey\u001b[0m\u001b[0;34m]\u001b[0m\u001b[0;34m,\u001b[0m \u001b[0mmethod\u001b[0m\u001b[0;34m=\u001b[0m\u001b[0mmethod\u001b[0m\u001b[0;34m,\u001b[0m \u001b[0mtolerance\u001b[0m\u001b[0;34m=\u001b[0m\u001b[0mtolerance\u001b[0m\u001b[0;34m)\u001b[0m\u001b[0;34m\u001b[0m\u001b[0;34m\u001b[0m\u001b[0m\n\u001b[1;32m   2650\u001b[0m         \u001b[0;32mif\u001b[0m \u001b[0mindexer\u001b[0m\u001b[0;34m.\u001b[0m\u001b[0mndim\u001b[0m \u001b[0;34m>\u001b[0m \u001b[0;36m1\u001b[0m \u001b[0;32mor\u001b[0m \u001b[0mindexer\u001b[0m\u001b[0;34m.\u001b[0m\u001b[0msize\u001b[0m \u001b[0;34m>\u001b[0m \u001b[0;36m1\u001b[0m\u001b[0;34m:\u001b[0m\u001b[0;34m\u001b[0m\u001b[0;34m\u001b[0m\u001b[0m\n",
      "\u001b[0;32mpandas/_libs/index.pyx\u001b[0m in \u001b[0;36mpandas._libs.index.IndexEngine.get_loc\u001b[0;34m()\u001b[0m\n",
      "\u001b[0;32mpandas/_libs/index.pyx\u001b[0m in \u001b[0;36mpandas._libs.index.IndexEngine.get_loc\u001b[0;34m()\u001b[0m\n",
      "\u001b[0;32mpandas/_libs/hashtable_class_helper.pxi\u001b[0m in \u001b[0;36mpandas._libs.hashtable.PyObjectHashTable.get_item\u001b[0;34m()\u001b[0m\n",
      "\u001b[0;32mpandas/_libs/hashtable_class_helper.pxi\u001b[0m in \u001b[0;36mpandas._libs.hashtable.PyObjectHashTable.get_item\u001b[0;34m()\u001b[0m\n",
      "\u001b[0;31mKeyError\u001b[0m: 0"
     ]
    },
    {
     "data": {
      "image/png": "[encoded data removed]",
      "text/plain": [
       "<Figure size 432x288 with 1 Axes>"
      ]
     },
     "metadata": {
      "needs_background": "light"
     },
     "output_type": "display_data"
    }
   ],
   "source": [
    "ts_id = 0\n",
    "plt.figure()\n",
    "n_shapelets = sum(shapelet_sizes.values())\n",
    "plt.title(\"Example locations of shapelet matches \"\n",
    "          \"(%d shapelets extracted)\".format(n_shapelets))\n",
    "\n",
    "plt.plot(arrX[ts_id].ravel())\n",
    "for idx_shp, shp in enumerate(shp_clf.shapelets_):\n",
    "    t0 = predicted_locations[ts_id, idx_shp]\n",
    "    plt.plot(np.arange(t0, t0 + len(shp)), shp, linewidth=2)"
   ]
  },
  {
   "cell_type": "markdown",
   "metadata": {},
   "source": [
    "# Shapelet Discovery 2"
   ]
  },
  {
   "cell_type": "code",
   "execution_count": 34,
   "metadata": {},
   "outputs": [],
   "source": [
    "from shapelets_lts.classification import LtsShapeletClassifier"
   ]
  },
  {
   "cell_type": "code",
   "execution_count": 35,
   "metadata": {},
   "outputs": [],
   "source": [
    "shp_clf = LtsShapeletClassifier(\n",
    "    K=10,\n",
    "    R=2,\n",
    "    L_min=1,\n",
    "    epocs=50,\n",
    "    lamda=1,\n",
    "    eta=0.01,\n",
    "    shapelet_initialization='segments_centroids',\n",
    "    plot_loss=False\n",
    ")\n"
   ]
  },
  {
   "cell_type": "code",
   "execution_count": 64,
   "metadata": {},
   "outputs": [
    {
     "data": {
      "text/plain": [
       "(8143,)"
      ]
     },
     "execution_count": 64,
     "metadata": {},
     "output_type": "execute_result"
    }
   ],
   "source": [
    "arry.shape"
   ]
  },
  {
   "cell_type": "code",
   "execution_count": 39,
   "metadata": {},
   "outputs": [
    {
     "name": "stdout",
     "output_type": "stream",
     "text": [
      "Network initialization ...\n",
      "Using training data to initialize shaplets\n",
      "Training ...\n",
      "Using training data for validation\n"
     ]
    },
    {
     "name": "stderr",
     "output_type": "stream",
     "text": [
      "/Users/piyush2017/opt/anaconda3/lib/python3.7/site-packages/shapelets_lts/network/soft_min_layer.py:67: RuntimeWarning: invalid value encountered in double_scalars\n",
      "  M = M_numerator / self.psi\n"
     ]
    },
    {
     "name": "stdout",
     "output_type": "stream",
     "text": [
      "epoch=1/50 (iteration=8143) loss=nan validation accuracy=0.7876703917475132\n",
      "epoch=2/50 (iteration=16286) loss=nan validation accuracy=0.7876703917475132\n",
      "epoch=3/50 (iteration=24429) loss=nan validation accuracy=0.7876703917475132\n",
      "epoch=4/50 (iteration=32572) loss=nan validation accuracy=0.7876703917475132\n",
      "epoch=5/50 (iteration=40715) loss=nan validation accuracy=0.7876703917475132\n",
      "epoch=6/50 (iteration=48858) loss=nan validation accuracy=0.7876703917475132\n",
      "epoch=7/50 (iteration=57001) loss=nan validation accuracy=0.7876703917475132\n",
      "epoch=8/50 (iteration=65144) loss=nan validation accuracy=0.7876703917475132\n",
      "epoch=9/50 (iteration=73287) loss=nan validation accuracy=0.7876703917475132\n",
      "epoch=10/50 (iteration=81430) loss=nan validation accuracy=0.7876703917475132\n",
      "epoch=11/50 (iteration=89573) loss=nan validation accuracy=0.7876703917475132\n",
      "epoch=12/50 (iteration=97716) loss=nan validation accuracy=0.7876703917475132\n",
      "epoch=13/50 (iteration=105859) loss=nan validation accuracy=0.7876703917475132\n",
      "epoch=14/50 (iteration=114002) loss=nan validation accuracy=0.7876703917475132\n",
      "epoch=15/50 (iteration=122145) loss=nan validation accuracy=0.7876703917475132\n",
      "epoch=16/50 (iteration=130288) loss=nan validation accuracy=0.7876703917475132\n",
      "epoch=17/50 (iteration=138431) loss=nan validation accuracy=0.7876703917475132\n",
      "epoch=18/50 (iteration=146574) loss=nan validation accuracy=0.7876703917475132\n",
      "epoch=19/50 (iteration=154717) loss=nan validation accuracy=0.7876703917475132\n",
      "epoch=20/50 (iteration=162860) loss=nan validation accuracy=0.7876703917475132\n",
      "epoch=21/50 (iteration=171003) loss=nan validation accuracy=0.7876703917475132\n",
      "epoch=22/50 (iteration=179146) loss=nan validation accuracy=0.7876703917475132\n",
      "epoch=23/50 (iteration=187289) loss=nan validation accuracy=0.7876703917475132\n",
      "epoch=24/50 (iteration=195432) loss=nan validation accuracy=0.7876703917475132\n",
      "epoch=25/50 (iteration=203575) loss=nan validation accuracy=0.7876703917475132\n",
      "epoch=26/50 (iteration=211718) loss=nan validation accuracy=0.7876703917475132\n",
      "epoch=27/50 (iteration=219861) loss=nan validation accuracy=0.7876703917475132\n",
      "epoch=28/50 (iteration=228004) loss=nan validation accuracy=0.7876703917475132\n",
      "epoch=29/50 (iteration=236147) loss=nan validation accuracy=0.7876703917475132\n",
      "epoch=30/50 (iteration=244290) loss=nan validation accuracy=0.7876703917475132\n",
      "epoch=31/50 (iteration=252433) loss=nan validation accuracy=0.7876703917475132\n",
      "epoch=32/50 (iteration=260576) loss=nan validation accuracy=0.7876703917475132\n",
      "epoch=33/50 (iteration=268719) loss=nan validation accuracy=0.7876703917475132\n",
      "epoch=34/50 (iteration=276862) loss=nan validation accuracy=0.7876703917475132\n",
      "epoch=35/50 (iteration=285005) loss=nan validation accuracy=0.7876703917475132\n",
      "epoch=36/50 (iteration=293148) loss=nan validation accuracy=0.7876703917475132\n",
      "epoch=37/50 (iteration=301291) loss=nan validation accuracy=0.7876703917475132\n",
      "epoch=38/50 (iteration=309434) loss=nan validation accuracy=0.7876703917475132\n",
      "epoch=39/50 (iteration=317577) loss=nan validation accuracy=0.7876703917475132\n",
      "epoch=40/50 (iteration=325720) loss=nan validation accuracy=0.7876703917475132\n",
      "epoch=41/50 (iteration=333863) loss=nan validation accuracy=0.7876703917475132\n",
      "epoch=42/50 (iteration=342006) loss=nan validation accuracy=0.7876703917475132\n",
      "epoch=43/50 (iteration=350149) loss=nan validation accuracy=0.7876703917475132\n",
      "epoch=44/50 (iteration=358292) loss=nan validation accuracy=0.7876703917475132\n",
      "epoch=45/50 (iteration=366435) loss=nan validation accuracy=0.7876703917475132\n",
      "epoch=46/50 (iteration=374578) loss=nan validation accuracy=0.7876703917475132\n",
      "epoch=47/50 (iteration=382721) loss=nan validation accuracy=0.7876703917475132\n",
      "epoch=48/50 (iteration=390864) loss=nan validation accuracy=0.7876703917475132\n",
      "epoch=49/50 (iteration=399007) loss=nan validation accuracy=0.7876703917475132\n",
      "epoch=50/50 (iteration=407150) loss=nan validation accuracy=0.7876703917475132\n"
     ]
    },
    {
     "data": {
      "text/plain": [
       "LtsShapeletClassifier(K=10, L_min=1, R=2, alpha=-100, epocs=50, eta=0.01,\n",
       "                      lamda=1, plot_loss=False,\n",
       "                      shapelet_initialization='segments_centroids')"
      ]
     },
     "execution_count": 39,
     "metadata": {},
     "output_type": "execute_result"
    }
   ],
   "source": [
    "shp_clf.fit(arrX, arry)"
   ]
  },
  {
   "cell_type": "code",
   "execution_count": 40,
   "metadata": {},
   "outputs": [],
   "source": [
    "from sklearn.metrics import accuracy_score"
   ]
  },
  {
   "cell_type": "code",
   "execution_count": 41,
   "metadata": {},
   "outputs": [
    {
     "name": "stdout",
     "output_type": "stream",
     "text": [
      "Correct classification rate: 0.7876703917475132\n"
     ]
    }
   ],
   "source": [
    "y_pred = shp_clf.predict(arrX)\n",
    "\n",
    "print(\"Correct classification rate:\", accuracy_score(arry, y_pred))"
   ]
  },
  {
   "cell_type": "code",
   "execution_count": 42,
   "metadata": {},
   "outputs": [
    {
     "data": {
      "image/png": "[encoded data removed]",
      "text/plain": [
       "<Figure size 1296x864 with 20 Axes>"
      ]
     },
     "metadata": {
      "needs_background": "light"
     },
     "output_type": "display_data"
    }
   ],
   "source": [
    "# retrieve the learnt shapelets\n",
    "shapelets = shp_clf.get_shapelets()\n",
    "\n",
    "# and plot sample shapelets\n",
    "from shapelets_lts.util import plot_sample_shapelets\n",
    "plot_sample_shapelets(shapelets=shapelets, sample_size=36)"
   ]
  },
  {
   "cell_type": "code",
   "execution_count": 43,
   "metadata": {},
   "outputs": [
    {
     "data": {
      "text/plain": [
       "20"
      ]
     },
     "execution_count": 43,
     "metadata": {},
     "output_type": "execute_result"
    }
   ],
   "source": [
    "len(shapelets)"
   ]
  },
  {
   "cell_type": "markdown",
   "metadata": {},
   "source": [
    "# Shapelet Discovery 3"
   ]
  },
  {
   "cell_type": "code",
   "execution_count": 45,
   "metadata": {},
   "outputs": [],
   "source": [
    "from pyts.transformation import ShapeletTransform"
   ]
  },
  {
   "cell_type": "code",
   "execution_count": 46,
   "metadata": {},
   "outputs": [
    {
     "ename": "ValueError",
     "evalue": "If the elements of 'window_sizes' are integers, they all must be greater than 0 and lower than or equal to n_timestamps.",
     "output_type": "error",
     "traceback": [
      "\u001b[0;31m---------------------------------------------------------------------------\u001b[0m",
      "\u001b[0;31mValueError\u001b[0m                                Traceback (most recent call last)",
      "\u001b[0;32m<ipython-input-46-aaf732007ae1>\u001b[0m in \u001b[0;36m<module>\u001b[0;34m\u001b[0m\n\u001b[1;32m      1\u001b[0m \u001b[0mst\u001b[0m \u001b[0;34m=\u001b[0m \u001b[0mShapeletTransform\u001b[0m\u001b[0;34m(\u001b[0m\u001b[0mn_shapelets\u001b[0m\u001b[0;34m=\u001b[0m\u001b[0;36m2\u001b[0m\u001b[0;34m,\u001b[0m \u001b[0mwindow_sizes\u001b[0m\u001b[0;34m=\u001b[0m\u001b[0;34m[\u001b[0m\u001b[0;36m5\u001b[0m\u001b[0;34m]\u001b[0m\u001b[0;34m)\u001b[0m\u001b[0;34m\u001b[0m\u001b[0;34m\u001b[0m\u001b[0m\n\u001b[0;32m----> 2\u001b[0;31m \u001b[0mst\u001b[0m\u001b[0;34m.\u001b[0m\u001b[0mfit\u001b[0m\u001b[0;34m(\u001b[0m\u001b[0marrX\u001b[0m\u001b[0;34m,\u001b[0m \u001b[0marry\u001b[0m\u001b[0;34m)\u001b[0m\u001b[0;34m\u001b[0m\u001b[0;34m\u001b[0m\u001b[0m\n\u001b[0m",
      "\u001b[0;32m~/opt/anaconda3/lib/python3.7/site-packages/pyts/transformation/shapelet_transform.py\u001b[0m in \u001b[0;36mfit\u001b[0;34m(self, X, y)\u001b[0m\n\u001b[1;32m    302\u001b[0m         \u001b[0mX\u001b[0m\u001b[0;34m,\u001b[0m \u001b[0my\u001b[0m \u001b[0;34m=\u001b[0m \u001b[0mcheck_X_y\u001b[0m\u001b[0;34m(\u001b[0m\u001b[0mX\u001b[0m\u001b[0;34m,\u001b[0m \u001b[0my\u001b[0m\u001b[0;34m,\u001b[0m \u001b[0mdtype\u001b[0m\u001b[0;34m=\u001b[0m\u001b[0;34m'float64'\u001b[0m\u001b[0;34m)\u001b[0m\u001b[0;34m\u001b[0m\u001b[0;34m\u001b[0m\u001b[0m\n\u001b[1;32m    303\u001b[0m         (n_shapelets, window_sizes,\n\u001b[0;32m--> 304\u001b[0;31m          window_steps, n_jobs, rng) = self._check_params(X, y)\n\u001b[0m\u001b[1;32m    305\u001b[0m \u001b[0;34m\u001b[0m\u001b[0m\n\u001b[1;32m    306\u001b[0m         X_new, scores, shapelets, indices = self._fit(\n",
      "\u001b[0;32m~/opt/anaconda3/lib/python3.7/site-packages/pyts/transformation/shapelet_transform.py\u001b[0m in \u001b[0;36m_check_params\u001b[0;34m(self, X, y)\u001b[0m\n\u001b[1;32m    430\u001b[0m                         np.max(window_sizes) <= n_timestamps):\n\u001b[1;32m    431\u001b[0m                     raise ValueError(\n\u001b[0;32m--> 432\u001b[0;31m                         \u001b[0;34m\"If the elements of 'window_sizes' are integers, they \"\u001b[0m\u001b[0;34m\u001b[0m\u001b[0;34m\u001b[0m\u001b[0m\n\u001b[0m\u001b[1;32m    433\u001b[0m                         \u001b[0;34m\"all must be greater than 0 and lower than or equal \"\u001b[0m\u001b[0;34m\u001b[0m\u001b[0;34m\u001b[0m\u001b[0m\n\u001b[1;32m    434\u001b[0m                         \u001b[0;34m\"to n_timestamps.\"\u001b[0m\u001b[0;34m\u001b[0m\u001b[0;34m\u001b[0m\u001b[0m\n",
      "\u001b[0;31mValueError\u001b[0m: If the elements of 'window_sizes' are integers, they all must be greater than 0 and lower than or equal to n_timestamps."
     ]
    }
   ],
   "source": [
    "st = ShapeletTransform(n_shapelets=2, window_sizes=[5])\n",
    "st.fit(arrX, arry)"
   ]
  },
  {
   "cell_type": "code",
   "execution_count": null,
   "metadata": {},
   "outputs": [],
   "source": [
    "len(st.shapelets_)"
   ]
  },
  {
   "cell_type": "code",
   "execution_count": null,
   "metadata": {},
   "outputs": [],
   "source": [
    "st.shapelets_"
   ]
  },
  {
   "cell_type": "code",
   "execution_count": null,
   "metadata": {},
   "outputs": [],
   "source": [
    "for s in st.shapelets_:\n",
    "    plt.plot(s)\n",
    "\n",
    "plt.show()"
   ]
  },
  {
   "cell_type": "code",
   "execution_count": null,
   "metadata": {},
   "outputs": [],
   "source": [
    "st.indices_"
   ]
  },
  {
   "cell_type": "code",
   "execution_count": null,
   "metadata": {},
   "outputs": [],
   "source": [
    "st.scores_"
   ]
  },
  {
   "cell_type": "markdown",
   "metadata": {},
   "source": [
    "# Shapelet Discovery 4"
   ]
  },
  {
   "cell_type": "code",
   "execution_count": 338,
   "metadata": {},
   "outputs": [],
   "source": [
    "from pyts.classification import LearningShapelets"
   ]
  },
  {
   "cell_type": "code",
   "execution_count": 339,
   "metadata": {},
   "outputs": [],
   "source": [
    "shp_clf = LearningShapelets(random_state=42, tol=0.1)"
   ]
  },
  {
   "cell_type": "code",
   "execution_count": 340,
   "metadata": {},
   "outputs": [
    {
     "data": {
      "text/plain": [
       "LearningShapelets(C=1000, alpha=-100, class_weight=None, fit_intercept=True,\n",
       "                  intercept_scaling=1.0, learning_rate=1.0, max_iter=1000,\n",
       "                  min_shapelet_length=0.1, multi_class='multinomial',\n",
       "                  n_jobs=None, n_shapelets_per_size=0.2, penalty='l2',\n",
       "                  random_state=42, shapelet_scale=3, tol=0.1, verbose=0)"
      ]
     },
     "execution_count": 340,
     "metadata": {},
     "output_type": "execute_result"
    }
   ],
   "source": [
    "shp_clf.fit(arrX, arry)"
   ]
  },
  {
   "cell_type": "code",
   "execution_count": 341,
   "metadata": {},
   "outputs": [
    {
     "data": {
      "text/plain": [
       "3"
      ]
     },
     "execution_count": 341,
     "metadata": {},
     "output_type": "execute_result"
    }
   ],
   "source": [
    "len(shp_clf.shapelets_[0])"
   ]
  },
  {
   "cell_type": "code",
   "execution_count": 342,
   "metadata": {},
   "outputs": [],
   "source": [
    "from pyts.utils import windowed_view"
   ]
  },
  {
   "cell_type": "code",
   "execution_count": 343,
   "metadata": {},
   "outputs": [],
   "source": [
    "# Select three shapelets\n",
    "sel_shapelets = np.asarray([shp_clf.shapelets_[0, 0], \n",
    "                        shp_clf.shapelets_[0, 1], \n",
    "                        shp_clf.shapelets_[0, 2]])"
   ]
  },
  {
   "cell_type": "code",
   "execution_count": 344,
   "metadata": {},
   "outputs": [
    {
     "data": {
      "image/png": "[encoded data removed]",
      "text/plain": [
       "<Figure size 432x288 with 1 Axes>"
      ]
     },
     "metadata": {
      "needs_background": "light"
     },
     "output_type": "display_data"
    }
   ],
   "source": [
    "plt.plot(sel_shapelets[0])\n",
    "plt.plot(sel_shapelets[1])\n",
    "plt.plot(sel_shapelets[2])\n",
    "\n",
    "plt.show()"
   ]
  },
  {
   "cell_type": "code",
   "execution_count": 329,
   "metadata": {},
   "outputs": [],
   "source": [
    "# Derive the distances between the time series and a shapelets\n",
    "shapelet_size = sel_shapelets.shape[0]\n",
    "X_window = windowed_view(arrX, window_size=shapelet_size, window_step=1)\n",
    "X_dist = np.mean((X_window[:, :, None] - sel_shapelets[None, :]) ** 1, axis=1).min(axis=1)"
   ]
  },
  {
   "cell_type": "code",
   "execution_count": 330,
   "metadata": {},
   "outputs": [
    {
     "data": {
      "text/plain": [
       "array([[array([4.3333193]), array([198.4032816 , 203.55708683]),\n",
       "        array([327.12827581, 131.81922267, 140.39510418])],\n",
       "       [array([5.48848597]), array([197.1517816 , 202.30558683]),\n",
       "        array([325.87827263, 130.56921949, 139.14510099])],\n",
       "       [array([4.3143193]), array([195.81094827, 200.9647535 ]),\n",
       "        array([324.54493797, 129.23588483, 137.81176634])],\n",
       "       ...,\n",
       "       [array([8.9143193]), array([229.42761494, 234.58142016]),\n",
       "        array([355.21187669, 159.90282355, 168.47870506])],\n",
       "       [array([8.9693193]), array([236.76039271, 241.91419794]),\n",
       "        array([362.48966307, 167.18060993, 175.75649144])],\n",
       "       [array([13.61598597]), array([241.6292816 , 246.78308683]),\n",
       "        array([367.37854883, 172.06949569, 180.6453772 ])]], dtype=object)"
      ]
     },
     "execution_count": 330,
     "metadata": {},
     "output_type": "execute_result"
    }
   ],
   "source": [
    "X_dist"
   ]
  },
  {
   "cell_type": "code",
   "execution_count": 331,
   "metadata": {},
   "outputs": [
    {
     "data": {
      "text/plain": [
       "array([array([-129.99699459]), array([-11.95523861,  -6.80143339]),\n",
       "       array([117.41017285, -77.89888028, -69.32299878])], dtype=object)"
      ]
     },
     "execution_count": 331,
     "metadata": {},
     "output_type": "execute_result"
    }
   ],
   "source": [
    "np.mean(X_dist[y == 0], axis=0)"
   ]
  },
  {
   "cell_type": "code",
   "execution_count": 332,
   "metadata": {},
   "outputs": [
    {
     "data": {
      "text/plain": [
       "array([array([15.07447843]), array([315.13163881, 320.28544404]),\n",
       "       array([443.89784109, 248.58878795, 257.16466946])], dtype=object)"
      ]
     },
     "execution_count": 332,
     "metadata": {},
     "output_type": "execute_result"
    }
   ],
   "source": [
    "np.mean(X_dist[y == 1], axis=0)"
   ]
  },
  {
   "cell_type": "code",
   "execution_count": null,
   "metadata": {},
   "outputs": [],
   "source": []
  }
 ],
 "metadata": {
  "hide_input": false,
  "kernelspec": {
   "display_name": "Python 3",
   "language": "python",
   "name": "python3"
  },
  "language_info": {
   "codemirror_mode": {
    "name": "ipython",
    "version": 3
   },
   "file_extension": ".py",
   "mimetype": "text/x-python",
   "name": "python",
   "nbconvert_exporter": "python",
   "pygments_lexer": "ipython3",
   "version": "3.7.6"
  }
 },
 "nbformat": 4,
 "nbformat_minor": 2
}
