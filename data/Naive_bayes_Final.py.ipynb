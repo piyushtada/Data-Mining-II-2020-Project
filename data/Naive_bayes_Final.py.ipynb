{
 "cells": [
  {
   "cell_type": "code",
   "execution_count": 88,
   "metadata": {},
   "outputs": [],
   "source": [
    "# Loading important libraries\n",
    "\n",
    "import pandas as pd\n",
    "import numpy as np\n",
    "import matplotlib.pyplot as plt\n",
    "import scipy\n",
    "from sklearn.model_selection import train_test_split, cross_val_score \n",
    "from sklearn.metrics import accuracy_score, f1_score, classification_report\n",
    "from sklearn.metrics import roc_curve, auc, roc_auc_score\n"
   ]
  },
  {
   "cell_type": "code",
   "execution_count": 89,
   "metadata": {},
   "outputs": [
    {
     "data": {
      "text/html": [
       "<div>\n",
       "<style scoped>\n",
       "    .dataframe tbody tr th:only-of-type {\n",
       "        vertical-align: middle;\n",
       "    }\n",
       "\n",
       "    .dataframe tbody tr th {\n",
       "        vertical-align: top;\n",
       "    }\n",
       "\n",
       "    .dataframe thead th {\n",
       "        text-align: right;\n",
       "    }\n",
       "</style>\n",
       "<table border=\"1\" class=\"dataframe\">\n",
       "  <thead>\n",
       "    <tr style=\"text-align: right;\">\n",
       "      <th></th>\n",
       "      <th>Temperature</th>\n",
       "      <th>Humidity</th>\n",
       "      <th>Light</th>\n",
       "      <th>CO2</th>\n",
       "      <th>HumidityRatio</th>\n",
       "      <th>Week_day</th>\n",
       "      <th>Occupancy</th>\n",
       "    </tr>\n",
       "  </thead>\n",
       "  <tbody>\n",
       "    <tr>\n",
       "      <td>0</td>\n",
       "      <td>2.518470</td>\n",
       "      <td>0.278526</td>\n",
       "      <td>1.573763</td>\n",
       "      <td>0.364948</td>\n",
       "      <td>1.091757</td>\n",
       "      <td>1</td>\n",
       "      <td>1</td>\n",
       "    </tr>\n",
       "    <tr>\n",
       "      <td>1</td>\n",
       "      <td>2.488967</td>\n",
       "      <td>0.277713</td>\n",
       "      <td>1.591735</td>\n",
       "      <td>0.341881</td>\n",
       "      <td>1.080555</td>\n",
       "      <td>1</td>\n",
       "      <td>1</td>\n",
       "    </tr>\n",
       "    <tr>\n",
       "      <td>2</td>\n",
       "      <td>2.488967</td>\n",
       "      <td>0.273645</td>\n",
       "      <td>1.573763</td>\n",
       "      <td>0.340290</td>\n",
       "      <td>1.075889</td>\n",
       "      <td>1</td>\n",
       "      <td>1</td>\n",
       "    </tr>\n",
       "    <tr>\n",
       "      <td>3</td>\n",
       "      <td>2.488967</td>\n",
       "      <td>0.265508</td>\n",
       "      <td>1.573763</td>\n",
       "      <td>0.323587</td>\n",
       "      <td>1.066555</td>\n",
       "      <td>1</td>\n",
       "      <td>1</td>\n",
       "    </tr>\n",
       "    <tr>\n",
       "      <td>4</td>\n",
       "      <td>2.439796</td>\n",
       "      <td>0.265508</td>\n",
       "      <td>1.573763</td>\n",
       "      <td>0.311655</td>\n",
       "      <td>1.049523</td>\n",
       "      <td>1</td>\n",
       "      <td>1</td>\n",
       "    </tr>\n",
       "  </tbody>\n",
       "</table>\n",
       "</div>"
      ],
      "text/plain": [
       "   Temperature  Humidity     Light       CO2  HumidityRatio  Week_day  \\\n",
       "0     2.518470  0.278526  1.573763  0.364948       1.091757         1   \n",
       "1     2.488967  0.277713  1.591735  0.341881       1.080555         1   \n",
       "2     2.488967  0.273645  1.573763  0.340290       1.075889         1   \n",
       "3     2.488967  0.265508  1.573763  0.323587       1.066555         1   \n",
       "4     2.439796  0.265508  1.573763  0.311655       1.049523         1   \n",
       "\n",
       "   Occupancy  \n",
       "0          1  \n",
       "1          1  \n",
       "2          1  \n",
       "3          1  \n",
       "4          1  "
      ]
     },
     "execution_count": 89,
     "metadata": {},
     "output_type": "execute_result"
    }
   ],
   "source": [
    "#loading training dataset \n",
    "df = pd.read_csv('scaled_datatrainingcopy.csv')\n",
    "df.head()"
   ]
  },
  {
   "cell_type": "code",
   "execution_count": 90,
   "metadata": {},
   "outputs": [
    {
     "data": {
      "text/html": [
       "<div>\n",
       "<style scoped>\n",
       "    .dataframe tbody tr th:only-of-type {\n",
       "        vertical-align: middle;\n",
       "    }\n",
       "\n",
       "    .dataframe tbody tr th {\n",
       "        vertical-align: top;\n",
       "    }\n",
       "\n",
       "    .dataframe thead th {\n",
       "        text-align: right;\n",
       "    }\n",
       "</style>\n",
       "<table border=\"1\" class=\"dataframe\">\n",
       "  <thead>\n",
       "    <tr style=\"text-align: right;\">\n",
       "      <th></th>\n",
       "      <th>Temperature</th>\n",
       "      <th>Humidity</th>\n",
       "      <th>Light</th>\n",
       "      <th>CO2</th>\n",
       "      <th>HumidityRatio</th>\n",
       "      <th>Week_day</th>\n",
       "      <th>Occupancy</th>\n",
       "    </tr>\n",
       "  </thead>\n",
       "  <tbody>\n",
       "    <tr>\n",
       "      <td>0</td>\n",
       "      <td>2.204762</td>\n",
       "      <td>0.376814</td>\n",
       "      <td>1.566862</td>\n",
       "      <td>0.106940</td>\n",
       "      <td>1.207540</td>\n",
       "      <td>1</td>\n",
       "      <td>1</td>\n",
       "    </tr>\n",
       "    <tr>\n",
       "      <td>1</td>\n",
       "      <td>2.222275</td>\n",
       "      <td>0.384202</td>\n",
       "      <td>1.539680</td>\n",
       "      <td>0.145214</td>\n",
       "      <td>1.221461</td>\n",
       "      <td>1</td>\n",
       "      <td>1</td>\n",
       "    </tr>\n",
       "    <tr>\n",
       "      <td>2</td>\n",
       "      <td>2.233950</td>\n",
       "      <td>0.359575</td>\n",
       "      <td>1.516762</td>\n",
       "      <td>0.176881</td>\n",
       "      <td>1.209162</td>\n",
       "      <td>1</td>\n",
       "      <td>1</td>\n",
       "    </tr>\n",
       "    <tr>\n",
       "      <td>3</td>\n",
       "      <td>2.226653</td>\n",
       "      <td>0.316478</td>\n",
       "      <td>1.201302</td>\n",
       "      <td>0.194253</td>\n",
       "      <td>1.174139</td>\n",
       "      <td>1</td>\n",
       "      <td>1</td>\n",
       "    </tr>\n",
       "    <tr>\n",
       "      <td>4</td>\n",
       "      <td>2.257300</td>\n",
       "      <td>0.347262</td>\n",
       "      <td>1.180715</td>\n",
       "      <td>0.208776</td>\n",
       "      <td>1.211522</td>\n",
       "      <td>1</td>\n",
       "      <td>1</td>\n",
       "    </tr>\n",
       "  </tbody>\n",
       "</table>\n",
       "</div>"
      ],
      "text/plain": [
       "   Temperature  Humidity     Light       CO2  HumidityRatio  Week_day  \\\n",
       "0     2.204762  0.376814  1.566862  0.106940       1.207540         1   \n",
       "1     2.222275  0.384202  1.539680  0.145214       1.221461         1   \n",
       "2     2.233950  0.359575  1.516762  0.176881       1.209162         1   \n",
       "3     2.226653  0.316478  1.201302  0.194253       1.174139         1   \n",
       "4     2.257300  0.347262  1.180715  0.208776       1.211522         1   \n",
       "\n",
       "   Occupancy  \n",
       "0          1  \n",
       "1          1  \n",
       "2          1  \n",
       "3          1  \n",
       "4          1  "
      ]
     },
     "execution_count": 90,
     "metadata": {},
     "output_type": "execute_result"
    }
   ],
   "source": [
    "#loading datatest 1\n",
    "df_test1 = pd.read_csv('scaled_datatestcopy.csv')\n",
    "df_test1.head()"
   ]
  },
  {
   "cell_type": "code",
   "execution_count": 91,
   "metadata": {},
   "outputs": [
    {
     "data": {
      "text/html": [
       "<div>\n",
       "<style scoped>\n",
       "    .dataframe tbody tr th:only-of-type {\n",
       "        vertical-align: middle;\n",
       "    }\n",
       "\n",
       "    .dataframe tbody tr th {\n",
       "        vertical-align: top;\n",
       "    }\n",
       "\n",
       "    .dataframe thead th {\n",
       "        text-align: right;\n",
       "    }\n",
       "</style>\n",
       "<table border=\"1\" class=\"dataframe\">\n",
       "  <thead>\n",
       "    <tr style=\"text-align: right;\">\n",
       "      <th></th>\n",
       "      <th>Temperature</th>\n",
       "      <th>Humidity</th>\n",
       "      <th>Light</th>\n",
       "      <th>CO2</th>\n",
       "      <th>HumidityRatio</th>\n",
       "      <th>Week_day</th>\n",
       "      <th>Occupancy</th>\n",
       "    </tr>\n",
       "  </thead>\n",
       "  <tbody>\n",
       "    <tr>\n",
       "      <td>0</td>\n",
       "      <td>0.742897</td>\n",
       "      <td>0.314074</td>\n",
       "      <td>1.509363</td>\n",
       "      <td>0.930527</td>\n",
       "      <td>0.814063</td>\n",
       "      <td>1</td>\n",
       "      <td>1</td>\n",
       "    </tr>\n",
       "    <tr>\n",
       "      <td>1</td>\n",
       "      <td>0.772291</td>\n",
       "      <td>0.280342</td>\n",
       "      <td>1.509363</td>\n",
       "      <td>0.830667</td>\n",
       "      <td>0.790653</td>\n",
       "      <td>1</td>\n",
       "      <td>1</td>\n",
       "    </tr>\n",
       "    <tr>\n",
       "      <td>2</td>\n",
       "      <td>0.750246</td>\n",
       "      <td>0.311334</td>\n",
       "      <td>1.493354</td>\n",
       "      <td>0.843289</td>\n",
       "      <td>0.815114</td>\n",
       "      <td>1</td>\n",
       "      <td>1</td>\n",
       "    </tr>\n",
       "    <tr>\n",
       "      <td>3</td>\n",
       "      <td>0.750246</td>\n",
       "      <td>0.311334</td>\n",
       "      <td>1.517368</td>\n",
       "      <td>0.862644</td>\n",
       "      <td>0.815114</td>\n",
       "      <td>1</td>\n",
       "      <td>1</td>\n",
       "    </tr>\n",
       "    <tr>\n",
       "      <td>4</td>\n",
       "      <td>0.772291</td>\n",
       "      <td>0.314074</td>\n",
       "      <td>1.509363</td>\n",
       "      <td>0.849741</td>\n",
       "      <td>0.831554</td>\n",
       "      <td>1</td>\n",
       "      <td>1</td>\n",
       "    </tr>\n",
       "  </tbody>\n",
       "</table>\n",
       "</div>"
      ],
      "text/plain": [
       "   Temperature  Humidity     Light       CO2  HumidityRatio  Week_day  \\\n",
       "0     0.742897  0.314074  1.509363  0.930527       0.814063         1   \n",
       "1     0.772291  0.280342  1.509363  0.830667       0.790653         1   \n",
       "2     0.750246  0.311334  1.493354  0.843289       0.815114         1   \n",
       "3     0.750246  0.311334  1.517368  0.862644       0.815114         1   \n",
       "4     0.772291  0.314074  1.509363  0.849741       0.831554         1   \n",
       "\n",
       "   Occupancy  \n",
       "0          1  \n",
       "1          1  \n",
       "2          1  \n",
       "3          1  \n",
       "4          1  "
      ]
     },
     "execution_count": 91,
     "metadata": {},
     "output_type": "execute_result"
    }
   ],
   "source": [
    "#loading datatest 2\n",
    "df_test2 = pd.read_csv('scaled_datatest2copy.csv')\n",
    "df_test2.head()"
   ]
  },
  {
   "cell_type": "code",
   "execution_count": 92,
   "metadata": {},
   "outputs": [],
   "source": [
    "class_name = \"Occupancy\" #we want to predict"
   ]
  },
  {
   "cell_type": "code",
   "execution_count": 93,
   "metadata": {},
   "outputs": [],
   "source": [
    "attributes = [col for col in df.columns if col != class_name]\n",
    "X = df[attributes].values\n",
    "y = df[class_name]\n",
    "\n",
    "X_train, X_test, y_train, y_test = train_test_split(X, y, test_size=0.3, random_state=100, stratify=y)"
   ]
  },
  {
   "cell_type": "code",
   "execution_count": 94,
   "metadata": {},
   "outputs": [],
   "source": [
    "#preparing test data for model\n",
    "\n",
    "class_name = \"Occupancy\"\n",
    "\n",
    "attributes = [col for col in df.columns if col != class_name]\n",
    "X_test1 = df_test1[attributes].values\n",
    "y_test1 = df_test1[class_name]\n",
    "\n"
   ]
  },
  {
   "cell_type": "code",
   "execution_count": 95,
   "metadata": {},
   "outputs": [],
   "source": [
    "class_name = \"Occupancy\"\n",
    "\n",
    "attributes = [col for col in df.columns if col != class_name]\n",
    "X_test2 = df_test2[attributes].values\n",
    "y_test2 = df_test2[class_name]"
   ]
  },
  {
   "cell_type": "code",
   "execution_count": 108,
   "metadata": {},
   "outputs": [],
   "source": [
    "from sklearn.naive_bayes import GaussianNB #CategoricalNB  "
   ]
  },
  {
   "cell_type": "markdown",
   "metadata": {},
   "source": [
    "MANCA DA FARE CATEGORICAL NB"
   ]
  },
  {
   "cell_type": "code",
   "execution_count": 109,
   "metadata": {},
   "outputs": [
    {
     "data": {
      "text/plain": [
       "GaussianNB(priors=None, var_smoothing=1e-09)"
      ]
     },
     "execution_count": 109,
     "metadata": {},
     "output_type": "execute_result"
    }
   ],
   "source": [
    "clf = GaussianNB()\n",
    "clf.fit(X_train, y_train)"
   ]
  },
  {
   "cell_type": "code",
   "execution_count": 110,
   "metadata": {},
   "outputs": [],
   "source": [
    "y_pred = clf.predict(X_test)"
   ]
  },
  {
   "cell_type": "markdown",
   "metadata": {},
   "source": [
    "# RISULTATI DATATRAINING"
   ]
  },
  {
   "cell_type": "code",
   "execution_count": 111,
   "metadata": {},
   "outputs": [
    {
     "name": "stdout",
     "output_type": "stream",
     "text": [
      "Accuracy 0.9905853458862055\n",
      "F1-score [0.99399007 0.9782814 ]\n",
      "              precision    recall  f1-score   support\n",
      "\n",
      "           0       1.00      0.99      0.99      1924\n",
      "           1       0.96      1.00      0.98       519\n",
      "\n",
      "    accuracy                           0.99      2443\n",
      "   macro avg       0.98      0.99      0.99      2443\n",
      "weighted avg       0.99      0.99      0.99      2443\n",
      "\n"
     ]
    }
   ],
   "source": [
    "print('Accuracy %s' % accuracy_score(y_test, y_pred))\n",
    "print('F1-score %s' % f1_score(y_test, y_pred, average=None))\n",
    "print(classification_report(y_test, y_pred))"
   ]
  },
  {
   "cell_type": "code",
   "execution_count": 100,
   "metadata": {},
   "outputs": [
    {
     "data": {
      "text/plain": [
       "GaussianNB(priors=None, var_smoothing=1e-09)"
      ]
     },
     "execution_count": 100,
     "metadata": {},
     "output_type": "execute_result"
    }
   ],
   "source": [
    "clf = GaussianNB()\n",
    "clf.fit(X_test1, y_test1)"
   ]
  },
  {
   "cell_type": "code",
   "execution_count": 101,
   "metadata": {},
   "outputs": [],
   "source": [
    "y_pred = clf.predict(X_test1)"
   ]
  },
  {
   "cell_type": "markdown",
   "metadata": {},
   "source": [
    "# RISULTATI TESTSET 1"
   ]
  },
  {
   "cell_type": "code",
   "execution_count": 102,
   "metadata": {},
   "outputs": [
    {
     "name": "stdout",
     "output_type": "stream",
     "text": [
      "Accuracy 0.9549718574108818\n",
      "F1-score [0.9634592  0.94134897]\n",
      "              precision    recall  f1-score   support\n",
      "\n",
      "           0       0.99      0.93      0.96      1693\n",
      "           1       0.90      0.99      0.94       972\n",
      "\n",
      "    accuracy                           0.95      2665\n",
      "   macro avg       0.95      0.96      0.95      2665\n",
      "weighted avg       0.96      0.95      0.96      2665\n",
      "\n"
     ]
    }
   ],
   "source": [
    "print('Accuracy %s' % accuracy_score(y_test1, y_pred))\n",
    "print('F1-score %s' % f1_score(y_test1, y_pred, average=None))\n",
    "print(classification_report(y_test1, y_pred))"
   ]
  },
  {
   "cell_type": "code",
   "execution_count": 103,
   "metadata": {},
   "outputs": [
    {
     "data": {
      "text/plain": [
       "GaussianNB(priors=None, var_smoothing=1e-09)"
      ]
     },
     "execution_count": 103,
     "metadata": {},
     "output_type": "execute_result"
    }
   ],
   "source": [
    "clf = GaussianNB()\n",
    "clf.fit(X_test2, y_test2)"
   ]
  },
  {
   "cell_type": "code",
   "execution_count": 104,
   "metadata": {},
   "outputs": [],
   "source": [
    "y_pred = clf.predict(X_test2)"
   ]
  },
  {
   "cell_type": "markdown",
   "metadata": {},
   "source": [
    "# RISULTATI TESTSET 2"
   ]
  },
  {
   "cell_type": "code",
   "execution_count": 106,
   "metadata": {},
   "outputs": [
    {
     "name": "stdout",
     "output_type": "stream",
     "text": [
      "Accuracy 0.9360131255127153\n",
      "F1-score [0.95779221 0.86779661]\n",
      "              precision    recall  f1-score   support\n",
      "\n",
      "           0       1.00      0.92      0.96      7703\n",
      "           1       0.77      1.00      0.87      2049\n",
      "\n",
      "    accuracy                           0.94      9752\n",
      "   macro avg       0.88      0.96      0.91      9752\n",
      "weighted avg       0.95      0.94      0.94      9752\n",
      "\n"
     ]
    }
   ],
   "source": [
    "print('Accuracy %s' % accuracy_score(y_test2, y_pred))\n",
    "print('F1-score %s' % f1_score(y_test2, y_pred, average=None))\n",
    "print(classification_report(y_test2, y_pred))"
   ]
  },
  {
   "cell_type": "code",
   "execution_count": null,
   "metadata": {},
   "outputs": [],
   "source": []
  },
  {
   "cell_type": "markdown",
   "metadata": {},
   "source": [
    "# AS MODEL I HAVE PROBLEMS WITH #CategoricalNB  "
   ]
  },
  {
   "cell_type": "code",
   "execution_count": null,
   "metadata": {},
   "outputs": [],
   "source": []
  }
 ],
 "metadata": {
  "kernelspec": {
   "display_name": "Python 3",
   "language": "python",
   "name": "python3"
  },
  "language_info": {
   "codemirror_mode": {
    "name": "ipython",
    "version": 3
   },
   "file_extension": ".py",
   "mimetype": "text/x-python",
   "name": "python",
   "nbconvert_exporter": "python",
   "pygments_lexer": "ipython3",
   "version": "3.7.4"
  }
 },
 "nbformat": 4,
 "nbformat_minor": 2
}
