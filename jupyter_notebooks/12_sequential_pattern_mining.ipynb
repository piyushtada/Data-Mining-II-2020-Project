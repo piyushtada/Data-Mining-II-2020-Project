{
 "cells": [
  {
   "cell_type": "markdown",
   "metadata": {},
   "source": [
    "**Author:** [Riccardo Guidotti](http://kdd.isti.cnr.it/people/riccardo-guidotti)  \n",
    "**Python version:**  3.x"
   ]
  },
  {
   "cell_type": "code",
   "execution_count": 2,
   "metadata": {},
   "outputs": [],
   "source": [
    "%matplotlib inline\n",
    "\n",
    "import numpy as np\n",
    "import pandas as pd\n",
    "import matplotlib.pyplot as plt\n",
    "\n",
    "from collections import defaultdict"
   ]
  },
  {
   "cell_type": "markdown",
   "metadata": {},
   "source": [
    "# Data Preparation"
   ]
  },
  {
   "cell_type": "code",
   "execution_count": 3,
   "metadata": {},
   "outputs": [
    {
     "data": {
      "text/html": [
       "<div>\n",
       "<style scoped>\n",
       "    .dataframe tbody tr th:only-of-type {\n",
       "        vertical-align: middle;\n",
       "    }\n",
       "\n",
       "    .dataframe tbody tr th {\n",
       "        vertical-align: top;\n",
       "    }\n",
       "\n",
       "    .dataframe thead th {\n",
       "        text-align: right;\n",
       "    }\n",
       "</style>\n",
       "<table border=\"1\" class=\"dataframe\">\n",
       "  <thead>\n",
       "    <tr style=\"text-align: right;\">\n",
       "      <th></th>\n",
       "      <th>#Passengers</th>\n",
       "    </tr>\n",
       "    <tr>\n",
       "      <th>Month</th>\n",
       "      <th></th>\n",
       "    </tr>\n",
       "  </thead>\n",
       "  <tbody>\n",
       "    <tr>\n",
       "      <td>1949-01-01</td>\n",
       "      <td>112</td>\n",
       "    </tr>\n",
       "    <tr>\n",
       "      <td>1949-02-01</td>\n",
       "      <td>118</td>\n",
       "    </tr>\n",
       "    <tr>\n",
       "      <td>1949-03-01</td>\n",
       "      <td>132</td>\n",
       "    </tr>\n",
       "    <tr>\n",
       "      <td>1949-04-01</td>\n",
       "      <td>129</td>\n",
       "    </tr>\n",
       "    <tr>\n",
       "      <td>1949-05-01</td>\n",
       "      <td>121</td>\n",
       "    </tr>\n",
       "  </tbody>\n",
       "</table>\n",
       "</div>"
      ],
      "text/plain": [
       "            #Passengers\n",
       "Month                  \n",
       "1949-01-01          112\n",
       "1949-02-01          118\n",
       "1949-03-01          132\n",
       "1949-04-01          129\n",
       "1949-05-01          121"
      ]
     },
     "execution_count": 3,
     "metadata": {},
     "output_type": "execute_result"
    }
   ],
   "source": [
    "dateparse = lambda dates: pd.datetime.strptime(dates, '%Y-%m')\n",
    "df = pd.read_csv('AirPassengers.csv', parse_dates=True, index_col='Month', date_parser=dateparse)\n",
    "df.head()"
   ]
  },
  {
   "cell_type": "code",
   "execution_count": 4,
   "metadata": {},
   "outputs": [
    {
     "name": "stderr",
     "output_type": "stream",
     "text": [
      "/Users/riccardo/opt/anaconda3/lib/python3.7/site-packages/pandas/plotting/_matplotlib/converter.py:103: FutureWarning: Using an implicitly registered datetime converter for a matplotlib plotting method. The converter was registered by pandas on import. Future versions of pandas will require you to explicitly register matplotlib converters.\n",
      "\n",
      "To register the converters:\n",
      "\t>>> from pandas.plotting import register_matplotlib_converters\n",
      "\t>>> register_matplotlib_converters()\n",
      "  warnings.warn(msg, FutureWarning)\n"
     ]
    },
    {
     "data": {
      "image/png": "[encoded data removed]",
      "text/plain": [
       "<Figure size 432x288 with 1 Axes>"
      ]
     },
     "metadata": {
      "needs_background": "light"
     },
     "output_type": "display_data"
    }
   ],
   "source": [
    "ts = df['#Passengers']\n",
    "plt.plot(ts)\n",
    "plt.show()"
   ]
  },
  {
   "cell_type": "code",
   "execution_count": 5,
   "metadata": {},
   "outputs": [
    {
     "data": {
      "text/plain": [
       "array([112, 118, 132, 129, 121, 135, 148, 148, 136, 119, 104, 118, 115,\n",
       "       126, 141, 135, 125, 149, 170, 170, 158, 133, 114, 140, 145, 150,\n",
       "       178, 163, 172, 178, 199, 199, 184, 162, 146, 166, 171, 180, 193,\n",
       "       181, 183, 218, 230, 242, 209, 191, 172, 194, 196, 196, 236, 235,\n",
       "       229, 243, 264, 272, 237, 211, 180, 201, 204, 188, 235, 227, 234,\n",
       "       264, 302, 293, 259, 229, 203, 229, 242, 233, 267, 269, 270, 315,\n",
       "       364, 347, 312, 274, 237, 278, 284, 277, 317, 313, 318, 374, 413,\n",
       "       405, 355, 306, 271, 306, 315, 301, 356, 348, 355, 422, 465, 467,\n",
       "       404, 347, 305, 336, 340, 318, 362, 348, 363, 435, 491, 505, 404,\n",
       "       359, 310, 337, 360, 342, 406, 396, 420, 472, 548, 559, 463, 407,\n",
       "       362, 405, 417, 391, 419, 461, 472, 535, 622, 606, 508, 461, 390,\n",
       "       432])"
      ]
     },
     "execution_count": 5,
     "metadata": {},
     "output_type": "execute_result"
    }
   ],
   "source": [
    "ts = ts.values\n",
    "ts"
   ]
  },
  {
   "cell_type": "code",
   "execution_count": 6,
   "metadata": {},
   "outputs": [],
   "source": [
    "from tslearn.preprocessing import TimeSeriesScalerMeanVariance\n",
    "from tslearn.piecewise import SymbolicAggregateApproximation"
   ]
  },
  {
   "cell_type": "code",
   "execution_count": 7,
   "metadata": {},
   "outputs": [],
   "source": [
    "scaler = TimeSeriesScalerMeanVariance(mu=0., std=1.)  # Rescale time series\n",
    "ts = scaler.fit_transform(ts)"
   ]
  },
  {
   "cell_type": "code",
   "execution_count": 8,
   "metadata": {},
   "outputs": [],
   "source": [
    "# SAX transform\n",
    "n_paa_segments = 20\n",
    "n_sax_symbols = 10\n",
    "sax = SymbolicAggregateApproximation(n_segments=n_paa_segments, alphabet_size_avg=n_sax_symbols)\n",
    "ts_sax = sax.fit_transform(ts)\n",
    "sax_ts_inv = sax.inverse_transform(ts_sax)"
   ]
  },
  {
   "cell_type": "code",
   "execution_count": 9,
   "metadata": {},
   "outputs": [
    {
     "data": {
      "text/plain": [
       "array([-1.03643339, -1.03643339, -1.03643339, -1.03643339, -1.03643339,\n",
       "       -1.03643339, -1.03643339, -1.64485363, -1.64485363, -1.64485363,\n",
       "       -1.64485363, -1.64485363, -1.64485363, -1.64485363, -1.03643339,\n",
       "       -1.03643339, -1.03643339, -1.03643339, -1.03643339, -1.03643339,\n",
       "       -1.03643339, -1.03643339, -1.03643339, -1.03643339, -1.03643339,\n",
       "       -1.03643339, -1.03643339, -1.03643339, -1.03643339, -1.03643339,\n",
       "       -1.03643339, -1.03643339, -1.03643339, -1.03643339, -1.03643339,\n",
       "       -0.67448975, -0.67448975, -0.67448975, -0.67448975, -0.67448975,\n",
       "       -0.67448975, -0.67448975, -0.67448975, -0.67448975, -0.67448975,\n",
       "       -0.67448975, -0.67448975, -0.67448975, -0.67448975, -0.38532047,\n",
       "       -0.38532047, -0.38532047, -0.38532047, -0.38532047, -0.38532047,\n",
       "       -0.38532047, -0.67448975, -0.67448975, -0.67448975, -0.67448975,\n",
       "       -0.67448975, -0.67448975, -0.67448975, -0.12566135, -0.12566135,\n",
       "       -0.12566135, -0.12566135, -0.12566135, -0.12566135, -0.12566135,\n",
       "       -0.38532047, -0.38532047, -0.38532047, -0.38532047, -0.38532047,\n",
       "       -0.38532047, -0.38532047,  0.12566135,  0.12566135,  0.12566135,\n",
       "        0.12566135,  0.12566135,  0.12566135,  0.12566135,  0.38532047,\n",
       "        0.38532047,  0.38532047,  0.38532047,  0.38532047,  0.38532047,\n",
       "        0.38532047,  0.38532047,  0.38532047,  0.38532047,  0.38532047,\n",
       "        0.38532047,  0.38532047,  0.38532047,  1.03643339,  1.03643339,\n",
       "        1.03643339,  1.03643339,  1.03643339,  1.03643339,  1.03643339,\n",
       "        0.38532047,  0.38532047,  0.38532047,  0.38532047,  0.38532047,\n",
       "        0.38532047,  0.38532047,  1.03643339,  1.03643339,  1.03643339,\n",
       "        1.03643339,  1.03643339,  1.03643339,  1.03643339,  1.03643339,\n",
       "        1.03643339,  1.03643339,  1.03643339,  1.03643339,  1.03643339,\n",
       "        1.03643339,  1.64485363,  1.64485363,  1.64485363,  1.64485363,\n",
       "        1.64485363,  1.64485363,  1.64485363,  1.64485363,  1.64485363,\n",
       "        1.64485363,  1.64485363,  1.64485363,  1.64485363,  1.64485363,\n",
       "        0.        ,  0.        ,  0.        ,  0.        ])"
      ]
     },
     "execution_count": 9,
     "metadata": {},
     "output_type": "execute_result"
    }
   ],
   "source": [
    "sax_ts_inv.ravel()"
   ]
  },
  {
   "cell_type": "code",
   "execution_count": 10,
   "metadata": {},
   "outputs": [
    {
     "data": {
      "image/png": "[encoded data removed]",
      "text/plain": [
       "<Figure size 432x288 with 1 Axes>"
      ]
     },
     "metadata": {
      "needs_background": "light"
     },
     "output_type": "display_data"
    }
   ],
   "source": [
    "plt.plot(sax_ts_inv.ravel())\n",
    "plt.show()"
   ]
  },
  {
   "cell_type": "code",
   "execution_count": 11,
   "metadata": {},
   "outputs": [
    {
     "data": {
      "text/plain": [
       "{-1.6448536269514729: 0,\n",
       " -1.0364333894937898: 1,\n",
       " -0.6744897501960817: 2,\n",
       " -0.38532046640756773: 3,\n",
       " -0.12566134685507402: 4,\n",
       " 0.0: 5,\n",
       " 0.12566134685507416: 6,\n",
       " 0.38532046640756773: 7,\n",
       " 1.0364333894937898: 8,\n",
       " 1.6448536269514722: 9}"
      ]
     },
     "execution_count": 11,
     "metadata": {},
     "output_type": "execute_result"
    }
   ],
   "source": [
    "map_symbols = {k: v for v, k in enumerate(np.unique(sax_ts_inv.ravel()))}\n",
    "map_symbols"
   ]
  },
  {
   "cell_type": "code",
   "execution_count": 12,
   "metadata": {},
   "outputs": [],
   "source": [
    "seq = np.array([map_symbols[v] for v in sax_ts_inv.ravel()])"
   ]
  },
  {
   "cell_type": "code",
   "execution_count": 13,
   "metadata": {},
   "outputs": [
    {
     "data": {
      "text/plain": [
       "array([1, 1, 1, 1, 1, 1, 1, 0, 0, 0, 0, 0, 0, 0, 1, 1, 1, 1, 1, 1, 1, 1,\n",
       "       1, 1, 1, 1, 1, 1, 1, 1, 1, 1, 1, 1, 1, 2, 2, 2, 2, 2, 2, 2, 2, 2,\n",
       "       2, 2, 2, 2, 2, 3, 3, 3, 3, 3, 3, 3, 2, 2, 2, 2, 2, 2, 2, 4, 4, 4,\n",
       "       4, 4, 4, 4, 3, 3, 3, 3, 3, 3, 3, 6, 6, 6, 6, 6, 6, 6, 7, 7, 7, 7,\n",
       "       7, 7, 7, 7, 7, 7, 7, 7, 7, 7, 8, 8, 8, 8, 8, 8, 8, 7, 7, 7, 7, 7,\n",
       "       7, 7, 8, 8, 8, 8, 8, 8, 8, 8, 8, 8, 8, 8, 8, 8, 9, 9, 9, 9, 9, 9,\n",
       "       9, 9, 9, 9, 9, 9, 9, 9, 5, 5, 5, 5])"
      ]
     },
     "execution_count": 13,
     "metadata": {},
     "output_type": "execute_result"
    }
   ],
   "source": [
    "seq"
   ]
  },
  {
   "cell_type": "code",
   "execution_count": 14,
   "metadata": {},
   "outputs": [],
   "source": [
    "from tslearn.generators import random_walks"
   ]
  },
  {
   "cell_type": "code",
   "execution_count": 15,
   "metadata": {},
   "outputs": [],
   "source": [
    "X = random_walks(n_ts=100, sz=128, d=1)"
   ]
  },
  {
   "cell_type": "code",
   "execution_count": 16,
   "metadata": {},
   "outputs": [],
   "source": [
    "X = scaler.fit_transform(X)"
   ]
  },
  {
   "cell_type": "code",
   "execution_count": 17,
   "metadata": {},
   "outputs": [],
   "source": [
    "X_sax = sax.transform(X)\n",
    "sax_X_inv = sax.inverse_transform(X_sax)"
   ]
  },
  {
   "cell_type": "code",
   "execution_count": 18,
   "metadata": {},
   "outputs": [],
   "source": [
    "X_seq = list()\n",
    "for x in sax_X_inv:\n",
    "    X_seq.append([map_symbols.get(v, -1) for v in x.ravel()])"
   ]
  },
  {
   "cell_type": "code",
   "execution_count": 19,
   "metadata": {},
   "outputs": [
    {
     "data": {
      "text/plain": [
       "[-1, -1, -1, -1, -1]"
      ]
     },
     "execution_count": 19,
     "metadata": {},
     "output_type": "execute_result"
    }
   ],
   "source": [
    "X_seq[0][:5]"
   ]
  },
  {
   "cell_type": "code",
   "execution_count": 20,
   "metadata": {},
   "outputs": [
    {
     "data": {
      "text/plain": [
       "[-1,\n",
       " -1,\n",
       " -1,\n",
       " -1,\n",
       " -1,\n",
       " -1,\n",
       " -1,\n",
       " 8,\n",
       " 8,\n",
       " 8,\n",
       " 8,\n",
       " 8,\n",
       " 8,\n",
       " 8,\n",
       " 9,\n",
       " 9,\n",
       " 9,\n",
       " 9,\n",
       " 9,\n",
       " 9,\n",
       " 9,\n",
       " 9,\n",
       " 9,\n",
       " 9,\n",
       " 9,\n",
       " 9,\n",
       " 9,\n",
       " 9,\n",
       " 8,\n",
       " 8,\n",
       " 8,\n",
       " 8,\n",
       " 8,\n",
       " 8,\n",
       " 8,\n",
       " 8,\n",
       " 8,\n",
       " 8,\n",
       " 8,\n",
       " 8,\n",
       " 8,\n",
       " 8,\n",
       " -1,\n",
       " -1,\n",
       " -1,\n",
       " -1,\n",
       " -1,\n",
       " -1,\n",
       " -1,\n",
       " -1,\n",
       " -1,\n",
       " -1,\n",
       " -1,\n",
       " -1,\n",
       " -1,\n",
       " -1,\n",
       " 7,\n",
       " 7,\n",
       " 7,\n",
       " 7,\n",
       " 7,\n",
       " 7,\n",
       " 7,\n",
       " -1,\n",
       " -1,\n",
       " -1,\n",
       " -1,\n",
       " -1,\n",
       " -1,\n",
       " -1,\n",
       " 7,\n",
       " 7,\n",
       " 7,\n",
       " 7,\n",
       " 7,\n",
       " 7,\n",
       " 7,\n",
       " 7,\n",
       " 7,\n",
       " 7,\n",
       " 7,\n",
       " 7,\n",
       " 7,\n",
       " 7,\n",
       " 4,\n",
       " 4,\n",
       " 4,\n",
       " 4,\n",
       " 4,\n",
       " 4,\n",
       " 4,\n",
       " 3,\n",
       " 3,\n",
       " 3,\n",
       " 3,\n",
       " 3,\n",
       " 3,\n",
       " 3,\n",
       " 3,\n",
       " 3,\n",
       " 3,\n",
       " 3,\n",
       " 3,\n",
       " 3,\n",
       " 3,\n",
       " 1,\n",
       " 1,\n",
       " 1,\n",
       " 1,\n",
       " 1,\n",
       " 1,\n",
       " 1,\n",
       " 0,\n",
       " 0,\n",
       " 0,\n",
       " 0,\n",
       " 0,\n",
       " 0,\n",
       " 0,\n",
       " 0,\n",
       " 0,\n",
       " 0,\n",
       " 0,\n",
       " 0,\n",
       " 0,\n",
       " 0,\n",
       " 0,\n",
       " 0,\n",
       " 0,\n",
       " 0,\n",
       " 0,\n",
       " 0,\n",
       " 0,\n",
       " 1,\n",
       " 1,\n",
       " 1,\n",
       " 1,\n",
       " 1,\n",
       " 1,\n",
       " 1,\n",
       " 5,\n",
       " 5,\n",
       " 5,\n",
       " 5]"
      ]
     },
     "execution_count": 20,
     "metadata": {},
     "output_type": "execute_result"
    }
   ],
   "source": [
    "X_seq[0]"
   ]
  },
  {
   "cell_type": "markdown",
   "metadata": {},
   "source": [
    "# Sequential Pattern Mining"
   ]
  },
  {
   "cell_type": "code",
   "execution_count": 21,
   "metadata": {},
   "outputs": [],
   "source": [
    "from prefixspan import PrefixSpan"
   ]
  },
  {
   "cell_type": "markdown",
   "metadata": {},
   "source": [
    "https://github.com/chuanconggao/PrefixSpan-py\n",
    "    \n",
    "https://pypi.org/project/prefixspan/"
   ]
  },
  {
   "cell_type": "code",
   "execution_count": 22,
   "metadata": {},
   "outputs": [],
   "source": [
    "db = [\n",
    "    [0, 1, 2, 3, 4],\n",
    "    [1, 1, 1, 3, 4],\n",
    "    [2, 1, 2, 2, 0],\n",
    "    [1, 1, 1, 2, 2],\n",
    "]\n",
    "\n",
    "ps = PrefixSpan(db)"
   ]
  },
  {
   "cell_type": "code",
   "execution_count": 23,
   "metadata": {},
   "outputs": [
    {
     "data": {
      "text/plain": [
       "[(4, [1]), (3, [1, 2]), (3, [2])]"
      ]
     },
     "execution_count": 23,
     "metadata": {},
     "output_type": "execute_result"
    }
   ],
   "source": [
    "ps.frequent(3)"
   ]
  },
  {
   "cell_type": "code",
   "execution_count": 33,
   "metadata": {},
   "outputs": [],
   "source": [
    "db = [\n",
    "    [(0, 1), (1, 2), (3, 4), (1)],\n",
    "    [(1, 1), (1, 3, 4)],\n",
    "    [(2), (1, 2), (2, 0), (1)],\n",
    "    [(1, 1), (1, 2), (2), (1)],\n",
    "]\n",
    "\n",
    "ps = PrefixSpan(db)"
   ]
  },
  {
   "cell_type": "code",
   "execution_count": 34,
   "metadata": {},
   "outputs": [
    {
     "data": {
      "text/plain": [
       "[(3, [(1, 2)]), (3, [(1, 2), 1]), (3, [1])]"
      ]
     },
     "execution_count": 34,
     "metadata": {},
     "output_type": "execute_result"
    }
   ],
   "source": [
    "ps.frequent(3)"
   ]
  },
  {
   "cell_type": "code",
   "execution_count": 35,
   "metadata": {},
   "outputs": [
    {
     "data": {
      "text/plain": [
       "[(3, [(1, 2), 1])]"
      ]
     },
     "execution_count": 35,
     "metadata": {},
     "output_type": "execute_result"
    }
   ],
   "source": [
    "ps.frequent(3, closed=True)"
   ]
  },
  {
   "cell_type": "code",
   "execution_count": 36,
   "metadata": {},
   "outputs": [],
   "source": [
    "ps = PrefixSpan(X_seq)"
   ]
  },
  {
   "cell_type": "code",
   "execution_count": 37,
   "metadata": {},
   "outputs": [
    {
     "data": {
      "text/plain": [
       "[(97, [1]),\n",
       " (97, [1, 1]),\n",
       " (97, [1, 1, 1]),\n",
       " (97, [1, 1, 1, 1]),\n",
       " (97, [1, 1, 1, 1, 1]),\n",
       " (97, [1, 1, 1, 1, 1, 1]),\n",
       " (97, [1, 1, 1, 1, 1, 1, 1]),\n",
       " (97, [1, 1, 1, 1, 1, 1, 1, 5]),\n",
       " (97, [1, 1, 1, 1, 1, 1, 1, 5, 5]),\n",
       " (97, [1, 1, 1, 1, 1, 1, 1, 5, 5, 5]),\n",
       " (97, [1, 1, 1, 1, 1, 1, 1, 5, 5, 5, 5]),\n",
       " (97, [1, 1, 1, 1, 1, 1, 5]),\n",
       " (97, [1, 1, 1, 1, 1, 1, 5, 5]),\n",
       " (97, [1, 1, 1, 1, 1, 1, 5, 5, 5]),\n",
       " (97, [1, 1, 1, 1, 1, 1, 5, 5, 5, 5]),\n",
       " (97, [1, 1, 1, 1, 1, 5]),\n",
       " (97, [1, 1, 1, 1, 1, 5, 5]),\n",
       " (97, [1, 1, 1, 1, 1, 5, 5, 5]),\n",
       " (97, [1, 1, 1, 1, 1, 5, 5, 5, 5]),\n",
       " (97, [1, 1, 1, 1, 5]),\n",
       " (97, [1, 1, 1, 1, 5, 5]),\n",
       " (97, [1, 1, 1, 1, 5, 5, 5]),\n",
       " (97, [1, 1, 1, 1, 5, 5, 5, 5]),\n",
       " (97, [1, 1, 1, 5]),\n",
       " (97, [1, 1, 1, 5, 5]),\n",
       " (97, [1, 1, 1, 5, 5, 5]),\n",
       " (97, [1, 1, 1, 5, 5, 5, 5]),\n",
       " (97, [1, 1, 5]),\n",
       " (97, [1, 1, 5, 5]),\n",
       " (97, [1, 1, 5, 5, 5]),\n",
       " (97, [1, 1, 5, 5, 5, 5]),\n",
       " (97, [1, 5]),\n",
       " (97, [1, 5, 5]),\n",
       " (97, [1, 5, 5, 5]),\n",
       " (97, [1, 5, 5, 5, 5]),\n",
       " (100, [5]),\n",
       " (100, [5, 5]),\n",
       " (100, [5, 5, 5]),\n",
       " (100, [5, 5, 5, 5])]"
      ]
     },
     "execution_count": 37,
     "metadata": {},
     "output_type": "execute_result"
    }
   ],
   "source": [
    "ps.frequent(97)"
   ]
  },
  {
   "cell_type": "code",
   "execution_count": 38,
   "metadata": {},
   "outputs": [
    {
     "data": {
      "text/plain": [
       "[(97, [1, 1, 1, 1, 1, 1, 1, 5, 5, 5, 5]), (100, [5, 5, 5, 5])]"
      ]
     },
     "execution_count": 38,
     "metadata": {},
     "output_type": "execute_result"
    }
   ],
   "source": [
    "ps.frequent(97, closed=True)"
   ]
  },
  {
   "cell_type": "code",
   "execution_count": 40,
   "metadata": {},
   "outputs": [
    {
     "data": {
      "text/plain": [
       "[(100, [5]),\n",
       " (100, [5, 5]),\n",
       " (100, [5, 5, 5]),\n",
       " (100, [5, 5, 5, 5]),\n",
       " (97, [1]),\n",
       " (97, [1, 1]),\n",
       " (97, [1, 1, 1]),\n",
       " (97, [1, 1, 1, 1]),\n",
       " (97, [1, 1, 1, 1, 1]),\n",
       " (97, [1, 1, 1, 1, 1, 1])]"
      ]
     },
     "execution_count": 40,
     "metadata": {},
     "output_type": "execute_result"
    }
   ],
   "source": [
    "ps.topk(10)"
   ]
  },
  {
   "cell_type": "code",
   "execution_count": 41,
   "metadata": {},
   "outputs": [
    {
     "data": {
      "text/plain": [
       "[(100, [5, 5, 5, 5]),\n",
       " (97, [1, 1, 1, 1, 1, 1, 1, 5, 5, 5, 5]),\n",
       " (91, [2, 2, 2, 2, 2, 2, 2, 5, 5, 5, 5]),\n",
       " (90, [8, 8, 8, 8, 8, 8, 8, 5, 5, 5, 5]),\n",
       " (87, [-1, -1, -1, -1, -1, -1, -1, 5, 5, 5, 5]),\n",
       " (87, [6, 6, 6, 6, 6, 6, 6, 5, 5, 5, 5]),\n",
       " (87, [9, 9, 9, 9, 9, 9, 9, 5, 5, 5, 5]),\n",
       " (84, [3, 3, 3, 3, 3, 3, 3, 5, 5, 5, 5]),\n",
       " (82, [4, 4, 4, 4, 4, 4, 4, 5, 5, 5, 5]),\n",
       " (80, [7, 7, 7, 7, 7, 7, 7, 5, 5, 5, 5])]"
      ]
     },
     "execution_count": 41,
     "metadata": {},
     "output_type": "execute_result"
    }
   ],
   "source": [
    "ps.topk(10, closed=True)"
   ]
  },
  {
   "cell_type": "code",
   "execution_count": null,
   "metadata": {},
   "outputs": [],
   "source": []
  }
 ],
 "metadata": {
  "hide_input": false,
  "kernelspec": {
   "display_name": "Python 3",
   "language": "python",
   "name": "python3"
  },
  "language_info": {
   "codemirror_mode": {
    "name": "ipython",
    "version": 3
   },
   "file_extension": ".py",
   "mimetype": "text/x-python",
   "name": "python",
   "nbconvert_exporter": "python",
   "pygments_lexer": "ipython3",
   "version": "3.7.7"
  }
 },
 "nbformat": 4,
 "nbformat_minor": 2
}
