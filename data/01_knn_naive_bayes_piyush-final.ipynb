{
 "cells": [
  {
   "cell_type": "code",
<<<<<<< HEAD
   "execution_count": 1,
=======
   "execution_count": 102,
>>>>>>> 8d559951f9401ef4d93d3ca3ca3f2beeef325d96
   "metadata": {},
   "outputs": [],
   "source": [
    "# Loading important libraries\n",
    "\n",
    "import pandas as pd\n",
    "import numpy as np\n",
    "import matplotlib.pyplot as plt"
   ]
  },
  {
   "cell_type": "markdown",
   "metadata": {},
   "source": [
    "# Loading the training data"
   ]
  },
  {
   "cell_type": "code",
<<<<<<< HEAD
   "execution_count": 2,
=======
   "execution_count": 103,
>>>>>>> 8d559951f9401ef4d93d3ca3ca3f2beeef325d96
   "metadata": {},
   "outputs": [
    {
     "data": {
      "text/html": [
       "<div>\n",
       "<style scoped>\n",
       "    .dataframe tbody tr th:only-of-type {\n",
       "        vertical-align: middle;\n",
       "    }\n",
       "\n",
       "    .dataframe tbody tr th {\n",
       "        vertical-align: top;\n",
       "    }\n",
       "\n",
       "    .dataframe thead th {\n",
       "        text-align: right;\n",
       "    }\n",
       "</style>\n",
       "<table border=\"1\" class=\"dataframe\">\n",
       "  <thead>\n",
       "    <tr style=\"text-align: right;\">\n",
       "      <th></th>\n",
       "      <th>Temperature</th>\n",
       "      <th>Humidity</th>\n",
       "      <th>Light</th>\n",
       "      <th>CO2</th>\n",
       "      <th>HumidityRatio</th>\n",
       "      <th>Week_day</th>\n",
       "      <th>Occupancy</th>\n",
       "    </tr>\n",
       "  </thead>\n",
       "  <tbody>\n",
       "    <tr>\n",
       "      <th>0</th>\n",
       "      <td>2.518470</td>\n",
       "      <td>0.278526</td>\n",
       "      <td>1.573763</td>\n",
       "      <td>0.364948</td>\n",
       "      <td>1.091757</td>\n",
       "      <td>1</td>\n",
       "      <td>1</td>\n",
       "    </tr>\n",
       "    <tr>\n",
       "      <th>1</th>\n",
       "      <td>2.488967</td>\n",
       "      <td>0.277713</td>\n",
       "      <td>1.591735</td>\n",
       "      <td>0.341881</td>\n",
       "      <td>1.080555</td>\n",
       "      <td>1</td>\n",
       "      <td>1</td>\n",
       "    </tr>\n",
       "    <tr>\n",
       "      <th>2</th>\n",
       "      <td>2.488967</td>\n",
       "      <td>0.273645</td>\n",
       "      <td>1.573763</td>\n",
       "      <td>0.340290</td>\n",
       "      <td>1.075889</td>\n",
       "      <td>1</td>\n",
       "      <td>1</td>\n",
       "    </tr>\n",
       "    <tr>\n",
       "      <th>3</th>\n",
       "      <td>2.488967</td>\n",
       "      <td>0.265508</td>\n",
       "      <td>1.573763</td>\n",
       "      <td>0.323587</td>\n",
       "      <td>1.066555</td>\n",
       "      <td>1</td>\n",
       "      <td>1</td>\n",
       "    </tr>\n",
       "    <tr>\n",
       "      <th>4</th>\n",
       "      <td>2.439796</td>\n",
       "      <td>0.265508</td>\n",
       "      <td>1.573763</td>\n",
       "      <td>0.311655</td>\n",
       "      <td>1.049523</td>\n",
       "      <td>1</td>\n",
       "      <td>1</td>\n",
       "    </tr>\n",
       "  </tbody>\n",
       "</table>\n",
       "</div>"
      ],
      "text/plain": [
       "   Temperature  Humidity     Light       CO2  HumidityRatio  Week_day  \\\n",
       "0     2.518470  0.278526  1.573763  0.364948       1.091757         1   \n",
       "1     2.488967  0.277713  1.591735  0.341881       1.080555         1   \n",
       "2     2.488967  0.273645  1.573763  0.340290       1.075889         1   \n",
       "3     2.488967  0.265508  1.573763  0.323587       1.066555         1   \n",
       "4     2.439796  0.265508  1.573763  0.311655       1.049523         1   \n",
       "\n",
       "   Occupancy  \n",
       "0          1  \n",
       "1          1  \n",
       "2          1  \n",
       "3          1  \n",
       "4          1  "
      ]
     },
<<<<<<< HEAD
     "execution_count": 2,
=======
     "execution_count": 103,
>>>>>>> 8d559951f9401ef4d93d3ca3ca3f2beeef325d96
     "metadata": {},
     "output_type": "execute_result"
    }
   ],
   "source": [
    "df = pd.read_csv('scaled_datatrainingcopy.csv')\n",
    "df.head()"
   ]
  },
  {
   "cell_type": "markdown",
   "metadata": {},
   "source": [
    "# Loading the two test datasets"
   ]
  },
  {
   "cell_type": "code",
<<<<<<< HEAD
   "execution_count": 3,
=======
   "execution_count": 104,
>>>>>>> 8d559951f9401ef4d93d3ca3ca3f2beeef325d96
   "metadata": {},
   "outputs": [
    {
     "data": {
      "text/html": [
       "<div>\n",
       "<style scoped>\n",
       "    .dataframe tbody tr th:only-of-type {\n",
       "        vertical-align: middle;\n",
       "    }\n",
       "\n",
       "    .dataframe tbody tr th {\n",
       "        vertical-align: top;\n",
       "    }\n",
       "\n",
       "    .dataframe thead th {\n",
       "        text-align: right;\n",
       "    }\n",
       "</style>\n",
       "<table border=\"1\" class=\"dataframe\">\n",
       "  <thead>\n",
       "    <tr style=\"text-align: right;\">\n",
       "      <th></th>\n",
       "      <th>Temperature</th>\n",
       "      <th>Humidity</th>\n",
       "      <th>Light</th>\n",
       "      <th>CO2</th>\n",
       "      <th>HumidityRatio</th>\n",
       "      <th>Week_day</th>\n",
       "      <th>Occupancy</th>\n",
       "    </tr>\n",
       "  </thead>\n",
       "  <tbody>\n",
       "    <tr>\n",
       "      <th>0</th>\n",
       "      <td>2.204762</td>\n",
       "      <td>0.376814</td>\n",
       "      <td>1.566862</td>\n",
       "      <td>0.106940</td>\n",
       "      <td>1.207540</td>\n",
       "      <td>1</td>\n",
       "      <td>1</td>\n",
       "    </tr>\n",
       "    <tr>\n",
       "      <th>1</th>\n",
       "      <td>2.222275</td>\n",
       "      <td>0.384202</td>\n",
       "      <td>1.539680</td>\n",
       "      <td>0.145214</td>\n",
       "      <td>1.221461</td>\n",
       "      <td>1</td>\n",
       "      <td>1</td>\n",
       "    </tr>\n",
       "    <tr>\n",
       "      <th>2</th>\n",
       "      <td>2.233950</td>\n",
       "      <td>0.359575</td>\n",
       "      <td>1.516762</td>\n",
       "      <td>0.176881</td>\n",
       "      <td>1.209162</td>\n",
       "      <td>1</td>\n",
       "      <td>1</td>\n",
       "    </tr>\n",
       "    <tr>\n",
       "      <th>3</th>\n",
       "      <td>2.226653</td>\n",
       "      <td>0.316478</td>\n",
       "      <td>1.201302</td>\n",
       "      <td>0.194253</td>\n",
       "      <td>1.174139</td>\n",
       "      <td>1</td>\n",
       "      <td>1</td>\n",
       "    </tr>\n",
       "    <tr>\n",
       "      <th>4</th>\n",
       "      <td>2.257300</td>\n",
       "      <td>0.347262</td>\n",
       "      <td>1.180715</td>\n",
       "      <td>0.208776</td>\n",
       "      <td>1.211522</td>\n",
       "      <td>1</td>\n",
       "      <td>1</td>\n",
       "    </tr>\n",
       "  </tbody>\n",
       "</table>\n",
       "</div>"
      ],
      "text/plain": [
       "   Temperature  Humidity     Light       CO2  HumidityRatio  Week_day  \\\n",
       "0     2.204762  0.376814  1.566862  0.106940       1.207540         1   \n",
       "1     2.222275  0.384202  1.539680  0.145214       1.221461         1   \n",
       "2     2.233950  0.359575  1.516762  0.176881       1.209162         1   \n",
       "3     2.226653  0.316478  1.201302  0.194253       1.174139         1   \n",
       "4     2.257300  0.347262  1.180715  0.208776       1.211522         1   \n",
       "\n",
       "   Occupancy  \n",
       "0          1  \n",
       "1          1  \n",
       "2          1  \n",
       "3          1  \n",
       "4          1  "
      ]
     },
<<<<<<< HEAD
     "execution_count": 3,
=======
     "execution_count": 104,
>>>>>>> 8d559951f9401ef4d93d3ca3ca3f2beeef325d96
     "metadata": {},
     "output_type": "execute_result"
    }
   ],
   "source": [
    "df_test1 = pd.read_csv('scaled_datatestcopy.csv')\n",
    "df_test1.head()"
   ]
  },
  {
   "cell_type": "code",
<<<<<<< HEAD
   "execution_count": 4,
=======
   "execution_count": 105,
>>>>>>> 8d559951f9401ef4d93d3ca3ca3f2beeef325d96
   "metadata": {},
   "outputs": [
    {
     "data": {
      "text/html": [
       "<div>\n",
       "<style scoped>\n",
       "    .dataframe tbody tr th:only-of-type {\n",
       "        vertical-align: middle;\n",
       "    }\n",
       "\n",
       "    .dataframe tbody tr th {\n",
       "        vertical-align: top;\n",
       "    }\n",
       "\n",
       "    .dataframe thead th {\n",
       "        text-align: right;\n",
       "    }\n",
       "</style>\n",
       "<table border=\"1\" class=\"dataframe\">\n",
       "  <thead>\n",
       "    <tr style=\"text-align: right;\">\n",
       "      <th></th>\n",
       "      <th>Temperature</th>\n",
       "      <th>Humidity</th>\n",
       "      <th>Light</th>\n",
       "      <th>CO2</th>\n",
       "      <th>HumidityRatio</th>\n",
       "      <th>Week_day</th>\n",
       "      <th>Occupancy</th>\n",
       "    </tr>\n",
       "  </thead>\n",
       "  <tbody>\n",
       "    <tr>\n",
       "      <th>0</th>\n",
       "      <td>0.742897</td>\n",
       "      <td>0.314074</td>\n",
       "      <td>1.509363</td>\n",
       "      <td>0.930527</td>\n",
       "      <td>0.814063</td>\n",
       "      <td>1</td>\n",
       "      <td>1</td>\n",
       "    </tr>\n",
       "    <tr>\n",
       "      <th>1</th>\n",
       "      <td>0.772291</td>\n",
       "      <td>0.280342</td>\n",
       "      <td>1.509363</td>\n",
       "      <td>0.830667</td>\n",
       "      <td>0.790653</td>\n",
       "      <td>1</td>\n",
       "      <td>1</td>\n",
       "    </tr>\n",
       "    <tr>\n",
       "      <th>2</th>\n",
       "      <td>0.750246</td>\n",
       "      <td>0.311334</td>\n",
       "      <td>1.493354</td>\n",
       "      <td>0.843289</td>\n",
       "      <td>0.815114</td>\n",
       "      <td>1</td>\n",
       "      <td>1</td>\n",
       "    </tr>\n",
       "    <tr>\n",
       "      <th>3</th>\n",
       "      <td>0.750246</td>\n",
       "      <td>0.311334</td>\n",
       "      <td>1.517368</td>\n",
       "      <td>0.862644</td>\n",
       "      <td>0.815114</td>\n",
       "      <td>1</td>\n",
       "      <td>1</td>\n",
       "    </tr>\n",
       "    <tr>\n",
       "      <th>4</th>\n",
       "      <td>0.772291</td>\n",
       "      <td>0.314074</td>\n",
       "      <td>1.509363</td>\n",
       "      <td>0.849741</td>\n",
       "      <td>0.831554</td>\n",
       "      <td>1</td>\n",
       "      <td>1</td>\n",
       "    </tr>\n",
       "  </tbody>\n",
       "</table>\n",
       "</div>"
      ],
      "text/plain": [
       "   Temperature  Humidity     Light       CO2  HumidityRatio  Week_day  \\\n",
       "0     0.742897  0.314074  1.509363  0.930527       0.814063         1   \n",
       "1     0.772291  0.280342  1.509363  0.830667       0.790653         1   \n",
       "2     0.750246  0.311334  1.493354  0.843289       0.815114         1   \n",
       "3     0.750246  0.311334  1.517368  0.862644       0.815114         1   \n",
       "4     0.772291  0.314074  1.509363  0.849741       0.831554         1   \n",
       "\n",
       "   Occupancy  \n",
       "0          1  \n",
       "1          1  \n",
       "2          1  \n",
       "3          1  \n",
       "4          1  "
      ]
     },
<<<<<<< HEAD
     "execution_count": 4,
=======
     "execution_count": 105,
>>>>>>> 8d559951f9401ef4d93d3ca3ca3f2beeef325d96
     "metadata": {},
     "output_type": "execute_result"
    }
   ],
   "source": [
    "df_test2 = pd.read_csv('scaled_datatest2copy.csv')\n",
    "df_test2.head()"
   ]
  },
  {
   "cell_type": "markdown",
   "metadata": {},
   "source": [
    "## Dividing the training data"
   ]
  },
  {
   "cell_type": "code",
<<<<<<< HEAD
   "execution_count": 5,
=======
   "execution_count": 106,
>>>>>>> 8d559951f9401ef4d93d3ca3ca3f2beeef325d96
   "metadata": {},
   "outputs": [],
   "source": [
    "class_name = \"Occupancy\""
   ]
  },
  {
   "cell_type": "code",
<<<<<<< HEAD
   "execution_count": 6,
=======
   "execution_count": 107,
>>>>>>> 8d559951f9401ef4d93d3ca3ca3f2beeef325d96
   "metadata": {},
   "outputs": [
    {
     "ename": "NameError",
     "evalue": "name 'train_test_split' is not defined",
     "output_type": "error",
     "traceback": [
      "\u001b[0;31m---------------------------------------------------------------------------\u001b[0m",
      "\u001b[0;31mNameError\u001b[0m                                 Traceback (most recent call last)",
      "\u001b[0;32m<ipython-input-6-8a42338e5589>\u001b[0m in \u001b[0;36m<module>\u001b[0;34m\u001b[0m\n\u001b[1;32m      3\u001b[0m \u001b[0my\u001b[0m \u001b[0;34m=\u001b[0m \u001b[0mdf\u001b[0m\u001b[0;34m[\u001b[0m\u001b[0mclass_name\u001b[0m\u001b[0;34m]\u001b[0m\u001b[0;34m\u001b[0m\u001b[0;34m\u001b[0m\u001b[0m\n\u001b[1;32m      4\u001b[0m \u001b[0;34m\u001b[0m\u001b[0m\n\u001b[0;32m----> 5\u001b[0;31m \u001b[0mX_train\u001b[0m\u001b[0;34m,\u001b[0m \u001b[0mX_test\u001b[0m\u001b[0;34m,\u001b[0m \u001b[0my_train\u001b[0m\u001b[0;34m,\u001b[0m \u001b[0my_test\u001b[0m \u001b[0;34m=\u001b[0m \u001b[0mtrain_test_split\u001b[0m\u001b[0;34m(\u001b[0m\u001b[0mX\u001b[0m\u001b[0;34m,\u001b[0m \u001b[0my\u001b[0m\u001b[0;34m,\u001b[0m \u001b[0mtest_size\u001b[0m\u001b[0;34m=\u001b[0m\u001b[0;36m0.3\u001b[0m\u001b[0;34m,\u001b[0m \u001b[0mrandom_state\u001b[0m\u001b[0;34m=\u001b[0m\u001b[0;36m100\u001b[0m\u001b[0;34m,\u001b[0m \u001b[0mstratify\u001b[0m\u001b[0;34m=\u001b[0m\u001b[0my\u001b[0m\u001b[0;34m)\u001b[0m\u001b[0;34m\u001b[0m\u001b[0;34m\u001b[0m\u001b[0m\n\u001b[0m",
      "\u001b[0;31mNameError\u001b[0m: name 'train_test_split' is not defined"
     ]
    }
   ],
   "source": [
    "attributes = [col for col in df.columns if col != class_name]\n",
    "X = df[attributes].values\n",
    "y = df[class_name]\n",
    "\n",
    "X_train, X_test, y_train, y_test = train_test_split(X, y, test_size=0.3, random_state=100, stratify=y)"
   ]
  },
  {
   "cell_type": "markdown",
   "metadata": {},
   "source": [
    "# preparing test data for model"
   ]
  },
  {
   "cell_type": "code",
   "execution_count": 108,
   "metadata": {},
   "outputs": [],
   "source": [
    "class_name = \"Occupancy\"\n",
    "\n",
    "attributes = [col for col in df.columns if col != class_name]\n",
    "X_test1 = df_test1[attributes].values\n",
    "y_test1 = df_test1[class_name]"
   ]
  },
  {
   "cell_type": "code",
   "execution_count": 109,
   "metadata": {},
   "outputs": [],
   "source": [
    "class_name = \"Occupancy\"\n",
    "\n",
    "attributes = [col for col in df.columns if col != class_name]\n",
    "X_test2 = df_test2[attributes].values\n",
    "y_test2 = df_test2[class_name]"
   ]
  },
  {
   "cell_type": "markdown",
   "metadata": {},
   "source": [
    "# copy the above cells in every sheet"
   ]
  },
  {
   "cell_type": "markdown",
   "metadata": {},
   "source": [
    "##### Data Partitioning"
   ]
  },
  {
   "cell_type": "code",
   "execution_count": 110,
   "metadata": {},
   "outputs": [],
   "source": [
    "from sklearn.model_selection import train_test_split, cross_val_score \n",
    "\n",
    "from sklearn.metrics import accuracy_score, f1_score, classification_report\n",
    "from sklearn.metrics import roc_curve, auc, roc_auc_score\n"
   ]
  },
  {
   "cell_type": "markdown",
   "metadata": {},
   "source": [
    "# k Nearest Neighbor n = 5"
   ]
  },
  {
   "cell_type": "code",
   "execution_count": 111,
   "metadata": {},
   "outputs": [],
   "source": [
    "from sklearn.neighbors import KNeighborsClassifier"
   ]
  },
  {
   "cell_type": "code",
   "execution_count": 112,
   "metadata": {},
   "outputs": [
    {
     "data": {
      "text/plain": [
       "KNeighborsClassifier(algorithm='auto', leaf_size=30, metric='minkowski',\n",
       "                     metric_params=None, n_jobs=None, n_neighbors=5, p=2,\n",
       "                     weights='uniform')"
      ]
     },
     "execution_count": 112,
     "metadata": {},
     "output_type": "execute_result"
    }
   ],
   "source": [
    "clf = KNeighborsClassifier(n_neighbors=5, weights='uniform')\n",
    "clf.fit(X_train, y_train)"
   ]
  },
  {
   "cell_type": "code",
   "execution_count": 113,
   "metadata": {},
   "outputs": [],
   "source": [
    "y_pred = clf.predict(X_test)"
   ]
  },
  {
   "cell_type": "code",
   "execution_count": 114,
   "metadata": {},
   "outputs": [
    {
     "data": {
      "text/plain": [
       "array([1, 0, 0, ..., 0, 1, 0])"
      ]
     },
     "execution_count": 114,
     "metadata": {},
     "output_type": "execute_result"
    }
   ],
   "source": [
    "y_pred"
   ]
  },
  {
   "cell_type": "markdown",
   "metadata": {},
   "source": [
    "## Doing prediction on testset data"
   ]
  },
  {
   "cell_type": "code",
   "execution_count": 115,
   "metadata": {},
   "outputs": [],
   "source": [
    "y_pred_t1 = clf.predict(X_test1)"
   ]
  },
  {
   "cell_type": "code",
   "execution_count": 116,
   "metadata": {},
   "outputs": [],
   "source": [
    "y_pred_t2 = clf.predict(X_test2)"
   ]
  },
  {
   "cell_type": "markdown",
   "metadata": {},
   "source": [
    "# Trainingset results"
   ]
  },
  {
   "cell_type": "code",
   "execution_count": 117,
   "metadata": {
    "scrolled": false
   },
   "outputs": [
    {
     "name": "stdout",
     "output_type": "stream",
     "text": [
      "Accuracy 0.9926320098239869\n",
      "F1-score [0.99531981 0.98269231]\n",
      "              precision    recall  f1-score   support\n",
      "\n",
      "           0       1.00      0.99      1.00      1924\n",
      "           1       0.98      0.98      0.98       519\n",
      "\n",
      "    accuracy                           0.99      2443\n",
      "   macro avg       0.99      0.99      0.99      2443\n",
      "weighted avg       0.99      0.99      0.99      2443\n",
      "\n"
     ]
    }
   ],
   "source": [
    "print('Accuracy %s' % accuracy_score(y_test, y_pred))\n",
    "print('F1-score %s' % f1_score(y_test, y_pred, average=None))\n",
    "print(classification_report(y_test, y_pred))"
   ]
  },
  {
   "cell_type": "markdown",
   "metadata": {},
   "source": [
    "# Testset 1 results"
   ]
  },
  {
   "cell_type": "code",
   "execution_count": 119,
   "metadata": {
    "scrolled": false
   },
   "outputs": [
    {
     "name": "stdout",
     "output_type": "stream",
     "text": [
      "Accuracy 0.950844277673546\n",
      "F1-score [0.96172948 0.93130572]\n",
      "              precision    recall  f1-score   support\n",
      "\n",
      "           0       0.95      0.97      0.96      1693\n",
      "           1       0.95      0.91      0.93       972\n",
      "\n",
      "    accuracy                           0.95      2665\n",
      "   macro avg       0.95      0.94      0.95      2665\n",
      "weighted avg       0.95      0.95      0.95      2665\n",
      "\n"
     ]
    }
   ],
   "source": [
    "print('Accuracy %s' % accuracy_score(y_test1, y_pred_t1))\n",
    "print('F1-score %s' % f1_score(y_test1, y_pred_t1, average=None))\n",
    "print(classification_report(y_test1, y_pred_t1))"
   ]
  },
  {
   "cell_type": "markdown",
   "metadata": {},
   "source": [
    "# Testset 2 results"
   ]
  },
  {
   "cell_type": "code",
   "execution_count": 120,
   "metadata": {
    "scrolled": true
   },
   "outputs": [
    {
     "name": "stdout",
     "output_type": "stream",
     "text": [
      "Accuracy 0.9854388843314192\n",
      "F1-score [0.99075039 0.96579961]\n",
      "              precision    recall  f1-score   support\n",
      "\n",
      "           0       0.99      0.99      0.99      7703\n",
      "           1       0.95      0.98      0.97      2049\n",
      "\n",
      "    accuracy                           0.99      9752\n",
      "   macro avg       0.97      0.98      0.98      9752\n",
      "weighted avg       0.99      0.99      0.99      9752\n",
      "\n"
     ]
    }
   ],
   "source": [
    "print('Accuracy %s' % accuracy_score(y_test2, y_pred_t2))\n",
    "print('F1-score %s' % f1_score(y_test2, y_pred_t2, average=None))\n",
    "print(classification_report(y_test2, y_pred_t2))"
   ]
  },
  {
   "cell_type": "markdown",
   "metadata": {},
   "source": [
    "# k Nearest Neighbor n = 3"
   ]
  },
  {
   "cell_type": "code",
   "execution_count": 121,
   "metadata": {},
   "outputs": [],
   "source": [
    "from sklearn.neighbors import KNeighborsClassifier"
   ]
  },
  {
   "cell_type": "code",
   "execution_count": 122,
   "metadata": {},
   "outputs": [
    {
     "data": {
      "text/plain": [
       "KNeighborsClassifier(algorithm='auto', leaf_size=30, metric='minkowski',\n",
       "                     metric_params=None, n_jobs=None, n_neighbors=3, p=2,\n",
       "                     weights='uniform')"
      ]
     },
     "execution_count": 122,
     "metadata": {},
     "output_type": "execute_result"
    }
   ],
   "source": [
    "clf = KNeighborsClassifier(n_neighbors=3, weights='uniform')\n",
    "clf.fit(X_train, y_train)"
   ]
  },
  {
   "cell_type": "code",
   "execution_count": 123,
   "metadata": {},
   "outputs": [],
   "source": [
    "y_pred = clf.predict(X_test)"
   ]
  },
  {
   "cell_type": "code",
   "execution_count": 124,
   "metadata": {},
   "outputs": [
    {
     "data": {
      "text/plain": [
       "array([1, 0, 0, ..., 0, 1, 0])"
      ]
     },
     "execution_count": 124,
     "metadata": {},
     "output_type": "execute_result"
    }
   ],
   "source": [
    "y_pred"
   ]
  },
  {
   "cell_type": "markdown",
   "metadata": {},
   "source": [
    "## Doing prediction on testset data"
   ]
  },
  {
   "cell_type": "code",
   "execution_count": 125,
   "metadata": {},
   "outputs": [],
   "source": [
    "y_pred_t1 = clf.predict(X_test1)"
   ]
  },
  {
   "cell_type": "code",
   "execution_count": 126,
   "metadata": {},
   "outputs": [],
   "source": [
    "y_pred_t2 = clf.predict(X_test2)"
   ]
  },
  {
   "cell_type": "markdown",
   "metadata": {},
   "source": [
    "# Trainingset results"
   ]
  },
  {
   "cell_type": "code",
   "execution_count": 127,
   "metadata": {
    "scrolled": false
   },
   "outputs": [
    {
     "name": "stdout",
     "output_type": "stream",
     "text": [
      "Accuracy 0.9934506753990995\n",
      "F1-score [0.99584416 0.98455598]\n",
      "              precision    recall  f1-score   support\n",
      "\n",
      "           0       1.00      1.00      1.00      1924\n",
      "           1       0.99      0.98      0.98       519\n",
      "\n",
      "    accuracy                           0.99      2443\n",
      "   macro avg       0.99      0.99      0.99      2443\n",
      "weighted avg       0.99      0.99      0.99      2443\n",
      "\n"
     ]
    }
   ],
   "source": [
    "print('Accuracy %s' % accuracy_score(y_test, y_pred))\n",
    "print('F1-score %s' % f1_score(y_test, y_pred, average=None))\n",
    "print(classification_report(y_test, y_pred))"
   ]
  },
  {
   "cell_type": "markdown",
   "metadata": {},
   "source": [
    "# Roc curve for trainingset"
   ]
  },
  {
   "cell_type": "code",
   "execution_count": 129,
   "metadata": {},
   "outputs": [],
   "source": [
    "import scikitplot as skplt\n",
    "import matplotlib.pyplot as plt\n"
   ]
  },
  {
   "cell_type": "markdown",
   "metadata": {},
   "source": [
    "# k Nearest Neighbor n = 5"
   ]
  },
  {
   "cell_type": "code",
   "execution_count": 130,
   "metadata": {},
   "outputs": [],
   "source": [
    "from sklearn.neighbors import KNeighborsClassifier"
   ]
  },
  {
   "cell_type": "code",
   "execution_count": 131,
   "metadata": {},
   "outputs": [
    {
     "data": {
      "text/plain": [
       "KNeighborsClassifier(algorithm='auto', leaf_size=30, metric='minkowski',\n",
       "                     metric_params=None, n_jobs=None, n_neighbors=5, p=2,\n",
       "                     weights='uniform')"
      ]
     },
     "execution_count": 131,
     "metadata": {},
     "output_type": "execute_result"
    }
   ],
   "source": [
    "clf = KNeighborsClassifier(n_neighbors=5, weights='uniform')\n",
    "clf.fit(X_train, y_train)"
   ]
  },
  {
   "cell_type": "code",
   "execution_count": 132,
   "metadata": {},
   "outputs": [],
   "source": [
    "y_pred = clf.predict(X_test)"
   ]
  },
  {
   "cell_type": "code",
   "execution_count": 133,
   "metadata": {},
   "outputs": [
    {
     "data": {
      "text/plain": [
       "array([1, 0, 0, ..., 0, 1, 0])"
      ]
     },
     "execution_count": 133,
     "metadata": {},
     "output_type": "execute_result"
    }
   ],
   "source": [
    "y_pred"
   ]
  },
  {
   "cell_type": "markdown",
   "metadata": {},
   "source": [
    "## Doing prediction on testset data"
   ]
  },
  {
   "cell_type": "code",
   "execution_count": 134,
   "metadata": {},
   "outputs": [],
   "source": [
    "y_pred_t1 = clf.predict(X_test1)"
   ]
  },
  {
   "cell_type": "code",
   "execution_count": 135,
   "metadata": {},
   "outputs": [],
   "source": [
    "y_pred_t2 = clf.predict(X_test2)"
   ]
  },
  {
   "cell_type": "markdown",
   "metadata": {},
   "source": [
    "# Trainingset results"
   ]
  },
  {
   "cell_type": "code",
   "execution_count": 136,
   "metadata": {
    "scrolled": false
   },
   "outputs": [
    {
     "name": "stdout",
     "output_type": "stream",
     "text": [
      "Accuracy 0.9926320098239869\n",
      "F1-score [0.99531981 0.98269231]\n",
      "              precision    recall  f1-score   support\n",
      "\n",
      "           0       1.00      0.99      1.00      1924\n",
      "           1       0.98      0.98      0.98       519\n",
      "\n",
      "    accuracy                           0.99      2443\n",
      "   macro avg       0.99      0.99      0.99      2443\n",
      "weighted avg       0.99      0.99      0.99      2443\n",
      "\n"
     ]
    }
   ],
   "source": [
    "print('Accuracy %s' % accuracy_score(y_test, y_pred))\n",
    "print('F1-score %s' % f1_score(y_test, y_pred, average=None))\n",
    "print(classification_report(y_test, y_pred))"
   ]
  },
  {
   "cell_type": "markdown",
   "metadata": {},
   "source": [
    "# Testset 1 results"
   ]
  },
  {
   "cell_type": "code",
   "execution_count": 137,
   "metadata": {
    "scrolled": false
   },
   "outputs": [
    {
     "name": "stdout",
     "output_type": "stream",
     "text": [
      "Accuracy 0.950844277673546\n",
      "F1-score [0.96172948 0.93130572]\n",
      "              precision    recall  f1-score   support\n",
      "\n",
      "           0       0.95      0.97      0.96      1693\n",
      "           1       0.95      0.91      0.93       972\n",
      "\n",
      "    accuracy                           0.95      2665\n",
      "   macro avg       0.95      0.94      0.95      2665\n",
      "weighted avg       0.95      0.95      0.95      2665\n",
      "\n"
     ]
    }
   ],
   "source": [
    "print('Accuracy %s' % accuracy_score(y_test1, y_pred_t1))\n",
    "print('F1-score %s' % f1_score(y_test1, y_pred_t1, average=None))\n",
    "print(classification_report(y_test1, y_pred_t1))"
   ]
  },
  {
   "cell_type": "markdown",
   "metadata": {},
   "source": [
    "# Testset 2 results"
   ]
  },
  {
   "cell_type": "code",
   "execution_count": 138,
   "metadata": {
    "scrolled": true
   },
   "outputs": [
    {
     "name": "stdout",
     "output_type": "stream",
     "text": [
      "Accuracy 0.9854388843314192\n",
      "F1-score [0.99075039 0.96579961]\n",
      "              precision    recall  f1-score   support\n",
      "\n",
      "           0       0.99      0.99      0.99      7703\n",
      "           1       0.95      0.98      0.97      2049\n",
      "\n",
      "    accuracy                           0.99      9752\n",
      "   macro avg       0.97      0.98      0.98      9752\n",
      "weighted avg       0.99      0.99      0.99      9752\n",
      "\n"
     ]
    }
   ],
   "source": [
    "print('Accuracy %s' % accuracy_score(y_test2, y_pred_t2))\n",
    "print('F1-score %s' % f1_score(y_test2, y_pred_t2, average=None))\n",
    "print(classification_report(y_test2, y_pred_t2))"
   ]
  },
  {
   "cell_type": "markdown",
   "metadata": {},
   "source": [
    "# k Nearest Neighbor n = 5"
   ]
  },
  {
   "cell_type": "code",
   "execution_count": 139,
   "metadata": {},
   "outputs": [],
   "source": [
    "from sklearn.neighbors import KNeighborsClassifier"
   ]
  },
  {
   "cell_type": "code",
   "execution_count": 140,
   "metadata": {},
   "outputs": [
    {
     "data": {
      "text/plain": [
       "KNeighborsClassifier(algorithm='auto', leaf_size=30, metric='minkowski',\n",
       "                     metric_params=None, n_jobs=None, n_neighbors=5, p=2,\n",
       "                     weights='uniform')"
      ]
     },
     "execution_count": 140,
     "metadata": {},
     "output_type": "execute_result"
    }
   ],
   "source": [
    "clf = KNeighborsClassifier(n_neighbors=5, weights='uniform')\n",
    "clf.fit(X_train, y_train)"
   ]
  },
  {
   "cell_type": "code",
   "execution_count": 141,
   "metadata": {},
   "outputs": [],
   "source": [
    "y_pred = clf.predict(X_test)"
   ]
  },
  {
   "cell_type": "code",
   "execution_count": 142,
   "metadata": {},
   "outputs": [
    {
     "data": {
      "text/plain": [
       "array([1, 0, 0, ..., 0, 1, 0])"
      ]
     },
     "execution_count": 142,
     "metadata": {},
     "output_type": "execute_result"
    }
   ],
   "source": [
    "y_pred"
   ]
  },
  {
   "cell_type": "markdown",
   "metadata": {},
   "source": [
    "## Doing prediction on testset data"
   ]
  },
  {
   "cell_type": "code",
   "execution_count": 143,
   "metadata": {},
   "outputs": [],
   "source": [
    "y_pred_t1 = clf.predict(X_test1)"
   ]
  },
  {
   "cell_type": "code",
   "execution_count": 144,
   "metadata": {},
   "outputs": [],
   "source": [
    "y_pred_t2 = clf.predict(X_test2)"
   ]
  },
  {
   "cell_type": "markdown",
   "metadata": {},
   "source": [
    "# Trainingset results"
   ]
  },
  {
   "cell_type": "code",
   "execution_count": 145,
   "metadata": {
    "scrolled": false
   },
   "outputs": [
    {
     "name": "stdout",
     "output_type": "stream",
     "text": [
      "Accuracy 0.9926320098239869\n",
      "F1-score [0.99531981 0.98269231]\n",
      "              precision    recall  f1-score   support\n",
      "\n",
      "           0       1.00      0.99      1.00      1924\n",
      "           1       0.98      0.98      0.98       519\n",
      "\n",
      "    accuracy                           0.99      2443\n",
      "   macro avg       0.99      0.99      0.99      2443\n",
      "weighted avg       0.99      0.99      0.99      2443\n",
      "\n"
     ]
    }
   ],
   "source": [
    "print('Accuracy %s' % accuracy_score(y_test, y_pred))\n",
    "print('F1-score %s' % f1_score(y_test, y_pred, average=None))\n",
    "print(classification_report(y_test, y_pred))\n",
    "y_score = clf.predict_proba(X_test)"
   ]
  },
  {
   "cell_type": "markdown",
   "metadata": {},
   "source": [
    "# Testset 1 results"
   ]
  },
  {
   "cell_type": "code",
   "execution_count": 146,
   "metadata": {
    "scrolled": false
   },
   "outputs": [
    {
     "name": "stdout",
     "output_type": "stream",
     "text": [
      "Accuracy 0.950844277673546\n",
      "F1-score [0.96172948 0.93130572]\n",
      "              precision    recall  f1-score   support\n",
      "\n",
      "           0       0.95      0.97      0.96      1693\n",
      "           1       0.95      0.91      0.93       972\n",
      "\n",
      "    accuracy                           0.95      2665\n",
      "   macro avg       0.95      0.94      0.95      2665\n",
      "weighted avg       0.95      0.95      0.95      2665\n",
      "\n"
     ]
    }
   ],
   "source": [
    "print('Accuracy %s' % accuracy_score(y_test1, y_pred_t1))\n",
    "print('F1-score %s' % f1_score(y_test1, y_pred_t1, average=None))\n",
    "print(classification_report(y_test1, y_pred_t1))"
   ]
  },
  {
   "cell_type": "markdown",
   "metadata": {},
   "source": [
    "# Testset 2 results"
   ]
  },
  {
   "cell_type": "code",
   "execution_count": 147,
   "metadata": {
    "scrolled": true
   },
   "outputs": [
    {
     "name": "stdout",
     "output_type": "stream",
     "text": [
      "Accuracy 0.9854388843314192\n",
      "F1-score [0.99075039 0.96579961]\n",
      "              precision    recall  f1-score   support\n",
      "\n",
      "           0       0.99      0.99      0.99      7703\n",
      "           1       0.95      0.98      0.97      2049\n",
      "\n",
      "    accuracy                           0.99      9752\n",
      "   macro avg       0.97      0.98      0.98      9752\n",
      "weighted avg       0.99      0.99      0.99      9752\n",
      "\n"
     ]
    }
   ],
   "source": [
    "print('Accuracy %s' % accuracy_score(y_test2, y_pred_t2))\n",
    "print('F1-score %s' % f1_score(y_test2, y_pred_t2, average=None))\n",
    "print(classification_report(y_test2, y_pred_t2))"
   ]
  },
  {
   "cell_type": "markdown",
   "metadata": {},
   "source": [
    "# Scikit-plot\n"
   ]
  },
  {
   "cell_type": "code",
   "execution_count": 148,
   "metadata": {},
   "outputs": [],
   "source": [
    "from scikitplot.metrics import plot_roc\n",
    "from scikitplot.metrics import plot_precision_recall\n",
    "from scikitplot.metrics import plot_cumulative_gain\n",
    "from scikitplot.metrics import plot_lift_curve"
   ]
  },
  {
   "cell_type": "code",
   "execution_count": 149,
   "metadata": {},
   "outputs": [
    {
     "data": {
      "image/png": "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\n",
      "text/plain": [
       "<Figure size 432x288 with 1 Axes>"
      ]
     },
     "metadata": {
      "needs_background": "light"
     },
     "output_type": "display_data"
    }
   ],
   "source": [
    "plot_roc(y_test, y_score)\n",
    "plt.show()"
   ]
  },
  {
   "cell_type": "markdown",
   "metadata": {},
   "source": [
    "# Testset 1 results"
   ]
  },
  {
   "cell_type": "code",
   "execution_count": 150,
   "metadata": {
    "scrolled": false
   },
   "outputs": [
    {
     "name": "stdout",
     "output_type": "stream",
     "text": [
      "Accuracy 0.950844277673546\n",
      "F1-score [0.96172948 0.93130572]\n",
      "              precision    recall  f1-score   support\n",
      "\n",
      "           0       0.95      0.97      0.96      1693\n",
      "           1       0.95      0.91      0.93       972\n",
      "\n",
      "    accuracy                           0.95      2665\n",
      "   macro avg       0.95      0.94      0.95      2665\n",
      "weighted avg       0.95      0.95      0.95      2665\n",
      "\n"
     ]
    }
   ],
   "source": [
    "print('Accuracy %s' % accuracy_score(y_test1, y_pred_t1))\n",
    "print('F1-score %s' % f1_score(y_test1, y_pred_t1, average=None))\n",
    "print(classification_report(y_test1, y_pred_t1))"
   ]
  },
  {
   "cell_type": "markdown",
   "metadata": {},
   "source": [
    "# Testset 2 results"
   ]
  },
  {
   "cell_type": "code",
   "execution_count": 151,
   "metadata": {
    "scrolled": true
   },
   "outputs": [
    {
     "name": "stdout",
     "output_type": "stream",
     "text": [
      "Accuracy 0.9854388843314192\n",
      "F1-score [0.99075039 0.96579961]\n",
      "              precision    recall  f1-score   support\n",
      "\n",
      "           0       0.99      0.99      0.99      7703\n",
      "           1       0.95      0.98      0.97      2049\n",
      "\n",
      "    accuracy                           0.99      9752\n",
      "   macro avg       0.97      0.98      0.98      9752\n",
      "weighted avg       0.99      0.99      0.99      9752\n",
      "\n"
     ]
    }
   ],
   "source": [
    "print('Accuracy %s' % accuracy_score(y_test2, y_pred_t2))\n",
    "print('F1-score %s' % f1_score(y_test2, y_pred_t2, average=None))\n",
    "print(classification_report(y_test2, y_pred_t2))"
   ]
  },
  {
   "cell_type": "markdown",
   "metadata": {},
   "source": [
    "# Trying scaled data to see the results"
   ]
  },
  {
   "cell_type": "code",
   "execution_count": 152,
   "metadata": {},
   "outputs": [],
   "source": [
    "df = pd.read_csv(\"procced_datatrainingcopy.csv\")\n",
    "class_name = \"Occupancy\"\n",
    "attributes = [col for col in df.columns if col != class_name]\n",
    "X = df[attributes].values\n",
    "y = df[class_name]\n",
    "\n",
    "X_train, X_test, y_train, y_test = train_test_split(X, y, test_size=0.3, random_state=100, stratify=y)"
   ]
  },
  {
   "cell_type": "code",
   "execution_count": 153,
   "metadata": {},
   "outputs": [],
   "source": [
    "from sklearn.model_selection import train_test_split, cross_val_score \n",
    "\n",
    "from sklearn.metrics import accuracy_score, f1_score, classification_report\n",
    "from sklearn.metrics import roc_curve, auc, roc_auc_score\n"
   ]
  },
  {
   "cell_type": "code",
   "execution_count": 154,
   "metadata": {},
   "outputs": [],
   "source": [
    "class_name = \"Occupancy\""
   ]
  },
  {
   "cell_type": "code",
   "execution_count": 155,
   "metadata": {},
   "outputs": [],
   "source": [
    "attributes = [col for col in df.columns if col != class_name]\n",
    "X = df[attributes].values\n",
    "y = df[class_name]\n",
    "\n",
    "X_train, X_test, y_train, y_test = train_test_split(X, y, test_size=0.3, random_state=100, stratify=y)"
   ]
  },
  {
   "cell_type": "markdown",
   "metadata": {},
   "source": [
    "# k Nearest Neighbor"
   ]
  },
  {
   "cell_type": "code",
   "execution_count": 156,
   "metadata": {},
   "outputs": [],
   "source": [
    "from sklearn.neighbors import KNeighborsClassifier"
   ]
  },
  {
   "cell_type": "code",
   "execution_count": 157,
   "metadata": {},
   "outputs": [
    {
     "data": {
      "text/plain": [
       "KNeighborsClassifier(algorithm='auto', leaf_size=30, metric='minkowski',\n",
       "                     metric_params=None, n_jobs=None, n_neighbors=5, p=2,\n",
       "                     weights='uniform')"
      ]
     },
     "execution_count": 157,
     "metadata": {},
     "output_type": "execute_result"
    }
   ],
   "source": [
    "clf = KNeighborsClassifier(n_neighbors=5, weights='uniform')\n",
    "clf.fit(X_train, y_train)"
   ]
  },
  {
   "cell_type": "code",
   "execution_count": 158,
   "metadata": {},
   "outputs": [],
   "source": [
    "y_pred = clf.predict(X_test)"
   ]
  },
  {
   "cell_type": "code",
   "execution_count": 159,
   "metadata": {},
   "outputs": [
    {
     "data": {
      "text/plain": [
       "array([1, 0, 0, ..., 0, 1, 0])"
      ]
     },
     "execution_count": 159,
     "metadata": {},
     "output_type": "execute_result"
    }
   ],
   "source": [
    "y_pred"
   ]
  },
  {
   "cell_type": "markdown",
   "metadata": {},
   "source": [
    "# Testset results"
   ]
  },
  {
   "cell_type": "code",
   "execution_count": 160,
   "metadata": {
    "scrolled": true
   },
   "outputs": [
    {
     "name": "stdout",
     "output_type": "stream",
     "text": [
      "Accuracy 0.9918133442488744\n",
      "F1-score [0.99479979 0.98076923]\n",
      "              precision    recall  f1-score   support\n",
      "\n",
      "           0       1.00      0.99      0.99      1924\n",
      "           1       0.98      0.98      0.98       519\n",
      "\n",
      "    accuracy                           0.99      2443\n",
      "   macro avg       0.99      0.99      0.99      2443\n",
      "weighted avg       0.99      0.99      0.99      2443\n",
      "\n"
     ]
    }
   ],
   "source": [
    "print('Accuracy %s' % accuracy_score(y_test, y_pred))\n",
    "print('F1-score %s' % f1_score(y_test, y_pred, average=None))\n",
    "print(classification_report(y_test, y_pred))"
   ]
  },
  {
   "cell_type": "markdown",
   "metadata": {},
   "source": [
    "# Trainingset 1 results"
   ]
  },
  {
   "cell_type": "code",
   "execution_count": 161,
   "metadata": {},
   "outputs": [],
   "source": [
    "df = pd.read_csv(\"scaled_datatestcopy.csv\")\n",
    "\n",
    "class_name = \"Occupancy\"\n",
    "attributes = [col for col in df.columns if col != class_name]\n",
    "X_test01 = df[attributes].values\n",
    "y_test02 = df[class_name]\n",
    "\n"
   ]
  },
  {
   "cell_type": "code",
   "execution_count": 162,
   "metadata": {
    "scrolled": true
   },
   "outputs": [
    {
     "name": "stdout",
     "output_type": "stream",
     "text": [
      "Accuracy 0.9918133442488744\n",
      "F1-score [0.99479979 0.98076923]\n",
      "              precision    recall  f1-score   support\n",
      "\n",
      "           0       1.00      0.99      0.99      1924\n",
      "           1       0.98      0.98      0.98       519\n",
      "\n",
      "    accuracy                           0.99      2443\n",
      "   macro avg       0.99      0.99      0.99      2443\n",
      "weighted avg       0.99      0.99      0.99      2443\n",
      "\n"
     ]
    }
   ],
   "source": [
    "print('Accuracy %s' % accuracy_score(y_test, y_pred))\n",
    "print('F1-score %s' % f1_score(y_test, y_pred, average=None))\n",
    "print(classification_report(y_test, y_pred))"
   ]
  },
  {
   "cell_type": "code",
   "execution_count": 163,
   "metadata": {},
   "outputs": [
    {
     "name": "stdout",
     "output_type": "stream",
     "text": [
      "Accuracy 0.9922226770364306\n",
      "F1-score [0.99507389 0.98153547]\n",
      "              precision    recall  f1-score   support\n",
      "\n",
      "           0       0.99      1.00      1.00      1924\n",
      "           1       0.99      0.97      0.98       519\n",
      "\n",
      "    accuracy                           0.99      2443\n",
      "   macro avg       0.99      0.99      0.99      2443\n",
      "weighted avg       0.99      0.99      0.99      2443\n",
      "\n"
     ]
    }
   ],
   "source": [
    "clf = KNeighborsClassifier(n_neighbors=1, weights='uniform') #test con k=1 e weight uniform\n",
    "clf.fit(X_train, y_train)\n",
    "y_pred = clf.predict(X_test)\n",
    "print('Accuracy %s' % accuracy_score(y_test, y_pred))\n",
    "print('F1-score %s' % f1_score(y_test, y_pred, average=None))\n",
    "print(classification_report(y_test, y_pred))"
   ]
  },
  {
   "cell_type": "code",
   "execution_count": 164,
   "metadata": {},
   "outputs": [
    {
     "name": "stdout",
     "output_type": "stream",
     "text": [
      "Accuracy 0.9918133442488744\n",
      "F1-score [0.99481328 0.98058252]\n",
      "              precision    recall  f1-score   support\n",
      "\n",
      "           0       0.99      1.00      0.99      1924\n",
      "           1       0.99      0.97      0.98       519\n",
      "\n",
      "    accuracy                           0.99      2443\n",
      "   macro avg       0.99      0.98      0.99      2443\n",
      "weighted avg       0.99      0.99      0.99      2443\n",
      "\n"
     ]
    }
   ],
   "source": [
    "clf = KNeighborsClassifier(n_neighbors=3, weights='distance') #k = 3 and weight distance\n",
    "clf.fit(X_train, y_train)\n",
    "y_pred = clf.predict(X_test)\n",
    "print('Accuracy %s' % accuracy_score(y_test, y_pred))\n",
    "print('F1-score %s' % f1_score(y_test, y_pred, average=None))\n",
    "print(classification_report(y_test, y_pred))"
   ]
  },
  {
   "cell_type": "code",
   "execution_count": 165,
   "metadata": {},
   "outputs": [
    {
     "name": "stdout",
     "output_type": "stream",
     "text": [
      "Accuracy: 0.9134 (+/- 0.049)\n",
      "F1-score: 0.8521 (+/- 0.101)\n"
     ]
    }
   ],
   "source": [
    "scores = cross_val_score(clf, X, y, cv=10)\n",
    "print('Accuracy: %0.4f (+/- %0.3f)' % (scores.mean(), scores.std()))\n",
    "\n",
    "scores = cross_val_score(clf, X, y, cv=10, scoring='f1_macro')\n",
    "print('F1-score: %0.4f (+/- %0.3f)' % (scores.mean(), scores.std()))"
   ]
  },
  {
   "cell_type": "code",
   "execution_count": 166,
   "metadata": {},
   "outputs": [],
   "source": [
    "from sklearn import svm, datasets\n",
    "from sklearn.model_selection import GridSearchCV"
   ]
  },
  {
   "cell_type": "code",
   "execution_count": 167,
   "metadata": {},
   "outputs": [
    {
     "data": {
      "text/plain": [
       "GridSearchCV(cv=None, error_score=nan,\n",
       "             estimator=KNeighborsClassifier(algorithm='auto', leaf_size=30,\n",
       "                                            metric='minkowski',\n",
       "                                            metric_params=None, n_jobs=None,\n",
       "                                            n_neighbors=5, p=2,\n",
       "                                            weights='uniform'),\n",
       "             iid='deprecated', n_jobs=None,\n",
       "             param_grid={'n_neighbors': array([ 1,  2,  3,  4,  5,  6,  7,  8,  9, 10]),\n",
       "                         'weights': ['uniform', 'distance']},\n",
       "             pre_dispatch='2*n_jobs', refit=True, return_train_score=False,\n",
       "             scoring=None, verbose=0)"
      ]
     },
     "execution_count": 167,
     "metadata": {},
     "output_type": "execute_result"
    }
   ],
   "source": [
    "parameters = {'n_neighbors': np.arange(1, 10 + 1), 'weights':['uniform', 'distance']}\n",
    "\n",
    "knn = KNeighborsClassifier()\n",
    "search = GridSearchCV(knn, parameters)\n",
    "search.fit(X_train, y_train)"
   ]
  },
  {
   "cell_type": "code",
   "execution_count": 168,
   "metadata": {},
   "outputs": [],
   "source": [
    "clf = search.best_estimator_"
   ]
  },
  {
   "cell_type": "markdown",
   "metadata": {},
   "source": [
    "This is where you store the best model that you got by applying GridSearchCV"
   ]
  },
  {
   "cell_type": "markdown",
   "metadata": {},
   "source": [
    "### An example from sklearn"
   ]
  },
  {
   "cell_type": "code",
   "execution_count": 176,
   "metadata": {},
   "outputs": [
    {
     "data": {
      "image/png": "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\n",
      "text/plain": [
       "<Figure size 432x288 with 1 Axes>"
      ]
     },
     "metadata": {
      "needs_background": "light"
     },
     "output_type": "display_data"
    },
    {
     "data": {
      "image/png": "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\n",
      "text/plain": [
       "<Figure size 432x288 with 1 Axes>"
      ]
     },
     "metadata": {
      "needs_background": "light"
     },
     "output_type": "display_data"
    }
   ],
   "source": [
    "from sklearn import datasets\n",
    "from matplotlib.colors import ListedColormap\n",
    "\n",
    "n_neighbors = 5\n",
    "\n",
    "# import some data to play with\n",
    "df = pd.read_csv('scaled_datatrainingcopy.csv')\n",
    "\n",
    "# we only take the first two features. We could avoid this ugly\n",
    "# slicing by using a two-dim dataset\n",
    "class_name = \"Occupancy\"\n",
    "attributes = [col for col in df.columns if col != class_name]\n",
    "X_test1 = df_test1[attributes].values\n",
    "y_test1 = df_test1[class_name]\n",
    "\n",
    "h = .02  # step size in the mesh\n",
    "\n",
    "# Create color maps\n",
    "cmap_light = ListedColormap(['orange', 'cyan'])\n",
    "cmap_bold = ListedColormap(['darkorange', 'c'])\n",
    "\n",
    "for weights in ['uniform', 'distance']:\n",
    "    # we create an instance of Neighbours Classifier and fit the data.\n",
    "    clf = KNeighborsClassifier(n_neighbors, weights=weights)\n",
    "    clf.fit(X, y)\n",
    "\n",
    "    # Plot the decision boundary. For that, we will assign a color to each\n",
    "    # point in the mesh [x_min, x_max]x[y_min, y_max].\n",
    "    x_min, x_max = X[:, 0].min() - 1, X[:, 0].max() + 1\n",
    "    y_min, y_max = X[:, 1].min() - 1, X[:, 1].max() + 1\n",
    "    xx, yy = np.meshgrid(np.arange(x_min, x_max, h),\n",
    "                         np.arange(y_min, y_max, h))\n",
    "    Z = clf.predict(np.c_[xx.ravel(), yy.ravel()])\n",
    "\n",
    "    # Put the result into a color plot\n",
    "    Z = Z.reshape(xx.shape)\n",
    "    plt.figure()\n",
    "    plt.pcolormesh(xx, yy, Z, cmap=cmap_light)\n",
    "\n",
    "    # Plot also the training points\n",
    "    plt.scatter(X[:, 0], X[:, 1], c=y, cmap=cmap_bold,\n",
    "                edgecolor='k', s=20)\n",
    "    plt.xlim(xx.min(), xx.max())\n",
    "    plt.ylim(yy.min(), yy.max())\n",
    "    plt.title(\"2-Class classification (k = %i, weights = '%s')\"\n",
    "              % (n_neighbors, weights))\n",
    "\n",
    "plt.show()"
   ]
  },
  {
   "cell_type": "code",
   "execution_count": null,
   "metadata": {},
   "outputs": [],
   "source": []
  }
 ],
 "metadata": {
  "kernelspec": {
   "display_name": "Python 3",
   "language": "python",
   "name": "python3"
  },
  "language_info": {
   "codemirror_mode": {
    "name": "ipython",
    "version": 3
   },
   "file_extension": ".py",
   "mimetype": "text/x-python",
   "name": "python",
   "nbconvert_exporter": "python",
   "pygments_lexer": "ipython3",
   "version": "3.7.3"
  }
 },
 "nbformat": 4,
 "nbformat_minor": 2
}
