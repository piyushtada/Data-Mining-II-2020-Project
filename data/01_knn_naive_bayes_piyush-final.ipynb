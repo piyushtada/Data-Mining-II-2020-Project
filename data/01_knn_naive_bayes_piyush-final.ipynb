{
 "cells": [
  {
   "cell_type": "code",
<<<<<<< HEAD
   "execution_count": 1,
=======
   "execution_count": 102,
>>>>>>> 8d559951f9401ef4d93d3ca3ca3f2beeef325d96
   "metadata": {},
   "outputs": [],
   "source": [
    "# Loading important libraries\n",
    "\n",
    "import pandas as pd\n",
    "import numpy as np\n",
    "import matplotlib.pyplot as plt"
   ]
  },
  {
   "cell_type": "markdown",
   "metadata": {},
   "source": [
    "# Loading the training data"
   ]
  },
  {
   "cell_type": "code",
<<<<<<< HEAD
   "execution_count": 2,
=======
   "execution_count": 103,
>>>>>>> 8d559951f9401ef4d93d3ca3ca3f2beeef325d96
   "metadata": {},
   "outputs": [
    {
     "data": {
      "text/html": [
       "<div>\n",
       "<style scoped>\n",
       "    .dataframe tbody tr th:only-of-type {\n",
       "        vertical-align: middle;\n",
       "    }\n",
       "\n",
       "    .dataframe tbody tr th {\n",
       "        vertical-align: top;\n",
       "    }\n",
       "\n",
       "    .dataframe thead th {\n",
       "        text-align: right;\n",
       "    }\n",
       "</style>\n",
       "<table border=\"1\" class=\"dataframe\">\n",
       "  <thead>\n",
       "    <tr style=\"text-align: right;\">\n",
       "      <th></th>\n",
       "      <th>Temperature</th>\n",
       "      <th>Humidity</th>\n",
       "      <th>Light</th>\n",
       "      <th>CO2</th>\n",
       "      <th>HumidityRatio</th>\n",
       "      <th>Week_day</th>\n",
       "      <th>Occupancy</th>\n",
       "    </tr>\n",
       "  </thead>\n",
       "  <tbody>\n",
       "    <tr>\n",
       "      <th>0</th>\n",
       "      <td>2.518470</td>\n",
       "      <td>0.278526</td>\n",
       "      <td>1.573763</td>\n",
       "      <td>0.364948</td>\n",
       "      <td>1.091757</td>\n",
       "      <td>1</td>\n",
       "      <td>1</td>\n",
       "    </tr>\n",
       "    <tr>\n",
       "      <th>1</th>\n",
       "      <td>2.488967</td>\n",
       "      <td>0.277713</td>\n",
       "      <td>1.591735</td>\n",
       "      <td>0.341881</td>\n",
       "      <td>1.080555</td>\n",
       "      <td>1</td>\n",
       "      <td>1</td>\n",
       "    </tr>\n",
       "    <tr>\n",
       "      <th>2</th>\n",
       "      <td>2.488967</td>\n",
       "      <td>0.273645</td>\n",
       "      <td>1.573763</td>\n",
       "      <td>0.340290</td>\n",
       "      <td>1.075889</td>\n",
       "      <td>1</td>\n",
       "      <td>1</td>\n",
       "    </tr>\n",
       "    <tr>\n",
       "      <th>3</th>\n",
       "      <td>2.488967</td>\n",
       "      <td>0.265508</td>\n",
       "      <td>1.573763</td>\n",
       "      <td>0.323587</td>\n",
       "      <td>1.066555</td>\n",
       "      <td>1</td>\n",
       "      <td>1</td>\n",
       "    </tr>\n",
       "    <tr>\n",
       "      <th>4</th>\n",
       "      <td>2.439796</td>\n",
       "      <td>0.265508</td>\n",
       "      <td>1.573763</td>\n",
       "      <td>0.311655</td>\n",
       "      <td>1.049523</td>\n",
       "      <td>1</td>\n",
       "      <td>1</td>\n",
       "    </tr>\n",
       "  </tbody>\n",
       "</table>\n",
       "</div>"
      ],
      "text/plain": [
       "   Temperature  Humidity     Light       CO2  HumidityRatio  Week_day  \\\n",
       "0     2.518470  0.278526  1.573763  0.364948       1.091757         1   \n",
       "1     2.488967  0.277713  1.591735  0.341881       1.080555         1   \n",
       "2     2.488967  0.273645  1.573763  0.340290       1.075889         1   \n",
       "3     2.488967  0.265508  1.573763  0.323587       1.066555         1   \n",
       "4     2.439796  0.265508  1.573763  0.311655       1.049523         1   \n",
       "\n",
       "   Occupancy  \n",
       "0          1  \n",
       "1          1  \n",
       "2          1  \n",
       "3          1  \n",
       "4          1  "
      ]
     },
<<<<<<< HEAD
     "execution_count": 2,
=======
     "execution_count": 103,
>>>>>>> 8d559951f9401ef4d93d3ca3ca3f2beeef325d96
     "metadata": {},
     "output_type": "execute_result"
    }
   ],
   "source": [
    "df = pd.read_csv('scaled_datatrainingcopy.csv')\n",
    "df.head()"
   ]
  },
  {
   "cell_type": "markdown",
   "metadata": {},
   "source": [
    "# Loading the two test datasets"
   ]
  },
  {
   "cell_type": "code",
<<<<<<< HEAD
   "execution_count": 3,
=======
   "execution_count": 104,
>>>>>>> 8d559951f9401ef4d93d3ca3ca3f2beeef325d96
   "metadata": {},
   "outputs": [
    {
     "data": {
      "text/html": [
       "<div>\n",
       "<style scoped>\n",
       "    .dataframe tbody tr th:only-of-type {\n",
       "        vertical-align: middle;\n",
       "    }\n",
       "\n",
       "    .dataframe tbody tr th {\n",
       "        vertical-align: top;\n",
       "    }\n",
       "\n",
       "    .dataframe thead th {\n",
       "        text-align: right;\n",
       "    }\n",
       "</style>\n",
       "<table border=\"1\" class=\"dataframe\">\n",
       "  <thead>\n",
       "    <tr style=\"text-align: right;\">\n",
       "      <th></th>\n",
       "      <th>Temperature</th>\n",
       "      <th>Humidity</th>\n",
       "      <th>Light</th>\n",
       "      <th>CO2</th>\n",
       "      <th>HumidityRatio</th>\n",
       "      <th>Week_day</th>\n",
       "      <th>Occupancy</th>\n",
       "    </tr>\n",
       "  </thead>\n",
       "  <tbody>\n",
       "    <tr>\n",
       "      <th>0</th>\n",
       "      <td>2.204762</td>\n",
       "      <td>0.376814</td>\n",
       "      <td>1.566862</td>\n",
       "      <td>0.106940</td>\n",
       "      <td>1.207540</td>\n",
       "      <td>1</td>\n",
       "      <td>1</td>\n",
       "    </tr>\n",
       "    <tr>\n",
       "      <th>1</th>\n",
       "      <td>2.222275</td>\n",
       "      <td>0.384202</td>\n",
       "      <td>1.539680</td>\n",
       "      <td>0.145214</td>\n",
       "      <td>1.221461</td>\n",
       "      <td>1</td>\n",
       "      <td>1</td>\n",
       "    </tr>\n",
       "    <tr>\n",
       "      <th>2</th>\n",
       "      <td>2.233950</td>\n",
       "      <td>0.359575</td>\n",
       "      <td>1.516762</td>\n",
       "      <td>0.176881</td>\n",
       "      <td>1.209162</td>\n",
       "      <td>1</td>\n",
       "      <td>1</td>\n",
       "    </tr>\n",
       "    <tr>\n",
       "      <th>3</th>\n",
       "      <td>2.226653</td>\n",
       "      <td>0.316478</td>\n",
       "      <td>1.201302</td>\n",
       "      <td>0.194253</td>\n",
       "      <td>1.174139</td>\n",
       "      <td>1</td>\n",
       "      <td>1</td>\n",
       "    </tr>\n",
       "    <tr>\n",
       "      <th>4</th>\n",
       "      <td>2.257300</td>\n",
       "      <td>0.347262</td>\n",
       "      <td>1.180715</td>\n",
       "      <td>0.208776</td>\n",
       "      <td>1.211522</td>\n",
       "      <td>1</td>\n",
       "      <td>1</td>\n",
       "    </tr>\n",
       "  </tbody>\n",
       "</table>\n",
       "</div>"
      ],
      "text/plain": [
       "   Temperature  Humidity     Light       CO2  HumidityRatio  Week_day  \\\n",
       "0     2.204762  0.376814  1.566862  0.106940       1.207540         1   \n",
       "1     2.222275  0.384202  1.539680  0.145214       1.221461         1   \n",
       "2     2.233950  0.359575  1.516762  0.176881       1.209162         1   \n",
       "3     2.226653  0.316478  1.201302  0.194253       1.174139         1   \n",
       "4     2.257300  0.347262  1.180715  0.208776       1.211522         1   \n",
       "\n",
       "   Occupancy  \n",
       "0          1  \n",
       "1          1  \n",
       "2          1  \n",
       "3          1  \n",
       "4          1  "
      ]
     },
<<<<<<< HEAD
     "execution_count": 3,
=======
     "execution_count": 104,
>>>>>>> 8d559951f9401ef4d93d3ca3ca3f2beeef325d96
     "metadata": {},
     "output_type": "execute_result"
    }
   ],
   "source": [
    "df_test1 = pd.read_csv('scaled_datatestcopy.csv')\n",
    "df_test1.head()"
   ]
  },
  {
   "cell_type": "code",
<<<<<<< HEAD
   "execution_count": 4,
=======
   "execution_count": 105,
>>>>>>> 8d559951f9401ef4d93d3ca3ca3f2beeef325d96
   "metadata": {},
   "outputs": [
    {
     "data": {
      "text/html": [
       "<div>\n",
       "<style scoped>\n",
       "    .dataframe tbody tr th:only-of-type {\n",
       "        vertical-align: middle;\n",
       "    }\n",
       "\n",
       "    .dataframe tbody tr th {\n",
       "        vertical-align: top;\n",
       "    }\n",
       "\n",
       "    .dataframe thead th {\n",
       "        text-align: right;\n",
       "    }\n",
       "</style>\n",
       "<table border=\"1\" class=\"dataframe\">\n",
       "  <thead>\n",
       "    <tr style=\"text-align: right;\">\n",
       "      <th></th>\n",
       "      <th>Temperature</th>\n",
       "      <th>Humidity</th>\n",
       "      <th>Light</th>\n",
       "      <th>CO2</th>\n",
       "      <th>HumidityRatio</th>\n",
       "      <th>Week_day</th>\n",
       "      <th>Occupancy</th>\n",
       "    </tr>\n",
       "  </thead>\n",
       "  <tbody>\n",
       "    <tr>\n",
       "      <th>0</th>\n",
       "      <td>0.742897</td>\n",
       "      <td>0.314074</td>\n",
       "      <td>1.509363</td>\n",
       "      <td>0.930527</td>\n",
       "      <td>0.814063</td>\n",
       "      <td>1</td>\n",
       "      <td>1</td>\n",
       "    </tr>\n",
       "    <tr>\n",
       "      <th>1</th>\n",
       "      <td>0.772291</td>\n",
       "      <td>0.280342</td>\n",
       "      <td>1.509363</td>\n",
       "      <td>0.830667</td>\n",
       "      <td>0.790653</td>\n",
       "      <td>1</td>\n",
       "      <td>1</td>\n",
       "    </tr>\n",
       "    <tr>\n",
       "      <th>2</th>\n",
       "      <td>0.750246</td>\n",
       "      <td>0.311334</td>\n",
       "      <td>1.493354</td>\n",
       "      <td>0.843289</td>\n",
       "      <td>0.815114</td>\n",
       "      <td>1</td>\n",
       "      <td>1</td>\n",
       "    </tr>\n",
       "    <tr>\n",
       "      <th>3</th>\n",
       "      <td>0.750246</td>\n",
       "      <td>0.311334</td>\n",
       "      <td>1.517368</td>\n",
       "      <td>0.862644</td>\n",
       "      <td>0.815114</td>\n",
       "      <td>1</td>\n",
       "      <td>1</td>\n",
       "    </tr>\n",
       "    <tr>\n",
       "      <th>4</th>\n",
       "      <td>0.772291</td>\n",
       "      <td>0.314074</td>\n",
       "      <td>1.509363</td>\n",
       "      <td>0.849741</td>\n",
       "      <td>0.831554</td>\n",
       "      <td>1</td>\n",
       "      <td>1</td>\n",
       "    </tr>\n",
       "  </tbody>\n",
       "</table>\n",
       "</div>"
      ],
      "text/plain": [
       "   Temperature  Humidity     Light       CO2  HumidityRatio  Week_day  \\\n",
       "0     0.742897  0.314074  1.509363  0.930527       0.814063         1   \n",
       "1     0.772291  0.280342  1.509363  0.830667       0.790653         1   \n",
       "2     0.750246  0.311334  1.493354  0.843289       0.815114         1   \n",
       "3     0.750246  0.311334  1.517368  0.862644       0.815114         1   \n",
       "4     0.772291  0.314074  1.509363  0.849741       0.831554         1   \n",
       "\n",
       "   Occupancy  \n",
       "0          1  \n",
       "1          1  \n",
       "2          1  \n",
       "3          1  \n",
       "4          1  "
      ]
     },
<<<<<<< HEAD
     "execution_count": 4,
=======
     "execution_count": 105,
>>>>>>> 8d559951f9401ef4d93d3ca3ca3f2beeef325d96
     "metadata": {},
     "output_type": "execute_result"
    }
   ],
   "source": [
    "df_test2 = pd.read_csv('scaled_datatest2copy.csv')\n",
    "df_test2.head()"
   ]
  },
  {
   "cell_type": "markdown",
   "metadata": {},
   "source": [
    "## Dividing the training data"
   ]
  },
  {
   "cell_type": "code",
<<<<<<< HEAD
   "execution_count": 5,
=======
   "execution_count": 106,
>>>>>>> 8d559951f9401ef4d93d3ca3ca3f2beeef325d96
   "metadata": {},
   "outputs": [],
   "source": [
    "class_name = \"Occupancy\""
   ]
  },
  {
   "cell_type": "code",
<<<<<<< HEAD
   "execution_count": 6,
=======
   "execution_count": 107,
>>>>>>> 8d559951f9401ef4d93d3ca3ca3f2beeef325d96
   "metadata": {},
   "outputs": [
    {
     "ename": "NameError",
     "evalue": "name 'train_test_split' is not defined",
     "output_type": "error",
     "traceback": [
      "\u001b[0;31m---------------------------------------------------------------------------\u001b[0m",
      "\u001b[0;31mNameError\u001b[0m                                 Traceback (most recent call last)",
      "\u001b[0;32m<ipython-input-6-8a42338e5589>\u001b[0m in \u001b[0;36m<module>\u001b[0;34m\u001b[0m\n\u001b[1;32m      3\u001b[0m \u001b[0my\u001b[0m \u001b[0;34m=\u001b[0m \u001b[0mdf\u001b[0m\u001b[0;34m[\u001b[0m\u001b[0mclass_name\u001b[0m\u001b[0;34m]\u001b[0m\u001b[0;34m\u001b[0m\u001b[0;34m\u001b[0m\u001b[0m\n\u001b[1;32m      4\u001b[0m \u001b[0;34m\u001b[0m\u001b[0m\n\u001b[0;32m----> 5\u001b[0;31m \u001b[0mX_train\u001b[0m\u001b[0;34m,\u001b[0m \u001b[0mX_test\u001b[0m\u001b[0;34m,\u001b[0m \u001b[0my_train\u001b[0m\u001b[0;34m,\u001b[0m \u001b[0my_test\u001b[0m \u001b[0;34m=\u001b[0m \u001b[0mtrain_test_split\u001b[0m\u001b[0;34m(\u001b[0m\u001b[0mX\u001b[0m\u001b[0;34m,\u001b[0m \u001b[0my\u001b[0m\u001b[0;34m,\u001b[0m \u001b[0mtest_size\u001b[0m\u001b[0;34m=\u001b[0m\u001b[0;36m0.3\u001b[0m\u001b[0;34m,\u001b[0m \u001b[0mrandom_state\u001b[0m\u001b[0;34m=\u001b[0m\u001b[0;36m100\u001b[0m\u001b[0;34m,\u001b[0m \u001b[0mstratify\u001b[0m\u001b[0;34m=\u001b[0m\u001b[0my\u001b[0m\u001b[0;34m)\u001b[0m\u001b[0;34m\u001b[0m\u001b[0;34m\u001b[0m\u001b[0m\n\u001b[0m",
      "\u001b[0;31mNameError\u001b[0m: name 'train_test_split' is not defined"
     ]
    }
   ],
   "source": [
    "attributes = [col for col in df.columns if col != class_name]\n",
    "X = df[attributes].values\n",
    "y = df[class_name]\n",
    "\n",
    "X_train, X_test, y_train, y_test = train_test_split(X, y, test_size=0.3, random_state=100, stratify=y)"
   ]
  },
  {
   "cell_type": "markdown",
   "metadata": {},
   "source": [
    "# preparing test data for model"
   ]
  },
  {
   "cell_type": "code",
   "execution_count": 108,
   "metadata": {},
   "outputs": [],
   "source": [
    "class_name = \"Occupancy\"\n",
    "\n",
    "attributes = [col for col in df.columns if col != class_name]\n",
    "X_test1 = df_test1[attributes].values\n",
    "y_test1 = df_test1[class_name]"
   ]
  },
  {
   "cell_type": "code",
   "execution_count": 109,
   "metadata": {},
   "outputs": [],
   "source": [
    "class_name = \"Occupancy\"\n",
    "\n",
    "attributes = [col for col in df.columns if col != class_name]\n",
    "X_test2 = df_test2[attributes].values\n",
    "y_test2 = df_test2[class_name]"
   ]
  },
  {
   "cell_type": "markdown",
   "metadata": {},
   "source": [
    "# copy the above cells in every sheet"
   ]
  },
  {
   "cell_type": "markdown",
   "metadata": {},
   "source": [
    "##### Data Partitioning"
   ]
  },
  {
   "cell_type": "code",
   "execution_count": 110,
   "metadata": {},
   "outputs": [],
   "source": [
    "from sklearn.model_selection import train_test_split, cross_val_score \n",
    "\n",
    "from sklearn.metrics import accuracy_score, f1_score, classification_report\n",
    "from sklearn.metrics import roc_curve, auc, roc_auc_score\n"
   ]
  },
  {
   "cell_type": "markdown",
   "metadata": {},
   "source": [
    "# k Nearest Neighbor n = 5"
   ]
  },
  {
   "cell_type": "code",
   "execution_count": 111,
   "metadata": {},
   "outputs": [],
   "source": [
    "from sklearn.neighbors import KNeighborsClassifier"
   ]
  },
  {
   "cell_type": "code",
   "execution_count": 112,
   "metadata": {},
   "outputs": [
    {
     "data": {
      "text/plain": [
       "KNeighborsClassifier(algorithm='auto', leaf_size=30, metric='minkowski',\n",
       "                     metric_params=None, n_jobs=None, n_neighbors=5, p=2,\n",
       "                     weights='uniform')"
      ]
     },
     "execution_count": 112,
     "metadata": {},
     "output_type": "execute_result"
    }
   ],
   "source": [
    "clf = KNeighborsClassifier(n_neighbors=5, weights='uniform')\n",
    "clf.fit(X_train, y_train)"
   ]
  },
  {
   "cell_type": "code",
   "execution_count": 113,
   "metadata": {},
   "outputs": [],
   "source": [
    "y_pred = clf.predict(X_test)"
   ]
  },
  {
   "cell_type": "code",
   "execution_count": 114,
   "metadata": {},
   "outputs": [
    {
     "data": {
      "text/plain": [
       "array([1, 0, 0, ..., 0, 1, 0])"
      ]
     },
     "execution_count": 114,
     "metadata": {},
     "output_type": "execute_result"
    }
   ],
   "source": [
    "y_pred"
   ]
  },
  {
   "cell_type": "markdown",
   "metadata": {},
   "source": [
    "## Doing prediction on testset data"
   ]
  },
  {
   "cell_type": "code",
   "execution_count": 115,
   "metadata": {},
   "outputs": [],
   "source": [
    "y_pred_t1 = clf.predict(X_test1)"
   ]
  },
  {
   "cell_type": "code",
   "execution_count": 116,
   "metadata": {},
   "outputs": [],
   "source": [
    "y_pred_t2 = clf.predict(X_test2)"
   ]
  },
  {
   "cell_type": "markdown",
   "metadata": {},
   "source": [
    "# Trainingset results"
   ]
  },
  {
   "cell_type": "code",
   "execution_count": 117,
   "metadata": {
    "scrolled": false
   },
   "outputs": [
    {
     "name": "stdout",
     "output_type": "stream",
     "text": [
      "Accuracy 0.9926320098239869\n",
      "F1-score [0.99531981 0.98269231]\n",
      "              precision    recall  f1-score   support\n",
      "\n",
      "           0       1.00      0.99      1.00      1924\n",
      "           1       0.98      0.98      0.98       519\n",
      "\n",
      "    accuracy                           0.99      2443\n",
      "   macro avg       0.99      0.99      0.99      2443\n",
      "weighted avg       0.99      0.99      0.99      2443\n",
      "\n"
     ]
    }
   ],
   "source": [
    "print('Accuracy %s' % accuracy_score(y_test, y_pred))\n",
    "print('F1-score %s' % f1_score(y_test, y_pred, average=None))\n",
    "print(classification_report(y_test, y_pred))"
   ]
  },
  {
   "cell_type": "markdown",
   "metadata": {},
   "source": [
    "# Testset 1 results"
   ]
  },
  {
   "cell_type": "code",
   "execution_count": 119,
   "metadata": {
    "scrolled": false
   },
   "outputs": [
    {
     "name": "stdout",
     "output_type": "stream",
     "text": [
      "Accuracy 0.950844277673546\n",
      "F1-score [0.96172948 0.93130572]\n",
      "              precision    recall  f1-score   support\n",
      "\n",
      "           0       0.95      0.97      0.96      1693\n",
      "           1       0.95      0.91      0.93       972\n",
      "\n",
      "    accuracy                           0.95      2665\n",
      "   macro avg       0.95      0.94      0.95      2665\n",
      "weighted avg       0.95      0.95      0.95      2665\n",
      "\n"
     ]
    }
   ],
   "source": [
    "print('Accuracy %s' % accuracy_score(y_test1, y_pred_t1))\n",
    "print('F1-score %s' % f1_score(y_test1, y_pred_t1, average=None))\n",
    "print(classification_report(y_test1, y_pred_t1))"
   ]
  },
  {
   "cell_type": "markdown",
   "metadata": {},
   "source": [
    "# Testset 2 results"
   ]
  },
  {
   "cell_type": "code",
   "execution_count": 120,
   "metadata": {
    "scrolled": true
   },
   "outputs": [
    {
     "name": "stdout",
     "output_type": "stream",
     "text": [
      "Accuracy 0.9854388843314192\n",
      "F1-score [0.99075039 0.96579961]\n",
      "              precision    recall  f1-score   support\n",
      "\n",
      "           0       0.99      0.99      0.99      7703\n",
      "           1       0.95      0.98      0.97      2049\n",
      "\n",
      "    accuracy                           0.99      9752\n",
      "   macro avg       0.97      0.98      0.98      9752\n",
      "weighted avg       0.99      0.99      0.99      9752\n",
      "\n"
     ]
    }
   ],
   "source": [
    "print('Accuracy %s' % accuracy_score(y_test2, y_pred_t2))\n",
    "print('F1-score %s' % f1_score(y_test2, y_pred_t2, average=None))\n",
    "print(classification_report(y_test2, y_pred_t2))"
   ]
  },
  {
   "cell_type": "markdown",
   "metadata": {},
   "source": [
    "# k Nearest Neighbor n = 3"
   ]
  },
  {
   "cell_type": "code",
   "execution_count": 121,
   "metadata": {},
   "outputs": [],
   "source": [
    "from sklearn.neighbors import KNeighborsClassifier"
   ]
  },
  {
   "cell_type": "code",
   "execution_count": 122,
   "metadata": {},
   "outputs": [
    {
     "data": {
      "text/plain": [
       "KNeighborsClassifier(algorithm='auto', leaf_size=30, metric='minkowski',\n",
       "                     metric_params=None, n_jobs=None, n_neighbors=3, p=2,\n",
       "                     weights='uniform')"
      ]
     },
     "execution_count": 122,
     "metadata": {},
     "output_type": "execute_result"
    }
   ],
   "source": [
    "clf = KNeighborsClassifier(n_neighbors=3, weights='uniform')\n",
    "clf.fit(X_train, y_train)"
   ]
  },
  {
   "cell_type": "code",
   "execution_count": 123,
   "metadata": {},
   "outputs": [],
   "source": [
    "y_pred = clf.predict(X_test)"
   ]
  },
  {
   "cell_type": "code",
   "execution_count": 124,
   "metadata": {},
   "outputs": [
    {
     "data": {
      "text/plain": [
       "array([1, 0, 0, ..., 0, 1, 0])"
      ]
     },
     "execution_count": 124,
     "metadata": {},
     "output_type": "execute_result"
    }
   ],
   "source": [
    "y_pred"
   ]
  },
  {
   "cell_type": "markdown",
   "metadata": {},
   "source": [
    "## Doing prediction on testset data"
   ]
  },
  {
   "cell_type": "code",
   "execution_count": 125,
   "metadata": {},
   "outputs": [],
   "source": [
    "y_pred_t1 = clf.predict(X_test1)"
   ]
  },
  {
   "cell_type": "code",
   "execution_count": 126,
   "metadata": {},
   "outputs": [],
   "source": [
    "y_pred_t2 = clf.predict(X_test2)"
   ]
  },
  {
   "cell_type": "markdown",
   "metadata": {},
   "source": [
    "# Trainingset results"
   ]
  },
  {
   "cell_type": "code",
   "execution_count": 127,
   "metadata": {
    "scrolled": false
   },
   "outputs": [
    {
     "name": "stdout",
     "output_type": "stream",
     "text": [
      "Accuracy 0.9934506753990995\n",
      "F1-score [0.99584416 0.98455598]\n",
      "              precision    recall  f1-score   support\n",
      "\n",
      "           0       1.00      1.00      1.00      1924\n",
      "           1       0.99      0.98      0.98       519\n",
      "\n",
      "    accuracy                           0.99      2443\n",
      "   macro avg       0.99      0.99      0.99      2443\n",
      "weighted avg       0.99      0.99      0.99      2443\n",
      "\n"
     ]
    }
   ],
   "source": [
    "print('Accuracy %s' % accuracy_score(y_test, y_pred))\n",
    "print('F1-score %s' % f1_score(y_test, y_pred, average=None))\n",
    "print(classification_report(y_test, y_pred))"
   ]
  },
  {
   "cell_type": "markdown",
   "metadata": {},
   "source": [
    "# Roc curve for trainingset"
   ]
  },
  {
   "cell_type": "code",
   "execution_count": 129,
   "metadata": {},
   "outputs": [],
   "source": [
    "import scikitplot as skplt\n",
    "import matplotlib.pyplot as plt\n"
   ]
  },
  {
   "cell_type": "markdown",
   "metadata": {},
   "source": [
    "# k Nearest Neighbor n = 5"
   ]
  },
  {
   "cell_type": "code",
   "execution_count": 130,
   "metadata": {},
   "outputs": [],
   "source": [
    "from sklearn.neighbors import KNeighborsClassifier"
   ]
  },
  {
   "cell_type": "code",
   "execution_count": 131,
   "metadata": {},
   "outputs": [
    {
     "data": {
      "text/plain": [
       "KNeighborsClassifier(algorithm='auto', leaf_size=30, metric='minkowski',\n",
       "                     metric_params=None, n_jobs=None, n_neighbors=5, p=2,\n",
       "                     weights='uniform')"
      ]
     },
     "execution_count": 131,
     "metadata": {},
     "output_type": "execute_result"
    }
   ],
   "source": [
    "clf = KNeighborsClassifier(n_neighbors=5, weights='uniform')\n",
    "clf.fit(X_train, y_train)"
   ]
  },
  {
   "cell_type": "code",
   "execution_count": 132,
   "metadata": {},
   "outputs": [],
   "source": [
    "y_pred = clf.predict(X_test)"
   ]
  },
  {
   "cell_type": "code",
   "execution_count": 133,
   "metadata": {},
   "outputs": [
    {
     "data": {
      "text/plain": [
       "array([1, 0, 0, ..., 0, 1, 0])"
      ]
     },
     "execution_count": 133,
     "metadata": {},
     "output_type": "execute_result"
    }
   ],
   "source": [
    "y_pred"
   ]
  },
  {
   "cell_type": "markdown",
   "metadata": {},
   "source": [
    "## Doing prediction on testset data"
   ]
  },
  {
   "cell_type": "code",
   "execution_count": 134,
   "metadata": {},
   "outputs": [],
   "source": [
    "y_pred_t1 = clf.predict(X_test1)"
   ]
  },
  {
   "cell_type": "code",
   "execution_count": 135,
   "metadata": {},
   "outputs": [],
   "source": [
    "y_pred_t2 = clf.predict(X_test2)"
   ]
  },
  {
   "cell_type": "markdown",
   "metadata": {},
   "source": [
    "# Trainingset results"
   ]
  },
  {
   "cell_type": "code",
   "execution_count": 136,
   "metadata": {
    "scrolled": false
   },
   "outputs": [
    {
     "name": "stdout",
     "output_type": "stream",
     "text": [
      "Accuracy 0.9926320098239869\n",
      "F1-score [0.99531981 0.98269231]\n",
      "              precision    recall  f1-score   support\n",
      "\n",
      "           0       1.00      0.99      1.00      1924\n",
      "           1       0.98      0.98      0.98       519\n",
      "\n",
      "    accuracy                           0.99      2443\n",
      "   macro avg       0.99      0.99      0.99      2443\n",
      "weighted avg       0.99      0.99      0.99      2443\n",
      "\n"
     ]
    }
   ],
   "source": [
    "print('Accuracy %s' % accuracy_score(y_test, y_pred))\n",
    "print('F1-score %s' % f1_score(y_test, y_pred, average=None))\n",
    "print(classification_report(y_test, y_pred))"
   ]
  },
  {
   "cell_type": "markdown",
   "metadata": {},
   "source": [
    "# Testset 1 results"
   ]
  },
  {
   "cell_type": "code",
   "execution_count": 137,
   "metadata": {
    "scrolled": false
   },
   "outputs": [
    {
     "name": "stdout",
     "output_type": "stream",
     "text": [
      "Accuracy 0.950844277673546\n",
      "F1-score [0.96172948 0.93130572]\n",
      "              precision    recall  f1-score   support\n",
      "\n",
      "           0       0.95      0.97      0.96      1693\n",
      "           1       0.95      0.91      0.93       972\n",
      "\n",
      "    accuracy                           0.95      2665\n",
      "   macro avg       0.95      0.94      0.95      2665\n",
      "weighted avg       0.95      0.95      0.95      2665\n",
      "\n"
     ]
    }
   ],
   "source": [
    "print('Accuracy %s' % accuracy_score(y_test1, y_pred_t1))\n",
    "print('F1-score %s' % f1_score(y_test1, y_pred_t1, average=None))\n",
    "print(classification_report(y_test1, y_pred_t1))"
   ]
  },
  {
   "cell_type": "markdown",
   "metadata": {},
   "source": [
    "# Testset 2 results"
   ]
  },
  {
   "cell_type": "code",
   "execution_count": 138,
   "metadata": {
    "scrolled": true
   },
   "outputs": [
    {
     "name": "stdout",
     "output_type": "stream",
     "text": [
      "Accuracy 0.9854388843314192\n",
      "F1-score [0.99075039 0.96579961]\n",
      "              precision    recall  f1-score   support\n",
      "\n",
      "           0       0.99      0.99      0.99      7703\n",
      "           1       0.95      0.98      0.97      2049\n",
      "\n",
      "    accuracy                           0.99      9752\n",
      "   macro avg       0.97      0.98      0.98      9752\n",
      "weighted avg       0.99      0.99      0.99      9752\n",
      "\n"
     ]
    }
   ],
   "source": [
    "print('Accuracy %s' % accuracy_score(y_test2, y_pred_t2))\n",
    "print('F1-score %s' % f1_score(y_test2, y_pred_t2, average=None))\n",
    "print(classification_report(y_test2, y_pred_t2))"
   ]
  },
  {
   "cell_type": "markdown",
   "metadata": {},
   "source": [
    "# k Nearest Neighbor n = 5"
   ]
  },
  {
   "cell_type": "code",
   "execution_count": 139,
   "metadata": {},
   "outputs": [],
   "source": [
    "from sklearn.neighbors import KNeighborsClassifier"
   ]
  },
  {
   "cell_type": "code",
   "execution_count": 140,
   "metadata": {},
   "outputs": [
    {
     "data": {
      "text/plain": [
       "KNeighborsClassifier(algorithm='auto', leaf_size=30, metric='minkowski',\n",
       "                     metric_params=None, n_jobs=None, n_neighbors=5, p=2,\n",
       "                     weights='uniform')"
      ]
     },
     "execution_count": 140,
     "metadata": {},
     "output_type": "execute_result"
    }
   ],
   "source": [
    "clf = KNeighborsClassifier(n_neighbors=5, weights='uniform')\n",
    "clf.fit(X_train, y_train)"
   ]
  },
  {
   "cell_type": "code",
   "execution_count": 141,
   "metadata": {},
   "outputs": [],
   "source": [
    "y_pred = clf.predict(X_test)"
   ]
  },
  {
   "cell_type": "code",
   "execution_count": 142,
   "metadata": {},
   "outputs": [
    {
     "data": {
      "text/plain": [
       "array([1, 0, 0, ..., 0, 1, 0])"
      ]
     },
     "execution_count": 142,
     "metadata": {},
     "output_type": "execute_result"
    }
   ],
   "source": [
    "y_pred"
   ]
  },
  {
   "cell_type": "markdown",
   "metadata": {},
   "source": [
    "## Doing prediction on testset data"
   ]
  },
  {
   "cell_type": "code",
   "execution_count": 143,
   "metadata": {},
   "outputs": [],
   "source": [
    "y_pred_t1 = clf.predict(X_test1)"
   ]
  },
  {
   "cell_type": "code",
   "execution_count": 144,
   "metadata": {},
   "outputs": [],
   "source": [
    "y_pred_t2 = clf.predict(X_test2)"
   ]
  },
  {
   "cell_type": "markdown",
   "metadata": {},
   "source": [
    "# Trainingset results"
   ]
  },
  {
   "cell_type": "code",
   "execution_count": 145,
   "metadata": {
    "scrolled": false
   },
   "outputs": [
    {
     "name": "stdout",
     "output_type": "stream",
     "text": [
      "Accuracy 0.9926320098239869\n",
      "F1-score [0.99531981 0.98269231]\n",
      "              precision    recall  f1-score   support\n",
      "\n",
      "           0       1.00      0.99      1.00      1924\n",
      "           1       0.98      0.98      0.98       519\n",
      "\n",
      "    accuracy                           0.99      2443\n",
      "   macro avg       0.99      0.99      0.99      2443\n",
      "weighted avg       0.99      0.99      0.99      2443\n",
      "\n"
     ]
    }
   ],
   "source": [
    "print('Accuracy %s' % accuracy_score(y_test, y_pred))\n",
    "print('F1-score %s' % f1_score(y_test, y_pred, average=None))\n",
    "print(classification_report(y_test, y_pred))\n",
    "y_score = clf.predict_proba(X_test)"
   ]
  },
  {
   "cell_type": "markdown",
   "metadata": {},
   "source": [
    "# Testset 1 results"
   ]
  },
  {
   "cell_type": "code",
   "execution_count": 146,
   "metadata": {
    "scrolled": false
   },
   "outputs": [
    {
     "name": "stdout",
     "output_type": "stream",
     "text": [
      "Accuracy 0.950844277673546\n",
      "F1-score [0.96172948 0.93130572]\n",
      "              precision    recall  f1-score   support\n",
      "\n",
      "           0       0.95      0.97      0.96      1693\n",
      "           1       0.95      0.91      0.93       972\n",
      "\n",
      "    accuracy                           0.95      2665\n",
      "   macro avg       0.95      0.94      0.95      2665\n",
      "weighted avg       0.95      0.95      0.95      2665\n",
      "\n"
     ]
    }
   ],
   "source": [
    "print('Accuracy %s' % accuracy_score(y_test1, y_pred_t1))\n",
    "print('F1-score %s' % f1_score(y_test1, y_pred_t1, average=None))\n",
    "print(classification_report(y_test1, y_pred_t1))"
   ]
  },
  {
   "cell_type": "markdown",
   "metadata": {},
   "source": [
    "# Testset 2 results"
   ]
  },
  {
   "cell_type": "code",
   "execution_count": 147,
   "metadata": {
    "scrolled": true
   },
   "outputs": [
    {
     "name": "stdout",
     "output_type": "stream",
     "text": [
      "Accuracy 0.9854388843314192\n",
      "F1-score [0.99075039 0.96579961]\n",
      "              precision    recall  f1-score   support\n",
      "\n",
      "           0       0.99      0.99      0.99      7703\n",
      "           1       0.95      0.98      0.97      2049\n",
      "\n",
      "    accuracy                           0.99      9752\n",
      "   macro avg       0.97      0.98      0.98      9752\n",
      "weighted avg       0.99      0.99      0.99      9752\n",
      "\n"
     ]
    }
   ],
   "source": [
    "print('Accuracy %s' % accuracy_score(y_test2, y_pred_t2))\n",
    "print('F1-score %s' % f1_score(y_test2, y_pred_t2, average=None))\n",
    "print(classification_report(y_test2, y_pred_t2))"
   ]
  },
  {
   "cell_type": "markdown",
   "metadata": {},
   "source": [
    "# Scikit-plot\n"
   ]
  },
  {
   "cell_type": "code",
   "execution_count": 148,
   "metadata": {},
   "outputs": [],
   "source": [
    "from scikitplot.metrics import plot_roc\n",
    "from scikitplot.metrics import plot_precision_recall\n",
    "from scikitplot.metrics import plot_cumulative_gain\n",
    "from scikitplot.metrics import plot_lift_curve"
   ]
  },
  {
   "cell_type": "code",
   "execution_count": 149,
   "metadata": {},
   "outputs": [
    {
     "data": {
      "image/png": "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\n",
      "text/plain": [
       "<Figure size 432x288 with 1 Axes>"
      ]
     },
     "metadata": {
      "needs_background": "light"
     },
     "output_type": "display_data"
    }
   ],
   "source": [
    "plot_roc(y_test, y_score)\n",
    "plt.show()"
   ]
  },
  {
   "cell_type": "markdown",
   "metadata": {},
   "source": [
    "# Testset 1 results"
   ]
  },
  {
   "cell_type": "code",
   "execution_count": 150,
   "metadata": {
    "scrolled": false
   },
   "outputs": [
    {
     "name": "stdout",
     "output_type": "stream",
     "text": [
      "Accuracy 0.950844277673546\n",
      "F1-score [0.96172948 0.93130572]\n",
      "              precision    recall  f1-score   support\n",
      "\n",
      "           0       0.95      0.97      0.96      1693\n",
      "           1       0.95      0.91      0.93       972\n",
      "\n",
      "    accuracy                           0.95      2665\n",
      "   macro avg       0.95      0.94      0.95      2665\n",
      "weighted avg       0.95      0.95      0.95      2665\n",
      "\n"
     ]
    }
   ],
   "source": [
    "print('Accuracy %s' % accuracy_score(y_test1, y_pred_t1))\n",
    "print('F1-score %s' % f1_score(y_test1, y_pred_t1, average=None))\n",
    "print(classification_report(y_test1, y_pred_t1))"
   ]
  },
  {
   "cell_type": "markdown",
   "metadata": {},
   "source": [
    "# Testset 2 results"
   ]
  },
  {
   "cell_type": "code",
   "execution_count": 151,
   "metadata": {
    "scrolled": true
   },
   "outputs": [
    {
     "name": "stdout",
     "output_type": "stream",
     "text": [
      "Accuracy 0.9854388843314192\n",
      "F1-score [0.99075039 0.96579961]\n",
      "              precision    recall  f1-score   support\n",
      "\n",
      "           0       0.99      0.99      0.99      7703\n",
      "           1       0.95      0.98      0.97      2049\n",
      "\n",
      "    accuracy                           0.99      9752\n",
      "   macro avg       0.97      0.98      0.98      9752\n",
      "weighted avg       0.99      0.99      0.99      9752\n",
      "\n"
     ]
    }
   ],
   "source": [
    "print('Accuracy %s' % accuracy_score(y_test2, y_pred_t2))\n",
    "print('F1-score %s' % f1_score(y_test2, y_pred_t2, average=None))\n",
    "print(classification_report(y_test2, y_pred_t2))"
   ]
  },
  {
   "cell_type": "markdown",
   "metadata": {},
   "source": [
    "# Trying scaled data to see the results"
   ]
  },
  {
   "cell_type": "code",
   "execution_count": 152,
   "metadata": {},
   "outputs": [],
   "source": [
    "df = pd.read_csv(\"procced_datatrainingcopy.csv\")\n",
    "class_name = \"Occupancy\"\n",
    "attributes = [col for col in df.columns if col != class_name]\n",
    "X = df[attributes].values\n",
    "y = df[class_name]\n",
    "\n",
    "X_train, X_test, y_train, y_test = train_test_split(X, y, test_size=0.3, random_state=100, stratify=y)"
   ]
  },
  {
   "cell_type": "code",
   "execution_count": 153,
   "metadata": {},
   "outputs": [],
   "source": [
    "from sklearn.model_selection import train_test_split, cross_val_score \n",
    "\n",
    "from sklearn.metrics import accuracy_score, f1_score, classification_report\n",
    "from sklearn.metrics import roc_curve, auc, roc_auc_score\n"
   ]
  },
  {
   "cell_type": "code",
   "execution_count": 154,
   "metadata": {},
   "outputs": [],
   "source": [
    "class_name = \"Occupancy\""
   ]
  },
  {
   "cell_type": "code",
   "execution_count": 155,
   "metadata": {},
   "outputs": [],
   "source": [
    "attributes = [col for col in df.columns if col != class_name]\n",
    "X = df[attributes].values\n",
    "y = df[class_name]\n",
    "\n",
    "X_train, X_test, y_train, y_test = train_test_split(X, y, test_size=0.3, random_state=100, stratify=y)"
   ]
  },
  {
   "cell_type": "markdown",
   "metadata": {},
   "source": [
    "# k Nearest Neighbor"
   ]
  },
  {
   "cell_type": "code",
   "execution_count": 156,
   "metadata": {},
   "outputs": [],
   "source": [
    "from sklearn.neighbors import KNeighborsClassifier"
   ]
  },
  {
   "cell_type": "code",
   "execution_count": 157,
   "metadata": {},
   "outputs": [
    {
     "data": {
      "text/plain": [
       "KNeighborsClassifier(algorithm='auto', leaf_size=30, metric='minkowski',\n",
       "                     metric_params=None, n_jobs=None, n_neighbors=5, p=2,\n",
       "                     weights='uniform')"
      ]
     },
     "execution_count": 157,
     "metadata": {},
     "output_type": "execute_result"
    }
   ],
   "source": [
    "clf = KNeighborsClassifier(n_neighbors=5, weights='uniform')\n",
    "clf.fit(X_train, y_train)"
   ]
  },
  {
   "cell_type": "code",
   "execution_count": 158,
   "metadata": {},
   "outputs": [],
   "source": [
    "y_pred = clf.predict(X_test)"
   ]
  },
  {
   "cell_type": "code",
   "execution_count": 159,
   "metadata": {},
   "outputs": [
    {
     "data": {
      "text/plain": [
       "array([1, 0, 0, ..., 0, 1, 0])"
      ]
     },
     "execution_count": 159,
     "metadata": {},
     "output_type": "execute_result"
    }
   ],
   "source": [
    "y_pred"
   ]
  },
  {
   "cell_type": "markdown",
   "metadata": {},
   "source": [
    "# Testset results"
   ]
  },
  {
   "cell_type": "code",
   "execution_count": 160,
   "metadata": {
    "scrolled": true
   },
   "outputs": [
    {
     "name": "stdout",
     "output_type": "stream",
     "text": [
      "Accuracy 0.9918133442488744\n",
      "F1-score [0.99479979 0.98076923]\n",
      "              precision    recall  f1-score   support\n",
      "\n",
      "           0       1.00      0.99      0.99      1924\n",
      "           1       0.98      0.98      0.98       519\n",
      "\n",
      "    accuracy                           0.99      2443\n",
      "   macro avg       0.99      0.99      0.99      2443\n",
      "weighted avg       0.99      0.99      0.99      2443\n",
      "\n"
     ]
    }
   ],
   "source": [
    "print('Accuracy %s' % accuracy_score(y_test, y_pred))\n",
    "print('F1-score %s' % f1_score(y_test, y_pred, average=None))\n",
    "print(classification_report(y_test, y_pred))"
   ]
  },
  {
   "cell_type": "markdown",
   "metadata": {},
   "source": [
    "# Trainingset 1 results"
   ]
  },
  {
   "cell_type": "code",
   "execution_count": 161,
   "metadata": {},
   "outputs": [],
   "source": [
    "df = pd.read_csv(\"scaled_datatestcopy.csv\")\n",
    "\n",
    "class_name = \"Occupancy\"\n",
    "attributes = [col for col in df.columns if col != class_name]\n",
    "X_test01 = df[attributes].values\n",
    "y_test02 = df[class_name]\n",
    "\n"
   ]
  },
  {
   "cell_type": "code",
   "execution_count": 162,
   "metadata": {
    "scrolled": true
   },
   "outputs": [
    {
     "name": "stdout",
     "output_type": "stream",
     "text": [
      "Accuracy 0.9918133442488744\n",
      "F1-score [0.99479979 0.98076923]\n",
      "              precision    recall  f1-score   support\n",
      "\n",
      "           0       1.00      0.99      0.99      1924\n",
      "           1       0.98      0.98      0.98       519\n",
      "\n",
      "    accuracy                           0.99      2443\n",
      "   macro avg       0.99      0.99      0.99      2443\n",
      "weighted avg       0.99      0.99      0.99      2443\n",
      "\n"
     ]
    }
   ],
   "source": [
    "print('Accuracy %s' % accuracy_score(y_test, y_pred))\n",
    "print('F1-score %s' % f1_score(y_test, y_pred, average=None))\n",
    "print(classification_report(y_test, y_pred))"
   ]
  },
  {
   "cell_type": "code",
   "execution_count": 163,
   "metadata": {},
   "outputs": [
    {
     "name": "stdout",
     "output_type": "stream",
     "text": [
      "Accuracy 0.9922226770364306\n",
      "F1-score [0.99507389 0.98153547]\n",
      "              precision    recall  f1-score   support\n",
      "\n",
      "           0       0.99      1.00      1.00      1924\n",
      "           1       0.99      0.97      0.98       519\n",
      "\n",
      "    accuracy                           0.99      2443\n",
      "   macro avg       0.99      0.99      0.99      2443\n",
      "weighted avg       0.99      0.99      0.99      2443\n",
      "\n"
     ]
    }
   ],
   "source": [
    "clf = KNeighborsClassifier(n_neighbors=1, weights='uniform') #test con k=1 e weight uniform\n",
    "clf.fit(X_train, y_train)\n",
    "y_pred = clf.predict(X_test)\n",
    "print('Accuracy %s' % accuracy_score(y_test, y_pred))\n",
    "print('F1-score %s' % f1_score(y_test, y_pred, average=None))\n",
    "print(classification_report(y_test, y_pred))"
   ]
  },
  {
   "cell_type": "code",
   "execution_count": 164,
   "metadata": {},
   "outputs": [
    {
     "name": "stdout",
     "output_type": "stream",
     "text": [
      "Accuracy 0.9918133442488744\n",
      "F1-score [0.99481328 0.98058252]\n",
      "              precision    recall  f1-score   support\n",
      "\n",
      "           0       0.99      1.00      0.99      1924\n",
      "           1       0.99      0.97      0.98       519\n",
      "\n",
      "    accuracy                           0.99      2443\n",
      "   macro avg       0.99      0.98      0.99      2443\n",
      "weighted avg       0.99      0.99      0.99      2443\n",
      "\n"
     ]
    }
   ],
   "source": [
    "clf = KNeighborsClassifier(n_neighbors=3, weights='distance') #k = 3 and weight distance\n",
    "clf.fit(X_train, y_train)\n",
    "y_pred = clf.predict(X_test)\n",
    "print('Accuracy %s' % accuracy_score(y_test, y_pred))\n",
    "print('F1-score %s' % f1_score(y_test, y_pred, average=None))\n",
    "print(classification_report(y_test, y_pred))"
   ]
  },
  {
   "cell_type": "code",
   "execution_count": 165,
   "metadata": {},
   "outputs": [
    {
     "name": "stdout",
     "output_type": "stream",
     "text": [
      "Accuracy: 0.9134 (+/- 0.049)\n",
      "F1-score: 0.8521 (+/- 0.101)\n"
     ]
    }
   ],
   "source": [
    "scores = cross_val_score(clf, X, y, cv=10)\n",
    "print('Accuracy: %0.4f (+/- %0.3f)' % (scores.mean(), scores.std()))\n",
    "\n",
    "scores = cross_val_score(clf, X, y, cv=10, scoring='f1_macro')\n",
    "print('F1-score: %0.4f (+/- %0.3f)' % (scores.mean(), scores.std()))"
   ]
  },
  {
   "cell_type": "code",
   "execution_count": 166,
   "metadata": {},
   "outputs": [],
   "source": [
    "from sklearn import svm, datasets\n",
    "from sklearn.model_selection import GridSearchCV"
   ]
  },
  {
   "cell_type": "code",
   "execution_count": 167,
   "metadata": {},
   "outputs": [
    {
     "data": {
      "text/plain": [
       "GridSearchCV(cv=None, error_score=nan,\n",
       "             estimator=KNeighborsClassifier(algorithm='auto', leaf_size=30,\n",
       "                                            metric='minkowski',\n",
       "                                            metric_params=None, n_jobs=None,\n",
       "                                            n_neighbors=5, p=2,\n",
       "                                            weights='uniform'),\n",
       "             iid='deprecated', n_jobs=None,\n",
       "             param_grid={'n_neighbors': array([ 1,  2,  3,  4,  5,  6,  7,  8,  9, 10]),\n",
       "                         'weights': ['uniform', 'distance']},\n",
       "             pre_dispatch='2*n_jobs', refit=True, return_train_score=False,\n",
       "             scoring=None, verbose=0)"
      ]
     },
     "execution_count": 167,
     "metadata": {},
     "output_type": "execute_result"
    }
   ],
   "source": [
    "parameters = {'n_neighbors': np.arange(1, 10 + 1), 'weights':['uniform', 'distance']}\n",
    "\n",
    "knn = KNeighborsClassifier()\n",
    "search = GridSearchCV(knn, parameters)\n",
    "search.fit(X_train, y_train)"
   ]
  },
  {
   "cell_type": "code",
   "execution_count": 168,
   "metadata": {},
   "outputs": [],
   "source": [
    "clf = search.best_estimator_"
   ]
  },
  {
   "cell_type": "markdown",
   "metadata": {},
   "source": [
    "This is where you store the best model that you got by applying GridSearchCV"
   ]
  },
  {
   "cell_type": "markdown",
   "metadata": {},
   "source": [
    "### An example from sklearn"
   ]
  },
  {
   "cell_type": "code",
   "execution_count": 189,
   "metadata": {},
   "outputs": [
    {
     "data": {
      "image/png": "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\n",
      "text/plain": [
       "<Figure size 432x288 with 1 Axes>"
      ]
     },
     "metadata": {
      "needs_background": "light"
     },
     "output_type": "display_data"
    },
    {
     "data": {
      "image/png": "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\n",
      "text/plain": [
       "<Figure size 432x288 with 1 Axes>"
      ]
     },
     "metadata": {
      "needs_background": "light"
     },
     "output_type": "display_data"
    }
   ],
   "source": [
    "from sklearn import datasets\n",
    "from matplotlib.colors import ListedColormap\n",
    "\n",
    "n_neighbors = 5\n",
    "\n",
    "# import some data to play with\n",
    "df = pd.read_csv('scaled_datatrainingcopy.csv')\n",
    "\n",
    "# we only take the first two features. We could avoid this ugly\n",
    "# slicing by using a two-dim dataset\n",
    "class_name = \"Occupancy\"\n",
    "#attributes = [col for col in df.columns if col != class_name]\n",
    "attributes = ['Light', 'CO2']\n",
    "X = df[attributes].values\n",
    "y = df[class_name]\n",
    "\n",
    "h = .02  # step size in the mesh\n",
    "\n",
    "# Create color maps\n",
    "cmap_light = ListedColormap(['orange', 'cyan'])\n",
    "cmap_bold = ListedColormap(['black', 'white'])\n",
    "\n",
    "for weights in ['uniform', 'distance']:\n",
    "    # we create an instance of Neighbours Classifier and fit the data.\n",
    "    clf = KNeighborsClassifier(n_neighbors, weights=weights)\n",
    "    clf.fit(X, y)\n",
    "\n",
    "    # Plot the decision boundary. For that, we will assign a color to each\n",
    "    # point in the mesh [x_min, x_max]x[y_min, y_max].\n",
    "    x_min, x_max = X[:, 0].min() - 1, X[:, 0].max() + 1\n",
    "    y_min, y_max = X[:, 1].min() - 1, X[:, 1].max() + 1\n",
    "    xx, yy = np.meshgrid(np.arange(x_min, x_max, h),\n",
    "                         np.arange(y_min, y_max, h))\n",
    "    Z = clf.predict(np.c_[xx.ravel(), yy.ravel()])\n",
    "\n",
    "    # Put the result into a color plot\n",
    "    Z = Z.reshape(xx.shape)\n",
    "    plt.figure()\n",
    "    plt.pcolormesh(xx, yy, Z, cmap=cmap_light)\n",
    "\n",
    "    # Plot also the training points\n",
    "    plt.scatter(X[:, 0], X[:, 1], c=y, cmap=cmap_bold,\n",
    "                edgecolor='k', s=20)\n",
    "    plt.xlim(xx.min(), xx.max())\n",
    "    plt.ylim(yy.min(), yy.max())\n",
    "    plt.title(\"2-Class classification (k = %i, weights = '%s')\"\n",
    "              % (n_neighbors, weights))\n",
    "\n",
    "plt.show()"
   ]
  },
  {
   "cell_type": "code",
   "execution_count": 186,
   "metadata": {},
   "outputs": [],
   "source": [
    "attributes = [col for col in df.columns if col != class_name]"
   ]
  },
  {
   "cell_type": "code",
   "execution_count": 187,
   "metadata": {},
   "outputs": [
    {
     "data": {
      "text/plain": [
       "['Temperature', 'Humidity', 'Light', 'CO2', 'HumidityRatio', 'Week_day']"
      ]
     },
     "execution_count": 187,
     "metadata": {},
     "output_type": "execute_result"
    }
   ],
   "source": [
    "attributes"
   ]
  },
  {
   "cell_type": "code",
   "execution_count": null,
   "metadata": {},
   "outputs": [],
   "source": []
  }
 ],
 "metadata": {
  "kernelspec": {
   "display_name": "Python 3",
   "language": "python",
   "name": "python3"
  },
  "language_info": {
   "codemirror_mode": {
    "name": "ipython",
    "version": 3
   },
   "file_extension": ".py",
   "mimetype": "text/x-python",
   "name": "python",
   "nbconvert_exporter": "python",
   "pygments_lexer": "ipython3",
   "version": "3.7.3"
  }
 },
 "nbformat": 4,
 "nbformat_minor": 2
}
